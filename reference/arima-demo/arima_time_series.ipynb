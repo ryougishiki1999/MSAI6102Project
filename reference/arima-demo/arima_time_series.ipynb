{
  "metadata": {
    "colab": {
      "provenance": [],
      "machine_shape": "hm"
    },
    "kernelspec": {
      "name": "python3",
      "display_name": "Python 3"
    },
    "language_info": {
      "name": "python",
      "version": "3.10.13",
      "mimetype": "text/x-python",
      "codemirror_mode": {
        "name": "ipython",
        "version": 3
      },
      "pygments_lexer": "ipython3",
      "nbconvert_exporter": "python",
      "file_extension": ".py"
    },
    "kaggle": {
      "accelerator": "none",
      "dataSources": [
        {
          "sourceId": 9999,
          "databundleVersionId": 868225,
          "sourceType": "competition"
        }
      ],
      "dockerImageVersionId": 30698,
      "isInternetEnabled": true,
      "language": "python",
      "sourceType": "notebook",
      "isGpuEnabled": false
    }
  },
  "nbformat_minor": 0,
  "nbformat": 4,
  "cells": [
    {
      "cell_type": "code",
      "source": [
        "!pip install pmdarima -q"
      ],
      "metadata": {
        "id": "da45f313-e361-4201-bf64-f3213f68aad1",
        "outputId": "b933fe0f-95f2-41eb-e319-b822bc6d84c1",
        "execution": {
          "iopub.status.busy": "2024-04-24T02:56:20.456367Z",
          "iopub.execute_input": "2024-04-24T02:56:20.457095Z",
          "iopub.status.idle": "2024-04-24T02:56:40.033180Z",
          "shell.execute_reply.started": "2024-04-24T02:56:20.457064Z",
          "shell.execute_reply": "2024-04-24T02:56:40.032260Z"
        },
        "trusted": true,
        "colab": {
          "base_uri": "https://localhost:8080/"
        }
      },
      "execution_count": 2,
      "outputs": [
        {
          "output_type": "stream",
          "name": "stdout",
          "text": [
            "\u001b[?25l     \u001b[90m━━━━━━━━━━━━━━━━━━━━━━━━━━━━━━━━━━━━━━━━\u001b[0m \u001b[32m0.0/2.1 MB\u001b[0m \u001b[31m?\u001b[0m eta \u001b[36m-:--:--\u001b[0m\r\u001b[2K     \u001b[91m━━━\u001b[0m\u001b[91m╸\u001b[0m\u001b[90m━━━━━━━━━━━━━━━━━━━━━━━━━━━━━━━━━━━━\u001b[0m \u001b[32m0.2/2.1 MB\u001b[0m \u001b[31m6.0 MB/s\u001b[0m eta \u001b[36m0:00:01\u001b[0m\r\u001b[2K     \u001b[91m━━━━━━━━━━━━━━━━━━━━━━━━━━━━\u001b[0m\u001b[90m╺\u001b[0m\u001b[90m━━━━━━━━━━━\u001b[0m \u001b[32m1.5/2.1 MB\u001b[0m \u001b[31m21.5 MB/s\u001b[0m eta \u001b[36m0:00:01\u001b[0m\r\u001b[2K     \u001b[90m━━━━━━━━━━━━━━━━━━━━━━━━━━━━━━━━━━━━━━━━\u001b[0m \u001b[32m2.1/2.1 MB\u001b[0m \u001b[31m22.1 MB/s\u001b[0m eta \u001b[36m0:00:00\u001b[0m\n",
            "\u001b[?25h"
          ]
        }
      ]
    },
    {
      "cell_type": "code",
      "source": [
        "from google.colab import drive\n",
        "drive.mount('/content/drive')"
      ],
      "metadata": {
        "colab": {
          "base_uri": "https://localhost:8080/"
        },
        "id": "wPZ8WL-72QXW",
        "outputId": "661d192a-d2b6-415c-8b7f-72369fea4158"
      },
      "execution_count": 3,
      "outputs": [
        {
          "output_type": "stream",
          "name": "stdout",
          "text": [
            "Mounted at /content/drive\n"
          ]
        }
      ]
    },
    {
      "cell_type": "code",
      "source": [
        "from datetime import datetime\n",
        "import numpy as np\n",
        "import pandas as pd\n",
        "pd.options.mode.chained_assignment = None  # default='warn'\n",
        "import matplotlib.pylab as plt\n",
        "%matplotlib inline\n",
        "from matplotlib.pylab import rcParams\n",
        "\n",
        "from statsmodels.tsa.stattools import adfuller\n",
        "import pmdarima as pm\n",
        "from statsmodels.tsa.seasonal import seasonal_decompose\n",
        "\n",
        "from pandas.tseries.holiday import USFederalHolidayCalendar\n",
        "import itertools\n",
        "import statsmodels.api as sm\n",
        "from statsmodels.tsa.statespace.sarimax import SARIMAX"
      ],
      "metadata": {
        "id": "BO05YhaVe4w-"
      },
      "execution_count": 4,
      "outputs": []
    },
    {
      "cell_type": "code",
      "source": [
        "def get_fourier_features(n_order, period, values):\n",
        "    fourier_features = pd.DataFrame(\n",
        "        {\n",
        "            f\"fourier_{func}_order_{order}\": getattr(np, func)(\n",
        "                2 * np.pi * values * order / period\n",
        "            )\n",
        "            for order in range(1, n_order + 1)\n",
        "            for func in (\"sin\", \"cos\")\n",
        "        }\n",
        "    )\n",
        "    return fourier_features"
      ],
      "metadata": {
        "id": "Qd-tZquqPPGz"
      },
      "execution_count": 5,
      "outputs": []
    },
    {
      "cell_type": "code",
      "source": [
        "train = pd.read_csv('/content/drive/MyDrive/Colab Notebooks/AI6102 Project/train.csv', parse_dates = ['date'])\n",
        "train.head()"
      ],
      "metadata": {
        "colab": {
          "base_uri": "https://localhost:8080/",
          "height": 204
        },
        "id": "PMhvlO9NeljX",
        "outputId": "cbc744ec-add7-4e0b-b877-639129bdb7a0"
      },
      "execution_count": 28,
      "outputs": [
        {
          "output_type": "execute_result",
          "data": {
            "text/plain": [
              "        date  store  item  sales\n",
              "0 2013-01-01      1     1     13\n",
              "1 2013-01-02      1     1     11\n",
              "2 2013-01-03      1     1     14\n",
              "3 2013-01-04      1     1     13\n",
              "4 2013-01-05      1     1     10"
            ],
            "text/html": [
              "\n",
              "  <div id=\"df-a83b88c1-d926-4a41-8ed8-95f0d073030a\" class=\"colab-df-container\">\n",
              "    <div>\n",
              "<style scoped>\n",
              "    .dataframe tbody tr th:only-of-type {\n",
              "        vertical-align: middle;\n",
              "    }\n",
              "\n",
              "    .dataframe tbody tr th {\n",
              "        vertical-align: top;\n",
              "    }\n",
              "\n",
              "    .dataframe thead th {\n",
              "        text-align: right;\n",
              "    }\n",
              "</style>\n",
              "<table border=\"1\" class=\"dataframe\">\n",
              "  <thead>\n",
              "    <tr style=\"text-align: right;\">\n",
              "      <th></th>\n",
              "      <th>date</th>\n",
              "      <th>store</th>\n",
              "      <th>item</th>\n",
              "      <th>sales</th>\n",
              "    </tr>\n",
              "  </thead>\n",
              "  <tbody>\n",
              "    <tr>\n",
              "      <th>0</th>\n",
              "      <td>2013-01-01</td>\n",
              "      <td>1</td>\n",
              "      <td>1</td>\n",
              "      <td>13</td>\n",
              "    </tr>\n",
              "    <tr>\n",
              "      <th>1</th>\n",
              "      <td>2013-01-02</td>\n",
              "      <td>1</td>\n",
              "      <td>1</td>\n",
              "      <td>11</td>\n",
              "    </tr>\n",
              "    <tr>\n",
              "      <th>2</th>\n",
              "      <td>2013-01-03</td>\n",
              "      <td>1</td>\n",
              "      <td>1</td>\n",
              "      <td>14</td>\n",
              "    </tr>\n",
              "    <tr>\n",
              "      <th>3</th>\n",
              "      <td>2013-01-04</td>\n",
              "      <td>1</td>\n",
              "      <td>1</td>\n",
              "      <td>13</td>\n",
              "    </tr>\n",
              "    <tr>\n",
              "      <th>4</th>\n",
              "      <td>2013-01-05</td>\n",
              "      <td>1</td>\n",
              "      <td>1</td>\n",
              "      <td>10</td>\n",
              "    </tr>\n",
              "  </tbody>\n",
              "</table>\n",
              "</div>\n",
              "    <div class=\"colab-df-buttons\">\n",
              "\n",
              "  <div class=\"colab-df-container\">\n",
              "    <button class=\"colab-df-convert\" onclick=\"convertToInteractive('df-a83b88c1-d926-4a41-8ed8-95f0d073030a')\"\n",
              "            title=\"Convert this dataframe to an interactive table.\"\n",
              "            style=\"display:none;\">\n",
              "\n",
              "  <svg xmlns=\"http://www.w3.org/2000/svg\" height=\"24px\" viewBox=\"0 -960 960 960\">\n",
              "    <path d=\"M120-120v-720h720v720H120Zm60-500h600v-160H180v160Zm220 220h160v-160H400v160Zm0 220h160v-160H400v160ZM180-400h160v-160H180v160Zm440 0h160v-160H620v160ZM180-180h160v-160H180v160Zm440 0h160v-160H620v160Z\"/>\n",
              "  </svg>\n",
              "    </button>\n",
              "\n",
              "  <style>\n",
              "    .colab-df-container {\n",
              "      display:flex;\n",
              "      gap: 12px;\n",
              "    }\n",
              "\n",
              "    .colab-df-convert {\n",
              "      background-color: #E8F0FE;\n",
              "      border: none;\n",
              "      border-radius: 50%;\n",
              "      cursor: pointer;\n",
              "      display: none;\n",
              "      fill: #1967D2;\n",
              "      height: 32px;\n",
              "      padding: 0 0 0 0;\n",
              "      width: 32px;\n",
              "    }\n",
              "\n",
              "    .colab-df-convert:hover {\n",
              "      background-color: #E2EBFA;\n",
              "      box-shadow: 0px 1px 2px rgba(60, 64, 67, 0.3), 0px 1px 3px 1px rgba(60, 64, 67, 0.15);\n",
              "      fill: #174EA6;\n",
              "    }\n",
              "\n",
              "    .colab-df-buttons div {\n",
              "      margin-bottom: 4px;\n",
              "    }\n",
              "\n",
              "    [theme=dark] .colab-df-convert {\n",
              "      background-color: #3B4455;\n",
              "      fill: #D2E3FC;\n",
              "    }\n",
              "\n",
              "    [theme=dark] .colab-df-convert:hover {\n",
              "      background-color: #434B5C;\n",
              "      box-shadow: 0px 1px 3px 1px rgba(0, 0, 0, 0.15);\n",
              "      filter: drop-shadow(0px 1px 2px rgba(0, 0, 0, 0.3));\n",
              "      fill: #FFFFFF;\n",
              "    }\n",
              "  </style>\n",
              "\n",
              "    <script>\n",
              "      const buttonEl =\n",
              "        document.querySelector('#df-a83b88c1-d926-4a41-8ed8-95f0d073030a button.colab-df-convert');\n",
              "      buttonEl.style.display =\n",
              "        google.colab.kernel.accessAllowed ? 'block' : 'none';\n",
              "\n",
              "      async function convertToInteractive(key) {\n",
              "        const element = document.querySelector('#df-a83b88c1-d926-4a41-8ed8-95f0d073030a');\n",
              "        const dataTable =\n",
              "          await google.colab.kernel.invokeFunction('convertToInteractive',\n",
              "                                                    [key], {});\n",
              "        if (!dataTable) return;\n",
              "\n",
              "        const docLinkHtml = 'Like what you see? Visit the ' +\n",
              "          '<a target=\"_blank\" href=https://colab.research.google.com/notebooks/data_table.ipynb>data table notebook</a>'\n",
              "          + ' to learn more about interactive tables.';\n",
              "        element.innerHTML = '';\n",
              "        dataTable['output_type'] = 'display_data';\n",
              "        await google.colab.output.renderOutput(dataTable, element);\n",
              "        const docLink = document.createElement('div');\n",
              "        docLink.innerHTML = docLinkHtml;\n",
              "        element.appendChild(docLink);\n",
              "      }\n",
              "    </script>\n",
              "  </div>\n",
              "\n",
              "\n",
              "<div id=\"df-2155ea8a-58a4-4dde-855d-d7567babc6f3\">\n",
              "  <button class=\"colab-df-quickchart\" onclick=\"quickchart('df-2155ea8a-58a4-4dde-855d-d7567babc6f3')\"\n",
              "            title=\"Suggest charts\"\n",
              "            style=\"display:none;\">\n",
              "\n",
              "<svg xmlns=\"http://www.w3.org/2000/svg\" height=\"24px\"viewBox=\"0 0 24 24\"\n",
              "     width=\"24px\">\n",
              "    <g>\n",
              "        <path d=\"M19 3H5c-1.1 0-2 .9-2 2v14c0 1.1.9 2 2 2h14c1.1 0 2-.9 2-2V5c0-1.1-.9-2-2-2zM9 17H7v-7h2v7zm4 0h-2V7h2v10zm4 0h-2v-4h2v4z\"/>\n",
              "    </g>\n",
              "</svg>\n",
              "  </button>\n",
              "\n",
              "<style>\n",
              "  .colab-df-quickchart {\n",
              "      --bg-color: #E8F0FE;\n",
              "      --fill-color: #1967D2;\n",
              "      --hover-bg-color: #E2EBFA;\n",
              "      --hover-fill-color: #174EA6;\n",
              "      --disabled-fill-color: #AAA;\n",
              "      --disabled-bg-color: #DDD;\n",
              "  }\n",
              "\n",
              "  [theme=dark] .colab-df-quickchart {\n",
              "      --bg-color: #3B4455;\n",
              "      --fill-color: #D2E3FC;\n",
              "      --hover-bg-color: #434B5C;\n",
              "      --hover-fill-color: #FFFFFF;\n",
              "      --disabled-bg-color: #3B4455;\n",
              "      --disabled-fill-color: #666;\n",
              "  }\n",
              "\n",
              "  .colab-df-quickchart {\n",
              "    background-color: var(--bg-color);\n",
              "    border: none;\n",
              "    border-radius: 50%;\n",
              "    cursor: pointer;\n",
              "    display: none;\n",
              "    fill: var(--fill-color);\n",
              "    height: 32px;\n",
              "    padding: 0;\n",
              "    width: 32px;\n",
              "  }\n",
              "\n",
              "  .colab-df-quickchart:hover {\n",
              "    background-color: var(--hover-bg-color);\n",
              "    box-shadow: 0 1px 2px rgba(60, 64, 67, 0.3), 0 1px 3px 1px rgba(60, 64, 67, 0.15);\n",
              "    fill: var(--button-hover-fill-color);\n",
              "  }\n",
              "\n",
              "  .colab-df-quickchart-complete:disabled,\n",
              "  .colab-df-quickchart-complete:disabled:hover {\n",
              "    background-color: var(--disabled-bg-color);\n",
              "    fill: var(--disabled-fill-color);\n",
              "    box-shadow: none;\n",
              "  }\n",
              "\n",
              "  .colab-df-spinner {\n",
              "    border: 2px solid var(--fill-color);\n",
              "    border-color: transparent;\n",
              "    border-bottom-color: var(--fill-color);\n",
              "    animation:\n",
              "      spin 1s steps(1) infinite;\n",
              "  }\n",
              "\n",
              "  @keyframes spin {\n",
              "    0% {\n",
              "      border-color: transparent;\n",
              "      border-bottom-color: var(--fill-color);\n",
              "      border-left-color: var(--fill-color);\n",
              "    }\n",
              "    20% {\n",
              "      border-color: transparent;\n",
              "      border-left-color: var(--fill-color);\n",
              "      border-top-color: var(--fill-color);\n",
              "    }\n",
              "    30% {\n",
              "      border-color: transparent;\n",
              "      border-left-color: var(--fill-color);\n",
              "      border-top-color: var(--fill-color);\n",
              "      border-right-color: var(--fill-color);\n",
              "    }\n",
              "    40% {\n",
              "      border-color: transparent;\n",
              "      border-right-color: var(--fill-color);\n",
              "      border-top-color: var(--fill-color);\n",
              "    }\n",
              "    60% {\n",
              "      border-color: transparent;\n",
              "      border-right-color: var(--fill-color);\n",
              "    }\n",
              "    80% {\n",
              "      border-color: transparent;\n",
              "      border-right-color: var(--fill-color);\n",
              "      border-bottom-color: var(--fill-color);\n",
              "    }\n",
              "    90% {\n",
              "      border-color: transparent;\n",
              "      border-bottom-color: var(--fill-color);\n",
              "    }\n",
              "  }\n",
              "</style>\n",
              "\n",
              "  <script>\n",
              "    async function quickchart(key) {\n",
              "      const quickchartButtonEl =\n",
              "        document.querySelector('#' + key + ' button');\n",
              "      quickchartButtonEl.disabled = true;  // To prevent multiple clicks.\n",
              "      quickchartButtonEl.classList.add('colab-df-spinner');\n",
              "      try {\n",
              "        const charts = await google.colab.kernel.invokeFunction(\n",
              "            'suggestCharts', [key], {});\n",
              "      } catch (error) {\n",
              "        console.error('Error during call to suggestCharts:', error);\n",
              "      }\n",
              "      quickchartButtonEl.classList.remove('colab-df-spinner');\n",
              "      quickchartButtonEl.classList.add('colab-df-quickchart-complete');\n",
              "    }\n",
              "    (() => {\n",
              "      let quickchartButtonEl =\n",
              "        document.querySelector('#df-2155ea8a-58a4-4dde-855d-d7567babc6f3 button');\n",
              "      quickchartButtonEl.style.display =\n",
              "        google.colab.kernel.accessAllowed ? 'block' : 'none';\n",
              "    })();\n",
              "  </script>\n",
              "</div>\n",
              "\n",
              "    </div>\n",
              "  </div>\n"
            ],
            "application/vnd.google.colaboratory.intrinsic+json": {
              "type": "dataframe",
              "variable_name": "train"
            }
          },
          "metadata": {},
          "execution_count": 28
        }
      ]
    },
    {
      "cell_type": "code",
      "source": [
        "cal = USFederalHolidayCalendar()\n",
        "holidays = cal.holidays(start='2013-01-01', end='2018-03-31').to_pydatetime()\n",
        "\n",
        "def is_holiday(value):\n",
        "  if value in holidays:\n",
        "    return 1\n",
        "  return 0"
      ],
      "metadata": {
        "id": "qYgqO5MGh07U"
      },
      "execution_count": 29,
      "outputs": []
    },
    {
      "cell_type": "code",
      "source": [
        "train['is_hol'] = train['date'].apply(is_holiday)\n",
        "train.head()"
      ],
      "metadata": {
        "colab": {
          "base_uri": "https://localhost:8080/",
          "height": 204
        },
        "id": "ahOxmjeei61H",
        "outputId": "a1b737a4-547a-40cc-cea0-19766de28ac4"
      },
      "execution_count": 30,
      "outputs": [
        {
          "output_type": "execute_result",
          "data": {
            "text/plain": [
              "        date  store  item  sales  is_hol\n",
              "0 2013-01-01      1     1     13       1\n",
              "1 2013-01-02      1     1     11       0\n",
              "2 2013-01-03      1     1     14       0\n",
              "3 2013-01-04      1     1     13       0\n",
              "4 2013-01-05      1     1     10       0"
            ],
            "text/html": [
              "\n",
              "  <div id=\"df-75d7d554-a9e6-4c2a-9811-7b1127cbb674\" class=\"colab-df-container\">\n",
              "    <div>\n",
              "<style scoped>\n",
              "    .dataframe tbody tr th:only-of-type {\n",
              "        vertical-align: middle;\n",
              "    }\n",
              "\n",
              "    .dataframe tbody tr th {\n",
              "        vertical-align: top;\n",
              "    }\n",
              "\n",
              "    .dataframe thead th {\n",
              "        text-align: right;\n",
              "    }\n",
              "</style>\n",
              "<table border=\"1\" class=\"dataframe\">\n",
              "  <thead>\n",
              "    <tr style=\"text-align: right;\">\n",
              "      <th></th>\n",
              "      <th>date</th>\n",
              "      <th>store</th>\n",
              "      <th>item</th>\n",
              "      <th>sales</th>\n",
              "      <th>is_hol</th>\n",
              "    </tr>\n",
              "  </thead>\n",
              "  <tbody>\n",
              "    <tr>\n",
              "      <th>0</th>\n",
              "      <td>2013-01-01</td>\n",
              "      <td>1</td>\n",
              "      <td>1</td>\n",
              "      <td>13</td>\n",
              "      <td>1</td>\n",
              "    </tr>\n",
              "    <tr>\n",
              "      <th>1</th>\n",
              "      <td>2013-01-02</td>\n",
              "      <td>1</td>\n",
              "      <td>1</td>\n",
              "      <td>11</td>\n",
              "      <td>0</td>\n",
              "    </tr>\n",
              "    <tr>\n",
              "      <th>2</th>\n",
              "      <td>2013-01-03</td>\n",
              "      <td>1</td>\n",
              "      <td>1</td>\n",
              "      <td>14</td>\n",
              "      <td>0</td>\n",
              "    </tr>\n",
              "    <tr>\n",
              "      <th>3</th>\n",
              "      <td>2013-01-04</td>\n",
              "      <td>1</td>\n",
              "      <td>1</td>\n",
              "      <td>13</td>\n",
              "      <td>0</td>\n",
              "    </tr>\n",
              "    <tr>\n",
              "      <th>4</th>\n",
              "      <td>2013-01-05</td>\n",
              "      <td>1</td>\n",
              "      <td>1</td>\n",
              "      <td>10</td>\n",
              "      <td>0</td>\n",
              "    </tr>\n",
              "  </tbody>\n",
              "</table>\n",
              "</div>\n",
              "    <div class=\"colab-df-buttons\">\n",
              "\n",
              "  <div class=\"colab-df-container\">\n",
              "    <button class=\"colab-df-convert\" onclick=\"convertToInteractive('df-75d7d554-a9e6-4c2a-9811-7b1127cbb674')\"\n",
              "            title=\"Convert this dataframe to an interactive table.\"\n",
              "            style=\"display:none;\">\n",
              "\n",
              "  <svg xmlns=\"http://www.w3.org/2000/svg\" height=\"24px\" viewBox=\"0 -960 960 960\">\n",
              "    <path d=\"M120-120v-720h720v720H120Zm60-500h600v-160H180v160Zm220 220h160v-160H400v160Zm0 220h160v-160H400v160ZM180-400h160v-160H180v160Zm440 0h160v-160H620v160ZM180-180h160v-160H180v160Zm440 0h160v-160H620v160Z\"/>\n",
              "  </svg>\n",
              "    </button>\n",
              "\n",
              "  <style>\n",
              "    .colab-df-container {\n",
              "      display:flex;\n",
              "      gap: 12px;\n",
              "    }\n",
              "\n",
              "    .colab-df-convert {\n",
              "      background-color: #E8F0FE;\n",
              "      border: none;\n",
              "      border-radius: 50%;\n",
              "      cursor: pointer;\n",
              "      display: none;\n",
              "      fill: #1967D2;\n",
              "      height: 32px;\n",
              "      padding: 0 0 0 0;\n",
              "      width: 32px;\n",
              "    }\n",
              "\n",
              "    .colab-df-convert:hover {\n",
              "      background-color: #E2EBFA;\n",
              "      box-shadow: 0px 1px 2px rgba(60, 64, 67, 0.3), 0px 1px 3px 1px rgba(60, 64, 67, 0.15);\n",
              "      fill: #174EA6;\n",
              "    }\n",
              "\n",
              "    .colab-df-buttons div {\n",
              "      margin-bottom: 4px;\n",
              "    }\n",
              "\n",
              "    [theme=dark] .colab-df-convert {\n",
              "      background-color: #3B4455;\n",
              "      fill: #D2E3FC;\n",
              "    }\n",
              "\n",
              "    [theme=dark] .colab-df-convert:hover {\n",
              "      background-color: #434B5C;\n",
              "      box-shadow: 0px 1px 3px 1px rgba(0, 0, 0, 0.15);\n",
              "      filter: drop-shadow(0px 1px 2px rgba(0, 0, 0, 0.3));\n",
              "      fill: #FFFFFF;\n",
              "    }\n",
              "  </style>\n",
              "\n",
              "    <script>\n",
              "      const buttonEl =\n",
              "        document.querySelector('#df-75d7d554-a9e6-4c2a-9811-7b1127cbb674 button.colab-df-convert');\n",
              "      buttonEl.style.display =\n",
              "        google.colab.kernel.accessAllowed ? 'block' : 'none';\n",
              "\n",
              "      async function convertToInteractive(key) {\n",
              "        const element = document.querySelector('#df-75d7d554-a9e6-4c2a-9811-7b1127cbb674');\n",
              "        const dataTable =\n",
              "          await google.colab.kernel.invokeFunction('convertToInteractive',\n",
              "                                                    [key], {});\n",
              "        if (!dataTable) return;\n",
              "\n",
              "        const docLinkHtml = 'Like what you see? Visit the ' +\n",
              "          '<a target=\"_blank\" href=https://colab.research.google.com/notebooks/data_table.ipynb>data table notebook</a>'\n",
              "          + ' to learn more about interactive tables.';\n",
              "        element.innerHTML = '';\n",
              "        dataTable['output_type'] = 'display_data';\n",
              "        await google.colab.output.renderOutput(dataTable, element);\n",
              "        const docLink = document.createElement('div');\n",
              "        docLink.innerHTML = docLinkHtml;\n",
              "        element.appendChild(docLink);\n",
              "      }\n",
              "    </script>\n",
              "  </div>\n",
              "\n",
              "\n",
              "<div id=\"df-a3f850a7-5d49-4c66-8e36-7c7f84031786\">\n",
              "  <button class=\"colab-df-quickchart\" onclick=\"quickchart('df-a3f850a7-5d49-4c66-8e36-7c7f84031786')\"\n",
              "            title=\"Suggest charts\"\n",
              "            style=\"display:none;\">\n",
              "\n",
              "<svg xmlns=\"http://www.w3.org/2000/svg\" height=\"24px\"viewBox=\"0 0 24 24\"\n",
              "     width=\"24px\">\n",
              "    <g>\n",
              "        <path d=\"M19 3H5c-1.1 0-2 .9-2 2v14c0 1.1.9 2 2 2h14c1.1 0 2-.9 2-2V5c0-1.1-.9-2-2-2zM9 17H7v-7h2v7zm4 0h-2V7h2v10zm4 0h-2v-4h2v4z\"/>\n",
              "    </g>\n",
              "</svg>\n",
              "  </button>\n",
              "\n",
              "<style>\n",
              "  .colab-df-quickchart {\n",
              "      --bg-color: #E8F0FE;\n",
              "      --fill-color: #1967D2;\n",
              "      --hover-bg-color: #E2EBFA;\n",
              "      --hover-fill-color: #174EA6;\n",
              "      --disabled-fill-color: #AAA;\n",
              "      --disabled-bg-color: #DDD;\n",
              "  }\n",
              "\n",
              "  [theme=dark] .colab-df-quickchart {\n",
              "      --bg-color: #3B4455;\n",
              "      --fill-color: #D2E3FC;\n",
              "      --hover-bg-color: #434B5C;\n",
              "      --hover-fill-color: #FFFFFF;\n",
              "      --disabled-bg-color: #3B4455;\n",
              "      --disabled-fill-color: #666;\n",
              "  }\n",
              "\n",
              "  .colab-df-quickchart {\n",
              "    background-color: var(--bg-color);\n",
              "    border: none;\n",
              "    border-radius: 50%;\n",
              "    cursor: pointer;\n",
              "    display: none;\n",
              "    fill: var(--fill-color);\n",
              "    height: 32px;\n",
              "    padding: 0;\n",
              "    width: 32px;\n",
              "  }\n",
              "\n",
              "  .colab-df-quickchart:hover {\n",
              "    background-color: var(--hover-bg-color);\n",
              "    box-shadow: 0 1px 2px rgba(60, 64, 67, 0.3), 0 1px 3px 1px rgba(60, 64, 67, 0.15);\n",
              "    fill: var(--button-hover-fill-color);\n",
              "  }\n",
              "\n",
              "  .colab-df-quickchart-complete:disabled,\n",
              "  .colab-df-quickchart-complete:disabled:hover {\n",
              "    background-color: var(--disabled-bg-color);\n",
              "    fill: var(--disabled-fill-color);\n",
              "    box-shadow: none;\n",
              "  }\n",
              "\n",
              "  .colab-df-spinner {\n",
              "    border: 2px solid var(--fill-color);\n",
              "    border-color: transparent;\n",
              "    border-bottom-color: var(--fill-color);\n",
              "    animation:\n",
              "      spin 1s steps(1) infinite;\n",
              "  }\n",
              "\n",
              "  @keyframes spin {\n",
              "    0% {\n",
              "      border-color: transparent;\n",
              "      border-bottom-color: var(--fill-color);\n",
              "      border-left-color: var(--fill-color);\n",
              "    }\n",
              "    20% {\n",
              "      border-color: transparent;\n",
              "      border-left-color: var(--fill-color);\n",
              "      border-top-color: var(--fill-color);\n",
              "    }\n",
              "    30% {\n",
              "      border-color: transparent;\n",
              "      border-left-color: var(--fill-color);\n",
              "      border-top-color: var(--fill-color);\n",
              "      border-right-color: var(--fill-color);\n",
              "    }\n",
              "    40% {\n",
              "      border-color: transparent;\n",
              "      border-right-color: var(--fill-color);\n",
              "      border-top-color: var(--fill-color);\n",
              "    }\n",
              "    60% {\n",
              "      border-color: transparent;\n",
              "      border-right-color: var(--fill-color);\n",
              "    }\n",
              "    80% {\n",
              "      border-color: transparent;\n",
              "      border-right-color: var(--fill-color);\n",
              "      border-bottom-color: var(--fill-color);\n",
              "    }\n",
              "    90% {\n",
              "      border-color: transparent;\n",
              "      border-bottom-color: var(--fill-color);\n",
              "    }\n",
              "  }\n",
              "</style>\n",
              "\n",
              "  <script>\n",
              "    async function quickchart(key) {\n",
              "      const quickchartButtonEl =\n",
              "        document.querySelector('#' + key + ' button');\n",
              "      quickchartButtonEl.disabled = true;  // To prevent multiple clicks.\n",
              "      quickchartButtonEl.classList.add('colab-df-spinner');\n",
              "      try {\n",
              "        const charts = await google.colab.kernel.invokeFunction(\n",
              "            'suggestCharts', [key], {});\n",
              "      } catch (error) {\n",
              "        console.error('Error during call to suggestCharts:', error);\n",
              "      }\n",
              "      quickchartButtonEl.classList.remove('colab-df-spinner');\n",
              "      quickchartButtonEl.classList.add('colab-df-quickchart-complete');\n",
              "    }\n",
              "    (() => {\n",
              "      let quickchartButtonEl =\n",
              "        document.querySelector('#df-a3f850a7-5d49-4c66-8e36-7c7f84031786 button');\n",
              "      quickchartButtonEl.style.display =\n",
              "        google.colab.kernel.accessAllowed ? 'block' : 'none';\n",
              "    })();\n",
              "  </script>\n",
              "</div>\n",
              "\n",
              "    </div>\n",
              "  </div>\n"
            ],
            "application/vnd.google.colaboratory.intrinsic+json": {
              "type": "dataframe",
              "variable_name": "train"
            }
          },
          "metadata": {},
          "execution_count": 30
        }
      ]
    },
    {
      "cell_type": "code",
      "source": [
        "test = pd.read_csv('/content/drive/MyDrive/Colab Notebooks/AI6102 Project/test.csv', parse_dates = ['date'])\n",
        "test.head()"
      ],
      "metadata": {
        "colab": {
          "base_uri": "https://localhost:8080/",
          "height": 204
        },
        "id": "tsVp5oLyQrml",
        "outputId": "5aba348d-830e-4f8f-f374-8add0b55b817"
      },
      "execution_count": 31,
      "outputs": [
        {
          "output_type": "execute_result",
          "data": {
            "text/plain": [
              "   id       date  store  item\n",
              "0   0 2018-01-01      1     1\n",
              "1   1 2018-01-02      1     1\n",
              "2   2 2018-01-03      1     1\n",
              "3   3 2018-01-04      1     1\n",
              "4   4 2018-01-05      1     1"
            ],
            "text/html": [
              "\n",
              "  <div id=\"df-67f5659b-d109-4276-9de5-1d5b67939844\" class=\"colab-df-container\">\n",
              "    <div>\n",
              "<style scoped>\n",
              "    .dataframe tbody tr th:only-of-type {\n",
              "        vertical-align: middle;\n",
              "    }\n",
              "\n",
              "    .dataframe tbody tr th {\n",
              "        vertical-align: top;\n",
              "    }\n",
              "\n",
              "    .dataframe thead th {\n",
              "        text-align: right;\n",
              "    }\n",
              "</style>\n",
              "<table border=\"1\" class=\"dataframe\">\n",
              "  <thead>\n",
              "    <tr style=\"text-align: right;\">\n",
              "      <th></th>\n",
              "      <th>id</th>\n",
              "      <th>date</th>\n",
              "      <th>store</th>\n",
              "      <th>item</th>\n",
              "    </tr>\n",
              "  </thead>\n",
              "  <tbody>\n",
              "    <tr>\n",
              "      <th>0</th>\n",
              "      <td>0</td>\n",
              "      <td>2018-01-01</td>\n",
              "      <td>1</td>\n",
              "      <td>1</td>\n",
              "    </tr>\n",
              "    <tr>\n",
              "      <th>1</th>\n",
              "      <td>1</td>\n",
              "      <td>2018-01-02</td>\n",
              "      <td>1</td>\n",
              "      <td>1</td>\n",
              "    </tr>\n",
              "    <tr>\n",
              "      <th>2</th>\n",
              "      <td>2</td>\n",
              "      <td>2018-01-03</td>\n",
              "      <td>1</td>\n",
              "      <td>1</td>\n",
              "    </tr>\n",
              "    <tr>\n",
              "      <th>3</th>\n",
              "      <td>3</td>\n",
              "      <td>2018-01-04</td>\n",
              "      <td>1</td>\n",
              "      <td>1</td>\n",
              "    </tr>\n",
              "    <tr>\n",
              "      <th>4</th>\n",
              "      <td>4</td>\n",
              "      <td>2018-01-05</td>\n",
              "      <td>1</td>\n",
              "      <td>1</td>\n",
              "    </tr>\n",
              "  </tbody>\n",
              "</table>\n",
              "</div>\n",
              "    <div class=\"colab-df-buttons\">\n",
              "\n",
              "  <div class=\"colab-df-container\">\n",
              "    <button class=\"colab-df-convert\" onclick=\"convertToInteractive('df-67f5659b-d109-4276-9de5-1d5b67939844')\"\n",
              "            title=\"Convert this dataframe to an interactive table.\"\n",
              "            style=\"display:none;\">\n",
              "\n",
              "  <svg xmlns=\"http://www.w3.org/2000/svg\" height=\"24px\" viewBox=\"0 -960 960 960\">\n",
              "    <path d=\"M120-120v-720h720v720H120Zm60-500h600v-160H180v160Zm220 220h160v-160H400v160Zm0 220h160v-160H400v160ZM180-400h160v-160H180v160Zm440 0h160v-160H620v160ZM180-180h160v-160H180v160Zm440 0h160v-160H620v160Z\"/>\n",
              "  </svg>\n",
              "    </button>\n",
              "\n",
              "  <style>\n",
              "    .colab-df-container {\n",
              "      display:flex;\n",
              "      gap: 12px;\n",
              "    }\n",
              "\n",
              "    .colab-df-convert {\n",
              "      background-color: #E8F0FE;\n",
              "      border: none;\n",
              "      border-radius: 50%;\n",
              "      cursor: pointer;\n",
              "      display: none;\n",
              "      fill: #1967D2;\n",
              "      height: 32px;\n",
              "      padding: 0 0 0 0;\n",
              "      width: 32px;\n",
              "    }\n",
              "\n",
              "    .colab-df-convert:hover {\n",
              "      background-color: #E2EBFA;\n",
              "      box-shadow: 0px 1px 2px rgba(60, 64, 67, 0.3), 0px 1px 3px 1px rgba(60, 64, 67, 0.15);\n",
              "      fill: #174EA6;\n",
              "    }\n",
              "\n",
              "    .colab-df-buttons div {\n",
              "      margin-bottom: 4px;\n",
              "    }\n",
              "\n",
              "    [theme=dark] .colab-df-convert {\n",
              "      background-color: #3B4455;\n",
              "      fill: #D2E3FC;\n",
              "    }\n",
              "\n",
              "    [theme=dark] .colab-df-convert:hover {\n",
              "      background-color: #434B5C;\n",
              "      box-shadow: 0px 1px 3px 1px rgba(0, 0, 0, 0.15);\n",
              "      filter: drop-shadow(0px 1px 2px rgba(0, 0, 0, 0.3));\n",
              "      fill: #FFFFFF;\n",
              "    }\n",
              "  </style>\n",
              "\n",
              "    <script>\n",
              "      const buttonEl =\n",
              "        document.querySelector('#df-67f5659b-d109-4276-9de5-1d5b67939844 button.colab-df-convert');\n",
              "      buttonEl.style.display =\n",
              "        google.colab.kernel.accessAllowed ? 'block' : 'none';\n",
              "\n",
              "      async function convertToInteractive(key) {\n",
              "        const element = document.querySelector('#df-67f5659b-d109-4276-9de5-1d5b67939844');\n",
              "        const dataTable =\n",
              "          await google.colab.kernel.invokeFunction('convertToInteractive',\n",
              "                                                    [key], {});\n",
              "        if (!dataTable) return;\n",
              "\n",
              "        const docLinkHtml = 'Like what you see? Visit the ' +\n",
              "          '<a target=\"_blank\" href=https://colab.research.google.com/notebooks/data_table.ipynb>data table notebook</a>'\n",
              "          + ' to learn more about interactive tables.';\n",
              "        element.innerHTML = '';\n",
              "        dataTable['output_type'] = 'display_data';\n",
              "        await google.colab.output.renderOutput(dataTable, element);\n",
              "        const docLink = document.createElement('div');\n",
              "        docLink.innerHTML = docLinkHtml;\n",
              "        element.appendChild(docLink);\n",
              "      }\n",
              "    </script>\n",
              "  </div>\n",
              "\n",
              "\n",
              "<div id=\"df-960fd26b-922b-42b9-a1e0-eff8cb997880\">\n",
              "  <button class=\"colab-df-quickchart\" onclick=\"quickchart('df-960fd26b-922b-42b9-a1e0-eff8cb997880')\"\n",
              "            title=\"Suggest charts\"\n",
              "            style=\"display:none;\">\n",
              "\n",
              "<svg xmlns=\"http://www.w3.org/2000/svg\" height=\"24px\"viewBox=\"0 0 24 24\"\n",
              "     width=\"24px\">\n",
              "    <g>\n",
              "        <path d=\"M19 3H5c-1.1 0-2 .9-2 2v14c0 1.1.9 2 2 2h14c1.1 0 2-.9 2-2V5c0-1.1-.9-2-2-2zM9 17H7v-7h2v7zm4 0h-2V7h2v10zm4 0h-2v-4h2v4z\"/>\n",
              "    </g>\n",
              "</svg>\n",
              "  </button>\n",
              "\n",
              "<style>\n",
              "  .colab-df-quickchart {\n",
              "      --bg-color: #E8F0FE;\n",
              "      --fill-color: #1967D2;\n",
              "      --hover-bg-color: #E2EBFA;\n",
              "      --hover-fill-color: #174EA6;\n",
              "      --disabled-fill-color: #AAA;\n",
              "      --disabled-bg-color: #DDD;\n",
              "  }\n",
              "\n",
              "  [theme=dark] .colab-df-quickchart {\n",
              "      --bg-color: #3B4455;\n",
              "      --fill-color: #D2E3FC;\n",
              "      --hover-bg-color: #434B5C;\n",
              "      --hover-fill-color: #FFFFFF;\n",
              "      --disabled-bg-color: #3B4455;\n",
              "      --disabled-fill-color: #666;\n",
              "  }\n",
              "\n",
              "  .colab-df-quickchart {\n",
              "    background-color: var(--bg-color);\n",
              "    border: none;\n",
              "    border-radius: 50%;\n",
              "    cursor: pointer;\n",
              "    display: none;\n",
              "    fill: var(--fill-color);\n",
              "    height: 32px;\n",
              "    padding: 0;\n",
              "    width: 32px;\n",
              "  }\n",
              "\n",
              "  .colab-df-quickchart:hover {\n",
              "    background-color: var(--hover-bg-color);\n",
              "    box-shadow: 0 1px 2px rgba(60, 64, 67, 0.3), 0 1px 3px 1px rgba(60, 64, 67, 0.15);\n",
              "    fill: var(--button-hover-fill-color);\n",
              "  }\n",
              "\n",
              "  .colab-df-quickchart-complete:disabled,\n",
              "  .colab-df-quickchart-complete:disabled:hover {\n",
              "    background-color: var(--disabled-bg-color);\n",
              "    fill: var(--disabled-fill-color);\n",
              "    box-shadow: none;\n",
              "  }\n",
              "\n",
              "  .colab-df-spinner {\n",
              "    border: 2px solid var(--fill-color);\n",
              "    border-color: transparent;\n",
              "    border-bottom-color: var(--fill-color);\n",
              "    animation:\n",
              "      spin 1s steps(1) infinite;\n",
              "  }\n",
              "\n",
              "  @keyframes spin {\n",
              "    0% {\n",
              "      border-color: transparent;\n",
              "      border-bottom-color: var(--fill-color);\n",
              "      border-left-color: var(--fill-color);\n",
              "    }\n",
              "    20% {\n",
              "      border-color: transparent;\n",
              "      border-left-color: var(--fill-color);\n",
              "      border-top-color: var(--fill-color);\n",
              "    }\n",
              "    30% {\n",
              "      border-color: transparent;\n",
              "      border-left-color: var(--fill-color);\n",
              "      border-top-color: var(--fill-color);\n",
              "      border-right-color: var(--fill-color);\n",
              "    }\n",
              "    40% {\n",
              "      border-color: transparent;\n",
              "      border-right-color: var(--fill-color);\n",
              "      border-top-color: var(--fill-color);\n",
              "    }\n",
              "    60% {\n",
              "      border-color: transparent;\n",
              "      border-right-color: var(--fill-color);\n",
              "    }\n",
              "    80% {\n",
              "      border-color: transparent;\n",
              "      border-right-color: var(--fill-color);\n",
              "      border-bottom-color: var(--fill-color);\n",
              "    }\n",
              "    90% {\n",
              "      border-color: transparent;\n",
              "      border-bottom-color: var(--fill-color);\n",
              "    }\n",
              "  }\n",
              "</style>\n",
              "\n",
              "  <script>\n",
              "    async function quickchart(key) {\n",
              "      const quickchartButtonEl =\n",
              "        document.querySelector('#' + key + ' button');\n",
              "      quickchartButtonEl.disabled = true;  // To prevent multiple clicks.\n",
              "      quickchartButtonEl.classList.add('colab-df-spinner');\n",
              "      try {\n",
              "        const charts = await google.colab.kernel.invokeFunction(\n",
              "            'suggestCharts', [key], {});\n",
              "      } catch (error) {\n",
              "        console.error('Error during call to suggestCharts:', error);\n",
              "      }\n",
              "      quickchartButtonEl.classList.remove('colab-df-spinner');\n",
              "      quickchartButtonEl.classList.add('colab-df-quickchart-complete');\n",
              "    }\n",
              "    (() => {\n",
              "      let quickchartButtonEl =\n",
              "        document.querySelector('#df-960fd26b-922b-42b9-a1e0-eff8cb997880 button');\n",
              "      quickchartButtonEl.style.display =\n",
              "        google.colab.kernel.accessAllowed ? 'block' : 'none';\n",
              "    })();\n",
              "  </script>\n",
              "</div>\n",
              "\n",
              "    </div>\n",
              "  </div>\n"
            ],
            "application/vnd.google.colaboratory.intrinsic+json": {
              "type": "dataframe",
              "variable_name": "test",
              "summary": "{\n  \"name\": \"test\",\n  \"rows\": 45000,\n  \"fields\": [\n    {\n      \"column\": \"id\",\n      \"properties\": {\n        \"dtype\": \"number\",\n        \"std\": 12990,\n        \"min\": 0,\n        \"max\": 44999,\n        \"num_unique_values\": 45000,\n        \"samples\": [\n          37979,\n          9911,\n          43386\n        ],\n        \"semantic_type\": \"\",\n        \"description\": \"\"\n      }\n    },\n    {\n      \"column\": \"date\",\n      \"properties\": {\n        \"dtype\": \"date\",\n        \"min\": \"2018-01-01 00:00:00\",\n        \"max\": \"2018-03-31 00:00:00\",\n        \"num_unique_values\": 90,\n        \"samples\": [\n          \"2018-02-10 00:00:00\",\n          \"2018-01-23 00:00:00\",\n          \"2018-02-25 00:00:00\"\n        ],\n        \"semantic_type\": \"\",\n        \"description\": \"\"\n      }\n    },\n    {\n      \"column\": \"store\",\n      \"properties\": {\n        \"dtype\": \"number\",\n        \"std\": 2,\n        \"min\": 1,\n        \"max\": 10,\n        \"num_unique_values\": 10,\n        \"samples\": [\n          9,\n          2,\n          6\n        ],\n        \"semantic_type\": \"\",\n        \"description\": \"\"\n      }\n    },\n    {\n      \"column\": \"item\",\n      \"properties\": {\n        \"dtype\": \"number\",\n        \"std\": 14,\n        \"min\": 1,\n        \"max\": 50,\n        \"num_unique_values\": 50,\n        \"samples\": [\n          14,\n          40,\n          31\n        ],\n        \"semantic_type\": \"\",\n        \"description\": \"\"\n      }\n    }\n  ]\n}"
            }
          },
          "metadata": {},
          "execution_count": 31
        }
      ]
    },
    {
      "cell_type": "code",
      "source": [
        "test['is_hol'] = test['date'].apply(is_holiday)\n",
        "test.head()"
      ],
      "metadata": {
        "colab": {
          "base_uri": "https://localhost:8080/",
          "height": 204
        },
        "id": "-LswewnzQ0Y0",
        "outputId": "ffbb9538-26d3-4cf3-8e45-86c5e9b63b16"
      },
      "execution_count": 11,
      "outputs": [
        {
          "output_type": "execute_result",
          "data": {
            "text/plain": [
              "   id       date  store  item  is_hol\n",
              "0   0 2018-01-01      1     1       1\n",
              "1   1 2018-01-02      1     1       0\n",
              "2   2 2018-01-03      1     1       0\n",
              "3   3 2018-01-04      1     1       0\n",
              "4   4 2018-01-05      1     1       0"
            ],
            "text/html": [
              "\n",
              "  <div id=\"df-9b892adf-013e-4818-b752-40e506728806\" class=\"colab-df-container\">\n",
              "    <div>\n",
              "<style scoped>\n",
              "    .dataframe tbody tr th:only-of-type {\n",
              "        vertical-align: middle;\n",
              "    }\n",
              "\n",
              "    .dataframe tbody tr th {\n",
              "        vertical-align: top;\n",
              "    }\n",
              "\n",
              "    .dataframe thead th {\n",
              "        text-align: right;\n",
              "    }\n",
              "</style>\n",
              "<table border=\"1\" class=\"dataframe\">\n",
              "  <thead>\n",
              "    <tr style=\"text-align: right;\">\n",
              "      <th></th>\n",
              "      <th>id</th>\n",
              "      <th>date</th>\n",
              "      <th>store</th>\n",
              "      <th>item</th>\n",
              "      <th>is_hol</th>\n",
              "    </tr>\n",
              "  </thead>\n",
              "  <tbody>\n",
              "    <tr>\n",
              "      <th>0</th>\n",
              "      <td>0</td>\n",
              "      <td>2018-01-01</td>\n",
              "      <td>1</td>\n",
              "      <td>1</td>\n",
              "      <td>1</td>\n",
              "    </tr>\n",
              "    <tr>\n",
              "      <th>1</th>\n",
              "      <td>1</td>\n",
              "      <td>2018-01-02</td>\n",
              "      <td>1</td>\n",
              "      <td>1</td>\n",
              "      <td>0</td>\n",
              "    </tr>\n",
              "    <tr>\n",
              "      <th>2</th>\n",
              "      <td>2</td>\n",
              "      <td>2018-01-03</td>\n",
              "      <td>1</td>\n",
              "      <td>1</td>\n",
              "      <td>0</td>\n",
              "    </tr>\n",
              "    <tr>\n",
              "      <th>3</th>\n",
              "      <td>3</td>\n",
              "      <td>2018-01-04</td>\n",
              "      <td>1</td>\n",
              "      <td>1</td>\n",
              "      <td>0</td>\n",
              "    </tr>\n",
              "    <tr>\n",
              "      <th>4</th>\n",
              "      <td>4</td>\n",
              "      <td>2018-01-05</td>\n",
              "      <td>1</td>\n",
              "      <td>1</td>\n",
              "      <td>0</td>\n",
              "    </tr>\n",
              "  </tbody>\n",
              "</table>\n",
              "</div>\n",
              "    <div class=\"colab-df-buttons\">\n",
              "\n",
              "  <div class=\"colab-df-container\">\n",
              "    <button class=\"colab-df-convert\" onclick=\"convertToInteractive('df-9b892adf-013e-4818-b752-40e506728806')\"\n",
              "            title=\"Convert this dataframe to an interactive table.\"\n",
              "            style=\"display:none;\">\n",
              "\n",
              "  <svg xmlns=\"http://www.w3.org/2000/svg\" height=\"24px\" viewBox=\"0 -960 960 960\">\n",
              "    <path d=\"M120-120v-720h720v720H120Zm60-500h600v-160H180v160Zm220 220h160v-160H400v160Zm0 220h160v-160H400v160ZM180-400h160v-160H180v160Zm440 0h160v-160H620v160ZM180-180h160v-160H180v160Zm440 0h160v-160H620v160Z\"/>\n",
              "  </svg>\n",
              "    </button>\n",
              "\n",
              "  <style>\n",
              "    .colab-df-container {\n",
              "      display:flex;\n",
              "      gap: 12px;\n",
              "    }\n",
              "\n",
              "    .colab-df-convert {\n",
              "      background-color: #E8F0FE;\n",
              "      border: none;\n",
              "      border-radius: 50%;\n",
              "      cursor: pointer;\n",
              "      display: none;\n",
              "      fill: #1967D2;\n",
              "      height: 32px;\n",
              "      padding: 0 0 0 0;\n",
              "      width: 32px;\n",
              "    }\n",
              "\n",
              "    .colab-df-convert:hover {\n",
              "      background-color: #E2EBFA;\n",
              "      box-shadow: 0px 1px 2px rgba(60, 64, 67, 0.3), 0px 1px 3px 1px rgba(60, 64, 67, 0.15);\n",
              "      fill: #174EA6;\n",
              "    }\n",
              "\n",
              "    .colab-df-buttons div {\n",
              "      margin-bottom: 4px;\n",
              "    }\n",
              "\n",
              "    [theme=dark] .colab-df-convert {\n",
              "      background-color: #3B4455;\n",
              "      fill: #D2E3FC;\n",
              "    }\n",
              "\n",
              "    [theme=dark] .colab-df-convert:hover {\n",
              "      background-color: #434B5C;\n",
              "      box-shadow: 0px 1px 3px 1px rgba(0, 0, 0, 0.15);\n",
              "      filter: drop-shadow(0px 1px 2px rgba(0, 0, 0, 0.3));\n",
              "      fill: #FFFFFF;\n",
              "    }\n",
              "  </style>\n",
              "\n",
              "    <script>\n",
              "      const buttonEl =\n",
              "        document.querySelector('#df-9b892adf-013e-4818-b752-40e506728806 button.colab-df-convert');\n",
              "      buttonEl.style.display =\n",
              "        google.colab.kernel.accessAllowed ? 'block' : 'none';\n",
              "\n",
              "      async function convertToInteractive(key) {\n",
              "        const element = document.querySelector('#df-9b892adf-013e-4818-b752-40e506728806');\n",
              "        const dataTable =\n",
              "          await google.colab.kernel.invokeFunction('convertToInteractive',\n",
              "                                                    [key], {});\n",
              "        if (!dataTable) return;\n",
              "\n",
              "        const docLinkHtml = 'Like what you see? Visit the ' +\n",
              "          '<a target=\"_blank\" href=https://colab.research.google.com/notebooks/data_table.ipynb>data table notebook</a>'\n",
              "          + ' to learn more about interactive tables.';\n",
              "        element.innerHTML = '';\n",
              "        dataTable['output_type'] = 'display_data';\n",
              "        await google.colab.output.renderOutput(dataTable, element);\n",
              "        const docLink = document.createElement('div');\n",
              "        docLink.innerHTML = docLinkHtml;\n",
              "        element.appendChild(docLink);\n",
              "      }\n",
              "    </script>\n",
              "  </div>\n",
              "\n",
              "\n",
              "<div id=\"df-813fc6e8-a1a9-40e1-aeb9-2985447adbcf\">\n",
              "  <button class=\"colab-df-quickchart\" onclick=\"quickchart('df-813fc6e8-a1a9-40e1-aeb9-2985447adbcf')\"\n",
              "            title=\"Suggest charts\"\n",
              "            style=\"display:none;\">\n",
              "\n",
              "<svg xmlns=\"http://www.w3.org/2000/svg\" height=\"24px\"viewBox=\"0 0 24 24\"\n",
              "     width=\"24px\">\n",
              "    <g>\n",
              "        <path d=\"M19 3H5c-1.1 0-2 .9-2 2v14c0 1.1.9 2 2 2h14c1.1 0 2-.9 2-2V5c0-1.1-.9-2-2-2zM9 17H7v-7h2v7zm4 0h-2V7h2v10zm4 0h-2v-4h2v4z\"/>\n",
              "    </g>\n",
              "</svg>\n",
              "  </button>\n",
              "\n",
              "<style>\n",
              "  .colab-df-quickchart {\n",
              "      --bg-color: #E8F0FE;\n",
              "      --fill-color: #1967D2;\n",
              "      --hover-bg-color: #E2EBFA;\n",
              "      --hover-fill-color: #174EA6;\n",
              "      --disabled-fill-color: #AAA;\n",
              "      --disabled-bg-color: #DDD;\n",
              "  }\n",
              "\n",
              "  [theme=dark] .colab-df-quickchart {\n",
              "      --bg-color: #3B4455;\n",
              "      --fill-color: #D2E3FC;\n",
              "      --hover-bg-color: #434B5C;\n",
              "      --hover-fill-color: #FFFFFF;\n",
              "      --disabled-bg-color: #3B4455;\n",
              "      --disabled-fill-color: #666;\n",
              "  }\n",
              "\n",
              "  .colab-df-quickchart {\n",
              "    background-color: var(--bg-color);\n",
              "    border: none;\n",
              "    border-radius: 50%;\n",
              "    cursor: pointer;\n",
              "    display: none;\n",
              "    fill: var(--fill-color);\n",
              "    height: 32px;\n",
              "    padding: 0;\n",
              "    width: 32px;\n",
              "  }\n",
              "\n",
              "  .colab-df-quickchart:hover {\n",
              "    background-color: var(--hover-bg-color);\n",
              "    box-shadow: 0 1px 2px rgba(60, 64, 67, 0.3), 0 1px 3px 1px rgba(60, 64, 67, 0.15);\n",
              "    fill: var(--button-hover-fill-color);\n",
              "  }\n",
              "\n",
              "  .colab-df-quickchart-complete:disabled,\n",
              "  .colab-df-quickchart-complete:disabled:hover {\n",
              "    background-color: var(--disabled-bg-color);\n",
              "    fill: var(--disabled-fill-color);\n",
              "    box-shadow: none;\n",
              "  }\n",
              "\n",
              "  .colab-df-spinner {\n",
              "    border: 2px solid var(--fill-color);\n",
              "    border-color: transparent;\n",
              "    border-bottom-color: var(--fill-color);\n",
              "    animation:\n",
              "      spin 1s steps(1) infinite;\n",
              "  }\n",
              "\n",
              "  @keyframes spin {\n",
              "    0% {\n",
              "      border-color: transparent;\n",
              "      border-bottom-color: var(--fill-color);\n",
              "      border-left-color: var(--fill-color);\n",
              "    }\n",
              "    20% {\n",
              "      border-color: transparent;\n",
              "      border-left-color: var(--fill-color);\n",
              "      border-top-color: var(--fill-color);\n",
              "    }\n",
              "    30% {\n",
              "      border-color: transparent;\n",
              "      border-left-color: var(--fill-color);\n",
              "      border-top-color: var(--fill-color);\n",
              "      border-right-color: var(--fill-color);\n",
              "    }\n",
              "    40% {\n",
              "      border-color: transparent;\n",
              "      border-right-color: var(--fill-color);\n",
              "      border-top-color: var(--fill-color);\n",
              "    }\n",
              "    60% {\n",
              "      border-color: transparent;\n",
              "      border-right-color: var(--fill-color);\n",
              "    }\n",
              "    80% {\n",
              "      border-color: transparent;\n",
              "      border-right-color: var(--fill-color);\n",
              "      border-bottom-color: var(--fill-color);\n",
              "    }\n",
              "    90% {\n",
              "      border-color: transparent;\n",
              "      border-bottom-color: var(--fill-color);\n",
              "    }\n",
              "  }\n",
              "</style>\n",
              "\n",
              "  <script>\n",
              "    async function quickchart(key) {\n",
              "      const quickchartButtonEl =\n",
              "        document.querySelector('#' + key + ' button');\n",
              "      quickchartButtonEl.disabled = true;  // To prevent multiple clicks.\n",
              "      quickchartButtonEl.classList.add('colab-df-spinner');\n",
              "      try {\n",
              "        const charts = await google.colab.kernel.invokeFunction(\n",
              "            'suggestCharts', [key], {});\n",
              "      } catch (error) {\n",
              "        console.error('Error during call to suggestCharts:', error);\n",
              "      }\n",
              "      quickchartButtonEl.classList.remove('colab-df-spinner');\n",
              "      quickchartButtonEl.classList.add('colab-df-quickchart-complete');\n",
              "    }\n",
              "    (() => {\n",
              "      let quickchartButtonEl =\n",
              "        document.querySelector('#df-813fc6e8-a1a9-40e1-aeb9-2985447adbcf button');\n",
              "      quickchartButtonEl.style.display =\n",
              "        google.colab.kernel.accessAllowed ? 'block' : 'none';\n",
              "    })();\n",
              "  </script>\n",
              "</div>\n",
              "\n",
              "    </div>\n",
              "  </div>\n"
            ],
            "application/vnd.google.colaboratory.intrinsic+json": {
              "type": "dataframe",
              "variable_name": "test",
              "summary": "{\n  \"name\": \"test\",\n  \"rows\": 45000,\n  \"fields\": [\n    {\n      \"column\": \"id\",\n      \"properties\": {\n        \"dtype\": \"number\",\n        \"std\": 12990,\n        \"min\": 0,\n        \"max\": 44999,\n        \"num_unique_values\": 45000,\n        \"samples\": [\n          37979,\n          9911,\n          43386\n        ],\n        \"semantic_type\": \"\",\n        \"description\": \"\"\n      }\n    },\n    {\n      \"column\": \"date\",\n      \"properties\": {\n        \"dtype\": \"date\",\n        \"min\": \"2018-01-01 00:00:00\",\n        \"max\": \"2018-03-31 00:00:00\",\n        \"num_unique_values\": 90,\n        \"samples\": [\n          \"2018-02-10 00:00:00\",\n          \"2018-01-23 00:00:00\",\n          \"2018-02-25 00:00:00\"\n        ],\n        \"semantic_type\": \"\",\n        \"description\": \"\"\n      }\n    },\n    {\n      \"column\": \"store\",\n      \"properties\": {\n        \"dtype\": \"number\",\n        \"std\": 2,\n        \"min\": 1,\n        \"max\": 10,\n        \"num_unique_values\": 10,\n        \"samples\": [\n          9,\n          2,\n          6\n        ],\n        \"semantic_type\": \"\",\n        \"description\": \"\"\n      }\n    },\n    {\n      \"column\": \"item\",\n      \"properties\": {\n        \"dtype\": \"number\",\n        \"std\": 14,\n        \"min\": 1,\n        \"max\": 50,\n        \"num_unique_values\": 50,\n        \"samples\": [\n          14,\n          40,\n          31\n        ],\n        \"semantic_type\": \"\",\n        \"description\": \"\"\n      }\n    },\n    {\n      \"column\": \"is_hol\",\n      \"properties\": {\n        \"dtype\": \"number\",\n        \"std\": 0,\n        \"min\": 0,\n        \"max\": 1,\n        \"num_unique_values\": 2,\n        \"samples\": [\n          0,\n          1\n        ],\n        \"semantic_type\": \"\",\n        \"description\": \"\"\n      }\n    }\n  ]\n}"
            }
          },
          "metadata": {},
          "execution_count": 11
        }
      ]
    },
    {
      "cell_type": "code",
      "source": [
        "def predict(store, item):\n",
        "  target = train.loc[(train.store == store) & (train.item == item)]\n",
        "  print(target)\n",
        "  target[\"t\"] = np.arange(len(target))\n",
        "\n",
        "  to_predict = test.loc[(test.store == store) & (test.item == item)]\n",
        "  to_predict[\"t\"] = np.arange(len(target), len(target) + len(to_predict))\n",
        "\n",
        "  best_aicc = None\n",
        "  best_norder = 4\n",
        "\n",
        "  PERIOD = len(target)\n",
        "  n_steps = len(to_predict)\n",
        "\n",
        "  # for n_order in range(1, 4):\n",
        "  #     train_fourier_features = get_fourier_features(n_order, PERIOD, target['t'] )\n",
        "  #     arima_exog_model = pm.auto_arima(\n",
        "  #         y=np.log(target[\"sales\"]),\n",
        "  #         exogenous=train_fourier_features,\n",
        "  #         seasonal=False,\n",
        "  #     )\n",
        "  #     if best_aicc is None or arima_exog_model.aicc() < best_aicc:\n",
        "  #         best_aicc = arima_exog_model.aicc()\n",
        "  #         best_norder = n_order\n",
        "  # print(f'Found best order {best_norder} with aicc of {best_aicc}')\n",
        "\n",
        "  train_fourier_features = get_fourier_features(best_norder, PERIOD, target['t'])\n",
        "  arima_exog_model = pm.auto_arima(\n",
        "      y=target[\"sales\"],\n",
        "      exogenous=train_fourier_features,\n",
        "      seasonal=False,\n",
        "  )\n",
        "  print('Finished training model...')\n",
        "  test_fourier_features = get_fourier_features(best_norder, PERIOD, to_predict['t'])\n",
        "  y_arima_exog_forecast = arima_exog_model.predict(\n",
        "      n_periods=n_steps,\n",
        "      exogenous=test_fourier_features,\n",
        "  )\n",
        "  to_predict[\"sales\"] = y_arima_exog_forecast\n",
        "  to_predict[\"sales\"] = y_arima_exog_forecast.to_list()\n",
        "  f = lambda x: int(x)\n",
        "  to_predict[\"sales\"] = to_predict[\"sales\"].apply(f)\n",
        "  return to_predict"
      ],
      "metadata": {
        "id": "N4Mu6W7etFgq"
      },
      "execution_count": 36,
      "outputs": []
    },
    {
      "cell_type": "code",
      "source": [
        "results = pd.DataFrame()\n",
        "\n",
        "for i in range(1, 51):\n",
        "  for j in range(1, 11):\n",
        "    print(f'Predicting for store {j} and item {i}')\n",
        "    sub_results = predict(j, i)\n",
        "    results = pd.concat([results, sub_results])"
      ],
      "metadata": {
        "colab": {
          "base_uri": "https://localhost:8080/"
        },
        "id": "LgwO2kaFuTu4",
        "outputId": "5bafd5d5-e4f5-420c-e6f1-4b7307631da1"
      },
      "execution_count": 39,
      "outputs": [
        {
          "output_type": "stream",
          "name": "stdout",
          "text": [
            "Predicting for store 1 and item 1\n",
            "           date  store  item  sales  is_hol\n",
            "0    2013-01-01      1     1     13       1\n",
            "1    2013-01-02      1     1     11       0\n",
            "2    2013-01-03      1     1     14       0\n",
            "3    2013-01-04      1     1     13       0\n",
            "4    2013-01-05      1     1     10       0\n",
            "...         ...    ...   ...    ...     ...\n",
            "1821 2017-12-27      1     1     14       0\n",
            "1822 2017-12-28      1     1     19       0\n",
            "1823 2017-12-29      1     1     15       0\n",
            "1824 2017-12-30      1     1     27       0\n",
            "1825 2017-12-31      1     1     23       0\n",
            "\n",
            "[1826 rows x 5 columns]\n",
            "Finished training model...\n",
            "Predicting for store 2 and item 1\n",
            "           date  store  item  sales  is_hol\n",
            "1826 2013-01-01      2     1     12       1\n",
            "1827 2013-01-02      2     1     16       0\n",
            "1828 2013-01-03      2     1     16       0\n",
            "1829 2013-01-04      2     1     20       0\n",
            "1830 2013-01-05      2     1     16       0\n",
            "...         ...    ...   ...    ...     ...\n",
            "3647 2017-12-27      2     1     19       0\n",
            "3648 2017-12-28      2     1     21       0\n",
            "3649 2017-12-29      2     1     18       0\n",
            "3650 2017-12-30      2     1     24       0\n",
            "3651 2017-12-31      2     1     31       0\n",
            "\n",
            "[1826 rows x 5 columns]\n",
            "Finished training model...\n",
            "Predicting for store 3 and item 1\n",
            "           date  store  item  sales  is_hol\n",
            "3652 2013-01-01      3     1     19       1\n",
            "3653 2013-01-02      3     1      8       0\n",
            "3654 2013-01-03      3     1     10       0\n",
            "3655 2013-01-04      3     1     15       0\n",
            "3656 2013-01-05      3     1     22       0\n",
            "...         ...    ...   ...    ...     ...\n",
            "5473 2017-12-27      3     1     16       0\n",
            "5474 2017-12-28      3     1     17       0\n",
            "5475 2017-12-29      3     1     21       0\n",
            "5476 2017-12-30      3     1     31       0\n",
            "5477 2017-12-31      3     1     19       0\n",
            "\n",
            "[1826 rows x 5 columns]\n"
          ]
        },
        {
          "output_type": "stream",
          "name": "stderr",
          "text": [
            "/usr/local/lib/python3.10/dist-packages/statsmodels/tsa/base/tsa_model.py:836: ValueWarning: No supported index is available. Prediction results will be given with an integer index beginning at `start`.\n",
            "  return get_prediction_index(\n",
            "/usr/local/lib/python3.10/dist-packages/statsmodels/tsa/base/tsa_model.py:836: FutureWarning: No supported index is available. In the next version, calling this method in a model without a supported index will result in an exception.\n",
            "  return get_prediction_index(\n"
          ]
        },
        {
          "output_type": "stream",
          "name": "stdout",
          "text": [
            "Finished training model...\n",
            "Predicting for store 4 and item 1\n",
            "           date  store  item  sales  is_hol\n",
            "5478 2013-01-01      4     1     10       1\n",
            "5479 2013-01-02      4     1     12       0\n",
            "5480 2013-01-03      4     1      8       0\n",
            "5481 2013-01-04      4     1     15       0\n",
            "5482 2013-01-05      4     1     19       0\n",
            "...         ...    ...   ...    ...     ...\n",
            "7299 2017-12-27      4     1     15       0\n",
            "7300 2017-12-28      4     1     26       0\n",
            "7301 2017-12-29      4     1     28       0\n",
            "7302 2017-12-30      4     1     21       0\n",
            "7303 2017-12-31      4     1     23       0\n",
            "\n",
            "[1826 rows x 5 columns]\n"
          ]
        },
        {
          "output_type": "stream",
          "name": "stderr",
          "text": [
            "/usr/local/lib/python3.10/dist-packages/statsmodels/tsa/base/tsa_model.py:836: ValueWarning: No supported index is available. Prediction results will be given with an integer index beginning at `start`.\n",
            "  return get_prediction_index(\n",
            "/usr/local/lib/python3.10/dist-packages/statsmodels/tsa/base/tsa_model.py:836: FutureWarning: No supported index is available. In the next version, calling this method in a model without a supported index will result in an exception.\n",
            "  return get_prediction_index(\n"
          ]
        },
        {
          "output_type": "stream",
          "name": "stdout",
          "text": [
            "Finished training model...\n",
            "Predicting for store 5 and item 1\n",
            "           date  store  item  sales  is_hol\n",
            "7304 2013-01-01      5     1     11       1\n",
            "7305 2013-01-02      5     1      9       0\n",
            "7306 2013-01-03      5     1     12       0\n",
            "7307 2013-01-04      5     1      8       0\n",
            "7308 2013-01-05      5     1     13       0\n",
            "...         ...    ...   ...    ...     ...\n",
            "9125 2017-12-27      5     1     15       0\n",
            "9126 2017-12-28      5     1     13       0\n",
            "9127 2017-12-29      5     1     18       0\n",
            "9128 2017-12-30      5     1     19       0\n",
            "9129 2017-12-31      5     1     24       0\n",
            "\n",
            "[1826 rows x 5 columns]\n"
          ]
        },
        {
          "output_type": "stream",
          "name": "stderr",
          "text": [
            "/usr/local/lib/python3.10/dist-packages/statsmodels/tsa/base/tsa_model.py:836: ValueWarning: No supported index is available. Prediction results will be given with an integer index beginning at `start`.\n",
            "  return get_prediction_index(\n",
            "/usr/local/lib/python3.10/dist-packages/statsmodels/tsa/base/tsa_model.py:836: FutureWarning: No supported index is available. In the next version, calling this method in a model without a supported index will result in an exception.\n",
            "  return get_prediction_index(\n"
          ]
        },
        {
          "output_type": "stream",
          "name": "stdout",
          "text": [
            "Finished training model...\n",
            "Predicting for store 6 and item 1\n",
            "            date  store  item  sales  is_hol\n",
            "9130  2013-01-01      6     1     20       1\n",
            "9131  2013-01-02      6     1      6       0\n",
            "9132  2013-01-03      6     1     11       0\n",
            "9133  2013-01-04      6     1      7       0\n",
            "9134  2013-01-05      6     1     12       0\n",
            "...          ...    ...   ...    ...     ...\n",
            "10951 2017-12-27      6     1     14       0\n",
            "10952 2017-12-28      6     1      8       0\n",
            "10953 2017-12-29      6     1     16       0\n",
            "10954 2017-12-30      6     1     10       0\n",
            "10955 2017-12-31      6     1     19       0\n",
            "\n",
            "[1826 rows x 5 columns]\n"
          ]
        },
        {
          "output_type": "stream",
          "name": "stderr",
          "text": [
            "/usr/local/lib/python3.10/dist-packages/statsmodels/tsa/base/tsa_model.py:836: ValueWarning: No supported index is available. Prediction results will be given with an integer index beginning at `start`.\n",
            "  return get_prediction_index(\n",
            "/usr/local/lib/python3.10/dist-packages/statsmodels/tsa/base/tsa_model.py:836: FutureWarning: No supported index is available. In the next version, calling this method in a model without a supported index will result in an exception.\n",
            "  return get_prediction_index(\n"
          ]
        },
        {
          "output_type": "stream",
          "name": "stdout",
          "text": [
            "Finished training model...\n",
            "Predicting for store 7 and item 1\n",
            "            date  store  item  sales  is_hol\n",
            "10956 2013-01-01      7     1      7       1\n",
            "10957 2013-01-02      7     1      4       0\n",
            "10958 2013-01-03      7     1      8       0\n",
            "10959 2013-01-04      7     1      7       0\n",
            "10960 2013-01-05      7     1      8       0\n",
            "...          ...    ...   ...    ...     ...\n",
            "12777 2017-12-27      7     1     13       0\n",
            "12778 2017-12-28      7     1     18       0\n",
            "12779 2017-12-29      7     1     18       0\n",
            "12780 2017-12-30      7     1     17       0\n",
            "12781 2017-12-31      7     1     16       0\n",
            "\n",
            "[1826 rows x 5 columns]\n"
          ]
        },
        {
          "output_type": "stream",
          "name": "stderr",
          "text": [
            "/usr/local/lib/python3.10/dist-packages/statsmodels/tsa/base/tsa_model.py:836: ValueWarning: No supported index is available. Prediction results will be given with an integer index beginning at `start`.\n",
            "  return get_prediction_index(\n",
            "/usr/local/lib/python3.10/dist-packages/statsmodels/tsa/base/tsa_model.py:836: FutureWarning: No supported index is available. In the next version, calling this method in a model without a supported index will result in an exception.\n",
            "  return get_prediction_index(\n"
          ]
        },
        {
          "output_type": "stream",
          "name": "stdout",
          "text": [
            "Finished training model...\n",
            "Predicting for store 8 and item 1\n",
            "            date  store  item  sales  is_hol\n",
            "12782 2013-01-01      8     1     16       1\n",
            "12783 2013-01-02      8     1     10       0\n",
            "12784 2013-01-03      8     1     12       0\n",
            "12785 2013-01-04      8     1     21       0\n",
            "12786 2013-01-05      8     1     15       0\n",
            "...          ...    ...   ...    ...     ...\n",
            "14603 2017-12-27      8     1     13       0\n",
            "14604 2017-12-28      8     1     25       0\n",
            "14605 2017-12-29      8     1     34       0\n",
            "14606 2017-12-30      8     1     30       0\n",
            "14607 2017-12-31      8     1     26       0\n",
            "\n",
            "[1826 rows x 5 columns]\n"
          ]
        },
        {
          "output_type": "stream",
          "name": "stderr",
          "text": [
            "/usr/local/lib/python3.10/dist-packages/statsmodels/tsa/base/tsa_model.py:836: ValueWarning: No supported index is available. Prediction results will be given with an integer index beginning at `start`.\n",
            "  return get_prediction_index(\n",
            "/usr/local/lib/python3.10/dist-packages/statsmodels/tsa/base/tsa_model.py:836: FutureWarning: No supported index is available. In the next version, calling this method in a model without a supported index will result in an exception.\n",
            "  return get_prediction_index(\n"
          ]
        },
        {
          "output_type": "stream",
          "name": "stdout",
          "text": [
            "Finished training model...\n",
            "Predicting for store 9 and item 1\n",
            "            date  store  item  sales  is_hol\n",
            "14608 2013-01-01      9     1     11       1\n",
            "14609 2013-01-02      9     1      9       0\n",
            "14610 2013-01-03      9     1     20       0\n",
            "14611 2013-01-04      9     1     22       0\n",
            "14612 2013-01-05      9     1     22       0\n",
            "...          ...    ...   ...    ...     ...\n",
            "16429 2017-12-27      9     1     16       0\n",
            "16430 2017-12-28      9     1     19       0\n",
            "16431 2017-12-29      9     1     16       0\n",
            "16432 2017-12-30      9     1     31       0\n",
            "16433 2017-12-31      9     1     19       0\n",
            "\n",
            "[1826 rows x 5 columns]\n"
          ]
        },
        {
          "output_type": "stream",
          "name": "stderr",
          "text": [
            "/usr/local/lib/python3.10/dist-packages/statsmodels/tsa/base/tsa_model.py:836: ValueWarning: No supported index is available. Prediction results will be given with an integer index beginning at `start`.\n",
            "  return get_prediction_index(\n",
            "/usr/local/lib/python3.10/dist-packages/statsmodels/tsa/base/tsa_model.py:836: FutureWarning: No supported index is available. In the next version, calling this method in a model without a supported index will result in an exception.\n",
            "  return get_prediction_index(\n"
          ]
        },
        {
          "output_type": "stream",
          "name": "stdout",
          "text": [
            "Finished training model...\n",
            "Predicting for store 10 and item 1\n",
            "            date  store  item  sales  is_hol\n",
            "16434 2013-01-01     10     1     14       1\n",
            "16435 2013-01-02     10     1     14       0\n",
            "16436 2013-01-03     10     1     16       0\n",
            "16437 2013-01-04     10     1     17       0\n",
            "16438 2013-01-05     10     1     12       0\n",
            "...          ...    ...   ...    ...     ...\n",
            "18255 2017-12-27     10     1     19       0\n",
            "18256 2017-12-28     10     1     12       0\n",
            "18257 2017-12-29     10     1     23       0\n",
            "18258 2017-12-30     10     1     26       0\n",
            "18259 2017-12-31     10     1     27       0\n",
            "\n",
            "[1826 rows x 5 columns]\n"
          ]
        },
        {
          "output_type": "stream",
          "name": "stderr",
          "text": [
            "/usr/local/lib/python3.10/dist-packages/statsmodels/tsa/base/tsa_model.py:836: ValueWarning: No supported index is available. Prediction results will be given with an integer index beginning at `start`.\n",
            "  return get_prediction_index(\n",
            "/usr/local/lib/python3.10/dist-packages/statsmodels/tsa/base/tsa_model.py:836: FutureWarning: No supported index is available. In the next version, calling this method in a model without a supported index will result in an exception.\n",
            "  return get_prediction_index(\n"
          ]
        },
        {
          "output_type": "stream",
          "name": "stdout",
          "text": [
            "Finished training model...\n",
            "Predicting for store 1 and item 2\n",
            "            date  store  item  sales  is_hol\n",
            "18260 2013-01-01      1     2     33       1\n",
            "18261 2013-01-02      1     2     43       0\n",
            "18262 2013-01-03      1     2     23       0\n",
            "18263 2013-01-04      1     2     18       0\n",
            "18264 2013-01-05      1     2     34       0\n",
            "...          ...    ...   ...    ...     ...\n",
            "20081 2017-12-27      1     2     55       0\n",
            "20082 2017-12-28      1     2     50       0\n",
            "20083 2017-12-29      1     2     50       0\n",
            "20084 2017-12-30      1     2     56       0\n",
            "20085 2017-12-31      1     2     67       0\n",
            "\n",
            "[1826 rows x 5 columns]\n"
          ]
        },
        {
          "output_type": "stream",
          "name": "stderr",
          "text": [
            "/usr/local/lib/python3.10/dist-packages/statsmodels/tsa/base/tsa_model.py:836: ValueWarning: No supported index is available. Prediction results will be given with an integer index beginning at `start`.\n",
            "  return get_prediction_index(\n",
            "/usr/local/lib/python3.10/dist-packages/statsmodels/tsa/base/tsa_model.py:836: FutureWarning: No supported index is available. In the next version, calling this method in a model without a supported index will result in an exception.\n",
            "  return get_prediction_index(\n"
          ]
        },
        {
          "output_type": "stream",
          "name": "stdout",
          "text": [
            "Finished training model...\n",
            "Predicting for store 2 and item 2\n",
            "            date  store  item  sales  is_hol\n",
            "20086 2013-01-01      2     2     41       1\n",
            "20087 2013-01-02      2     2     33       0\n",
            "20088 2013-01-03      2     2     46       0\n",
            "20089 2013-01-04      2     2     50       0\n",
            "20090 2013-01-05      2     2     44       0\n",
            "...          ...    ...   ...    ...     ...\n",
            "21907 2017-12-27      2     2     74       0\n",
            "21908 2017-12-28      2     2     69       0\n",
            "21909 2017-12-29      2     2     56       0\n",
            "21910 2017-12-30      2     2     74       0\n",
            "21911 2017-12-31      2     2     79       0\n",
            "\n",
            "[1826 rows x 5 columns]\n"
          ]
        },
        {
          "output_type": "stream",
          "name": "stderr",
          "text": [
            "/usr/local/lib/python3.10/dist-packages/statsmodels/tsa/base/tsa_model.py:836: ValueWarning: No supported index is available. Prediction results will be given with an integer index beginning at `start`.\n",
            "  return get_prediction_index(\n",
            "/usr/local/lib/python3.10/dist-packages/statsmodels/tsa/base/tsa_model.py:836: FutureWarning: No supported index is available. In the next version, calling this method in a model without a supported index will result in an exception.\n",
            "  return get_prediction_index(\n"
          ]
        },
        {
          "output_type": "stream",
          "name": "stdout",
          "text": [
            "Finished training model...\n",
            "Predicting for store 3 and item 2\n",
            "            date  store  item  sales  is_hol\n",
            "21912 2013-01-01      3     2     43       1\n",
            "21913 2013-01-02      3     2     27       0\n",
            "21914 2013-01-03      3     2     38       0\n",
            "21915 2013-01-04      3     2     35       0\n",
            "21916 2013-01-05      3     2     47       0\n",
            "...          ...    ...   ...    ...     ...\n",
            "23733 2017-12-27      3     2     61       0\n",
            "23734 2017-12-28      3     2     59       0\n",
            "23735 2017-12-29      3     2     55       0\n",
            "23736 2017-12-30      3     2     68       0\n",
            "23737 2017-12-31      3     2     68       0\n",
            "\n",
            "[1826 rows x 5 columns]\n"
          ]
        },
        {
          "output_type": "stream",
          "name": "stderr",
          "text": [
            "/usr/local/lib/python3.10/dist-packages/statsmodels/tsa/base/tsa_model.py:836: ValueWarning: No supported index is available. Prediction results will be given with an integer index beginning at `start`.\n",
            "  return get_prediction_index(\n",
            "/usr/local/lib/python3.10/dist-packages/statsmodels/tsa/base/tsa_model.py:836: FutureWarning: No supported index is available. In the next version, calling this method in a model without a supported index will result in an exception.\n",
            "  return get_prediction_index(\n"
          ]
        },
        {
          "output_type": "stream",
          "name": "stdout",
          "text": [
            "Finished training model...\n",
            "Predicting for store 4 and item 2\n",
            "            date  store  item  sales  is_hol\n",
            "23738 2013-01-01      4     2     30       1\n",
            "23739 2013-01-02      4     2     28       0\n",
            "23740 2013-01-03      4     2     37       0\n",
            "23741 2013-01-04      4     2     44       0\n",
            "23742 2013-01-05      4     2     36       0\n",
            "...          ...    ...   ...    ...     ...\n",
            "25559 2017-12-27      4     2     57       0\n",
            "25560 2017-12-28      4     2     49       0\n",
            "25561 2017-12-29      4     2     46       0\n",
            "25562 2017-12-30      4     2     52       0\n",
            "25563 2017-12-31      4     2     58       0\n",
            "\n",
            "[1826 rows x 5 columns]\n"
          ]
        },
        {
          "output_type": "stream",
          "name": "stderr",
          "text": [
            "/usr/local/lib/python3.10/dist-packages/statsmodels/tsa/base/tsa_model.py:836: ValueWarning: No supported index is available. Prediction results will be given with an integer index beginning at `start`.\n",
            "  return get_prediction_index(\n",
            "/usr/local/lib/python3.10/dist-packages/statsmodels/tsa/base/tsa_model.py:836: FutureWarning: No supported index is available. In the next version, calling this method in a model without a supported index will result in an exception.\n",
            "  return get_prediction_index(\n"
          ]
        },
        {
          "output_type": "stream",
          "name": "stdout",
          "text": [
            "Finished training model...\n",
            "Predicting for store 5 and item 2\n",
            "            date  store  item  sales  is_hol\n",
            "25564 2013-01-01      5     2     26       1\n",
            "25565 2013-01-02      5     2     22       0\n",
            "25566 2013-01-03      5     2     26       0\n",
            "25567 2013-01-04      5     2     23       0\n",
            "25568 2013-01-05      5     2     22       0\n",
            "...          ...    ...   ...    ...     ...\n",
            "27385 2017-12-27      5     2     31       0\n",
            "27386 2017-12-28      5     2     33       0\n",
            "27387 2017-12-29      5     2     42       0\n",
            "27388 2017-12-30      5     2     28       0\n",
            "27389 2017-12-31      5     2     53       0\n",
            "\n",
            "[1826 rows x 5 columns]\n"
          ]
        },
        {
          "output_type": "stream",
          "name": "stderr",
          "text": [
            "/usr/local/lib/python3.10/dist-packages/statsmodels/tsa/base/tsa_model.py:836: ValueWarning: No supported index is available. Prediction results will be given with an integer index beginning at `start`.\n",
            "  return get_prediction_index(\n",
            "/usr/local/lib/python3.10/dist-packages/statsmodels/tsa/base/tsa_model.py:836: FutureWarning: No supported index is available. In the next version, calling this method in a model without a supported index will result in an exception.\n",
            "  return get_prediction_index(\n"
          ]
        },
        {
          "output_type": "stream",
          "name": "stdout",
          "text": [
            "Finished training model...\n",
            "Predicting for store 6 and item 2\n",
            "            date  store  item  sales  is_hol\n",
            "27390 2013-01-01      6     2     27       1\n",
            "27391 2013-01-02      6     2     18       0\n",
            "27392 2013-01-03      6     2     20       0\n",
            "27393 2013-01-04      6     2     24       0\n",
            "27394 2013-01-05      6     2     32       0\n",
            "...          ...    ...   ...    ...     ...\n",
            "29211 2017-12-27      6     2     41       0\n",
            "29212 2017-12-28      6     2     43       0\n",
            "29213 2017-12-29      6     2     36       0\n",
            "29214 2017-12-30      6     2     47       0\n",
            "29215 2017-12-31      6     2     51       0\n",
            "\n",
            "[1826 rows x 5 columns]\n"
          ]
        },
        {
          "output_type": "stream",
          "name": "stderr",
          "text": [
            "/usr/local/lib/python3.10/dist-packages/statsmodels/tsa/base/tsa_model.py:836: ValueWarning: No supported index is available. Prediction results will be given with an integer index beginning at `start`.\n",
            "  return get_prediction_index(\n",
            "/usr/local/lib/python3.10/dist-packages/statsmodels/tsa/base/tsa_model.py:836: FutureWarning: No supported index is available. In the next version, calling this method in a model without a supported index will result in an exception.\n",
            "  return get_prediction_index(\n"
          ]
        },
        {
          "output_type": "stream",
          "name": "stdout",
          "text": [
            "Finished training model...\n",
            "Predicting for store 7 and item 2\n",
            "            date  store  item  sales  is_hol\n",
            "29216 2013-01-01      7     2     21       1\n",
            "29217 2013-01-02      7     2     23       0\n",
            "29218 2013-01-03      7     2     13       0\n",
            "29219 2013-01-04      7     2     34       0\n",
            "29220 2013-01-05      7     2     25       0\n",
            "...          ...    ...   ...    ...     ...\n",
            "31037 2017-12-27      7     2     31       0\n",
            "31038 2017-12-28      7     2     23       0\n",
            "31039 2017-12-29      7     2     35       0\n",
            "31040 2017-12-30      7     2     32       0\n",
            "31041 2017-12-31      7     2     39       0\n",
            "\n",
            "[1826 rows x 5 columns]\n"
          ]
        },
        {
          "output_type": "stream",
          "name": "stderr",
          "text": [
            "/usr/local/lib/python3.10/dist-packages/statsmodels/tsa/base/tsa_model.py:836: ValueWarning: No supported index is available. Prediction results will be given with an integer index beginning at `start`.\n",
            "  return get_prediction_index(\n",
            "/usr/local/lib/python3.10/dist-packages/statsmodels/tsa/base/tsa_model.py:836: FutureWarning: No supported index is available. In the next version, calling this method in a model without a supported index will result in an exception.\n",
            "  return get_prediction_index(\n"
          ]
        },
        {
          "output_type": "stream",
          "name": "stdout",
          "text": [
            "Finished training model...\n",
            "Predicting for store 8 and item 2\n",
            "            date  store  item  sales  is_hol\n",
            "31042 2013-01-01      8     2     39       1\n",
            "31043 2013-01-02      8     2     25       0\n",
            "31044 2013-01-03      8     2     34       0\n",
            "31045 2013-01-04      8     2     39       0\n",
            "31046 2013-01-05      8     2     45       0\n",
            "...          ...    ...   ...    ...     ...\n",
            "32863 2017-12-27      8     2     61       0\n",
            "32864 2017-12-28      8     2     67       0\n",
            "32865 2017-12-29      8     2     80       0\n",
            "32866 2017-12-30      8     2     68       0\n",
            "32867 2017-12-31      8     2     96       0\n",
            "\n",
            "[1826 rows x 5 columns]\n"
          ]
        },
        {
          "output_type": "stream",
          "name": "stderr",
          "text": [
            "/usr/local/lib/python3.10/dist-packages/statsmodels/tsa/base/tsa_model.py:836: ValueWarning: No supported index is available. Prediction results will be given with an integer index beginning at `start`.\n",
            "  return get_prediction_index(\n",
            "/usr/local/lib/python3.10/dist-packages/statsmodels/tsa/base/tsa_model.py:836: FutureWarning: No supported index is available. In the next version, calling this method in a model without a supported index will result in an exception.\n",
            "  return get_prediction_index(\n"
          ]
        },
        {
          "output_type": "stream",
          "name": "stdout",
          "text": [
            "Finished training model...\n",
            "Predicting for store 9 and item 2\n",
            "            date  store  item  sales  is_hol\n",
            "32868 2013-01-01      9     2     31       1\n",
            "32869 2013-01-02      9     2     26       0\n",
            "32870 2013-01-03      9     2     33       0\n",
            "32871 2013-01-04      9     2     42       0\n",
            "32872 2013-01-05      9     2     50       0\n",
            "...          ...    ...   ...    ...     ...\n",
            "34689 2017-12-27      9     2     46       0\n",
            "34690 2017-12-28      9     2     67       0\n",
            "34691 2017-12-29      9     2     62       0\n",
            "34692 2017-12-30      9     2     57       0\n",
            "34693 2017-12-31      9     2     63       0\n",
            "\n",
            "[1826 rows x 5 columns]\n"
          ]
        },
        {
          "output_type": "stream",
          "name": "stderr",
          "text": [
            "/usr/local/lib/python3.10/dist-packages/statsmodels/tsa/base/tsa_model.py:836: ValueWarning: No supported index is available. Prediction results will be given with an integer index beginning at `start`.\n",
            "  return get_prediction_index(\n",
            "/usr/local/lib/python3.10/dist-packages/statsmodels/tsa/base/tsa_model.py:836: FutureWarning: No supported index is available. In the next version, calling this method in a model without a supported index will result in an exception.\n",
            "  return get_prediction_index(\n"
          ]
        },
        {
          "output_type": "stream",
          "name": "stdout",
          "text": [
            "Finished training model...\n",
            "Predicting for store 10 and item 2\n",
            "            date  store  item  sales  is_hol\n",
            "34694 2013-01-01     10     2     36       1\n",
            "34695 2013-01-02     10     2     34       0\n",
            "34696 2013-01-03     10     2     34       0\n",
            "34697 2013-01-04     10     2     50       0\n",
            "34698 2013-01-05     10     2     42       0\n",
            "...          ...    ...   ...    ...     ...\n",
            "36515 2017-12-27     10     2     43       0\n",
            "36516 2017-12-28     10     2     35       0\n",
            "36517 2017-12-29     10     2     53       0\n",
            "36518 2017-12-30     10     2     56       0\n",
            "36519 2017-12-31     10     2     60       0\n",
            "\n",
            "[1826 rows x 5 columns]\n"
          ]
        },
        {
          "output_type": "stream",
          "name": "stderr",
          "text": [
            "/usr/local/lib/python3.10/dist-packages/statsmodels/tsa/base/tsa_model.py:836: ValueWarning: No supported index is available. Prediction results will be given with an integer index beginning at `start`.\n",
            "  return get_prediction_index(\n",
            "/usr/local/lib/python3.10/dist-packages/statsmodels/tsa/base/tsa_model.py:836: FutureWarning: No supported index is available. In the next version, calling this method in a model without a supported index will result in an exception.\n",
            "  return get_prediction_index(\n"
          ]
        },
        {
          "output_type": "stream",
          "name": "stdout",
          "text": [
            "Finished training model...\n",
            "Predicting for store 1 and item 3\n",
            "            date  store  item  sales  is_hol\n",
            "36520 2013-01-01      1     3     15       1\n",
            "36521 2013-01-02      1     3     30       0\n",
            "36522 2013-01-03      1     3     14       0\n",
            "36523 2013-01-04      1     3     10       0\n",
            "36524 2013-01-05      1     3     23       0\n",
            "...          ...    ...   ...    ...     ...\n",
            "38341 2017-12-27      1     3     26       0\n",
            "38342 2017-12-28      1     3     21       0\n",
            "38343 2017-12-29      1     3     38       0\n",
            "38344 2017-12-30      1     3     27       0\n",
            "38345 2017-12-31      1     3     29       0\n",
            "\n",
            "[1826 rows x 5 columns]\n"
          ]
        },
        {
          "output_type": "stream",
          "name": "stderr",
          "text": [
            "/usr/local/lib/python3.10/dist-packages/statsmodels/tsa/base/tsa_model.py:836: ValueWarning: No supported index is available. Prediction results will be given with an integer index beginning at `start`.\n",
            "  return get_prediction_index(\n",
            "/usr/local/lib/python3.10/dist-packages/statsmodels/tsa/base/tsa_model.py:836: FutureWarning: No supported index is available. In the next version, calling this method in a model without a supported index will result in an exception.\n",
            "  return get_prediction_index(\n"
          ]
        },
        {
          "output_type": "stream",
          "name": "stdout",
          "text": [
            "Finished training model...\n",
            "Predicting for store 2 and item 3\n",
            "            date  store  item  sales  is_hol\n",
            "38346 2013-01-01      2     3     19       1\n",
            "38347 2013-01-02      2     3     32       0\n",
            "38348 2013-01-03      2     3     26       0\n",
            "38349 2013-01-04      2     3     34       0\n",
            "38350 2013-01-05      2     3     25       0\n",
            "...          ...    ...   ...    ...     ...\n",
            "40167 2017-12-27      2     3     36       0\n",
            "40168 2017-12-28      2     3     40       0\n",
            "40169 2017-12-29      2     3     33       0\n",
            "40170 2017-12-30      2     3     35       0\n",
            "40171 2017-12-31      2     3     54       0\n",
            "\n",
            "[1826 rows x 5 columns]\n"
          ]
        },
        {
          "output_type": "stream",
          "name": "stderr",
          "text": [
            "/usr/local/lib/python3.10/dist-packages/statsmodels/tsa/base/tsa_model.py:836: ValueWarning: No supported index is available. Prediction results will be given with an integer index beginning at `start`.\n",
            "  return get_prediction_index(\n",
            "/usr/local/lib/python3.10/dist-packages/statsmodels/tsa/base/tsa_model.py:836: FutureWarning: No supported index is available. In the next version, calling this method in a model without a supported index will result in an exception.\n",
            "  return get_prediction_index(\n"
          ]
        },
        {
          "output_type": "stream",
          "name": "stdout",
          "text": [
            "Finished training model...\n",
            "Predicting for store 3 and item 3\n",
            "            date  store  item  sales  is_hol\n",
            "40172 2013-01-01      3     3     26       1\n",
            "40173 2013-01-02      3     3     16       0\n",
            "40174 2013-01-03      3     3     17       0\n",
            "40175 2013-01-04      3     3     25       0\n",
            "40176 2013-01-05      3     3     34       0\n",
            "...          ...    ...   ...    ...     ...\n",
            "41993 2017-12-27      3     3     40       0\n",
            "41994 2017-12-28      3     3     30       0\n",
            "41995 2017-12-29      3     3     32       0\n",
            "41996 2017-12-30      3     3     30       0\n",
            "41997 2017-12-31      3     3     35       0\n",
            "\n",
            "[1826 rows x 5 columns]\n"
          ]
        },
        {
          "output_type": "stream",
          "name": "stderr",
          "text": [
            "/usr/local/lib/python3.10/dist-packages/statsmodels/tsa/base/tsa_model.py:836: ValueWarning: No supported index is available. Prediction results will be given with an integer index beginning at `start`.\n",
            "  return get_prediction_index(\n",
            "/usr/local/lib/python3.10/dist-packages/statsmodels/tsa/base/tsa_model.py:836: FutureWarning: No supported index is available. In the next version, calling this method in a model without a supported index will result in an exception.\n",
            "  return get_prediction_index(\n"
          ]
        },
        {
          "output_type": "stream",
          "name": "stdout",
          "text": [
            "Finished training model...\n",
            "Predicting for store 4 and item 3\n",
            "            date  store  item  sales  is_hol\n",
            "41998 2013-01-01      4     3     17       1\n",
            "41999 2013-01-02      4     3     23       0\n",
            "42000 2013-01-03      4     3     27       0\n",
            "42001 2013-01-04      4     3     27       0\n",
            "42002 2013-01-05      4     3     19       0\n",
            "...          ...    ...   ...    ...     ...\n",
            "43819 2017-12-27      4     3     31       0\n",
            "43820 2017-12-28      4     3     33       0\n",
            "43821 2017-12-29      4     3     32       0\n",
            "43822 2017-12-30      4     3     45       0\n",
            "43823 2017-12-31      4     3     46       0\n",
            "\n",
            "[1826 rows x 5 columns]\n"
          ]
        },
        {
          "output_type": "stream",
          "name": "stderr",
          "text": [
            "/usr/local/lib/python3.10/dist-packages/statsmodels/tsa/base/tsa_model.py:836: ValueWarning: No supported index is available. Prediction results will be given with an integer index beginning at `start`.\n",
            "  return get_prediction_index(\n",
            "/usr/local/lib/python3.10/dist-packages/statsmodels/tsa/base/tsa_model.py:836: FutureWarning: No supported index is available. In the next version, calling this method in a model without a supported index will result in an exception.\n",
            "  return get_prediction_index(\n"
          ]
        },
        {
          "output_type": "stream",
          "name": "stdout",
          "text": [
            "Finished training model...\n",
            "Predicting for store 5 and item 3\n",
            "            date  store  item  sales  is_hol\n",
            "43824 2013-01-01      5     3     14       1\n",
            "43825 2013-01-02      5     3     16       0\n",
            "43826 2013-01-03      5     3     15       0\n",
            "43827 2013-01-04      5     3     15       0\n",
            "43828 2013-01-05      5     3     10       0\n",
            "...          ...    ...   ...    ...     ...\n",
            "45645 2017-12-27      5     3     21       0\n",
            "45646 2017-12-28      5     3     26       0\n",
            "45647 2017-12-29      5     3     28       0\n",
            "45648 2017-12-30      5     3     28       0\n",
            "45649 2017-12-31      5     3     35       0\n",
            "\n",
            "[1826 rows x 5 columns]\n"
          ]
        },
        {
          "output_type": "stream",
          "name": "stderr",
          "text": [
            "/usr/local/lib/python3.10/dist-packages/statsmodels/tsa/base/tsa_model.py:836: ValueWarning: No supported index is available. Prediction results will be given with an integer index beginning at `start`.\n",
            "  return get_prediction_index(\n",
            "/usr/local/lib/python3.10/dist-packages/statsmodels/tsa/base/tsa_model.py:836: FutureWarning: No supported index is available. In the next version, calling this method in a model without a supported index will result in an exception.\n",
            "  return get_prediction_index(\n"
          ]
        },
        {
          "output_type": "stream",
          "name": "stdout",
          "text": [
            "Finished training model...\n",
            "Predicting for store 6 and item 3\n",
            "            date  store  item  sales  is_hol\n",
            "45650 2013-01-01      6     3     13       1\n",
            "45651 2013-01-02      6     3     14       0\n",
            "45652 2013-01-03      6     3     13       0\n",
            "45653 2013-01-04      6     3     17       0\n",
            "45654 2013-01-05      6     3     21       0\n",
            "...          ...    ...   ...    ...     ...\n",
            "47471 2017-12-27      6     3     21       0\n",
            "47472 2017-12-28      6     3     32       0\n",
            "47473 2017-12-29      6     3     21       0\n",
            "47474 2017-12-30      6     3     34       0\n",
            "47475 2017-12-31      6     3     34       0\n",
            "\n",
            "[1826 rows x 5 columns]\n"
          ]
        },
        {
          "output_type": "stream",
          "name": "stderr",
          "text": [
            "/usr/local/lib/python3.10/dist-packages/statsmodels/tsa/base/tsa_model.py:836: ValueWarning: No supported index is available. Prediction results will be given with an integer index beginning at `start`.\n",
            "  return get_prediction_index(\n",
            "/usr/local/lib/python3.10/dist-packages/statsmodels/tsa/base/tsa_model.py:836: FutureWarning: No supported index is available. In the next version, calling this method in a model without a supported index will result in an exception.\n",
            "  return get_prediction_index(\n"
          ]
        },
        {
          "output_type": "stream",
          "name": "stdout",
          "text": [
            "Finished training model...\n",
            "Predicting for store 7 and item 3\n",
            "            date  store  item  sales  is_hol\n",
            "47476 2013-01-01      7     3      9       1\n",
            "47477 2013-01-02      7     3     11       0\n",
            "47478 2013-01-03      7     3     14       0\n",
            "47479 2013-01-04      7     3     15       0\n",
            "47480 2013-01-05      7     3     14       0\n",
            "...          ...    ...   ...    ...     ...\n",
            "49297 2017-12-27      7     3     18       0\n",
            "49298 2017-12-28      7     3     15       0\n",
            "49299 2017-12-29      7     3     27       0\n",
            "49300 2017-12-30      7     3     27       0\n",
            "49301 2017-12-31      7     3     31       0\n",
            "\n",
            "[1826 rows x 5 columns]\n"
          ]
        },
        {
          "output_type": "stream",
          "name": "stderr",
          "text": [
            "/usr/local/lib/python3.10/dist-packages/statsmodels/tsa/base/tsa_model.py:836: ValueWarning: No supported index is available. Prediction results will be given with an integer index beginning at `start`.\n",
            "  return get_prediction_index(\n",
            "/usr/local/lib/python3.10/dist-packages/statsmodels/tsa/base/tsa_model.py:836: FutureWarning: No supported index is available. In the next version, calling this method in a model without a supported index will result in an exception.\n",
            "  return get_prediction_index(\n"
          ]
        },
        {
          "output_type": "stream",
          "name": "stdout",
          "text": [
            "Finished training model...\n",
            "Predicting for store 8 and item 3\n",
            "            date  store  item  sales  is_hol\n",
            "49302 2013-01-01      8     3     21       1\n",
            "49303 2013-01-02      8     3     21       0\n",
            "49304 2013-01-03      8     3     21       0\n",
            "49305 2013-01-04      8     3     19       0\n",
            "49306 2013-01-05      8     3     24       0\n",
            "...          ...    ...   ...    ...     ...\n",
            "51123 2017-12-27      8     3     28       0\n",
            "51124 2017-12-28      8     3     36       0\n",
            "51125 2017-12-29      8     3     47       0\n",
            "51126 2017-12-30      8     3     49       0\n",
            "51127 2017-12-31      8     3     59       0\n",
            "\n",
            "[1826 rows x 5 columns]\n"
          ]
        },
        {
          "output_type": "stream",
          "name": "stderr",
          "text": [
            "/usr/local/lib/python3.10/dist-packages/statsmodels/tsa/base/tsa_model.py:836: ValueWarning: No supported index is available. Prediction results will be given with an integer index beginning at `start`.\n",
            "  return get_prediction_index(\n",
            "/usr/local/lib/python3.10/dist-packages/statsmodels/tsa/base/tsa_model.py:836: FutureWarning: No supported index is available. In the next version, calling this method in a model without a supported index will result in an exception.\n",
            "  return get_prediction_index(\n"
          ]
        },
        {
          "output_type": "stream",
          "name": "stdout",
          "text": [
            "Finished training model...\n",
            "Predicting for store 9 and item 3\n",
            "            date  store  item  sales  is_hol\n",
            "51128 2013-01-01      9     3     20       1\n",
            "51129 2013-01-02      9     3     22       0\n",
            "51130 2013-01-03      9     3     20       0\n",
            "51131 2013-01-04      9     3     25       0\n",
            "51132 2013-01-05      9     3     25       0\n",
            "...          ...    ...   ...    ...     ...\n",
            "52949 2017-12-27      9     3     29       0\n",
            "52950 2017-12-28      9     3     32       0\n",
            "52951 2017-12-29      9     3     35       0\n",
            "52952 2017-12-30      9     3     33       0\n",
            "52953 2017-12-31      9     3     40       0\n",
            "\n",
            "[1826 rows x 5 columns]\n"
          ]
        },
        {
          "output_type": "stream",
          "name": "stderr",
          "text": [
            "/usr/local/lib/python3.10/dist-packages/statsmodels/tsa/base/tsa_model.py:836: ValueWarning: No supported index is available. Prediction results will be given with an integer index beginning at `start`.\n",
            "  return get_prediction_index(\n",
            "/usr/local/lib/python3.10/dist-packages/statsmodels/tsa/base/tsa_model.py:836: FutureWarning: No supported index is available. In the next version, calling this method in a model without a supported index will result in an exception.\n",
            "  return get_prediction_index(\n"
          ]
        },
        {
          "output_type": "stream",
          "name": "stdout",
          "text": [
            "Finished training model...\n",
            "Predicting for store 10 and item 3\n",
            "            date  store  item  sales  is_hol\n",
            "52954 2013-01-01     10     3     18       1\n",
            "52955 2013-01-02     10     3     28       0\n",
            "52956 2013-01-03     10     3     26       0\n",
            "52957 2013-01-04     10     3     31       0\n",
            "52958 2013-01-05     10     3     22       0\n",
            "...          ...    ...   ...    ...     ...\n",
            "54775 2017-12-27     10     3     32       0\n",
            "54776 2017-12-28     10     3     33       0\n",
            "54777 2017-12-29     10     3     39       0\n",
            "54778 2017-12-30     10     3     34       0\n",
            "54779 2017-12-31     10     3     39       0\n",
            "\n",
            "[1826 rows x 5 columns]\n"
          ]
        },
        {
          "output_type": "stream",
          "name": "stderr",
          "text": [
            "/usr/local/lib/python3.10/dist-packages/statsmodels/tsa/base/tsa_model.py:836: ValueWarning: No supported index is available. Prediction results will be given with an integer index beginning at `start`.\n",
            "  return get_prediction_index(\n",
            "/usr/local/lib/python3.10/dist-packages/statsmodels/tsa/base/tsa_model.py:836: FutureWarning: No supported index is available. In the next version, calling this method in a model without a supported index will result in an exception.\n",
            "  return get_prediction_index(\n"
          ]
        },
        {
          "output_type": "stream",
          "name": "stdout",
          "text": [
            "Finished training model...\n",
            "Predicting for store 1 and item 4\n",
            "            date  store  item  sales  is_hol\n",
            "54780 2013-01-01      1     4     10       1\n",
            "54781 2013-01-02      1     4     11       0\n",
            "54782 2013-01-03      1     4      8       0\n",
            "54783 2013-01-04      1     4     19       0\n",
            "54784 2013-01-05      1     4     12       0\n",
            "...          ...    ...   ...    ...     ...\n",
            "56601 2017-12-27      1     4     16       0\n",
            "56602 2017-12-28      1     4     20       0\n",
            "56603 2017-12-29      1     4     25       0\n",
            "56604 2017-12-30      1     4     19       0\n",
            "56605 2017-12-31      1     4     15       0\n",
            "\n",
            "[1826 rows x 5 columns]\n"
          ]
        },
        {
          "output_type": "stream",
          "name": "stderr",
          "text": [
            "/usr/local/lib/python3.10/dist-packages/statsmodels/tsa/base/tsa_model.py:836: ValueWarning: No supported index is available. Prediction results will be given with an integer index beginning at `start`.\n",
            "  return get_prediction_index(\n",
            "/usr/local/lib/python3.10/dist-packages/statsmodels/tsa/base/tsa_model.py:836: FutureWarning: No supported index is available. In the next version, calling this method in a model without a supported index will result in an exception.\n",
            "  return get_prediction_index(\n"
          ]
        },
        {
          "output_type": "stream",
          "name": "stdout",
          "text": [
            "Finished training model...\n",
            "Predicting for store 2 and item 4\n",
            "            date  store  item  sales  is_hol\n",
            "56606 2013-01-01      2     4     21       1\n",
            "56607 2013-01-02      2     4     14       0\n",
            "56608 2013-01-03      2     4     12       0\n",
            "56609 2013-01-04      2     4     17       0\n",
            "56610 2013-01-05      2     4     14       0\n",
            "...          ...    ...   ...    ...     ...\n",
            "58427 2017-12-27      2     4     26       0\n",
            "58428 2017-12-28      2     4     23       0\n",
            "58429 2017-12-29      2     4     21       0\n",
            "58430 2017-12-30      2     4     35       0\n",
            "58431 2017-12-31      2     4     29       0\n",
            "\n",
            "[1826 rows x 5 columns]\n"
          ]
        },
        {
          "output_type": "stream",
          "name": "stderr",
          "text": [
            "/usr/local/lib/python3.10/dist-packages/statsmodels/tsa/base/tsa_model.py:836: ValueWarning: No supported index is available. Prediction results will be given with an integer index beginning at `start`.\n",
            "  return get_prediction_index(\n",
            "/usr/local/lib/python3.10/dist-packages/statsmodels/tsa/base/tsa_model.py:836: FutureWarning: No supported index is available. In the next version, calling this method in a model without a supported index will result in an exception.\n",
            "  return get_prediction_index(\n"
          ]
        },
        {
          "output_type": "stream",
          "name": "stdout",
          "text": [
            "Finished training model...\n",
            "Predicting for store 3 and item 4\n",
            "            date  store  item  sales  is_hol\n",
            "58432 2013-01-01      3     4      9       1\n",
            "58433 2013-01-02      3     4     15       0\n",
            "58434 2013-01-03      3     4      9       0\n",
            "58435 2013-01-04      3     4     16       0\n",
            "58436 2013-01-05      3     4     16       0\n",
            "...          ...    ...   ...    ...     ...\n",
            "60253 2017-12-27      3     4     22       0\n",
            "60254 2017-12-28      3     4     18       0\n",
            "60255 2017-12-29      3     4     25       0\n",
            "60256 2017-12-30      3     4     20       0\n",
            "60257 2017-12-31      3     4     30       0\n",
            "\n",
            "[1826 rows x 5 columns]\n"
          ]
        },
        {
          "output_type": "stream",
          "name": "stderr",
          "text": [
            "/usr/local/lib/python3.10/dist-packages/statsmodels/tsa/base/tsa_model.py:836: ValueWarning: No supported index is available. Prediction results will be given with an integer index beginning at `start`.\n",
            "  return get_prediction_index(\n",
            "/usr/local/lib/python3.10/dist-packages/statsmodels/tsa/base/tsa_model.py:836: FutureWarning: No supported index is available. In the next version, calling this method in a model without a supported index will result in an exception.\n",
            "  return get_prediction_index(\n"
          ]
        },
        {
          "output_type": "stream",
          "name": "stdout",
          "text": [
            "Finished training model...\n",
            "Predicting for store 4 and item 4\n",
            "            date  store  item  sales  is_hol\n",
            "60258 2013-01-01      4     4     13       1\n",
            "60259 2013-01-02      4     4     16       0\n",
            "60260 2013-01-03      4     4     12       0\n",
            "60261 2013-01-04      4     4     19       0\n",
            "60262 2013-01-05      4     4     13       0\n",
            "...          ...    ...   ...    ...     ...\n",
            "62079 2017-12-27      4     4     25       0\n",
            "62080 2017-12-28      4     4     24       0\n",
            "62081 2017-12-29      4     4     29       0\n",
            "62082 2017-12-30      4     4     25       0\n",
            "62083 2017-12-31      4     4     30       0\n",
            "\n",
            "[1826 rows x 5 columns]\n"
          ]
        },
        {
          "output_type": "stream",
          "name": "stderr",
          "text": [
            "/usr/local/lib/python3.10/dist-packages/statsmodels/tsa/base/tsa_model.py:836: ValueWarning: No supported index is available. Prediction results will be given with an integer index beginning at `start`.\n",
            "  return get_prediction_index(\n",
            "/usr/local/lib/python3.10/dist-packages/statsmodels/tsa/base/tsa_model.py:836: FutureWarning: No supported index is available. In the next version, calling this method in a model without a supported index will result in an exception.\n",
            "  return get_prediction_index(\n"
          ]
        },
        {
          "output_type": "stream",
          "name": "stdout",
          "text": [
            "Finished training model...\n",
            "Predicting for store 5 and item 4\n",
            "            date  store  item  sales  is_hol\n",
            "62084 2013-01-01      5     4      4       1\n",
            "62085 2013-01-02      5     4      5       0\n",
            "62086 2013-01-03      5     4      8       0\n",
            "62087 2013-01-04      5     4      7       0\n",
            "62088 2013-01-05      5     4      7       0\n",
            "...          ...    ...   ...    ...     ...\n",
            "63905 2017-12-27      5     4     12       0\n",
            "63906 2017-12-28      5     4     15       0\n",
            "63907 2017-12-29      5     4     12       0\n",
            "63908 2017-12-30      5     4     14       0\n",
            "63909 2017-12-31      5     4     15       0\n",
            "\n",
            "[1826 rows x 5 columns]\n"
          ]
        },
        {
          "output_type": "stream",
          "name": "stderr",
          "text": [
            "/usr/local/lib/python3.10/dist-packages/statsmodels/tsa/base/tsa_model.py:836: ValueWarning: No supported index is available. Prediction results will be given with an integer index beginning at `start`.\n",
            "  return get_prediction_index(\n",
            "/usr/local/lib/python3.10/dist-packages/statsmodels/tsa/base/tsa_model.py:836: FutureWarning: No supported index is available. In the next version, calling this method in a model without a supported index will result in an exception.\n",
            "  return get_prediction_index(\n"
          ]
        },
        {
          "output_type": "stream",
          "name": "stdout",
          "text": [
            "Finished training model...\n",
            "Predicting for store 6 and item 4\n",
            "            date  store  item  sales  is_hol\n",
            "63910 2013-01-01      6     4      7       1\n",
            "63911 2013-01-02      6     4      7       0\n",
            "63912 2013-01-03      6     4     17       0\n",
            "63913 2013-01-04      6     4     10       0\n",
            "63914 2013-01-05      6     4     14       0\n",
            "...          ...    ...   ...    ...     ...\n",
            "65731 2017-12-27      6     4     10       0\n",
            "65732 2017-12-28      6     4     11       0\n",
            "65733 2017-12-29      6     4     10       0\n",
            "65734 2017-12-30      6     4     15       0\n",
            "65735 2017-12-31      6     4     10       0\n",
            "\n",
            "[1826 rows x 5 columns]\n"
          ]
        },
        {
          "output_type": "stream",
          "name": "stderr",
          "text": [
            "/usr/local/lib/python3.10/dist-packages/statsmodels/tsa/base/tsa_model.py:836: ValueWarning: No supported index is available. Prediction results will be given with an integer index beginning at `start`.\n",
            "  return get_prediction_index(\n",
            "/usr/local/lib/python3.10/dist-packages/statsmodels/tsa/base/tsa_model.py:836: FutureWarning: No supported index is available. In the next version, calling this method in a model without a supported index will result in an exception.\n",
            "  return get_prediction_index(\n"
          ]
        },
        {
          "output_type": "stream",
          "name": "stdout",
          "text": [
            "Finished training model...\n",
            "Predicting for store 7 and item 4\n",
            "            date  store  item  sales  is_hol\n",
            "65736 2013-01-01      7     4      6       1\n",
            "65737 2013-01-02      7     4      8       0\n",
            "65738 2013-01-03      7     4      9       0\n",
            "65739 2013-01-04      7     4      2       0\n",
            "65740 2013-01-05      7     4     15       0\n",
            "...          ...    ...   ...    ...     ...\n",
            "67557 2017-12-27      7     4      6       0\n",
            "67558 2017-12-28      7     4     10       0\n",
            "67559 2017-12-29      7     4     11       0\n",
            "67560 2017-12-30      7     4     20       0\n",
            "67561 2017-12-31      7     4     17       0\n",
            "\n",
            "[1826 rows x 5 columns]\n"
          ]
        },
        {
          "output_type": "stream",
          "name": "stderr",
          "text": [
            "/usr/local/lib/python3.10/dist-packages/statsmodels/tsa/base/tsa_model.py:836: ValueWarning: No supported index is available. Prediction results will be given with an integer index beginning at `start`.\n",
            "  return get_prediction_index(\n",
            "/usr/local/lib/python3.10/dist-packages/statsmodels/tsa/base/tsa_model.py:836: FutureWarning: No supported index is available. In the next version, calling this method in a model without a supported index will result in an exception.\n",
            "  return get_prediction_index(\n"
          ]
        },
        {
          "output_type": "stream",
          "name": "stdout",
          "text": [
            "Finished training model...\n",
            "Predicting for store 8 and item 4\n",
            "            date  store  item  sales  is_hol\n",
            "67562 2013-01-01      8     4     13       1\n",
            "67563 2013-01-02      8     4     10       0\n",
            "67564 2013-01-03      8     4     16       0\n",
            "67565 2013-01-04      8     4     13       0\n",
            "67566 2013-01-05      8     4     18       0\n",
            "...          ...    ...   ...    ...     ...\n",
            "69383 2017-12-27      8     4     16       0\n",
            "69384 2017-12-28      8     4     20       0\n",
            "69385 2017-12-29      8     4     20       0\n",
            "69386 2017-12-30      8     4     24       0\n",
            "69387 2017-12-31      8     4     26       0\n",
            "\n",
            "[1826 rows x 5 columns]\n"
          ]
        },
        {
          "output_type": "stream",
          "name": "stderr",
          "text": [
            "/usr/local/lib/python3.10/dist-packages/statsmodels/tsa/base/tsa_model.py:836: ValueWarning: No supported index is available. Prediction results will be given with an integer index beginning at `start`.\n",
            "  return get_prediction_index(\n",
            "/usr/local/lib/python3.10/dist-packages/statsmodels/tsa/base/tsa_model.py:836: FutureWarning: No supported index is available. In the next version, calling this method in a model without a supported index will result in an exception.\n",
            "  return get_prediction_index(\n"
          ]
        },
        {
          "output_type": "stream",
          "name": "stdout",
          "text": [
            "Finished training model...\n",
            "Predicting for store 9 and item 4\n",
            "            date  store  item  sales  is_hol\n",
            "69388 2013-01-01      9     4     10       1\n",
            "69389 2013-01-02      9     4     15       0\n",
            "69390 2013-01-03      9     4      7       0\n",
            "69391 2013-01-04      9     4     19       0\n",
            "69392 2013-01-05      9     4     16       0\n",
            "...          ...    ...   ...    ...     ...\n",
            "71209 2017-12-27      9     4     23       0\n",
            "71210 2017-12-28      9     4     20       0\n",
            "71211 2017-12-29      9     4     17       0\n",
            "71212 2017-12-30      9     4     24       0\n",
            "71213 2017-12-31      9     4     21       0\n",
            "\n",
            "[1826 rows x 5 columns]\n"
          ]
        },
        {
          "output_type": "stream",
          "name": "stderr",
          "text": [
            "/usr/local/lib/python3.10/dist-packages/statsmodels/tsa/base/tsa_model.py:836: ValueWarning: No supported index is available. Prediction results will be given with an integer index beginning at `start`.\n",
            "  return get_prediction_index(\n",
            "/usr/local/lib/python3.10/dist-packages/statsmodels/tsa/base/tsa_model.py:836: FutureWarning: No supported index is available. In the next version, calling this method in a model without a supported index will result in an exception.\n",
            "  return get_prediction_index(\n"
          ]
        },
        {
          "output_type": "stream",
          "name": "stdout",
          "text": [
            "Finished training model...\n",
            "Predicting for store 10 and item 4\n",
            "            date  store  item  sales  is_hol\n",
            "71214 2013-01-01     10     4      9       1\n",
            "71215 2013-01-02     10     4      9       0\n",
            "71216 2013-01-03     10     4     14       0\n",
            "71217 2013-01-04     10     4     16       0\n",
            "71218 2013-01-05     10     4     19       0\n",
            "...          ...    ...   ...    ...     ...\n",
            "73035 2017-12-27     10     4     16       0\n",
            "73036 2017-12-28     10     4     29       0\n",
            "73037 2017-12-29     10     4     22       0\n",
            "73038 2017-12-30     10     4     15       0\n",
            "73039 2017-12-31     10     4     35       0\n",
            "\n",
            "[1826 rows x 5 columns]\n"
          ]
        },
        {
          "output_type": "stream",
          "name": "stderr",
          "text": [
            "/usr/local/lib/python3.10/dist-packages/statsmodels/tsa/base/tsa_model.py:836: ValueWarning: No supported index is available. Prediction results will be given with an integer index beginning at `start`.\n",
            "  return get_prediction_index(\n",
            "/usr/local/lib/python3.10/dist-packages/statsmodels/tsa/base/tsa_model.py:836: FutureWarning: No supported index is available. In the next version, calling this method in a model without a supported index will result in an exception.\n",
            "  return get_prediction_index(\n"
          ]
        },
        {
          "output_type": "stream",
          "name": "stdout",
          "text": [
            "Finished training model...\n",
            "Predicting for store 1 and item 5\n",
            "            date  store  item  sales  is_hol\n",
            "73040 2013-01-01      1     5     11       1\n",
            "73041 2013-01-02      1     5      6       0\n",
            "73042 2013-01-03      1     5      8       0\n",
            "73043 2013-01-04      1     5      9       0\n",
            "73044 2013-01-05      1     5      8       0\n",
            "...          ...    ...   ...    ...     ...\n",
            "74861 2017-12-27      1     5      6       0\n",
            "74862 2017-12-28      1     5     15       0\n",
            "74863 2017-12-29      1     5     17       0\n",
            "74864 2017-12-30      1     5     22       0\n",
            "74865 2017-12-31      1     5     17       0\n",
            "\n",
            "[1826 rows x 5 columns]\n"
          ]
        },
        {
          "output_type": "stream",
          "name": "stderr",
          "text": [
            "/usr/local/lib/python3.10/dist-packages/statsmodels/tsa/base/tsa_model.py:836: ValueWarning: No supported index is available. Prediction results will be given with an integer index beginning at `start`.\n",
            "  return get_prediction_index(\n",
            "/usr/local/lib/python3.10/dist-packages/statsmodels/tsa/base/tsa_model.py:836: FutureWarning: No supported index is available. In the next version, calling this method in a model without a supported index will result in an exception.\n",
            "  return get_prediction_index(\n"
          ]
        },
        {
          "output_type": "stream",
          "name": "stdout",
          "text": [
            "Finished training model...\n",
            "Predicting for store 2 and item 5\n",
            "            date  store  item  sales  is_hol\n",
            "74866 2013-01-01      2     5      4       1\n",
            "74867 2013-01-02      2     5      6       0\n",
            "74868 2013-01-03      2     5     12       0\n",
            "74869 2013-01-04      2     5     16       0\n",
            "74870 2013-01-05      2     5      9       0\n",
            "...          ...    ...   ...    ...     ...\n",
            "76687 2017-12-27      2     5     20       0\n",
            "76688 2017-12-28      2     5     18       0\n",
            "76689 2017-12-29      2     5     25       0\n",
            "76690 2017-12-30      2     5     20       0\n",
            "76691 2017-12-31      2     5     22       0\n",
            "\n",
            "[1826 rows x 5 columns]\n"
          ]
        },
        {
          "output_type": "stream",
          "name": "stderr",
          "text": [
            "/usr/local/lib/python3.10/dist-packages/statsmodels/tsa/base/tsa_model.py:836: ValueWarning: No supported index is available. Prediction results will be given with an integer index beginning at `start`.\n",
            "  return get_prediction_index(\n",
            "/usr/local/lib/python3.10/dist-packages/statsmodels/tsa/base/tsa_model.py:836: FutureWarning: No supported index is available. In the next version, calling this method in a model without a supported index will result in an exception.\n",
            "  return get_prediction_index(\n"
          ]
        },
        {
          "output_type": "stream",
          "name": "stdout",
          "text": [
            "Finished training model...\n",
            "Predicting for store 3 and item 5\n",
            "            date  store  item  sales  is_hol\n",
            "76692 2013-01-01      3     5     13       1\n",
            "76693 2013-01-02      3     5      9       0\n",
            "76694 2013-01-03      3     5     10       0\n",
            "76695 2013-01-04      3     5     20       0\n",
            "76696 2013-01-05      3     5     13       0\n",
            "...          ...    ...   ...    ...     ...\n",
            "78513 2017-12-27      3     5     17       0\n",
            "78514 2017-12-28      3     5     21       0\n",
            "78515 2017-12-29      3     5     24       0\n",
            "78516 2017-12-30      3     5     15       0\n",
            "78517 2017-12-31      3     5     21       0\n",
            "\n",
            "[1826 rows x 5 columns]\n"
          ]
        },
        {
          "output_type": "stream",
          "name": "stderr",
          "text": [
            "/usr/local/lib/python3.10/dist-packages/statsmodels/tsa/base/tsa_model.py:836: ValueWarning: No supported index is available. Prediction results will be given with an integer index beginning at `start`.\n",
            "  return get_prediction_index(\n",
            "/usr/local/lib/python3.10/dist-packages/statsmodels/tsa/base/tsa_model.py:836: FutureWarning: No supported index is available. In the next version, calling this method in a model without a supported index will result in an exception.\n",
            "  return get_prediction_index(\n"
          ]
        },
        {
          "output_type": "stream",
          "name": "stdout",
          "text": [
            "Finished training model...\n",
            "Predicting for store 4 and item 5\n",
            "            date  store  item  sales  is_hol\n",
            "78518 2013-01-01      4     5     10       1\n",
            "78519 2013-01-02      4     5      5       0\n",
            "78520 2013-01-03      4     5     12       0\n",
            "78521 2013-01-04      4     5      7       0\n",
            "78522 2013-01-05      4     5      5       0\n",
            "...          ...    ...   ...    ...     ...\n",
            "80339 2017-12-27      4     5     15       0\n",
            "80340 2017-12-28      4     5     23       0\n",
            "80341 2017-12-29      4     5     18       0\n",
            "80342 2017-12-30      4     5     23       0\n",
            "80343 2017-12-31      4     5     19       0\n",
            "\n",
            "[1826 rows x 5 columns]\n"
          ]
        },
        {
          "output_type": "stream",
          "name": "stderr",
          "text": [
            "/usr/local/lib/python3.10/dist-packages/statsmodels/tsa/base/tsa_model.py:836: ValueWarning: No supported index is available. Prediction results will be given with an integer index beginning at `start`.\n",
            "  return get_prediction_index(\n",
            "/usr/local/lib/python3.10/dist-packages/statsmodels/tsa/base/tsa_model.py:836: FutureWarning: No supported index is available. In the next version, calling this method in a model without a supported index will result in an exception.\n",
            "  return get_prediction_index(\n"
          ]
        },
        {
          "output_type": "stream",
          "name": "stdout",
          "text": [
            "Finished training model...\n",
            "Predicting for store 5 and item 5\n",
            "            date  store  item  sales  is_hol\n",
            "80344 2013-01-01      5     5      9       1\n",
            "80345 2013-01-02      5     5      5       0\n",
            "80346 2013-01-03      5     5      3       0\n",
            "80347 2013-01-04      5     5     12       0\n",
            "80348 2013-01-05      5     5      8       0\n",
            "...          ...    ...   ...    ...     ...\n",
            "82165 2017-12-27      5     5     16       0\n",
            "82166 2017-12-28      5     5     10       0\n",
            "82167 2017-12-29      5     5     13       0\n",
            "82168 2017-12-30      5     5     11       0\n",
            "82169 2017-12-31      5     5     17       0\n",
            "\n",
            "[1826 rows x 5 columns]\n"
          ]
        },
        {
          "output_type": "stream",
          "name": "stderr",
          "text": [
            "/usr/local/lib/python3.10/dist-packages/statsmodels/tsa/base/tsa_model.py:836: ValueWarning: No supported index is available. Prediction results will be given with an integer index beginning at `start`.\n",
            "  return get_prediction_index(\n",
            "/usr/local/lib/python3.10/dist-packages/statsmodels/tsa/base/tsa_model.py:836: FutureWarning: No supported index is available. In the next version, calling this method in a model without a supported index will result in an exception.\n",
            "  return get_prediction_index(\n"
          ]
        },
        {
          "output_type": "stream",
          "name": "stdout",
          "text": [
            "Finished training model...\n",
            "Predicting for store 6 and item 5\n",
            "            date  store  item  sales  is_hol\n",
            "82170 2013-01-01      6     5      4       1\n",
            "82171 2013-01-02      6     5      9       0\n",
            "82172 2013-01-03      6     5     10       0\n",
            "82173 2013-01-04      6     5      5       0\n",
            "82174 2013-01-05      6     5      8       0\n",
            "...          ...    ...   ...    ...     ...\n",
            "83991 2017-12-27      6     5      9       0\n",
            "83992 2017-12-28      6     5     14       0\n",
            "83993 2017-12-29      6     5     14       0\n",
            "83994 2017-12-30      6     5      5       0\n",
            "83995 2017-12-31      6     5     15       0\n",
            "\n",
            "[1826 rows x 5 columns]\n"
          ]
        },
        {
          "output_type": "stream",
          "name": "stderr",
          "text": [
            "/usr/local/lib/python3.10/dist-packages/statsmodels/tsa/base/tsa_model.py:836: ValueWarning: No supported index is available. Prediction results will be given with an integer index beginning at `start`.\n",
            "  return get_prediction_index(\n",
            "/usr/local/lib/python3.10/dist-packages/statsmodels/tsa/base/tsa_model.py:836: FutureWarning: No supported index is available. In the next version, calling this method in a model without a supported index will result in an exception.\n",
            "  return get_prediction_index(\n"
          ]
        },
        {
          "output_type": "stream",
          "name": "stdout",
          "text": [
            "Finished training model...\n",
            "Predicting for store 7 and item 5\n",
            "            date  store  item  sales  is_hol\n",
            "83996 2013-01-01      7     5      5       1\n",
            "83997 2013-01-02      7     5      8       0\n",
            "83998 2013-01-03      7     5      9       0\n",
            "83999 2013-01-04      7     5      4       0\n",
            "84000 2013-01-05      7     5      9       0\n",
            "...          ...    ...   ...    ...     ...\n",
            "85817 2017-12-27      7     5     14       0\n",
            "85818 2017-12-28      7     5      5       0\n",
            "85819 2017-12-29      7     5      4       0\n",
            "85820 2017-12-30      7     5      8       0\n",
            "85821 2017-12-31      7     5     12       0\n",
            "\n",
            "[1826 rows x 5 columns]\n"
          ]
        },
        {
          "output_type": "stream",
          "name": "stderr",
          "text": [
            "/usr/local/lib/python3.10/dist-packages/statsmodels/tsa/base/tsa_model.py:836: ValueWarning: No supported index is available. Prediction results will be given with an integer index beginning at `start`.\n",
            "  return get_prediction_index(\n",
            "/usr/local/lib/python3.10/dist-packages/statsmodels/tsa/base/tsa_model.py:836: FutureWarning: No supported index is available. In the next version, calling this method in a model without a supported index will result in an exception.\n",
            "  return get_prediction_index(\n"
          ]
        },
        {
          "output_type": "stream",
          "name": "stdout",
          "text": [
            "Finished training model...\n",
            "Predicting for store 8 and item 5\n",
            "            date  store  item  sales  is_hol\n",
            "85822 2013-01-01      8     5     10       1\n",
            "85823 2013-01-02      8     5      9       0\n",
            "85824 2013-01-03      8     5     14       0\n",
            "85825 2013-01-04      8     5     10       0\n",
            "85826 2013-01-05      8     5     14       0\n",
            "...          ...    ...   ...    ...     ...\n",
            "87643 2017-12-27      8     5     14       0\n",
            "87644 2017-12-28      8     5     19       0\n",
            "87645 2017-12-29      8     5     22       0\n",
            "87646 2017-12-30      8     5     27       0\n",
            "87647 2017-12-31      8     5     23       0\n",
            "\n",
            "[1826 rows x 5 columns]\n"
          ]
        },
        {
          "output_type": "stream",
          "name": "stderr",
          "text": [
            "/usr/local/lib/python3.10/dist-packages/statsmodels/tsa/base/tsa_model.py:836: ValueWarning: No supported index is available. Prediction results will be given with an integer index beginning at `start`.\n",
            "  return get_prediction_index(\n",
            "/usr/local/lib/python3.10/dist-packages/statsmodels/tsa/base/tsa_model.py:836: FutureWarning: No supported index is available. In the next version, calling this method in a model without a supported index will result in an exception.\n",
            "  return get_prediction_index(\n"
          ]
        },
        {
          "output_type": "stream",
          "name": "stdout",
          "text": [
            "Finished training model...\n",
            "Predicting for store 9 and item 5\n",
            "            date  store  item  sales  is_hol\n",
            "87648 2013-01-01      9     5      9       1\n",
            "87649 2013-01-02      9     5     11       0\n",
            "87650 2013-01-03      9     5      8       0\n",
            "87651 2013-01-04      9     5     15       0\n",
            "87652 2013-01-05      9     5     13       0\n",
            "...          ...    ...   ...    ...     ...\n",
            "89469 2017-12-27      9     5     18       0\n",
            "89470 2017-12-28      9     5     18       0\n",
            "89471 2017-12-29      9     5     20       0\n",
            "89472 2017-12-30      9     5     21       0\n",
            "89473 2017-12-31      9     5     22       0\n",
            "\n",
            "[1826 rows x 5 columns]\n"
          ]
        },
        {
          "output_type": "stream",
          "name": "stderr",
          "text": [
            "/usr/local/lib/python3.10/dist-packages/statsmodels/tsa/base/tsa_model.py:836: ValueWarning: No supported index is available. Prediction results will be given with an integer index beginning at `start`.\n",
            "  return get_prediction_index(\n",
            "/usr/local/lib/python3.10/dist-packages/statsmodels/tsa/base/tsa_model.py:836: FutureWarning: No supported index is available. In the next version, calling this method in a model without a supported index will result in an exception.\n",
            "  return get_prediction_index(\n"
          ]
        },
        {
          "output_type": "stream",
          "name": "stdout",
          "text": [
            "Finished training model...\n",
            "Predicting for store 10 and item 5\n",
            "            date  store  item  sales  is_hol\n",
            "89474 2013-01-01     10     5      8       1\n",
            "89475 2013-01-02     10     5     13       0\n",
            "89476 2013-01-03     10     5     10       0\n",
            "89477 2013-01-04     10     5     10       0\n",
            "89478 2013-01-05     10     5     13       0\n",
            "...          ...    ...   ...    ...     ...\n",
            "91295 2017-12-27     10     5     19       0\n",
            "91296 2017-12-28     10     5     14       0\n",
            "91297 2017-12-29     10     5     20       0\n",
            "91298 2017-12-30     10     5     21       0\n",
            "91299 2017-12-31     10     5     20       0\n",
            "\n",
            "[1826 rows x 5 columns]\n"
          ]
        },
        {
          "output_type": "stream",
          "name": "stderr",
          "text": [
            "/usr/local/lib/python3.10/dist-packages/statsmodels/tsa/base/tsa_model.py:836: ValueWarning: No supported index is available. Prediction results will be given with an integer index beginning at `start`.\n",
            "  return get_prediction_index(\n",
            "/usr/local/lib/python3.10/dist-packages/statsmodels/tsa/base/tsa_model.py:836: FutureWarning: No supported index is available. In the next version, calling this method in a model without a supported index will result in an exception.\n",
            "  return get_prediction_index(\n"
          ]
        },
        {
          "output_type": "stream",
          "name": "stdout",
          "text": [
            "Finished training model...\n",
            "Predicting for store 1 and item 6\n",
            "            date  store  item  sales  is_hol\n",
            "91300 2013-01-01      1     6     31       1\n",
            "91301 2013-01-02      1     6     36       0\n",
            "91302 2013-01-03      1     6     18       0\n",
            "91303 2013-01-04      1     6     19       0\n",
            "91304 2013-01-05      1     6     31       0\n",
            "...          ...    ...   ...    ...     ...\n",
            "93121 2017-12-27      1     6     32       0\n",
            "93122 2017-12-28      1     6     51       0\n",
            "93123 2017-12-29      1     6     55       0\n",
            "93124 2017-12-30      1     6     55       0\n",
            "93125 2017-12-31      1     6     53       0\n",
            "\n",
            "[1826 rows x 5 columns]\n"
          ]
        },
        {
          "output_type": "stream",
          "name": "stderr",
          "text": [
            "/usr/local/lib/python3.10/dist-packages/statsmodels/tsa/base/tsa_model.py:836: ValueWarning: No supported index is available. Prediction results will be given with an integer index beginning at `start`.\n",
            "  return get_prediction_index(\n",
            "/usr/local/lib/python3.10/dist-packages/statsmodels/tsa/base/tsa_model.py:836: FutureWarning: No supported index is available. In the next version, calling this method in a model without a supported index will result in an exception.\n",
            "  return get_prediction_index(\n"
          ]
        },
        {
          "output_type": "stream",
          "name": "stdout",
          "text": [
            "Finished training model...\n",
            "Predicting for store 2 and item 6\n",
            "            date  store  item  sales  is_hol\n",
            "93126 2013-01-01      2     6     34       1\n",
            "93127 2013-01-02      2     6     40       0\n",
            "93128 2013-01-03      2     6     41       0\n",
            "93129 2013-01-04      2     6     41       0\n",
            "93130 2013-01-05      2     6     47       0\n",
            "...          ...    ...   ...    ...     ...\n",
            "94947 2017-12-27      2     6     56       0\n",
            "94948 2017-12-28      2     6     63       0\n",
            "94949 2017-12-29      2     6     72       0\n",
            "94950 2017-12-30      2     6     67       0\n",
            "94951 2017-12-31      2     6     58       0\n",
            "\n",
            "[1826 rows x 5 columns]\n"
          ]
        },
        {
          "output_type": "stream",
          "name": "stderr",
          "text": [
            "/usr/local/lib/python3.10/dist-packages/statsmodels/tsa/base/tsa_model.py:836: ValueWarning: No supported index is available. Prediction results will be given with an integer index beginning at `start`.\n",
            "  return get_prediction_index(\n",
            "/usr/local/lib/python3.10/dist-packages/statsmodels/tsa/base/tsa_model.py:836: FutureWarning: No supported index is available. In the next version, calling this method in a model without a supported index will result in an exception.\n",
            "  return get_prediction_index(\n"
          ]
        },
        {
          "output_type": "stream",
          "name": "stdout",
          "text": [
            "Finished training model...\n",
            "Predicting for store 3 and item 6\n",
            "            date  store  item  sales  is_hol\n",
            "94952 2013-01-01      3     6     34       1\n",
            "94953 2013-01-02      3     6     38       0\n",
            "94954 2013-01-03      3     6     32       0\n",
            "94955 2013-01-04      3     6     36       0\n",
            "94956 2013-01-05      3     6     36       0\n",
            "...          ...    ...   ...    ...     ...\n",
            "96773 2017-12-27      3     6     53       0\n",
            "96774 2017-12-28      3     6     55       0\n",
            "96775 2017-12-29      3     6     45       0\n",
            "96776 2017-12-30      3     6     64       0\n",
            "96777 2017-12-31      3     6     65       0\n",
            "\n",
            "[1826 rows x 5 columns]\n"
          ]
        },
        {
          "output_type": "stream",
          "name": "stderr",
          "text": [
            "/usr/local/lib/python3.10/dist-packages/statsmodels/tsa/base/tsa_model.py:836: ValueWarning: No supported index is available. Prediction results will be given with an integer index beginning at `start`.\n",
            "  return get_prediction_index(\n",
            "/usr/local/lib/python3.10/dist-packages/statsmodels/tsa/base/tsa_model.py:836: FutureWarning: No supported index is available. In the next version, calling this method in a model without a supported index will result in an exception.\n",
            "  return get_prediction_index(\n"
          ]
        },
        {
          "output_type": "stream",
          "name": "stdout",
          "text": [
            "Finished training model...\n",
            "Predicting for store 4 and item 6\n",
            "            date  store  item  sales  is_hol\n",
            "96778 2013-01-01      4     6     24       1\n",
            "96779 2013-01-02      4     6     35       0\n",
            "96780 2013-01-03      4     6     34       0\n",
            "96781 2013-01-04      4     6     42       0\n",
            "96782 2013-01-05      4     6     41       0\n",
            "...          ...    ...   ...    ...     ...\n",
            "98599 2017-12-27      4     6     34       0\n",
            "98600 2017-12-28      4     6     51       0\n",
            "98601 2017-12-29      4     6     56       0\n",
            "98602 2017-12-30      4     6     51       0\n",
            "98603 2017-12-31      4     6     73       0\n",
            "\n",
            "[1826 rows x 5 columns]\n"
          ]
        },
        {
          "output_type": "stream",
          "name": "stderr",
          "text": [
            "/usr/local/lib/python3.10/dist-packages/statsmodels/tsa/base/tsa_model.py:836: ValueWarning: No supported index is available. Prediction results will be given with an integer index beginning at `start`.\n",
            "  return get_prediction_index(\n",
            "/usr/local/lib/python3.10/dist-packages/statsmodels/tsa/base/tsa_model.py:836: FutureWarning: No supported index is available. In the next version, calling this method in a model without a supported index will result in an exception.\n",
            "  return get_prediction_index(\n"
          ]
        },
        {
          "output_type": "stream",
          "name": "stdout",
          "text": [
            "Finished training model...\n",
            "Predicting for store 5 and item 6\n",
            "             date  store  item  sales  is_hol\n",
            "98604  2013-01-01      5     6     20       1\n",
            "98605  2013-01-02      5     6     15       0\n",
            "98606  2013-01-03      5     6     37       0\n",
            "98607  2013-01-04      5     6     33       0\n",
            "98608  2013-01-05      5     6     20       0\n",
            "...           ...    ...   ...    ...     ...\n",
            "100425 2017-12-27      5     6     26       0\n",
            "100426 2017-12-28      5     6     38       0\n",
            "100427 2017-12-29      5     6     38       0\n",
            "100428 2017-12-30      5     6     34       0\n",
            "100429 2017-12-31      5     6     41       0\n",
            "\n",
            "[1826 rows x 5 columns]\n"
          ]
        },
        {
          "output_type": "stream",
          "name": "stderr",
          "text": [
            "/usr/local/lib/python3.10/dist-packages/statsmodels/tsa/base/tsa_model.py:836: ValueWarning: No supported index is available. Prediction results will be given with an integer index beginning at `start`.\n",
            "  return get_prediction_index(\n",
            "/usr/local/lib/python3.10/dist-packages/statsmodels/tsa/base/tsa_model.py:836: FutureWarning: No supported index is available. In the next version, calling this method in a model without a supported index will result in an exception.\n",
            "  return get_prediction_index(\n"
          ]
        },
        {
          "output_type": "stream",
          "name": "stdout",
          "text": [
            "Finished training model...\n",
            "Predicting for store 6 and item 6\n",
            "             date  store  item  sales  is_hol\n",
            "100430 2013-01-01      6     6     27       1\n",
            "100431 2013-01-02      6     6     27       0\n",
            "100432 2013-01-03      6     6     17       0\n",
            "100433 2013-01-04      6     6     22       0\n",
            "100434 2013-01-05      6     6     32       0\n",
            "...           ...    ...   ...    ...     ...\n",
            "102251 2017-12-27      6     6     30       0\n",
            "102252 2017-12-28      6     6     28       0\n",
            "102253 2017-12-29      6     6     44       0\n",
            "102254 2017-12-30      6     6     32       0\n",
            "102255 2017-12-31      6     6     43       0\n",
            "\n",
            "[1826 rows x 5 columns]\n"
          ]
        },
        {
          "output_type": "stream",
          "name": "stderr",
          "text": [
            "/usr/local/lib/python3.10/dist-packages/statsmodels/tsa/base/tsa_model.py:836: ValueWarning: No supported index is available. Prediction results will be given with an integer index beginning at `start`.\n",
            "  return get_prediction_index(\n",
            "/usr/local/lib/python3.10/dist-packages/statsmodels/tsa/base/tsa_model.py:836: FutureWarning: No supported index is available. In the next version, calling this method in a model without a supported index will result in an exception.\n",
            "  return get_prediction_index(\n"
          ]
        },
        {
          "output_type": "stream",
          "name": "stdout",
          "text": [
            "Finished training model...\n",
            "Predicting for store 7 and item 6\n",
            "             date  store  item  sales  is_hol\n",
            "102256 2013-01-01      7     6     21       1\n",
            "102257 2013-01-02      7     6     11       0\n",
            "102258 2013-01-03      7     6     29       0\n",
            "102259 2013-01-04      7     6     18       0\n",
            "102260 2013-01-05      7     6     16       0\n",
            "...           ...    ...   ...    ...     ...\n",
            "104077 2017-12-27      7     6     34       0\n",
            "104078 2017-12-28      7     6     36       0\n",
            "104079 2017-12-29      7     6     36       0\n",
            "104080 2017-12-30      7     6     34       0\n",
            "104081 2017-12-31      7     6     39       0\n",
            "\n",
            "[1826 rows x 5 columns]\n"
          ]
        },
        {
          "output_type": "stream",
          "name": "stderr",
          "text": [
            "/usr/local/lib/python3.10/dist-packages/statsmodels/tsa/base/tsa_model.py:836: ValueWarning: No supported index is available. Prediction results will be given with an integer index beginning at `start`.\n",
            "  return get_prediction_index(\n",
            "/usr/local/lib/python3.10/dist-packages/statsmodels/tsa/base/tsa_model.py:836: FutureWarning: No supported index is available. In the next version, calling this method in a model without a supported index will result in an exception.\n",
            "  return get_prediction_index(\n"
          ]
        },
        {
          "output_type": "stream",
          "name": "stdout",
          "text": [
            "Finished training model...\n",
            "Predicting for store 8 and item 6\n",
            "             date  store  item  sales  is_hol\n",
            "104082 2013-01-01      8     6     36       1\n",
            "104083 2013-01-02      8     6     43       0\n",
            "104084 2013-01-03      8     6     39       0\n",
            "104085 2013-01-04      8     6     49       0\n",
            "104086 2013-01-05      8     6     41       0\n",
            "...           ...    ...   ...    ...     ...\n",
            "105903 2017-12-27      8     6     55       0\n",
            "105904 2017-12-28      8     6     56       0\n",
            "105905 2017-12-29      8     6     69       0\n",
            "105906 2017-12-30      8     6     89       0\n",
            "105907 2017-12-31      8     6     75       0\n",
            "\n",
            "[1826 rows x 5 columns]\n"
          ]
        },
        {
          "output_type": "stream",
          "name": "stderr",
          "text": [
            "/usr/local/lib/python3.10/dist-packages/statsmodels/tsa/base/tsa_model.py:836: ValueWarning: No supported index is available. Prediction results will be given with an integer index beginning at `start`.\n",
            "  return get_prediction_index(\n",
            "/usr/local/lib/python3.10/dist-packages/statsmodels/tsa/base/tsa_model.py:836: FutureWarning: No supported index is available. In the next version, calling this method in a model without a supported index will result in an exception.\n",
            "  return get_prediction_index(\n"
          ]
        },
        {
          "output_type": "stream",
          "name": "stdout",
          "text": [
            "Finished training model...\n",
            "Predicting for store 9 and item 6\n",
            "             date  store  item  sales  is_hol\n",
            "105908 2013-01-01      9     6     29       1\n",
            "105909 2013-01-02      9     6     33       0\n",
            "105910 2013-01-03      9     6     19       0\n",
            "105911 2013-01-04      9     6     33       0\n",
            "105912 2013-01-05      9     6     36       0\n",
            "...           ...    ...   ...    ...     ...\n",
            "107729 2017-12-27      9     6     39       0\n",
            "107730 2017-12-28      9     6     56       0\n",
            "107731 2017-12-29      9     6     56       0\n",
            "107732 2017-12-30      9     6     54       0\n",
            "107733 2017-12-31      9     6     57       0\n",
            "\n",
            "[1826 rows x 5 columns]\n"
          ]
        },
        {
          "output_type": "stream",
          "name": "stderr",
          "text": [
            "/usr/local/lib/python3.10/dist-packages/statsmodels/tsa/base/tsa_model.py:836: ValueWarning: No supported index is available. Prediction results will be given with an integer index beginning at `start`.\n",
            "  return get_prediction_index(\n",
            "/usr/local/lib/python3.10/dist-packages/statsmodels/tsa/base/tsa_model.py:836: FutureWarning: No supported index is available. In the next version, calling this method in a model without a supported index will result in an exception.\n",
            "  return get_prediction_index(\n"
          ]
        },
        {
          "output_type": "stream",
          "name": "stdout",
          "text": [
            "Finished training model...\n",
            "Predicting for store 10 and item 6\n",
            "             date  store  item  sales  is_hol\n",
            "107734 2013-01-01     10     6     32       1\n",
            "107735 2013-01-02     10     6     32       0\n",
            "107736 2013-01-03     10     6     43       0\n",
            "107737 2013-01-04     10     6     50       0\n",
            "107738 2013-01-05     10     6     43       0\n",
            "...           ...    ...   ...    ...     ...\n",
            "109555 2017-12-27     10     6     47       0\n",
            "109556 2017-12-28     10     6     72       0\n",
            "109557 2017-12-29     10     6     59       0\n",
            "109558 2017-12-30     10     6     52       0\n",
            "109559 2017-12-31     10     6     61       0\n",
            "\n",
            "[1826 rows x 5 columns]\n"
          ]
        },
        {
          "output_type": "stream",
          "name": "stderr",
          "text": [
            "/usr/local/lib/python3.10/dist-packages/statsmodels/tsa/base/tsa_model.py:836: ValueWarning: No supported index is available. Prediction results will be given with an integer index beginning at `start`.\n",
            "  return get_prediction_index(\n",
            "/usr/local/lib/python3.10/dist-packages/statsmodels/tsa/base/tsa_model.py:836: FutureWarning: No supported index is available. In the next version, calling this method in a model without a supported index will result in an exception.\n",
            "  return get_prediction_index(\n"
          ]
        },
        {
          "output_type": "stream",
          "name": "stdout",
          "text": [
            "Finished training model...\n",
            "Predicting for store 1 and item 7\n",
            "             date  store  item  sales  is_hol\n",
            "109560 2013-01-01      1     7     25       1\n",
            "109561 2013-01-02      1     7     23       0\n",
            "109562 2013-01-03      1     7     34       0\n",
            "109563 2013-01-04      1     7     36       0\n",
            "109564 2013-01-05      1     7     38       0\n",
            "...           ...    ...   ...    ...     ...\n",
            "111381 2017-12-27      1     7     45       0\n",
            "111382 2017-12-28      1     7     36       0\n",
            "111383 2017-12-29      1     7     57       0\n",
            "111384 2017-12-30      1     7     60       0\n",
            "111385 2017-12-31      1     7     55       0\n",
            "\n",
            "[1826 rows x 5 columns]\n"
          ]
        },
        {
          "output_type": "stream",
          "name": "stderr",
          "text": [
            "/usr/local/lib/python3.10/dist-packages/statsmodels/tsa/base/tsa_model.py:836: ValueWarning: No supported index is available. Prediction results will be given with an integer index beginning at `start`.\n",
            "  return get_prediction_index(\n",
            "/usr/local/lib/python3.10/dist-packages/statsmodels/tsa/base/tsa_model.py:836: FutureWarning: No supported index is available. In the next version, calling this method in a model without a supported index will result in an exception.\n",
            "  return get_prediction_index(\n"
          ]
        },
        {
          "output_type": "stream",
          "name": "stdout",
          "text": [
            "Finished training model...\n",
            "Predicting for store 2 and item 7\n",
            "             date  store  item  sales  is_hol\n",
            "111386 2013-01-01      2     7     39       1\n",
            "111387 2013-01-02      2     7     47       0\n",
            "111388 2013-01-03      2     7     43       0\n",
            "111389 2013-01-04      2     7     44       0\n",
            "111390 2013-01-05      2     7     55       0\n",
            "...           ...    ...   ...    ...     ...\n",
            "113207 2017-12-27      2     7     65       0\n",
            "113208 2017-12-28      2     7     73       0\n",
            "113209 2017-12-29      2     7     69       0\n",
            "113210 2017-12-30      2     7     72       0\n",
            "113211 2017-12-31      2     7     70       0\n",
            "\n",
            "[1826 rows x 5 columns]\n"
          ]
        },
        {
          "output_type": "stream",
          "name": "stderr",
          "text": [
            "/usr/local/lib/python3.10/dist-packages/statsmodels/tsa/base/tsa_model.py:836: ValueWarning: No supported index is available. Prediction results will be given with an integer index beginning at `start`.\n",
            "  return get_prediction_index(\n",
            "/usr/local/lib/python3.10/dist-packages/statsmodels/tsa/base/tsa_model.py:836: FutureWarning: No supported index is available. In the next version, calling this method in a model without a supported index will result in an exception.\n",
            "  return get_prediction_index(\n"
          ]
        },
        {
          "output_type": "stream",
          "name": "stdout",
          "text": [
            "Finished training model...\n",
            "Predicting for store 3 and item 7\n",
            "             date  store  item  sales  is_hol\n",
            "113212 2013-01-01      3     7     40       1\n",
            "113213 2013-01-02      3     7     36       0\n",
            "113214 2013-01-03      3     7     36       0\n",
            "113215 2013-01-04      3     7     38       0\n",
            "113216 2013-01-05      3     7     31       0\n",
            "...           ...    ...   ...    ...     ...\n",
            "115033 2017-12-27      3     7     53       0\n",
            "115034 2017-12-28      3     7     53       0\n",
            "115035 2017-12-29      3     7     51       0\n",
            "115036 2017-12-30      3     7     61       0\n",
            "115037 2017-12-31      3     7     73       0\n",
            "\n",
            "[1826 rows x 5 columns]\n"
          ]
        },
        {
          "output_type": "stream",
          "name": "stderr",
          "text": [
            "/usr/local/lib/python3.10/dist-packages/statsmodels/tsa/base/tsa_model.py:836: ValueWarning: No supported index is available. Prediction results will be given with an integer index beginning at `start`.\n",
            "  return get_prediction_index(\n",
            "/usr/local/lib/python3.10/dist-packages/statsmodels/tsa/base/tsa_model.py:836: FutureWarning: No supported index is available. In the next version, calling this method in a model without a supported index will result in an exception.\n",
            "  return get_prediction_index(\n"
          ]
        },
        {
          "output_type": "stream",
          "name": "stdout",
          "text": [
            "Finished training model...\n",
            "Predicting for store 4 and item 7\n",
            "             date  store  item  sales  is_hol\n",
            "115038 2013-01-01      4     7     26       1\n",
            "115039 2013-01-02      4     7     35       0\n",
            "115040 2013-01-03      4     7     31       0\n",
            "115041 2013-01-04      4     7     34       0\n",
            "115042 2013-01-05      4     7     44       0\n",
            "...           ...    ...   ...    ...     ...\n",
            "116859 2017-12-27      4     7     51       0\n",
            "116860 2017-12-28      4     7     57       0\n",
            "116861 2017-12-29      4     7     51       0\n",
            "116862 2017-12-30      4     7     66       0\n",
            "116863 2017-12-31      4     7     63       0\n",
            "\n",
            "[1826 rows x 5 columns]\n"
          ]
        },
        {
          "output_type": "stream",
          "name": "stderr",
          "text": [
            "/usr/local/lib/python3.10/dist-packages/statsmodels/tsa/base/tsa_model.py:836: ValueWarning: No supported index is available. Prediction results will be given with an integer index beginning at `start`.\n",
            "  return get_prediction_index(\n",
            "/usr/local/lib/python3.10/dist-packages/statsmodels/tsa/base/tsa_model.py:836: FutureWarning: No supported index is available. In the next version, calling this method in a model without a supported index will result in an exception.\n",
            "  return get_prediction_index(\n"
          ]
        },
        {
          "output_type": "stream",
          "name": "stdout",
          "text": [
            "Finished training model...\n",
            "Predicting for store 5 and item 7\n",
            "             date  store  item  sales  is_hol\n",
            "116864 2013-01-01      5     7     21       1\n",
            "116865 2013-01-02      5     7     16       0\n",
            "116866 2013-01-03      5     7     25       0\n",
            "116867 2013-01-04      5     7     28       0\n",
            "116868 2013-01-05      5     7     32       0\n",
            "...           ...    ...   ...    ...     ...\n",
            "118685 2017-12-27      5     7     38       0\n",
            "118686 2017-12-28      5     7     39       0\n",
            "118687 2017-12-29      5     7     40       0\n",
            "118688 2017-12-30      5     7     39       0\n",
            "118689 2017-12-31      5     7     45       0\n",
            "\n",
            "[1826 rows x 5 columns]\n"
          ]
        },
        {
          "output_type": "stream",
          "name": "stderr",
          "text": [
            "/usr/local/lib/python3.10/dist-packages/statsmodels/tsa/base/tsa_model.py:836: ValueWarning: No supported index is available. Prediction results will be given with an integer index beginning at `start`.\n",
            "  return get_prediction_index(\n",
            "/usr/local/lib/python3.10/dist-packages/statsmodels/tsa/base/tsa_model.py:836: FutureWarning: No supported index is available. In the next version, calling this method in a model without a supported index will result in an exception.\n",
            "  return get_prediction_index(\n"
          ]
        },
        {
          "output_type": "stream",
          "name": "stdout",
          "text": [
            "Finished training model...\n",
            "Predicting for store 6 and item 7\n",
            "             date  store  item  sales  is_hol\n",
            "118690 2013-01-01      6     7     14       1\n",
            "118691 2013-01-02      6     7     19       0\n",
            "118692 2013-01-03      6     7     19       0\n",
            "118693 2013-01-04      6     7     14       0\n",
            "118694 2013-01-05      6     7     26       0\n",
            "...           ...    ...   ...    ...     ...\n",
            "120511 2017-12-27      6     7     25       0\n",
            "120512 2017-12-28      6     7     32       0\n",
            "120513 2017-12-29      6     7     45       0\n",
            "120514 2017-12-30      6     7     46       0\n",
            "120515 2017-12-31      6     7     57       0\n",
            "\n",
            "[1826 rows x 5 columns]\n"
          ]
        },
        {
          "output_type": "stream",
          "name": "stderr",
          "text": [
            "/usr/local/lib/python3.10/dist-packages/statsmodels/tsa/base/tsa_model.py:836: ValueWarning: No supported index is available. Prediction results will be given with an integer index beginning at `start`.\n",
            "  return get_prediction_index(\n",
            "/usr/local/lib/python3.10/dist-packages/statsmodels/tsa/base/tsa_model.py:836: FutureWarning: No supported index is available. In the next version, calling this method in a model without a supported index will result in an exception.\n",
            "  return get_prediction_index(\n"
          ]
        },
        {
          "output_type": "stream",
          "name": "stdout",
          "text": [
            "Finished training model...\n",
            "Predicting for store 7 and item 7\n",
            "             date  store  item  sales  is_hol\n",
            "120516 2013-01-01      7     7     21       1\n",
            "120517 2013-01-02      7     7     23       0\n",
            "120518 2013-01-03      7     7     25       0\n",
            "120519 2013-01-04      7     7     26       0\n",
            "120520 2013-01-05      7     7     26       0\n",
            "...           ...    ...   ...    ...     ...\n",
            "122337 2017-12-27      7     7     34       0\n",
            "122338 2017-12-28      7     7     41       0\n",
            "122339 2017-12-29      7     7     41       0\n",
            "122340 2017-12-30      7     7     49       0\n",
            "122341 2017-12-31      7     7     41       0\n",
            "\n",
            "[1826 rows x 5 columns]\n"
          ]
        },
        {
          "output_type": "stream",
          "name": "stderr",
          "text": [
            "/usr/local/lib/python3.10/dist-packages/statsmodels/tsa/base/tsa_model.py:836: ValueWarning: No supported index is available. Prediction results will be given with an integer index beginning at `start`.\n",
            "  return get_prediction_index(\n",
            "/usr/local/lib/python3.10/dist-packages/statsmodels/tsa/base/tsa_model.py:836: FutureWarning: No supported index is available. In the next version, calling this method in a model without a supported index will result in an exception.\n",
            "  return get_prediction_index(\n"
          ]
        },
        {
          "output_type": "stream",
          "name": "stdout",
          "text": [
            "Finished training model...\n",
            "Predicting for store 8 and item 7\n",
            "             date  store  item  sales  is_hol\n",
            "122342 2013-01-01      8     7     30       1\n",
            "122343 2013-01-02      8     7     29       0\n",
            "122344 2013-01-03      8     7     38       0\n",
            "122345 2013-01-04      8     7     47       0\n",
            "122346 2013-01-05      8     7     51       0\n",
            "...           ...    ...   ...    ...     ...\n",
            "124163 2017-12-27      8     7     55       0\n",
            "124164 2017-12-28      8     7     61       0\n",
            "124165 2017-12-29      8     7     63       0\n",
            "124166 2017-12-30      8     7     89       0\n",
            "124167 2017-12-31      8     7     65       0\n",
            "\n",
            "[1826 rows x 5 columns]\n"
          ]
        },
        {
          "output_type": "stream",
          "name": "stderr",
          "text": [
            "/usr/local/lib/python3.10/dist-packages/statsmodels/tsa/base/tsa_model.py:836: ValueWarning: No supported index is available. Prediction results will be given with an integer index beginning at `start`.\n",
            "  return get_prediction_index(\n",
            "/usr/local/lib/python3.10/dist-packages/statsmodels/tsa/base/tsa_model.py:836: FutureWarning: No supported index is available. In the next version, calling this method in a model without a supported index will result in an exception.\n",
            "  return get_prediction_index(\n"
          ]
        },
        {
          "output_type": "stream",
          "name": "stdout",
          "text": [
            "Finished training model...\n",
            "Predicting for store 9 and item 7\n",
            "             date  store  item  sales  is_hol\n",
            "124168 2013-01-01      9     7     30       1\n",
            "124169 2013-01-02      9     7     24       0\n",
            "124170 2013-01-03      9     7     35       0\n",
            "124171 2013-01-04      9     7     35       0\n",
            "124172 2013-01-05      9     7     28       0\n",
            "...           ...    ...   ...    ...     ...\n",
            "125989 2017-12-27      9     7     44       0\n",
            "125990 2017-12-28      9     7     54       0\n",
            "125991 2017-12-29      9     7     59       0\n",
            "125992 2017-12-30      9     7     67       0\n",
            "125993 2017-12-31      9     7     78       0\n",
            "\n",
            "[1826 rows x 5 columns]\n"
          ]
        },
        {
          "output_type": "stream",
          "name": "stderr",
          "text": [
            "/usr/local/lib/python3.10/dist-packages/statsmodels/tsa/base/tsa_model.py:836: ValueWarning: No supported index is available. Prediction results will be given with an integer index beginning at `start`.\n",
            "  return get_prediction_index(\n",
            "/usr/local/lib/python3.10/dist-packages/statsmodels/tsa/base/tsa_model.py:836: FutureWarning: No supported index is available. In the next version, calling this method in a model without a supported index will result in an exception.\n",
            "  return get_prediction_index(\n"
          ]
        },
        {
          "output_type": "stream",
          "name": "stdout",
          "text": [
            "Finished training model...\n",
            "Predicting for store 10 and item 7\n",
            "             date  store  item  sales  is_hol\n",
            "125994 2013-01-01     10     7     32       1\n",
            "125995 2013-01-02     10     7     39       0\n",
            "125996 2013-01-03     10     7     38       0\n",
            "125997 2013-01-04     10     7     33       0\n",
            "125998 2013-01-05     10     7     46       0\n",
            "...           ...    ...   ...    ...     ...\n",
            "127815 2017-12-27     10     7     47       0\n",
            "127816 2017-12-28     10     7     53       0\n",
            "127817 2017-12-29     10     7     56       0\n",
            "127818 2017-12-30     10     7     60       0\n",
            "127819 2017-12-31     10     7     63       0\n",
            "\n",
            "[1826 rows x 5 columns]\n"
          ]
        },
        {
          "output_type": "stream",
          "name": "stderr",
          "text": [
            "/usr/local/lib/python3.10/dist-packages/statsmodels/tsa/base/tsa_model.py:836: ValueWarning: No supported index is available. Prediction results will be given with an integer index beginning at `start`.\n",
            "  return get_prediction_index(\n",
            "/usr/local/lib/python3.10/dist-packages/statsmodels/tsa/base/tsa_model.py:836: FutureWarning: No supported index is available. In the next version, calling this method in a model without a supported index will result in an exception.\n",
            "  return get_prediction_index(\n"
          ]
        },
        {
          "output_type": "stream",
          "name": "stdout",
          "text": [
            "Finished training model...\n",
            "Predicting for store 1 and item 8\n",
            "             date  store  item  sales  is_hol\n",
            "127820 2013-01-01      1     8     33       1\n",
            "127821 2013-01-02      1     8     37       0\n",
            "127822 2013-01-03      1     8     38       0\n",
            "127823 2013-01-04      1     8     54       0\n",
            "127824 2013-01-05      1     8     51       0\n",
            "...           ...    ...   ...    ...     ...\n",
            "129641 2017-12-27      1     8     58       0\n",
            "129642 2017-12-28      1     8     49       0\n",
            "129643 2017-12-29      1     8     54       0\n",
            "129644 2017-12-30      1     8     75       0\n",
            "129645 2017-12-31      1     8     62       0\n",
            "\n",
            "[1826 rows x 5 columns]\n"
          ]
        },
        {
          "output_type": "stream",
          "name": "stderr",
          "text": [
            "/usr/local/lib/python3.10/dist-packages/statsmodels/tsa/base/tsa_model.py:836: ValueWarning: No supported index is available. Prediction results will be given with an integer index beginning at `start`.\n",
            "  return get_prediction_index(\n",
            "/usr/local/lib/python3.10/dist-packages/statsmodels/tsa/base/tsa_model.py:836: FutureWarning: No supported index is available. In the next version, calling this method in a model without a supported index will result in an exception.\n",
            "  return get_prediction_index(\n"
          ]
        },
        {
          "output_type": "stream",
          "name": "stdout",
          "text": [
            "Finished training model...\n",
            "Predicting for store 2 and item 8\n",
            "             date  store  item  sales  is_hol\n",
            "129646 2013-01-01      2     8     49       1\n",
            "129647 2013-01-02      2     8     42       0\n",
            "129648 2013-01-03      2     8     46       0\n",
            "129649 2013-01-04      2     8     55       0\n",
            "129650 2013-01-05      2     8     64       0\n",
            "...           ...    ...   ...    ...     ...\n",
            "131467 2017-12-27      2     8     79       0\n",
            "131468 2017-12-28      2     8     91       0\n",
            "131469 2017-12-29      2     8     99       0\n",
            "131470 2017-12-30      2     8    103       0\n",
            "131471 2017-12-31      2     8    124       0\n",
            "\n",
            "[1826 rows x 5 columns]\n"
          ]
        },
        {
          "output_type": "stream",
          "name": "stderr",
          "text": [
            "/usr/local/lib/python3.10/dist-packages/statsmodels/tsa/base/tsa_model.py:836: ValueWarning: No supported index is available. Prediction results will be given with an integer index beginning at `start`.\n",
            "  return get_prediction_index(\n",
            "/usr/local/lib/python3.10/dist-packages/statsmodels/tsa/base/tsa_model.py:836: FutureWarning: No supported index is available. In the next version, calling this method in a model without a supported index will result in an exception.\n",
            "  return get_prediction_index(\n"
          ]
        },
        {
          "output_type": "stream",
          "name": "stdout",
          "text": [
            "Finished training model...\n",
            "Predicting for store 3 and item 8\n",
            "             date  store  item  sales  is_hol\n",
            "131472 2013-01-01      3     8     54       1\n",
            "131473 2013-01-02      3     8     34       0\n",
            "131474 2013-01-03      3     8     61       0\n",
            "131475 2013-01-04      3     8     38       0\n",
            "131476 2013-01-05      3     8     54       0\n",
            "...           ...    ...   ...    ...     ...\n",
            "133293 2017-12-27      3     8     67       0\n",
            "133294 2017-12-28      3     8     80       0\n",
            "133295 2017-12-29      3     8     71       0\n",
            "133296 2017-12-30      3     8     87       0\n",
            "133297 2017-12-31      3     8     76       0\n",
            "\n",
            "[1826 rows x 5 columns]\n"
          ]
        },
        {
          "output_type": "stream",
          "name": "stderr",
          "text": [
            "/usr/local/lib/python3.10/dist-packages/statsmodels/tsa/base/tsa_model.py:836: ValueWarning: No supported index is available. Prediction results will be given with an integer index beginning at `start`.\n",
            "  return get_prediction_index(\n",
            "/usr/local/lib/python3.10/dist-packages/statsmodels/tsa/base/tsa_model.py:836: FutureWarning: No supported index is available. In the next version, calling this method in a model without a supported index will result in an exception.\n",
            "  return get_prediction_index(\n"
          ]
        },
        {
          "output_type": "stream",
          "name": "stdout",
          "text": [
            "Finished training model...\n",
            "Predicting for store 4 and item 8\n",
            "             date  store  item  sales  is_hol\n",
            "133298 2013-01-01      4     8     34       1\n",
            "133299 2013-01-02      4     8     44       0\n",
            "133300 2013-01-03      4     8     41       0\n",
            "133301 2013-01-04      4     8     44       0\n",
            "133302 2013-01-05      4     8     34       0\n",
            "...           ...    ...   ...    ...     ...\n",
            "135119 2017-12-27      4     8     72       0\n",
            "135120 2017-12-28      4     8     59       0\n",
            "135121 2017-12-29      4     8     53       0\n",
            "135122 2017-12-30      4     8     76       0\n",
            "135123 2017-12-31      4     8     89       0\n",
            "\n",
            "[1826 rows x 5 columns]\n"
          ]
        },
        {
          "output_type": "stream",
          "name": "stderr",
          "text": [
            "/usr/local/lib/python3.10/dist-packages/statsmodels/tsa/base/tsa_model.py:836: ValueWarning: No supported index is available. Prediction results will be given with an integer index beginning at `start`.\n",
            "  return get_prediction_index(\n",
            "/usr/local/lib/python3.10/dist-packages/statsmodels/tsa/base/tsa_model.py:836: FutureWarning: No supported index is available. In the next version, calling this method in a model without a supported index will result in an exception.\n",
            "  return get_prediction_index(\n"
          ]
        },
        {
          "output_type": "stream",
          "name": "stdout",
          "text": [
            "Finished training model...\n",
            "Predicting for store 5 and item 8\n",
            "             date  store  item  sales  is_hol\n",
            "135124 2013-01-01      5     8     30       1\n",
            "135125 2013-01-02      5     8     23       0\n",
            "135126 2013-01-03      5     8     37       0\n",
            "135127 2013-01-04      5     8     39       0\n",
            "135128 2013-01-05      5     8     37       0\n",
            "...           ...    ...   ...    ...     ...\n",
            "136945 2017-12-27      5     8     40       0\n",
            "136946 2017-12-28      5     8     51       0\n",
            "136947 2017-12-29      5     8     51       0\n",
            "136948 2017-12-30      5     8     68       0\n",
            "136949 2017-12-31      5     8     67       0\n",
            "\n",
            "[1826 rows x 5 columns]\n"
          ]
        },
        {
          "output_type": "stream",
          "name": "stderr",
          "text": [
            "/usr/local/lib/python3.10/dist-packages/statsmodels/tsa/base/tsa_model.py:836: ValueWarning: No supported index is available. Prediction results will be given with an integer index beginning at `start`.\n",
            "  return get_prediction_index(\n",
            "/usr/local/lib/python3.10/dist-packages/statsmodels/tsa/base/tsa_model.py:836: FutureWarning: No supported index is available. In the next version, calling this method in a model without a supported index will result in an exception.\n",
            "  return get_prediction_index(\n"
          ]
        },
        {
          "output_type": "stream",
          "name": "stdout",
          "text": [
            "Finished training model...\n",
            "Predicting for store 6 and item 8\n",
            "             date  store  item  sales  is_hol\n",
            "136950 2013-01-01      6     8     43       1\n",
            "136951 2013-01-02      6     8     32       0\n",
            "136952 2013-01-03      6     8     36       0\n",
            "136953 2013-01-04      6     8     31       0\n",
            "136954 2013-01-05      6     8     32       0\n",
            "...           ...    ...   ...    ...     ...\n",
            "138771 2017-12-27      6     8     49       0\n",
            "138772 2017-12-28      6     8     53       0\n",
            "138773 2017-12-29      6     8     48       0\n",
            "138774 2017-12-30      6     8     57       0\n",
            "138775 2017-12-31      6     8     68       0\n",
            "\n",
            "[1826 rows x 5 columns]\n"
          ]
        },
        {
          "output_type": "stream",
          "name": "stderr",
          "text": [
            "/usr/local/lib/python3.10/dist-packages/statsmodels/tsa/base/tsa_model.py:836: ValueWarning: No supported index is available. Prediction results will be given with an integer index beginning at `start`.\n",
            "  return get_prediction_index(\n",
            "/usr/local/lib/python3.10/dist-packages/statsmodels/tsa/base/tsa_model.py:836: FutureWarning: No supported index is available. In the next version, calling this method in a model without a supported index will result in an exception.\n",
            "  return get_prediction_index(\n"
          ]
        },
        {
          "output_type": "stream",
          "name": "stdout",
          "text": [
            "Finished training model...\n",
            "Predicting for store 7 and item 8\n",
            "             date  store  item  sales  is_hol\n",
            "138776 2013-01-01      7     8     29       1\n",
            "138777 2013-01-02      7     8     32       0\n",
            "138778 2013-01-03      7     8     30       0\n",
            "138779 2013-01-04      7     8     28       0\n",
            "138780 2013-01-05      7     8     42       0\n",
            "...           ...    ...   ...    ...     ...\n",
            "140597 2017-12-27      7     8     42       0\n",
            "140598 2017-12-28      7     8     44       0\n",
            "140599 2017-12-29      7     8     57       0\n",
            "140600 2017-12-30      7     8     61       0\n",
            "140601 2017-12-31      7     8     55       0\n",
            "\n",
            "[1826 rows x 5 columns]\n"
          ]
        },
        {
          "output_type": "stream",
          "name": "stderr",
          "text": [
            "/usr/local/lib/python3.10/dist-packages/statsmodels/tsa/base/tsa_model.py:836: ValueWarning: No supported index is available. Prediction results will be given with an integer index beginning at `start`.\n",
            "  return get_prediction_index(\n",
            "/usr/local/lib/python3.10/dist-packages/statsmodels/tsa/base/tsa_model.py:836: FutureWarning: No supported index is available. In the next version, calling this method in a model without a supported index will result in an exception.\n",
            "  return get_prediction_index(\n"
          ]
        },
        {
          "output_type": "stream",
          "name": "stdout",
          "text": [
            "Finished training model...\n",
            "Predicting for store 8 and item 8\n",
            "             date  store  item  sales  is_hol\n",
            "140602 2013-01-01      8     8     50       1\n",
            "140603 2013-01-02      8     8     61       0\n",
            "140604 2013-01-03      8     8     38       0\n",
            "140605 2013-01-04      8     8     56       0\n",
            "140606 2013-01-05      8     8     60       0\n",
            "...           ...    ...   ...    ...     ...\n",
            "142423 2017-12-27      8     8     60       0\n",
            "142424 2017-12-28      8     8     76       0\n",
            "142425 2017-12-29      8     8     77       0\n",
            "142426 2017-12-30      8     8    102       0\n",
            "142427 2017-12-31      8     8     88       0\n",
            "\n",
            "[1826 rows x 5 columns]\n"
          ]
        },
        {
          "output_type": "stream",
          "name": "stderr",
          "text": [
            "/usr/local/lib/python3.10/dist-packages/statsmodels/tsa/base/tsa_model.py:836: ValueWarning: No supported index is available. Prediction results will be given with an integer index beginning at `start`.\n",
            "  return get_prediction_index(\n",
            "/usr/local/lib/python3.10/dist-packages/statsmodels/tsa/base/tsa_model.py:836: FutureWarning: No supported index is available. In the next version, calling this method in a model without a supported index will result in an exception.\n",
            "  return get_prediction_index(\n"
          ]
        },
        {
          "output_type": "stream",
          "name": "stdout",
          "text": [
            "Finished training model...\n",
            "Predicting for store 9 and item 8\n",
            "             date  store  item  sales  is_hol\n",
            "142428 2013-01-01      9     8     45       1\n",
            "142429 2013-01-02      9     8     43       0\n",
            "142430 2013-01-03      9     8     34       0\n",
            "142431 2013-01-04      9     8     41       0\n",
            "142432 2013-01-05      9     8     49       0\n",
            "...           ...    ...   ...    ...     ...\n",
            "144249 2017-12-27      9     8     52       0\n",
            "144250 2017-12-28      9     8     76       0\n",
            "144251 2017-12-29      9     8     73       0\n",
            "144252 2017-12-30      9     8     74       0\n",
            "144253 2017-12-31      9     8     92       0\n",
            "\n",
            "[1826 rows x 5 columns]\n"
          ]
        },
        {
          "output_type": "stream",
          "name": "stderr",
          "text": [
            "/usr/local/lib/python3.10/dist-packages/statsmodels/tsa/base/tsa_model.py:836: ValueWarning: No supported index is available. Prediction results will be given with an integer index beginning at `start`.\n",
            "  return get_prediction_index(\n",
            "/usr/local/lib/python3.10/dist-packages/statsmodels/tsa/base/tsa_model.py:836: FutureWarning: No supported index is available. In the next version, calling this method in a model without a supported index will result in an exception.\n",
            "  return get_prediction_index(\n"
          ]
        },
        {
          "output_type": "stream",
          "name": "stdout",
          "text": [
            "Finished training model...\n",
            "Predicting for store 10 and item 8\n",
            "             date  store  item  sales  is_hol\n",
            "144254 2013-01-01     10     8     49       1\n",
            "144255 2013-01-02     10     8     38       0\n",
            "144256 2013-01-03     10     8     37       0\n",
            "144257 2013-01-04     10     8     44       0\n",
            "144258 2013-01-05     10     8     58       0\n",
            "...           ...    ...   ...    ...     ...\n",
            "146075 2017-12-27     10     8     60       0\n",
            "146076 2017-12-28     10     8     65       0\n",
            "146077 2017-12-29     10     8     65       0\n",
            "146078 2017-12-30     10     8     81       0\n",
            "146079 2017-12-31     10     8    102       0\n",
            "\n",
            "[1826 rows x 5 columns]\n"
          ]
        },
        {
          "output_type": "stream",
          "name": "stderr",
          "text": [
            "/usr/local/lib/python3.10/dist-packages/statsmodels/tsa/base/tsa_model.py:836: ValueWarning: No supported index is available. Prediction results will be given with an integer index beginning at `start`.\n",
            "  return get_prediction_index(\n",
            "/usr/local/lib/python3.10/dist-packages/statsmodels/tsa/base/tsa_model.py:836: FutureWarning: No supported index is available. In the next version, calling this method in a model without a supported index will result in an exception.\n",
            "  return get_prediction_index(\n"
          ]
        },
        {
          "output_type": "stream",
          "name": "stdout",
          "text": [
            "Finished training model...\n",
            "Predicting for store 1 and item 9\n",
            "             date  store  item  sales  is_hol\n",
            "146080 2013-01-01      1     9     18       1\n",
            "146081 2013-01-02      1     9     23       0\n",
            "146082 2013-01-03      1     9     25       0\n",
            "146083 2013-01-04      1     9     22       0\n",
            "146084 2013-01-05      1     9     29       0\n",
            "...           ...    ...   ...    ...     ...\n",
            "147901 2017-12-27      1     9     37       0\n",
            "147902 2017-12-28      1     9     34       0\n",
            "147903 2017-12-29      1     9     46       0\n",
            "147904 2017-12-30      1     9     37       0\n",
            "147905 2017-12-31      1     9     50       0\n",
            "\n",
            "[1826 rows x 5 columns]\n"
          ]
        },
        {
          "output_type": "stream",
          "name": "stderr",
          "text": [
            "/usr/local/lib/python3.10/dist-packages/statsmodels/tsa/base/tsa_model.py:836: ValueWarning: No supported index is available. Prediction results will be given with an integer index beginning at `start`.\n",
            "  return get_prediction_index(\n",
            "/usr/local/lib/python3.10/dist-packages/statsmodels/tsa/base/tsa_model.py:836: FutureWarning: No supported index is available. In the next version, calling this method in a model without a supported index will result in an exception.\n",
            "  return get_prediction_index(\n"
          ]
        },
        {
          "output_type": "stream",
          "name": "stdout",
          "text": [
            "Finished training model...\n",
            "Predicting for store 2 and item 9\n",
            "             date  store  item  sales  is_hol\n",
            "147906 2013-01-01      2     9     28       1\n",
            "147907 2013-01-02      2     9     21       0\n",
            "147908 2013-01-03      2     9     29       0\n",
            "147909 2013-01-04      2     9     32       0\n",
            "147910 2013-01-05      2     9     45       0\n",
            "...           ...    ...   ...    ...     ...\n",
            "149727 2017-12-27      2     9     51       0\n",
            "149728 2017-12-28      2     9     60       0\n",
            "149729 2017-12-29      2     9     48       0\n",
            "149730 2017-12-30      2     9     58       0\n",
            "149731 2017-12-31      2     9     75       0\n",
            "\n",
            "[1826 rows x 5 columns]\n"
          ]
        },
        {
          "output_type": "stream",
          "name": "stderr",
          "text": [
            "/usr/local/lib/python3.10/dist-packages/statsmodels/tsa/base/tsa_model.py:836: ValueWarning: No supported index is available. Prediction results will be given with an integer index beginning at `start`.\n",
            "  return get_prediction_index(\n",
            "/usr/local/lib/python3.10/dist-packages/statsmodels/tsa/base/tsa_model.py:836: FutureWarning: No supported index is available. In the next version, calling this method in a model without a supported index will result in an exception.\n",
            "  return get_prediction_index(\n"
          ]
        },
        {
          "output_type": "stream",
          "name": "stdout",
          "text": [
            "Finished training model...\n",
            "Predicting for store 3 and item 9\n",
            "             date  store  item  sales  is_hol\n",
            "149732 2013-01-01      3     9     28       1\n",
            "149733 2013-01-02      3     9     16       0\n",
            "149734 2013-01-03      3     9     32       0\n",
            "149735 2013-01-04      3     9     40       0\n",
            "149736 2013-01-05      3     9     44       0\n",
            "...           ...    ...   ...    ...     ...\n",
            "151553 2017-12-27      3     9     46       0\n",
            "151554 2017-12-28      3     9     61       0\n",
            "151555 2017-12-29      3     9     54       0\n",
            "151556 2017-12-30      3     9     48       0\n",
            "151557 2017-12-31      3     9     58       0\n",
            "\n",
            "[1826 rows x 5 columns]\n"
          ]
        },
        {
          "output_type": "stream",
          "name": "stderr",
          "text": [
            "/usr/local/lib/python3.10/dist-packages/statsmodels/tsa/base/tsa_model.py:836: ValueWarning: No supported index is available. Prediction results will be given with an integer index beginning at `start`.\n",
            "  return get_prediction_index(\n",
            "/usr/local/lib/python3.10/dist-packages/statsmodels/tsa/base/tsa_model.py:836: FutureWarning: No supported index is available. In the next version, calling this method in a model without a supported index will result in an exception.\n",
            "  return get_prediction_index(\n"
          ]
        },
        {
          "output_type": "stream",
          "name": "stdout",
          "text": [
            "Finished training model...\n",
            "Predicting for store 4 and item 9\n",
            "             date  store  item  sales  is_hol\n",
            "151558 2013-01-01      4     9     19       1\n",
            "151559 2013-01-02      4     9     21       0\n",
            "151560 2013-01-03      4     9     25       0\n",
            "151561 2013-01-04      4     9     37       0\n",
            "151562 2013-01-05      4     9     37       0\n",
            "...           ...    ...   ...    ...     ...\n",
            "153379 2017-12-27      4     9     36       0\n",
            "153380 2017-12-28      4     9     43       0\n",
            "153381 2017-12-29      4     9     59       0\n",
            "153382 2017-12-30      4     9     46       0\n",
            "153383 2017-12-31      4     9     62       0\n",
            "\n",
            "[1826 rows x 5 columns]\n"
          ]
        },
        {
          "output_type": "stream",
          "name": "stderr",
          "text": [
            "/usr/local/lib/python3.10/dist-packages/statsmodels/tsa/base/tsa_model.py:836: ValueWarning: No supported index is available. Prediction results will be given with an integer index beginning at `start`.\n",
            "  return get_prediction_index(\n",
            "/usr/local/lib/python3.10/dist-packages/statsmodels/tsa/base/tsa_model.py:836: FutureWarning: No supported index is available. In the next version, calling this method in a model without a supported index will result in an exception.\n",
            "  return get_prediction_index(\n"
          ]
        },
        {
          "output_type": "stream",
          "name": "stdout",
          "text": [
            "Finished training model...\n",
            "Predicting for store 5 and item 9\n",
            "             date  store  item  sales  is_hol\n",
            "153384 2013-01-01      5     9     21       1\n",
            "153385 2013-01-02      5     9     20       0\n",
            "153386 2013-01-03      5     9     15       0\n",
            "153387 2013-01-04      5     9     20       0\n",
            "153388 2013-01-05      5     9     23       0\n",
            "...           ...    ...   ...    ...     ...\n",
            "155205 2017-12-27      5     9     30       0\n",
            "155206 2017-12-28      5     9     24       0\n",
            "155207 2017-12-29      5     9     33       0\n",
            "155208 2017-12-30      5     9     50       0\n",
            "155209 2017-12-31      5     9     45       0\n",
            "\n",
            "[1826 rows x 5 columns]\n"
          ]
        },
        {
          "output_type": "stream",
          "name": "stderr",
          "text": [
            "/usr/local/lib/python3.10/dist-packages/statsmodels/tsa/base/tsa_model.py:836: ValueWarning: No supported index is available. Prediction results will be given with an integer index beginning at `start`.\n",
            "  return get_prediction_index(\n",
            "/usr/local/lib/python3.10/dist-packages/statsmodels/tsa/base/tsa_model.py:836: FutureWarning: No supported index is available. In the next version, calling this method in a model without a supported index will result in an exception.\n",
            "  return get_prediction_index(\n"
          ]
        },
        {
          "output_type": "stream",
          "name": "stdout",
          "text": [
            "Finished training model...\n",
            "Predicting for store 6 and item 9\n",
            "             date  store  item  sales  is_hol\n",
            "155210 2013-01-01      6     9     25       1\n",
            "155211 2013-01-02      6     9     17       0\n",
            "155212 2013-01-03      6     9     28       0\n",
            "155213 2013-01-04      6     9     33       0\n",
            "155214 2013-01-05      6     9     27       0\n",
            "...           ...    ...   ...    ...     ...\n",
            "157031 2017-12-27      6     9     40       0\n",
            "157032 2017-12-28      6     9     27       0\n",
            "157033 2017-12-29      6     9     44       0\n",
            "157034 2017-12-30      6     9     45       0\n",
            "157035 2017-12-31      6     9     49       0\n",
            "\n",
            "[1826 rows x 5 columns]\n"
          ]
        },
        {
          "output_type": "stream",
          "name": "stderr",
          "text": [
            "/usr/local/lib/python3.10/dist-packages/statsmodels/tsa/base/tsa_model.py:836: ValueWarning: No supported index is available. Prediction results will be given with an integer index beginning at `start`.\n",
            "  return get_prediction_index(\n",
            "/usr/local/lib/python3.10/dist-packages/statsmodels/tsa/base/tsa_model.py:836: FutureWarning: No supported index is available. In the next version, calling this method in a model without a supported index will result in an exception.\n",
            "  return get_prediction_index(\n"
          ]
        },
        {
          "output_type": "stream",
          "name": "stdout",
          "text": [
            "Finished training model...\n",
            "Predicting for store 7 and item 9\n",
            "             date  store  item  sales  is_hol\n",
            "157036 2013-01-01      7     9     27       1\n",
            "157037 2013-01-02      7     9     20       0\n",
            "157038 2013-01-03      7     9     18       0\n",
            "157039 2013-01-04      7     9     24       0\n",
            "157040 2013-01-05      7     9     14       0\n",
            "...           ...    ...   ...    ...     ...\n",
            "158857 2017-12-27      7     9     25       0\n",
            "158858 2017-12-28      7     9     27       0\n",
            "158859 2017-12-29      7     9     24       0\n",
            "158860 2017-12-30      7     9     27       0\n",
            "158861 2017-12-31      7     9     38       0\n",
            "\n",
            "[1826 rows x 5 columns]\n"
          ]
        },
        {
          "output_type": "stream",
          "name": "stderr",
          "text": [
            "/usr/local/lib/python3.10/dist-packages/statsmodels/tsa/base/tsa_model.py:836: ValueWarning: No supported index is available. Prediction results will be given with an integer index beginning at `start`.\n",
            "  return get_prediction_index(\n",
            "/usr/local/lib/python3.10/dist-packages/statsmodels/tsa/base/tsa_model.py:836: FutureWarning: No supported index is available. In the next version, calling this method in a model without a supported index will result in an exception.\n",
            "  return get_prediction_index(\n"
          ]
        },
        {
          "output_type": "stream",
          "name": "stdout",
          "text": [
            "Finished training model...\n",
            "Predicting for store 8 and item 9\n",
            "             date  store  item  sales  is_hol\n",
            "158862 2013-01-01      8     9     29       1\n",
            "158863 2013-01-02      8     9     28       0\n",
            "158864 2013-01-03      8     9     31       0\n",
            "158865 2013-01-04      8     9     46       0\n",
            "158866 2013-01-05      8     9     35       0\n",
            "...           ...    ...   ...    ...     ...\n",
            "160683 2017-12-27      8     9     34       0\n",
            "160684 2017-12-28      8     9     57       0\n",
            "160685 2017-12-29      8     9     74       0\n",
            "160686 2017-12-30      8     9     64       0\n",
            "160687 2017-12-31      8     9     66       0\n",
            "\n",
            "[1826 rows x 5 columns]\n"
          ]
        },
        {
          "output_type": "stream",
          "name": "stderr",
          "text": [
            "/usr/local/lib/python3.10/dist-packages/statsmodels/tsa/base/tsa_model.py:836: ValueWarning: No supported index is available. Prediction results will be given with an integer index beginning at `start`.\n",
            "  return get_prediction_index(\n",
            "/usr/local/lib/python3.10/dist-packages/statsmodels/tsa/base/tsa_model.py:836: FutureWarning: No supported index is available. In the next version, calling this method in a model without a supported index will result in an exception.\n",
            "  return get_prediction_index(\n"
          ]
        },
        {
          "output_type": "stream",
          "name": "stdout",
          "text": [
            "Finished training model...\n",
            "Predicting for store 9 and item 9\n",
            "             date  store  item  sales  is_hol\n",
            "160688 2013-01-01      9     9     27       1\n",
            "160689 2013-01-02      9     9     36       0\n",
            "160690 2013-01-03      9     9     25       0\n",
            "160691 2013-01-04      9     9     31       0\n",
            "160692 2013-01-05      9     9     30       0\n",
            "...           ...    ...   ...    ...     ...\n",
            "162509 2017-12-27      9     9     44       0\n",
            "162510 2017-12-28      9     9     48       0\n",
            "162511 2017-12-29      9     9     54       0\n",
            "162512 2017-12-30      9     9     59       0\n",
            "162513 2017-12-31      9     9     50       0\n",
            "\n",
            "[1826 rows x 5 columns]\n"
          ]
        },
        {
          "output_type": "stream",
          "name": "stderr",
          "text": [
            "/usr/local/lib/python3.10/dist-packages/statsmodels/tsa/base/tsa_model.py:836: ValueWarning: No supported index is available. Prediction results will be given with an integer index beginning at `start`.\n",
            "  return get_prediction_index(\n",
            "/usr/local/lib/python3.10/dist-packages/statsmodels/tsa/base/tsa_model.py:836: FutureWarning: No supported index is available. In the next version, calling this method in a model without a supported index will result in an exception.\n",
            "  return get_prediction_index(\n"
          ]
        },
        {
          "output_type": "stream",
          "name": "stdout",
          "text": [
            "Finished training model...\n",
            "Predicting for store 10 and item 9\n",
            "             date  store  item  sales  is_hol\n",
            "162514 2013-01-01     10     9     23       1\n",
            "162515 2013-01-02     10     9     23       0\n",
            "162516 2013-01-03     10     9     37       0\n",
            "162517 2013-01-04     10     9     28       0\n",
            "162518 2013-01-05     10     9     35       0\n",
            "...           ...    ...   ...    ...     ...\n",
            "164335 2017-12-27     10     9     44       0\n",
            "164336 2017-12-28     10     9     39       0\n",
            "164337 2017-12-29     10     9     58       0\n",
            "164338 2017-12-30     10     9     58       0\n",
            "164339 2017-12-31     10     9     51       0\n",
            "\n",
            "[1826 rows x 5 columns]\n"
          ]
        },
        {
          "output_type": "stream",
          "name": "stderr",
          "text": [
            "/usr/local/lib/python3.10/dist-packages/statsmodels/tsa/base/tsa_model.py:836: ValueWarning: No supported index is available. Prediction results will be given with an integer index beginning at `start`.\n",
            "  return get_prediction_index(\n",
            "/usr/local/lib/python3.10/dist-packages/statsmodels/tsa/base/tsa_model.py:836: FutureWarning: No supported index is available. In the next version, calling this method in a model without a supported index will result in an exception.\n",
            "  return get_prediction_index(\n"
          ]
        },
        {
          "output_type": "stream",
          "name": "stdout",
          "text": [
            "Finished training model...\n",
            "Predicting for store 1 and item 10\n",
            "             date  store  item  sales  is_hol\n",
            "164340 2013-01-01      1    10     37       1\n",
            "164341 2013-01-02      1    10     34       0\n",
            "164342 2013-01-03      1    10     32       0\n",
            "164343 2013-01-04      1    10     45       0\n",
            "164344 2013-01-05      1    10     35       0\n",
            "...           ...    ...   ...    ...     ...\n",
            "166161 2017-12-27      1    10     55       0\n",
            "166162 2017-12-28      1    10     63       0\n",
            "166163 2017-12-29      1    10     56       0\n",
            "166164 2017-12-30      1    10     78       0\n",
            "166165 2017-12-31      1    10     74       0\n",
            "\n",
            "[1826 rows x 5 columns]\n"
          ]
        },
        {
          "output_type": "stream",
          "name": "stderr",
          "text": [
            "/usr/local/lib/python3.10/dist-packages/statsmodels/tsa/base/tsa_model.py:836: ValueWarning: No supported index is available. Prediction results will be given with an integer index beginning at `start`.\n",
            "  return get_prediction_index(\n",
            "/usr/local/lib/python3.10/dist-packages/statsmodels/tsa/base/tsa_model.py:836: FutureWarning: No supported index is available. In the next version, calling this method in a model without a supported index will result in an exception.\n",
            "  return get_prediction_index(\n"
          ]
        },
        {
          "output_type": "stream",
          "name": "stdout",
          "text": [
            "Finished training model...\n",
            "Predicting for store 2 and item 10\n",
            "             date  store  item  sales  is_hol\n",
            "166166 2013-01-01      2    10     51       1\n",
            "166167 2013-01-02      2    10     56       0\n",
            "166168 2013-01-03      2    10     46       0\n",
            "166169 2013-01-04      2    10     56       0\n",
            "166170 2013-01-05      2    10     53       0\n",
            "...           ...    ...   ...    ...     ...\n",
            "167987 2017-12-27      2    10     63       0\n",
            "167988 2017-12-28      2    10     78       0\n",
            "167989 2017-12-29      2    10     76       0\n",
            "167990 2017-12-30      2    10     77       0\n",
            "167991 2017-12-31      2    10    116       0\n",
            "\n",
            "[1826 rows x 5 columns]\n"
          ]
        },
        {
          "output_type": "stream",
          "name": "stderr",
          "text": [
            "/usr/local/lib/python3.10/dist-packages/statsmodels/tsa/base/tsa_model.py:836: ValueWarning: No supported index is available. Prediction results will be given with an integer index beginning at `start`.\n",
            "  return get_prediction_index(\n",
            "/usr/local/lib/python3.10/dist-packages/statsmodels/tsa/base/tsa_model.py:836: FutureWarning: No supported index is available. In the next version, calling this method in a model without a supported index will result in an exception.\n",
            "  return get_prediction_index(\n"
          ]
        },
        {
          "output_type": "stream",
          "name": "stdout",
          "text": [
            "Finished training model...\n",
            "Predicting for store 3 and item 10\n",
            "             date  store  item  sales  is_hol\n",
            "167992 2013-01-01      3    10     38       1\n",
            "167993 2013-01-02      3    10     60       0\n",
            "167994 2013-01-03      3    10     50       0\n",
            "167995 2013-01-04      3    10     46       0\n",
            "167996 2013-01-05      3    10     46       0\n",
            "...           ...    ...   ...    ...     ...\n",
            "169813 2017-12-27      3    10     51       0\n",
            "169814 2017-12-28      3    10     56       0\n",
            "169815 2017-12-29      3    10     61       0\n",
            "169816 2017-12-30      3    10     72       0\n",
            "169817 2017-12-31      3    10     68       0\n",
            "\n",
            "[1826 rows x 5 columns]\n"
          ]
        },
        {
          "output_type": "stream",
          "name": "stderr",
          "text": [
            "/usr/local/lib/python3.10/dist-packages/statsmodels/tsa/base/tsa_model.py:836: ValueWarning: No supported index is available. Prediction results will be given with an integer index beginning at `start`.\n",
            "  return get_prediction_index(\n",
            "/usr/local/lib/python3.10/dist-packages/statsmodels/tsa/base/tsa_model.py:836: FutureWarning: No supported index is available. In the next version, calling this method in a model without a supported index will result in an exception.\n",
            "  return get_prediction_index(\n"
          ]
        },
        {
          "output_type": "stream",
          "name": "stdout",
          "text": [
            "Finished training model...\n",
            "Predicting for store 4 and item 10\n",
            "             date  store  item  sales  is_hol\n",
            "169818 2013-01-01      4    10     30       1\n",
            "169819 2013-01-02      4    10     29       0\n",
            "169820 2013-01-03      4    10     37       0\n",
            "169821 2013-01-04      4    10     45       0\n",
            "169822 2013-01-05      4    10     52       0\n",
            "...           ...    ...   ...    ...     ...\n",
            "171639 2017-12-27      4    10     57       0\n",
            "171640 2017-12-28      4    10     53       0\n",
            "171641 2017-12-29      4    10     65       0\n",
            "171642 2017-12-30      4    10     74       0\n",
            "171643 2017-12-31      4    10     69       0\n",
            "\n",
            "[1826 rows x 5 columns]\n"
          ]
        },
        {
          "output_type": "stream",
          "name": "stderr",
          "text": [
            "/usr/local/lib/python3.10/dist-packages/statsmodels/tsa/base/tsa_model.py:836: ValueWarning: No supported index is available. Prediction results will be given with an integer index beginning at `start`.\n",
            "  return get_prediction_index(\n",
            "/usr/local/lib/python3.10/dist-packages/statsmodels/tsa/base/tsa_model.py:836: FutureWarning: No supported index is available. In the next version, calling this method in a model without a supported index will result in an exception.\n",
            "  return get_prediction_index(\n"
          ]
        },
        {
          "output_type": "stream",
          "name": "stdout",
          "text": [
            "Finished training model...\n",
            "Predicting for store 5 and item 10\n",
            "             date  store  item  sales  is_hol\n",
            "171644 2013-01-01      5    10     31       1\n",
            "171645 2013-01-02      5    10     28       0\n",
            "171646 2013-01-03      5    10     23       0\n",
            "171647 2013-01-04      5    10     32       0\n",
            "171648 2013-01-05      5    10     30       0\n",
            "...           ...    ...   ...    ...     ...\n",
            "173465 2017-12-27      5    10     53       0\n",
            "173466 2017-12-28      5    10     42       0\n",
            "173467 2017-12-29      5    10     49       0\n",
            "173468 2017-12-30      5    10     53       0\n",
            "173469 2017-12-31      5    10     50       0\n",
            "\n",
            "[1826 rows x 5 columns]\n"
          ]
        },
        {
          "output_type": "stream",
          "name": "stderr",
          "text": [
            "/usr/local/lib/python3.10/dist-packages/statsmodels/tsa/base/tsa_model.py:836: ValueWarning: No supported index is available. Prediction results will be given with an integer index beginning at `start`.\n",
            "  return get_prediction_index(\n",
            "/usr/local/lib/python3.10/dist-packages/statsmodels/tsa/base/tsa_model.py:836: FutureWarning: No supported index is available. In the next version, calling this method in a model without a supported index will result in an exception.\n",
            "  return get_prediction_index(\n"
          ]
        },
        {
          "output_type": "stream",
          "name": "stdout",
          "text": [
            "Finished training model...\n",
            "Predicting for store 6 and item 10\n",
            "             date  store  item  sales  is_hol\n",
            "173470 2013-01-01      6    10     29       1\n",
            "173471 2013-01-02      6    10     26       0\n",
            "173472 2013-01-03      6    10     34       0\n",
            "173473 2013-01-04      6    10     42       0\n",
            "173474 2013-01-05      6    10     45       0\n",
            "...           ...    ...   ...    ...     ...\n",
            "175291 2017-12-27      6    10     38       0\n",
            "175292 2017-12-28      6    10     51       0\n",
            "175293 2017-12-29      6    10     47       0\n",
            "175294 2017-12-30      6    10     56       0\n",
            "175295 2017-12-31      6    10     58       0\n",
            "\n",
            "[1826 rows x 5 columns]\n"
          ]
        },
        {
          "output_type": "stream",
          "name": "stderr",
          "text": [
            "/usr/local/lib/python3.10/dist-packages/statsmodels/tsa/base/tsa_model.py:836: ValueWarning: No supported index is available. Prediction results will be given with an integer index beginning at `start`.\n",
            "  return get_prediction_index(\n",
            "/usr/local/lib/python3.10/dist-packages/statsmodels/tsa/base/tsa_model.py:836: FutureWarning: No supported index is available. In the next version, calling this method in a model without a supported index will result in an exception.\n",
            "  return get_prediction_index(\n"
          ]
        },
        {
          "output_type": "stream",
          "name": "stdout",
          "text": [
            "Finished training model...\n",
            "Predicting for store 7 and item 10\n",
            "             date  store  item  sales  is_hol\n",
            "175296 2013-01-01      7    10     25       1\n",
            "175297 2013-01-02      7    10     27       0\n",
            "175298 2013-01-03      7    10     26       0\n",
            "175299 2013-01-04      7    10     37       0\n",
            "175300 2013-01-05      7    10     31       0\n",
            "...           ...    ...   ...    ...     ...\n",
            "177117 2017-12-27      7    10     39       0\n",
            "177118 2017-12-28      7    10     44       0\n",
            "177119 2017-12-29      7    10     52       0\n",
            "177120 2017-12-30      7    10     47       0\n",
            "177121 2017-12-31      7    10     52       0\n",
            "\n",
            "[1826 rows x 5 columns]\n"
          ]
        },
        {
          "output_type": "stream",
          "name": "stderr",
          "text": [
            "/usr/local/lib/python3.10/dist-packages/statsmodels/tsa/base/tsa_model.py:836: ValueWarning: No supported index is available. Prediction results will be given with an integer index beginning at `start`.\n",
            "  return get_prediction_index(\n",
            "/usr/local/lib/python3.10/dist-packages/statsmodels/tsa/base/tsa_model.py:836: FutureWarning: No supported index is available. In the next version, calling this method in a model without a supported index will result in an exception.\n",
            "  return get_prediction_index(\n"
          ]
        },
        {
          "output_type": "stream",
          "name": "stdout",
          "text": [
            "Finished training model...\n",
            "Predicting for store 8 and item 10\n",
            "             date  store  item  sales  is_hol\n",
            "177122 2013-01-01      8    10     47       1\n",
            "177123 2013-01-02      8    10     45       0\n",
            "177124 2013-01-03      8    10     46       0\n",
            "177125 2013-01-04      8    10     62       0\n",
            "177126 2013-01-05      8    10     51       0\n",
            "...           ...    ...   ...    ...     ...\n",
            "178943 2017-12-27      8    10     67       0\n",
            "178944 2017-12-28      8    10     85       0\n",
            "178945 2017-12-29      8    10     66       0\n",
            "178946 2017-12-30      8    10     80       0\n",
            "178947 2017-12-31      8    10     87       0\n",
            "\n",
            "[1826 rows x 5 columns]\n"
          ]
        },
        {
          "output_type": "stream",
          "name": "stderr",
          "text": [
            "/usr/local/lib/python3.10/dist-packages/statsmodels/tsa/base/tsa_model.py:836: ValueWarning: No supported index is available. Prediction results will be given with an integer index beginning at `start`.\n",
            "  return get_prediction_index(\n",
            "/usr/local/lib/python3.10/dist-packages/statsmodels/tsa/base/tsa_model.py:836: FutureWarning: No supported index is available. In the next version, calling this method in a model without a supported index will result in an exception.\n",
            "  return get_prediction_index(\n"
          ]
        },
        {
          "output_type": "stream",
          "name": "stdout",
          "text": [
            "Finished training model...\n",
            "Predicting for store 9 and item 10\n",
            "             date  store  item  sales  is_hol\n",
            "178948 2013-01-01      9    10     45       1\n",
            "178949 2013-01-02      9    10     42       0\n",
            "178950 2013-01-03      9    10     41       0\n",
            "178951 2013-01-04      9    10     46       0\n",
            "178952 2013-01-05      9    10     52       0\n",
            "...           ...    ...   ...    ...     ...\n",
            "180769 2017-12-27      9    10     51       0\n",
            "180770 2017-12-28      9    10     56       0\n",
            "180771 2017-12-29      9    10     76       0\n",
            "180772 2017-12-30      9    10     75       0\n",
            "180773 2017-12-31      9    10     80       0\n",
            "\n",
            "[1826 rows x 5 columns]\n"
          ]
        },
        {
          "output_type": "stream",
          "name": "stderr",
          "text": [
            "/usr/local/lib/python3.10/dist-packages/statsmodels/tsa/base/tsa_model.py:836: ValueWarning: No supported index is available. Prediction results will be given with an integer index beginning at `start`.\n",
            "  return get_prediction_index(\n",
            "/usr/local/lib/python3.10/dist-packages/statsmodels/tsa/base/tsa_model.py:836: FutureWarning: No supported index is available. In the next version, calling this method in a model without a supported index will result in an exception.\n",
            "  return get_prediction_index(\n"
          ]
        },
        {
          "output_type": "stream",
          "name": "stdout",
          "text": [
            "Finished training model...\n",
            "Predicting for store 10 and item 10\n",
            "             date  store  item  sales  is_hol\n",
            "180774 2013-01-01     10    10     45       1\n",
            "180775 2013-01-02     10    10     50       0\n",
            "180776 2013-01-03     10    10     53       0\n",
            "180777 2013-01-04     10    10     51       0\n",
            "180778 2013-01-05     10    10     54       0\n",
            "...           ...    ...   ...    ...     ...\n",
            "182595 2017-12-27     10    10     72       0\n",
            "182596 2017-12-28     10    10     81       0\n",
            "182597 2017-12-29     10    10     69       0\n",
            "182598 2017-12-30     10    10     86       0\n",
            "182599 2017-12-31     10    10     67       0\n",
            "\n",
            "[1826 rows x 5 columns]\n"
          ]
        },
        {
          "output_type": "stream",
          "name": "stderr",
          "text": [
            "/usr/local/lib/python3.10/dist-packages/statsmodels/tsa/base/tsa_model.py:836: ValueWarning: No supported index is available. Prediction results will be given with an integer index beginning at `start`.\n",
            "  return get_prediction_index(\n",
            "/usr/local/lib/python3.10/dist-packages/statsmodels/tsa/base/tsa_model.py:836: FutureWarning: No supported index is available. In the next version, calling this method in a model without a supported index will result in an exception.\n",
            "  return get_prediction_index(\n"
          ]
        },
        {
          "output_type": "stream",
          "name": "stdout",
          "text": [
            "Finished training model...\n",
            "Predicting for store 1 and item 11\n",
            "             date  store  item  sales  is_hol\n",
            "182600 2013-01-01      1    11     37       1\n",
            "182601 2013-01-02      1    11     43       0\n",
            "182602 2013-01-03      1    11     34       0\n",
            "182603 2013-01-04      1    11     52       0\n",
            "182604 2013-01-05      1    11     45       0\n",
            "...           ...    ...   ...    ...     ...\n",
            "184421 2017-12-27      1    11     43       0\n",
            "184422 2017-12-28      1    11     64       0\n",
            "184423 2017-12-29      1    11     60       0\n",
            "184424 2017-12-30      1    11     66       0\n",
            "184425 2017-12-31      1    11     44       0\n",
            "\n",
            "[1826 rows x 5 columns]\n"
          ]
        },
        {
          "output_type": "stream",
          "name": "stderr",
          "text": [
            "/usr/local/lib/python3.10/dist-packages/statsmodels/tsa/base/tsa_model.py:836: ValueWarning: No supported index is available. Prediction results will be given with an integer index beginning at `start`.\n",
            "  return get_prediction_index(\n",
            "/usr/local/lib/python3.10/dist-packages/statsmodels/tsa/base/tsa_model.py:836: FutureWarning: No supported index is available. In the next version, calling this method in a model without a supported index will result in an exception.\n",
            "  return get_prediction_index(\n"
          ]
        },
        {
          "output_type": "stream",
          "name": "stdout",
          "text": [
            "Finished training model...\n",
            "Predicting for store 2 and item 11\n",
            "             date  store  item  sales  is_hol\n",
            "184426 2013-01-01      2    11     51       1\n",
            "184427 2013-01-02      2    11     56       0\n",
            "184428 2013-01-03      2    11     51       0\n",
            "184429 2013-01-04      2    11     47       0\n",
            "184430 2013-01-05      2    11     62       0\n",
            "...           ...    ...   ...    ...     ...\n",
            "186247 2017-12-27      2    11     62       0\n",
            "186248 2017-12-28      2    11     71       0\n",
            "186249 2017-12-29      2    11     87       0\n",
            "186250 2017-12-30      2    11     90       0\n",
            "186251 2017-12-31      2    11    110       0\n",
            "\n",
            "[1826 rows x 5 columns]\n"
          ]
        },
        {
          "output_type": "stream",
          "name": "stderr",
          "text": [
            "/usr/local/lib/python3.10/dist-packages/statsmodels/tsa/base/tsa_model.py:836: ValueWarning: No supported index is available. Prediction results will be given with an integer index beginning at `start`.\n",
            "  return get_prediction_index(\n",
            "/usr/local/lib/python3.10/dist-packages/statsmodels/tsa/base/tsa_model.py:836: FutureWarning: No supported index is available. In the next version, calling this method in a model without a supported index will result in an exception.\n",
            "  return get_prediction_index(\n"
          ]
        },
        {
          "output_type": "stream",
          "name": "stdout",
          "text": [
            "Finished training model...\n",
            "Predicting for store 3 and item 11\n",
            "             date  store  item  sales  is_hol\n",
            "186252 2013-01-01      3    11     37       1\n",
            "186253 2013-01-02      3    11     43       0\n",
            "186254 2013-01-03      3    11     36       0\n",
            "186255 2013-01-04      3    11     43       0\n",
            "186256 2013-01-05      3    11     43       0\n",
            "...           ...    ...   ...    ...     ...\n",
            "188073 2017-12-27      3    11     67       0\n",
            "188074 2017-12-28      3    11     70       0\n",
            "188075 2017-12-29      3    11     79       0\n",
            "188076 2017-12-30      3    11     72       0\n",
            "188077 2017-12-31      3    11     90       0\n",
            "\n",
            "[1826 rows x 5 columns]\n"
          ]
        },
        {
          "output_type": "stream",
          "name": "stderr",
          "text": [
            "/usr/local/lib/python3.10/dist-packages/statsmodels/tsa/base/tsa_model.py:836: ValueWarning: No supported index is available. Prediction results will be given with an integer index beginning at `start`.\n",
            "  return get_prediction_index(\n",
            "/usr/local/lib/python3.10/dist-packages/statsmodels/tsa/base/tsa_model.py:836: FutureWarning: No supported index is available. In the next version, calling this method in a model without a supported index will result in an exception.\n",
            "  return get_prediction_index(\n"
          ]
        },
        {
          "output_type": "stream",
          "name": "stdout",
          "text": [
            "Finished training model...\n",
            "Predicting for store 4 and item 11\n",
            "             date  store  item  sales  is_hol\n",
            "188078 2013-01-01      4    11     47       1\n",
            "188079 2013-01-02      4    11     48       0\n",
            "188080 2013-01-03      4    11     58       0\n",
            "188081 2013-01-04      4    11     47       0\n",
            "188082 2013-01-05      4    11     49       0\n",
            "...           ...    ...   ...    ...     ...\n",
            "189899 2017-12-27      4    11     62       0\n",
            "189900 2017-12-28      4    11     64       0\n",
            "189901 2017-12-29      4    11     74       0\n",
            "189902 2017-12-30      4    11     75       0\n",
            "189903 2017-12-31      4    11     80       0\n",
            "\n",
            "[1826 rows x 5 columns]\n"
          ]
        },
        {
          "output_type": "stream",
          "name": "stderr",
          "text": [
            "/usr/local/lib/python3.10/dist-packages/statsmodels/tsa/base/tsa_model.py:836: ValueWarning: No supported index is available. Prediction results will be given with an integer index beginning at `start`.\n",
            "  return get_prediction_index(\n",
            "/usr/local/lib/python3.10/dist-packages/statsmodels/tsa/base/tsa_model.py:836: FutureWarning: No supported index is available. In the next version, calling this method in a model without a supported index will result in an exception.\n",
            "  return get_prediction_index(\n"
          ]
        },
        {
          "output_type": "stream",
          "name": "stdout",
          "text": [
            "Finished training model...\n",
            "Predicting for store 5 and item 11\n",
            "             date  store  item  sales  is_hol\n",
            "189904 2013-01-01      5    11     26       1\n",
            "189905 2013-01-02      5    11     21       0\n",
            "189906 2013-01-03      5    11     28       0\n",
            "189907 2013-01-04      5    11     43       0\n",
            "189908 2013-01-05      5    11     25       0\n",
            "...           ...    ...   ...    ...     ...\n",
            "191725 2017-12-27      5    11     46       0\n",
            "191726 2017-12-28      5    11     49       0\n",
            "191727 2017-12-29      5    11     49       0\n",
            "191728 2017-12-30      5    11     56       0\n",
            "191729 2017-12-31      5    11     45       0\n",
            "\n",
            "[1826 rows x 5 columns]\n"
          ]
        },
        {
          "output_type": "stream",
          "name": "stderr",
          "text": [
            "/usr/local/lib/python3.10/dist-packages/statsmodels/tsa/base/tsa_model.py:836: ValueWarning: No supported index is available. Prediction results will be given with an integer index beginning at `start`.\n",
            "  return get_prediction_index(\n",
            "/usr/local/lib/python3.10/dist-packages/statsmodels/tsa/base/tsa_model.py:836: FutureWarning: No supported index is available. In the next version, calling this method in a model without a supported index will result in an exception.\n",
            "  return get_prediction_index(\n"
          ]
        },
        {
          "output_type": "stream",
          "name": "stdout",
          "text": [
            "Finished training model...\n",
            "Predicting for store 6 and item 11\n",
            "             date  store  item  sales  is_hol\n",
            "191730 2013-01-01      6    11     26       1\n",
            "191731 2013-01-02      6    11     26       0\n",
            "191732 2013-01-03      6    11     31       0\n",
            "191733 2013-01-04      6    11     39       0\n",
            "191734 2013-01-05      6    11     33       0\n",
            "...           ...    ...   ...    ...     ...\n",
            "193551 2017-12-27      6    11     43       0\n",
            "193552 2017-12-28      6    11     46       0\n",
            "193553 2017-12-29      6    11     41       0\n",
            "193554 2017-12-30      6    11     64       0\n",
            "193555 2017-12-31      6    11     42       0\n",
            "\n",
            "[1826 rows x 5 columns]\n"
          ]
        },
        {
          "output_type": "stream",
          "name": "stderr",
          "text": [
            "/usr/local/lib/python3.10/dist-packages/statsmodels/tsa/base/tsa_model.py:836: ValueWarning: No supported index is available. Prediction results will be given with an integer index beginning at `start`.\n",
            "  return get_prediction_index(\n",
            "/usr/local/lib/python3.10/dist-packages/statsmodels/tsa/base/tsa_model.py:836: FutureWarning: No supported index is available. In the next version, calling this method in a model without a supported index will result in an exception.\n",
            "  return get_prediction_index(\n"
          ]
        },
        {
          "output_type": "stream",
          "name": "stdout",
          "text": [
            "Finished training model...\n",
            "Predicting for store 7 and item 11\n",
            "             date  store  item  sales  is_hol\n",
            "193556 2013-01-01      7    11     26       1\n",
            "193557 2013-01-02      7    11     25       0\n",
            "193558 2013-01-03      7    11     26       0\n",
            "193559 2013-01-04      7    11     33       0\n",
            "193560 2013-01-05      7    11     34       0\n",
            "...           ...    ...   ...    ...     ...\n",
            "195377 2017-12-27      7    11     49       0\n",
            "195378 2017-12-28      7    11     45       0\n",
            "195379 2017-12-29      7    11     48       0\n",
            "195380 2017-12-30      7    11     38       0\n",
            "195381 2017-12-31      7    11     45       0\n",
            "\n",
            "[1826 rows x 5 columns]\n"
          ]
        },
        {
          "output_type": "stream",
          "name": "stderr",
          "text": [
            "/usr/local/lib/python3.10/dist-packages/statsmodels/tsa/base/tsa_model.py:836: ValueWarning: No supported index is available. Prediction results will be given with an integer index beginning at `start`.\n",
            "  return get_prediction_index(\n",
            "/usr/local/lib/python3.10/dist-packages/statsmodels/tsa/base/tsa_model.py:836: FutureWarning: No supported index is available. In the next version, calling this method in a model without a supported index will result in an exception.\n",
            "  return get_prediction_index(\n"
          ]
        },
        {
          "output_type": "stream",
          "name": "stdout",
          "text": [
            "Finished training model...\n",
            "Predicting for store 8 and item 11\n",
            "             date  store  item  sales  is_hol\n",
            "195382 2013-01-01      8    11     35       1\n",
            "195383 2013-01-02      8    11     44       0\n",
            "195384 2013-01-03      8    11     42       0\n",
            "195385 2013-01-04      8    11     67       0\n",
            "195386 2013-01-05      8    11     50       0\n",
            "...           ...    ...   ...    ...     ...\n",
            "197203 2017-12-27      8    11     70       0\n",
            "197204 2017-12-28      8    11     63       0\n",
            "197205 2017-12-29      8    11     75       0\n",
            "197206 2017-12-30      8    11     92       0\n",
            "197207 2017-12-31      8    11     73       0\n",
            "\n",
            "[1826 rows x 5 columns]\n"
          ]
        },
        {
          "output_type": "stream",
          "name": "stderr",
          "text": [
            "/usr/local/lib/python3.10/dist-packages/statsmodels/tsa/base/tsa_model.py:836: ValueWarning: No supported index is available. Prediction results will be given with an integer index beginning at `start`.\n",
            "  return get_prediction_index(\n",
            "/usr/local/lib/python3.10/dist-packages/statsmodels/tsa/base/tsa_model.py:836: FutureWarning: No supported index is available. In the next version, calling this method in a model without a supported index will result in an exception.\n",
            "  return get_prediction_index(\n"
          ]
        },
        {
          "output_type": "stream",
          "name": "stdout",
          "text": [
            "Finished training model...\n",
            "Predicting for store 9 and item 11\n",
            "             date  store  item  sales  is_hol\n",
            "197208 2013-01-01      9    11     35       1\n",
            "197209 2013-01-02      9    11     43       0\n",
            "197210 2013-01-03      9    11     32       0\n",
            "197211 2013-01-04      9    11     42       0\n",
            "197212 2013-01-05      9    11     45       0\n",
            "...           ...    ...   ...    ...     ...\n",
            "199029 2017-12-27      9    11     60       0\n",
            "199030 2017-12-28      9    11     56       0\n",
            "199031 2017-12-29      9    11     65       0\n",
            "199032 2017-12-30      9    11     80       0\n",
            "199033 2017-12-31      9    11     73       0\n",
            "\n",
            "[1826 rows x 5 columns]\n"
          ]
        },
        {
          "output_type": "stream",
          "name": "stderr",
          "text": [
            "/usr/local/lib/python3.10/dist-packages/statsmodels/tsa/base/tsa_model.py:836: ValueWarning: No supported index is available. Prediction results will be given with an integer index beginning at `start`.\n",
            "  return get_prediction_index(\n",
            "/usr/local/lib/python3.10/dist-packages/statsmodels/tsa/base/tsa_model.py:836: FutureWarning: No supported index is available. In the next version, calling this method in a model without a supported index will result in an exception.\n",
            "  return get_prediction_index(\n"
          ]
        },
        {
          "output_type": "stream",
          "name": "stdout",
          "text": [
            "Finished training model...\n",
            "Predicting for store 10 and item 11\n",
            "             date  store  item  sales  is_hol\n",
            "199034 2013-01-01     10    11     49       1\n",
            "199035 2013-01-02     10    11     47       0\n",
            "199036 2013-01-03     10    11     60       0\n",
            "199037 2013-01-04     10    11     47       0\n",
            "199038 2013-01-05     10    11     31       0\n",
            "...           ...    ...   ...    ...     ...\n",
            "200855 2017-12-27     10    11     74       0\n",
            "200856 2017-12-28     10    11     61       0\n",
            "200857 2017-12-29     10    11     79       0\n",
            "200858 2017-12-30     10    11     77       0\n",
            "200859 2017-12-31     10    11     98       0\n",
            "\n",
            "[1826 rows x 5 columns]\n"
          ]
        },
        {
          "output_type": "stream",
          "name": "stderr",
          "text": [
            "/usr/local/lib/python3.10/dist-packages/statsmodels/tsa/base/tsa_model.py:836: ValueWarning: No supported index is available. Prediction results will be given with an integer index beginning at `start`.\n",
            "  return get_prediction_index(\n",
            "/usr/local/lib/python3.10/dist-packages/statsmodels/tsa/base/tsa_model.py:836: FutureWarning: No supported index is available. In the next version, calling this method in a model without a supported index will result in an exception.\n",
            "  return get_prediction_index(\n"
          ]
        },
        {
          "output_type": "stream",
          "name": "stdout",
          "text": [
            "Finished training model...\n",
            "Predicting for store 1 and item 12\n",
            "             date  store  item  sales  is_hol\n",
            "200860 2013-01-01      1    12     33       1\n",
            "200861 2013-01-02      1    12     35       0\n",
            "200862 2013-01-03      1    12     41       0\n",
            "200863 2013-01-04      1    12     45       0\n",
            "200864 2013-01-05      1    12     46       0\n",
            "...           ...    ...   ...    ...     ...\n",
            "202681 2017-12-27      1    12     47       0\n",
            "202682 2017-12-28      1    12     49       0\n",
            "202683 2017-12-29      1    12     58       0\n",
            "202684 2017-12-30      1    12     52       0\n",
            "202685 2017-12-31      1    12     60       0\n",
            "\n",
            "[1826 rows x 5 columns]\n"
          ]
        },
        {
          "output_type": "stream",
          "name": "stderr",
          "text": [
            "/usr/local/lib/python3.10/dist-packages/statsmodels/tsa/base/tsa_model.py:836: ValueWarning: No supported index is available. Prediction results will be given with an integer index beginning at `start`.\n",
            "  return get_prediction_index(\n",
            "/usr/local/lib/python3.10/dist-packages/statsmodels/tsa/base/tsa_model.py:836: FutureWarning: No supported index is available. In the next version, calling this method in a model without a supported index will result in an exception.\n",
            "  return get_prediction_index(\n"
          ]
        },
        {
          "output_type": "stream",
          "name": "stdout",
          "text": [
            "Finished training model...\n",
            "Predicting for store 2 and item 12\n",
            "             date  store  item  sales  is_hol\n",
            "202686 2013-01-01      2    12     55       1\n",
            "202687 2013-01-02      2    12     26       0\n",
            "202688 2013-01-03      2    12     51       0\n",
            "202689 2013-01-04      2    12     51       0\n",
            "202690 2013-01-05      2    12     62       0\n",
            "...           ...    ...   ...    ...     ...\n",
            "204507 2017-12-27      2    12     72       0\n",
            "204508 2017-12-28      2    12     75       0\n",
            "204509 2017-12-29      2    12     70       0\n",
            "204510 2017-12-30      2    12    102       0\n",
            "204511 2017-12-31      2    12     83       0\n",
            "\n",
            "[1826 rows x 5 columns]\n"
          ]
        },
        {
          "output_type": "stream",
          "name": "stderr",
          "text": [
            "/usr/local/lib/python3.10/dist-packages/statsmodels/tsa/base/tsa_model.py:836: ValueWarning: No supported index is available. Prediction results will be given with an integer index beginning at `start`.\n",
            "  return get_prediction_index(\n",
            "/usr/local/lib/python3.10/dist-packages/statsmodels/tsa/base/tsa_model.py:836: FutureWarning: No supported index is available. In the next version, calling this method in a model without a supported index will result in an exception.\n",
            "  return get_prediction_index(\n"
          ]
        },
        {
          "output_type": "stream",
          "name": "stdout",
          "text": [
            "Finished training model...\n",
            "Predicting for store 3 and item 12\n",
            "             date  store  item  sales  is_hol\n",
            "204512 2013-01-01      3    12     38       1\n",
            "204513 2013-01-02      3    12     54       0\n",
            "204514 2013-01-03      3    12     33       0\n",
            "204515 2013-01-04      3    12     51       0\n",
            "204516 2013-01-05      3    12     51       0\n",
            "...           ...    ...   ...    ...     ...\n",
            "206333 2017-12-27      3    12     72       0\n",
            "206334 2017-12-28      3    12     64       0\n",
            "206335 2017-12-29      3    12     91       0\n",
            "206336 2017-12-30      3    12     66       0\n",
            "206337 2017-12-31      3    12     89       0\n",
            "\n",
            "[1826 rows x 5 columns]\n"
          ]
        },
        {
          "output_type": "stream",
          "name": "stderr",
          "text": [
            "/usr/local/lib/python3.10/dist-packages/statsmodels/tsa/base/tsa_model.py:836: ValueWarning: No supported index is available. Prediction results will be given with an integer index beginning at `start`.\n",
            "  return get_prediction_index(\n",
            "/usr/local/lib/python3.10/dist-packages/statsmodels/tsa/base/tsa_model.py:836: FutureWarning: No supported index is available. In the next version, calling this method in a model without a supported index will result in an exception.\n",
            "  return get_prediction_index(\n"
          ]
        },
        {
          "output_type": "stream",
          "name": "stdout",
          "text": [
            "Finished training model...\n",
            "Predicting for store 4 and item 12\n",
            "             date  store  item  sales  is_hol\n",
            "206338 2013-01-01      4    12     36       1\n",
            "206339 2013-01-02      4    12     39       0\n",
            "206340 2013-01-03      4    12     38       0\n",
            "206341 2013-01-04      4    12     46       0\n",
            "206342 2013-01-05      4    12     45       0\n",
            "...           ...    ...   ...    ...     ...\n",
            "208159 2017-12-27      4    12     53       0\n",
            "208160 2017-12-28      4    12     63       0\n",
            "208161 2017-12-29      4    12     74       0\n",
            "208162 2017-12-30      4    12     77       0\n",
            "208163 2017-12-31      4    12     79       0\n",
            "\n",
            "[1826 rows x 5 columns]\n"
          ]
        },
        {
          "output_type": "stream",
          "name": "stderr",
          "text": [
            "/usr/local/lib/python3.10/dist-packages/statsmodels/tsa/base/tsa_model.py:836: ValueWarning: No supported index is available. Prediction results will be given with an integer index beginning at `start`.\n",
            "  return get_prediction_index(\n",
            "/usr/local/lib/python3.10/dist-packages/statsmodels/tsa/base/tsa_model.py:836: FutureWarning: No supported index is available. In the next version, calling this method in a model without a supported index will result in an exception.\n",
            "  return get_prediction_index(\n"
          ]
        },
        {
          "output_type": "stream",
          "name": "stdout",
          "text": [
            "Finished training model...\n",
            "Predicting for store 5 and item 12\n",
            "             date  store  item  sales  is_hol\n",
            "208164 2013-01-01      5    12     22       1\n",
            "208165 2013-01-02      5    12     18       0\n",
            "208166 2013-01-03      5    12     32       0\n",
            "208167 2013-01-04      5    12     34       0\n",
            "208168 2013-01-05      5    12     31       0\n",
            "...           ...    ...   ...    ...     ...\n",
            "209985 2017-12-27      5    12     44       0\n",
            "209986 2017-12-28      5    12     54       0\n",
            "209987 2017-12-29      5    12     43       0\n",
            "209988 2017-12-30      5    12     47       0\n",
            "209989 2017-12-31      5    12     43       0\n",
            "\n",
            "[1826 rows x 5 columns]\n"
          ]
        },
        {
          "output_type": "stream",
          "name": "stderr",
          "text": [
            "/usr/local/lib/python3.10/dist-packages/statsmodels/tsa/base/tsa_model.py:836: ValueWarning: No supported index is available. Prediction results will be given with an integer index beginning at `start`.\n",
            "  return get_prediction_index(\n",
            "/usr/local/lib/python3.10/dist-packages/statsmodels/tsa/base/tsa_model.py:836: FutureWarning: No supported index is available. In the next version, calling this method in a model without a supported index will result in an exception.\n",
            "  return get_prediction_index(\n"
          ]
        },
        {
          "output_type": "stream",
          "name": "stdout",
          "text": [
            "Finished training model...\n",
            "Predicting for store 6 and item 12\n",
            "             date  store  item  sales  is_hol\n",
            "209990 2013-01-01      6    12     29       1\n",
            "209991 2013-01-02      6    12     23       0\n",
            "209992 2013-01-03      6    12     33       0\n",
            "209993 2013-01-04      6    12     30       0\n",
            "209994 2013-01-05      6    12     29       0\n",
            "...           ...    ...   ...    ...     ...\n",
            "211811 2017-12-27      6    12     42       0\n",
            "211812 2017-12-28      6    12     47       0\n",
            "211813 2017-12-29      6    12     55       0\n",
            "211814 2017-12-30      6    12     50       0\n",
            "211815 2017-12-31      6    12     49       0\n",
            "\n",
            "[1826 rows x 5 columns]\n"
          ]
        },
        {
          "output_type": "stream",
          "name": "stderr",
          "text": [
            "/usr/local/lib/python3.10/dist-packages/statsmodels/tsa/base/tsa_model.py:836: ValueWarning: No supported index is available. Prediction results will be given with an integer index beginning at `start`.\n",
            "  return get_prediction_index(\n",
            "/usr/local/lib/python3.10/dist-packages/statsmodels/tsa/base/tsa_model.py:836: FutureWarning: No supported index is available. In the next version, calling this method in a model without a supported index will result in an exception.\n",
            "  return get_prediction_index(\n"
          ]
        },
        {
          "output_type": "stream",
          "name": "stdout",
          "text": [
            "Finished training model...\n",
            "Predicting for store 7 and item 12\n",
            "             date  store  item  sales  is_hol\n",
            "211816 2013-01-01      7    12     26       1\n",
            "211817 2013-01-02      7    12     23       0\n",
            "211818 2013-01-03      7    12     19       0\n",
            "211819 2013-01-04      7    12     25       0\n",
            "211820 2013-01-05      7    12     34       0\n",
            "...           ...    ...   ...    ...     ...\n",
            "213637 2017-12-27      7    12     42       0\n",
            "213638 2017-12-28      7    12     50       0\n",
            "213639 2017-12-29      7    12     42       0\n",
            "213640 2017-12-30      7    12     43       0\n",
            "213641 2017-12-31      7    12     49       0\n",
            "\n",
            "[1826 rows x 5 columns]\n"
          ]
        },
        {
          "output_type": "stream",
          "name": "stderr",
          "text": [
            "/usr/local/lib/python3.10/dist-packages/statsmodels/tsa/base/tsa_model.py:836: ValueWarning: No supported index is available. Prediction results will be given with an integer index beginning at `start`.\n",
            "  return get_prediction_index(\n",
            "/usr/local/lib/python3.10/dist-packages/statsmodels/tsa/base/tsa_model.py:836: FutureWarning: No supported index is available. In the next version, calling this method in a model without a supported index will result in an exception.\n",
            "  return get_prediction_index(\n"
          ]
        },
        {
          "output_type": "stream",
          "name": "stdout",
          "text": [
            "Finished training model...\n",
            "Predicting for store 8 and item 12\n",
            "             date  store  item  sales  is_hol\n",
            "213642 2013-01-01      8    12     54       1\n",
            "213643 2013-01-02      8    12     41       0\n",
            "213644 2013-01-03      8    12     60       0\n",
            "213645 2013-01-04      8    12     55       0\n",
            "213646 2013-01-05      8    12     51       0\n",
            "...           ...    ...   ...    ...     ...\n",
            "215463 2017-12-27      8    12     63       0\n",
            "215464 2017-12-28      8    12     60       0\n",
            "215465 2017-12-29      8    12     91       0\n",
            "215466 2017-12-30      8    12     92       0\n",
            "215467 2017-12-31      8    12     69       0\n",
            "\n",
            "[1826 rows x 5 columns]\n"
          ]
        },
        {
          "output_type": "stream",
          "name": "stderr",
          "text": [
            "/usr/local/lib/python3.10/dist-packages/statsmodels/tsa/base/tsa_model.py:836: ValueWarning: No supported index is available. Prediction results will be given with an integer index beginning at `start`.\n",
            "  return get_prediction_index(\n",
            "/usr/local/lib/python3.10/dist-packages/statsmodels/tsa/base/tsa_model.py:836: FutureWarning: No supported index is available. In the next version, calling this method in a model without a supported index will result in an exception.\n",
            "  return get_prediction_index(\n"
          ]
        },
        {
          "output_type": "stream",
          "name": "stdout",
          "text": [
            "Finished training model...\n",
            "Predicting for store 9 and item 12\n",
            "             date  store  item  sales  is_hol\n",
            "215468 2013-01-01      9    12     35       1\n",
            "215469 2013-01-02      9    12     31       0\n",
            "215470 2013-01-03      9    12     38       0\n",
            "215471 2013-01-04      9    12     46       0\n",
            "215472 2013-01-05      9    12     40       0\n",
            "...           ...    ...   ...    ...     ...\n",
            "217289 2017-12-27      9    12     57       0\n",
            "217290 2017-12-28      9    12     66       0\n",
            "217291 2017-12-29      9    12     56       0\n",
            "217292 2017-12-30      9    12     72       0\n",
            "217293 2017-12-31      9    12     71       0\n",
            "\n",
            "[1826 rows x 5 columns]\n"
          ]
        },
        {
          "output_type": "stream",
          "name": "stderr",
          "text": [
            "/usr/local/lib/python3.10/dist-packages/statsmodels/tsa/base/tsa_model.py:836: ValueWarning: No supported index is available. Prediction results will be given with an integer index beginning at `start`.\n",
            "  return get_prediction_index(\n",
            "/usr/local/lib/python3.10/dist-packages/statsmodels/tsa/base/tsa_model.py:836: FutureWarning: No supported index is available. In the next version, calling this method in a model without a supported index will result in an exception.\n",
            "  return get_prediction_index(\n"
          ]
        },
        {
          "output_type": "stream",
          "name": "stdout",
          "text": [
            "Finished training model...\n",
            "Predicting for store 10 and item 12\n",
            "             date  store  item  sales  is_hol\n",
            "217294 2013-01-01     10    12     41       1\n",
            "217295 2013-01-02     10    12     36       0\n",
            "217296 2013-01-03     10    12     39       0\n",
            "217297 2013-01-04     10    12     52       0\n",
            "217298 2013-01-05     10    12     49       0\n",
            "...           ...    ...   ...    ...     ...\n",
            "219115 2017-12-27     10    12     59       0\n",
            "219116 2017-12-28     10    12     65       0\n",
            "219117 2017-12-29     10    12     74       0\n",
            "219118 2017-12-30     10    12     81       0\n",
            "219119 2017-12-31     10    12     99       0\n",
            "\n",
            "[1826 rows x 5 columns]\n"
          ]
        },
        {
          "output_type": "stream",
          "name": "stderr",
          "text": [
            "/usr/local/lib/python3.10/dist-packages/statsmodels/tsa/base/tsa_model.py:836: ValueWarning: No supported index is available. Prediction results will be given with an integer index beginning at `start`.\n",
            "  return get_prediction_index(\n",
            "/usr/local/lib/python3.10/dist-packages/statsmodels/tsa/base/tsa_model.py:836: FutureWarning: No supported index is available. In the next version, calling this method in a model without a supported index will result in an exception.\n",
            "  return get_prediction_index(\n"
          ]
        },
        {
          "output_type": "stream",
          "name": "stdout",
          "text": [
            "Finished training model...\n",
            "Predicting for store 1 and item 13\n",
            "             date  store  item  sales  is_hol\n",
            "219120 2013-01-01      1    13     37       1\n",
            "219121 2013-01-02      1    13     31       0\n",
            "219122 2013-01-03      1    13     50       0\n",
            "219123 2013-01-04      1    13     45       0\n",
            "219124 2013-01-05      1    13     49       0\n",
            "...           ...    ...   ...    ...     ...\n",
            "220941 2017-12-27      1    13     49       0\n",
            "220942 2017-12-28      1    13     68       0\n",
            "220943 2017-12-29      1    13     73       0\n",
            "220944 2017-12-30      1    13     70       0\n",
            "220945 2017-12-31      1    13     75       0\n",
            "\n",
            "[1826 rows x 5 columns]\n"
          ]
        },
        {
          "output_type": "stream",
          "name": "stderr",
          "text": [
            "/usr/local/lib/python3.10/dist-packages/statsmodels/tsa/base/tsa_model.py:836: ValueWarning: No supported index is available. Prediction results will be given with an integer index beginning at `start`.\n",
            "  return get_prediction_index(\n",
            "/usr/local/lib/python3.10/dist-packages/statsmodels/tsa/base/tsa_model.py:836: FutureWarning: No supported index is available. In the next version, calling this method in a model without a supported index will result in an exception.\n",
            "  return get_prediction_index(\n"
          ]
        },
        {
          "output_type": "stream",
          "name": "stdout",
          "text": [
            "Finished training model...\n",
            "Predicting for store 2 and item 13\n",
            "             date  store  item  sales  is_hol\n",
            "220946 2013-01-01      2    13     51       1\n",
            "220947 2013-01-02      2    13     58       0\n",
            "220948 2013-01-03      2    13     49       0\n",
            "220949 2013-01-04      2    13     53       0\n",
            "220950 2013-01-05      2    13     67       0\n",
            "...           ...    ...   ...    ...     ...\n",
            "222767 2017-12-27      2    13     69       0\n",
            "222768 2017-12-28      2    13     94       0\n",
            "222769 2017-12-29      2    13    107       0\n",
            "222770 2017-12-30      2    13    103       0\n",
            "222771 2017-12-31      2    13    110       0\n",
            "\n",
            "[1826 rows x 5 columns]\n"
          ]
        },
        {
          "output_type": "stream",
          "name": "stderr",
          "text": [
            "/usr/local/lib/python3.10/dist-packages/statsmodels/tsa/base/tsa_model.py:836: ValueWarning: No supported index is available. Prediction results will be given with an integer index beginning at `start`.\n",
            "  return get_prediction_index(\n",
            "/usr/local/lib/python3.10/dist-packages/statsmodels/tsa/base/tsa_model.py:836: FutureWarning: No supported index is available. In the next version, calling this method in a model without a supported index will result in an exception.\n",
            "  return get_prediction_index(\n"
          ]
        },
        {
          "output_type": "stream",
          "name": "stdout",
          "text": [
            "Finished training model...\n",
            "Predicting for store 3 and item 13\n",
            "             date  store  item  sales  is_hol\n",
            "222772 2013-01-01      3    13     49       1\n",
            "222773 2013-01-02      3    13     47       0\n",
            "222774 2013-01-03      3    13     52       0\n",
            "222775 2013-01-04      3    13     46       0\n",
            "222776 2013-01-05      3    13     58       0\n",
            "...           ...    ...   ...    ...     ...\n",
            "224593 2017-12-27      3    13     86       0\n",
            "224594 2017-12-28      3    13     78       0\n",
            "224595 2017-12-29      3    13     86       0\n",
            "224596 2017-12-30      3    13    103       0\n",
            "224597 2017-12-31      3    13     98       0\n",
            "\n",
            "[1826 rows x 5 columns]\n"
          ]
        },
        {
          "output_type": "stream",
          "name": "stderr",
          "text": [
            "/usr/local/lib/python3.10/dist-packages/statsmodels/tsa/base/tsa_model.py:836: ValueWarning: No supported index is available. Prediction results will be given with an integer index beginning at `start`.\n",
            "  return get_prediction_index(\n",
            "/usr/local/lib/python3.10/dist-packages/statsmodels/tsa/base/tsa_model.py:836: FutureWarning: No supported index is available. In the next version, calling this method in a model without a supported index will result in an exception.\n",
            "  return get_prediction_index(\n"
          ]
        },
        {
          "output_type": "stream",
          "name": "stdout",
          "text": [
            "Finished training model...\n",
            "Predicting for store 4 and item 13\n",
            "             date  store  item  sales  is_hol\n",
            "224598 2013-01-01      4    13     46       1\n",
            "224599 2013-01-02      4    13     46       0\n",
            "224600 2013-01-03      4    13     57       0\n",
            "224601 2013-01-04      4    13     48       0\n",
            "224602 2013-01-05      4    13     45       0\n",
            "...           ...    ...   ...    ...     ...\n",
            "226419 2017-12-27      4    13     80       0\n",
            "226420 2017-12-28      4    13     79       0\n",
            "226421 2017-12-29      4    13     75       0\n",
            "226422 2017-12-30      4    13     98       0\n",
            "226423 2017-12-31      4    13    113       0\n",
            "\n",
            "[1826 rows x 5 columns]\n"
          ]
        },
        {
          "output_type": "stream",
          "name": "stderr",
          "text": [
            "/usr/local/lib/python3.10/dist-packages/statsmodels/tsa/base/tsa_model.py:836: ValueWarning: No supported index is available. Prediction results will be given with an integer index beginning at `start`.\n",
            "  return get_prediction_index(\n",
            "/usr/local/lib/python3.10/dist-packages/statsmodels/tsa/base/tsa_model.py:836: FutureWarning: No supported index is available. In the next version, calling this method in a model without a supported index will result in an exception.\n",
            "  return get_prediction_index(\n"
          ]
        },
        {
          "output_type": "stream",
          "name": "stdout",
          "text": [
            "Finished training model...\n",
            "Predicting for store 5 and item 13\n",
            "             date  store  item  sales  is_hol\n",
            "226424 2013-01-01      5    13     33       1\n",
            "226425 2013-01-02      5    13     28       0\n",
            "226426 2013-01-03      5    13     36       0\n",
            "226427 2013-01-04      5    13     45       0\n",
            "226428 2013-01-05      5    13     40       0\n",
            "...           ...    ...   ...    ...     ...\n",
            "228245 2017-12-27      5    13     54       0\n",
            "228246 2017-12-28      5    13     56       0\n",
            "228247 2017-12-29      5    13     53       0\n",
            "228248 2017-12-30      5    13     53       0\n",
            "228249 2017-12-31      5    13     57       0\n",
            "\n",
            "[1826 rows x 5 columns]\n"
          ]
        },
        {
          "output_type": "stream",
          "name": "stderr",
          "text": [
            "/usr/local/lib/python3.10/dist-packages/statsmodels/tsa/base/tsa_model.py:836: ValueWarning: No supported index is available. Prediction results will be given with an integer index beginning at `start`.\n",
            "  return get_prediction_index(\n",
            "/usr/local/lib/python3.10/dist-packages/statsmodels/tsa/base/tsa_model.py:836: FutureWarning: No supported index is available. In the next version, calling this method in a model without a supported index will result in an exception.\n",
            "  return get_prediction_index(\n"
          ]
        },
        {
          "output_type": "stream",
          "name": "stdout",
          "text": [
            "Finished training model...\n",
            "Predicting for store 6 and item 13\n",
            "             date  store  item  sales  is_hol\n",
            "228250 2013-01-01      6    13     37       1\n",
            "228251 2013-01-02      6    13     33       0\n",
            "228252 2013-01-03      6    13     35       0\n",
            "228253 2013-01-04      6    13     39       0\n",
            "228254 2013-01-05      6    13     43       0\n",
            "...           ...    ...   ...    ...     ...\n",
            "230071 2017-12-27      6    13     61       0\n",
            "230072 2017-12-28      6    13     61       0\n",
            "230073 2017-12-29      6    13     63       0\n",
            "230074 2017-12-30      6    13     63       0\n",
            "230075 2017-12-31      6    13     66       0\n",
            "\n",
            "[1826 rows x 5 columns]\n"
          ]
        },
        {
          "output_type": "stream",
          "name": "stderr",
          "text": [
            "/usr/local/lib/python3.10/dist-packages/statsmodels/tsa/base/tsa_model.py:836: ValueWarning: No supported index is available. Prediction results will be given with an integer index beginning at `start`.\n",
            "  return get_prediction_index(\n",
            "/usr/local/lib/python3.10/dist-packages/statsmodels/tsa/base/tsa_model.py:836: FutureWarning: No supported index is available. In the next version, calling this method in a model without a supported index will result in an exception.\n",
            "  return get_prediction_index(\n"
          ]
        },
        {
          "output_type": "stream",
          "name": "stdout",
          "text": [
            "Finished training model...\n",
            "Predicting for store 7 and item 13\n",
            "             date  store  item  sales  is_hol\n",
            "230076 2013-01-01      7    13     42       1\n",
            "230077 2013-01-02      7    13     31       0\n",
            "230078 2013-01-03      7    13     36       0\n",
            "230079 2013-01-04      7    13     38       0\n",
            "230080 2013-01-05      7    13     29       0\n",
            "...           ...    ...   ...    ...     ...\n",
            "231897 2017-12-27      7    13     50       0\n",
            "231898 2017-12-28      7    13     48       0\n",
            "231899 2017-12-29      7    13     46       0\n",
            "231900 2017-12-30      7    13     55       0\n",
            "231901 2017-12-31      7    13     60       0\n",
            "\n",
            "[1826 rows x 5 columns]\n"
          ]
        },
        {
          "output_type": "stream",
          "name": "stderr",
          "text": [
            "/usr/local/lib/python3.10/dist-packages/statsmodels/tsa/base/tsa_model.py:836: ValueWarning: No supported index is available. Prediction results will be given with an integer index beginning at `start`.\n",
            "  return get_prediction_index(\n",
            "/usr/local/lib/python3.10/dist-packages/statsmodels/tsa/base/tsa_model.py:836: FutureWarning: No supported index is available. In the next version, calling this method in a model without a supported index will result in an exception.\n",
            "  return get_prediction_index(\n"
          ]
        },
        {
          "output_type": "stream",
          "name": "stdout",
          "text": [
            "Finished training model...\n",
            "Predicting for store 8 and item 13\n",
            "             date  store  item  sales  is_hol\n",
            "231902 2013-01-01      8    13     56       1\n",
            "231903 2013-01-02      8    13     56       0\n",
            "231904 2013-01-03      8    13     47       0\n",
            "231905 2013-01-04      8    13     54       0\n",
            "231906 2013-01-05      8    13     51       0\n",
            "...           ...    ...   ...    ...     ...\n",
            "233723 2017-12-27      8    13     86       0\n",
            "233724 2017-12-28      8    13     94       0\n",
            "233725 2017-12-29      8    13     81       0\n",
            "233726 2017-12-30      8    13     95       0\n",
            "233727 2017-12-31      8    13     83       0\n",
            "\n",
            "[1826 rows x 5 columns]\n"
          ]
        },
        {
          "output_type": "stream",
          "name": "stderr",
          "text": [
            "/usr/local/lib/python3.10/dist-packages/statsmodels/tsa/base/tsa_model.py:836: ValueWarning: No supported index is available. Prediction results will be given with an integer index beginning at `start`.\n",
            "  return get_prediction_index(\n",
            "/usr/local/lib/python3.10/dist-packages/statsmodels/tsa/base/tsa_model.py:836: FutureWarning: No supported index is available. In the next version, calling this method in a model without a supported index will result in an exception.\n",
            "  return get_prediction_index(\n"
          ]
        },
        {
          "output_type": "stream",
          "name": "stdout",
          "text": [
            "Finished training model...\n",
            "Predicting for store 9 and item 13\n",
            "             date  store  item  sales  is_hol\n",
            "233728 2013-01-01      9    13     47       1\n",
            "233729 2013-01-02      9    13     47       0\n",
            "233730 2013-01-03      9    13     57       0\n",
            "233731 2013-01-04      9    13     52       0\n",
            "233732 2013-01-05      9    13     56       0\n",
            "...           ...    ...   ...    ...     ...\n",
            "235549 2017-12-27      9    13     72       0\n",
            "235550 2017-12-28      9    13     83       0\n",
            "235551 2017-12-29      9    13     63       0\n",
            "235552 2017-12-30      9    13     81       0\n",
            "235553 2017-12-31      9    13     89       0\n",
            "\n",
            "[1826 rows x 5 columns]\n"
          ]
        },
        {
          "output_type": "stream",
          "name": "stderr",
          "text": [
            "/usr/local/lib/python3.10/dist-packages/statsmodels/tsa/base/tsa_model.py:836: ValueWarning: No supported index is available. Prediction results will be given with an integer index beginning at `start`.\n",
            "  return get_prediction_index(\n",
            "/usr/local/lib/python3.10/dist-packages/statsmodels/tsa/base/tsa_model.py:836: FutureWarning: No supported index is available. In the next version, calling this method in a model without a supported index will result in an exception.\n",
            "  return get_prediction_index(\n"
          ]
        },
        {
          "output_type": "stream",
          "name": "stdout",
          "text": [
            "Finished training model...\n",
            "Predicting for store 10 and item 13\n",
            "             date  store  item  sales  is_hol\n",
            "235554 2013-01-01     10    13     46       1\n",
            "235555 2013-01-02     10    13     57       0\n",
            "235556 2013-01-03     10    13     36       0\n",
            "235557 2013-01-04     10    13     54       0\n",
            "235558 2013-01-05     10    13     55       0\n",
            "...           ...    ...   ...    ...     ...\n",
            "237375 2017-12-27     10    13     82       0\n",
            "237376 2017-12-28     10    13     75       0\n",
            "237377 2017-12-29     10    13     89       0\n",
            "237378 2017-12-30     10    13     80       0\n",
            "237379 2017-12-31     10    13     98       0\n",
            "\n",
            "[1826 rows x 5 columns]\n"
          ]
        },
        {
          "output_type": "stream",
          "name": "stderr",
          "text": [
            "/usr/local/lib/python3.10/dist-packages/statsmodels/tsa/base/tsa_model.py:836: ValueWarning: No supported index is available. Prediction results will be given with an integer index beginning at `start`.\n",
            "  return get_prediction_index(\n",
            "/usr/local/lib/python3.10/dist-packages/statsmodels/tsa/base/tsa_model.py:836: FutureWarning: No supported index is available. In the next version, calling this method in a model without a supported index will result in an exception.\n",
            "  return get_prediction_index(\n"
          ]
        },
        {
          "output_type": "stream",
          "name": "stdout",
          "text": [
            "Finished training model...\n",
            "Predicting for store 1 and item 14\n",
            "             date  store  item  sales  is_hol\n",
            "237380 2013-01-01      1    14     22       1\n",
            "237381 2013-01-02      1    14     35       0\n",
            "237382 2013-01-03      1    14     26       0\n",
            "237383 2013-01-04      1    14     32       0\n",
            "237384 2013-01-05      1    14     31       0\n",
            "...           ...    ...   ...    ...     ...\n",
            "239201 2017-12-27      1    14     42       0\n",
            "239202 2017-12-28      1    14     51       0\n",
            "239203 2017-12-29      1    14     42       0\n",
            "239204 2017-12-30      1    14     57       0\n",
            "239205 2017-12-31      1    14     52       0\n",
            "\n",
            "[1826 rows x 5 columns]\n"
          ]
        },
        {
          "output_type": "stream",
          "name": "stderr",
          "text": [
            "/usr/local/lib/python3.10/dist-packages/statsmodels/tsa/base/tsa_model.py:836: ValueWarning: No supported index is available. Prediction results will be given with an integer index beginning at `start`.\n",
            "  return get_prediction_index(\n",
            "/usr/local/lib/python3.10/dist-packages/statsmodels/tsa/base/tsa_model.py:836: FutureWarning: No supported index is available. In the next version, calling this method in a model without a supported index will result in an exception.\n",
            "  return get_prediction_index(\n"
          ]
        },
        {
          "output_type": "stream",
          "name": "stdout",
          "text": [
            "Finished training model...\n",
            "Predicting for store 2 and item 14\n",
            "             date  store  item  sales  is_hol\n",
            "239206 2013-01-01      2    14     33       1\n",
            "239207 2013-01-02      2    14     56       0\n",
            "239208 2013-01-03      2    14     57       0\n",
            "239209 2013-01-04      2    14     53       0\n",
            "239210 2013-01-05      2    14     45       0\n",
            "...           ...    ...   ...    ...     ...\n",
            "241027 2017-12-27      2    14     55       0\n",
            "241028 2017-12-28      2    14     71       0\n",
            "241029 2017-12-29      2    14     81       0\n",
            "241030 2017-12-30      2    14     52       0\n",
            "241031 2017-12-31      2    14     75       0\n",
            "\n",
            "[1826 rows x 5 columns]\n"
          ]
        },
        {
          "output_type": "stream",
          "name": "stderr",
          "text": [
            "/usr/local/lib/python3.10/dist-packages/statsmodels/tsa/base/tsa_model.py:836: ValueWarning: No supported index is available. Prediction results will be given with an integer index beginning at `start`.\n",
            "  return get_prediction_index(\n",
            "/usr/local/lib/python3.10/dist-packages/statsmodels/tsa/base/tsa_model.py:836: FutureWarning: No supported index is available. In the next version, calling this method in a model without a supported index will result in an exception.\n",
            "  return get_prediction_index(\n"
          ]
        },
        {
          "output_type": "stream",
          "name": "stdout",
          "text": [
            "Finished training model...\n",
            "Predicting for store 3 and item 14\n",
            "             date  store  item  sales  is_hol\n",
            "241032 2013-01-01      3    14     37       1\n",
            "241033 2013-01-02      3    14     35       0\n",
            "241034 2013-01-03      3    14     39       0\n",
            "241035 2013-01-04      3    14     41       0\n",
            "241036 2013-01-05      3    14     50       0\n",
            "...           ...    ...   ...    ...     ...\n",
            "242853 2017-12-27      3    14     39       0\n",
            "242854 2017-12-28      3    14     55       0\n",
            "242855 2017-12-29      3    14     58       0\n",
            "242856 2017-12-30      3    14     76       0\n",
            "242857 2017-12-31      3    14     73       0\n",
            "\n",
            "[1826 rows x 5 columns]\n"
          ]
        },
        {
          "output_type": "stream",
          "name": "stderr",
          "text": [
            "/usr/local/lib/python3.10/dist-packages/statsmodels/tsa/base/tsa_model.py:836: ValueWarning: No supported index is available. Prediction results will be given with an integer index beginning at `start`.\n",
            "  return get_prediction_index(\n",
            "/usr/local/lib/python3.10/dist-packages/statsmodels/tsa/base/tsa_model.py:836: FutureWarning: No supported index is available. In the next version, calling this method in a model without a supported index will result in an exception.\n",
            "  return get_prediction_index(\n"
          ]
        },
        {
          "output_type": "stream",
          "name": "stdout",
          "text": [
            "Finished training model...\n",
            "Predicting for store 4 and item 14\n",
            "             date  store  item  sales  is_hol\n",
            "242858 2013-01-01      4    14     43       1\n",
            "242859 2013-01-02      4    14     39       0\n",
            "242860 2013-01-03      4    14     32       0\n",
            "242861 2013-01-04      4    14     49       0\n",
            "242862 2013-01-05      4    14     30       0\n",
            "...           ...    ...   ...    ...     ...\n",
            "244679 2017-12-27      4    14     54       0\n",
            "244680 2017-12-28      4    14     59       0\n",
            "244681 2017-12-29      4    14     51       0\n",
            "244682 2017-12-30      4    14     54       0\n",
            "244683 2017-12-31      4    14     64       0\n",
            "\n",
            "[1826 rows x 5 columns]\n"
          ]
        },
        {
          "output_type": "stream",
          "name": "stderr",
          "text": [
            "/usr/local/lib/python3.10/dist-packages/statsmodels/tsa/base/tsa_model.py:836: ValueWarning: No supported index is available. Prediction results will be given with an integer index beginning at `start`.\n",
            "  return get_prediction_index(\n",
            "/usr/local/lib/python3.10/dist-packages/statsmodels/tsa/base/tsa_model.py:836: FutureWarning: No supported index is available. In the next version, calling this method in a model without a supported index will result in an exception.\n",
            "  return get_prediction_index(\n"
          ]
        },
        {
          "output_type": "stream",
          "name": "stdout",
          "text": [
            "Finished training model...\n",
            "Predicting for store 5 and item 14\n",
            "             date  store  item  sales  is_hol\n",
            "244684 2013-01-01      5    14     22       1\n",
            "244685 2013-01-02      5    14     27       0\n",
            "244686 2013-01-03      5    14     17       0\n",
            "244687 2013-01-04      5    14     29       0\n",
            "244688 2013-01-05      5    14     28       0\n",
            "...           ...    ...   ...    ...     ...\n",
            "246505 2017-12-27      5    14     32       0\n",
            "246506 2017-12-28      5    14     50       0\n",
            "246507 2017-12-29      5    14     49       0\n",
            "246508 2017-12-30      5    14     50       0\n",
            "246509 2017-12-31      5    14     53       0\n",
            "\n",
            "[1826 rows x 5 columns]\n"
          ]
        },
        {
          "output_type": "stream",
          "name": "stderr",
          "text": [
            "/usr/local/lib/python3.10/dist-packages/statsmodels/tsa/base/tsa_model.py:836: ValueWarning: No supported index is available. Prediction results will be given with an integer index beginning at `start`.\n",
            "  return get_prediction_index(\n",
            "/usr/local/lib/python3.10/dist-packages/statsmodels/tsa/base/tsa_model.py:836: FutureWarning: No supported index is available. In the next version, calling this method in a model without a supported index will result in an exception.\n",
            "  return get_prediction_index(\n"
          ]
        },
        {
          "output_type": "stream",
          "name": "stdout",
          "text": [
            "Finished training model...\n",
            "Predicting for store 6 and item 14\n",
            "             date  store  item  sales  is_hol\n",
            "246510 2013-01-01      6    14     28       1\n",
            "246511 2013-01-02      6    14     26       0\n",
            "246512 2013-01-03      6    14     24       0\n",
            "246513 2013-01-04      6    14     31       0\n",
            "246514 2013-01-05      6    14     31       0\n",
            "...           ...    ...   ...    ...     ...\n",
            "248331 2017-12-27      6    14     38       0\n",
            "248332 2017-12-28      6    14     44       0\n",
            "248333 2017-12-29      6    14     48       0\n",
            "248334 2017-12-30      6    14     36       0\n",
            "248335 2017-12-31      6    14     30       0\n",
            "\n",
            "[1826 rows x 5 columns]\n"
          ]
        },
        {
          "output_type": "stream",
          "name": "stderr",
          "text": [
            "/usr/local/lib/python3.10/dist-packages/statsmodels/tsa/base/tsa_model.py:836: ValueWarning: No supported index is available. Prediction results will be given with an integer index beginning at `start`.\n",
            "  return get_prediction_index(\n",
            "/usr/local/lib/python3.10/dist-packages/statsmodels/tsa/base/tsa_model.py:836: FutureWarning: No supported index is available. In the next version, calling this method in a model without a supported index will result in an exception.\n",
            "  return get_prediction_index(\n"
          ]
        },
        {
          "output_type": "stream",
          "name": "stdout",
          "text": [
            "Finished training model...\n",
            "Predicting for store 7 and item 14\n",
            "             date  store  item  sales  is_hol\n",
            "248336 2013-01-01      7    14     25       1\n",
            "248337 2013-01-02      7    14     31       0\n",
            "248338 2013-01-03      7    14     23       0\n",
            "248339 2013-01-04      7    14     24       0\n",
            "248340 2013-01-05      7    14     24       0\n",
            "...           ...    ...   ...    ...     ...\n",
            "250157 2017-12-27      7    14     40       0\n",
            "250158 2017-12-28      7    14     23       0\n",
            "250159 2017-12-29      7    14     35       0\n",
            "250160 2017-12-30      7    14     44       0\n",
            "250161 2017-12-31      7    14     39       0\n",
            "\n",
            "[1826 rows x 5 columns]\n"
          ]
        },
        {
          "output_type": "stream",
          "name": "stderr",
          "text": [
            "/usr/local/lib/python3.10/dist-packages/statsmodels/tsa/base/tsa_model.py:836: ValueWarning: No supported index is available. Prediction results will be given with an integer index beginning at `start`.\n",
            "  return get_prediction_index(\n",
            "/usr/local/lib/python3.10/dist-packages/statsmodels/tsa/base/tsa_model.py:836: FutureWarning: No supported index is available. In the next version, calling this method in a model without a supported index will result in an exception.\n",
            "  return get_prediction_index(\n"
          ]
        },
        {
          "output_type": "stream",
          "name": "stdout",
          "text": [
            "Finished training model...\n",
            "Predicting for store 8 and item 14\n",
            "             date  store  item  sales  is_hol\n",
            "250162 2013-01-01      8    14     44       1\n",
            "250163 2013-01-02      8    14     33       0\n",
            "250164 2013-01-03      8    14     39       0\n",
            "250165 2013-01-04      8    14     52       0\n",
            "250166 2013-01-05      8    14     49       0\n",
            "...           ...    ...   ...    ...     ...\n",
            "251983 2017-12-27      8    14     66       0\n",
            "251984 2017-12-28      8    14     56       0\n",
            "251985 2017-12-29      8    14     64       0\n",
            "251986 2017-12-30      8    14     60       0\n",
            "251987 2017-12-31      8    14     64       0\n",
            "\n",
            "[1826 rows x 5 columns]\n"
          ]
        },
        {
          "output_type": "stream",
          "name": "stderr",
          "text": [
            "/usr/local/lib/python3.10/dist-packages/statsmodels/tsa/base/tsa_model.py:836: ValueWarning: No supported index is available. Prediction results will be given with an integer index beginning at `start`.\n",
            "  return get_prediction_index(\n",
            "/usr/local/lib/python3.10/dist-packages/statsmodels/tsa/base/tsa_model.py:836: FutureWarning: No supported index is available. In the next version, calling this method in a model without a supported index will result in an exception.\n",
            "  return get_prediction_index(\n"
          ]
        },
        {
          "output_type": "stream",
          "name": "stdout",
          "text": [
            "Finished training model...\n",
            "Predicting for store 9 and item 14\n",
            "             date  store  item  sales  is_hol\n",
            "251988 2013-01-01      9    14     26       1\n",
            "251989 2013-01-02      9    14     33       0\n",
            "251990 2013-01-03      9    14     35       0\n",
            "251991 2013-01-04      9    14     30       0\n",
            "251992 2013-01-05      9    14     33       0\n",
            "...           ...    ...   ...    ...     ...\n",
            "253809 2017-12-27      9    14     52       0\n",
            "253810 2017-12-28      9    14     51       0\n",
            "253811 2017-12-29      9    14     45       0\n",
            "253812 2017-12-30      9    14     48       0\n",
            "253813 2017-12-31      9    14     69       0\n",
            "\n",
            "[1826 rows x 5 columns]\n"
          ]
        },
        {
          "output_type": "stream",
          "name": "stderr",
          "text": [
            "/usr/local/lib/python3.10/dist-packages/statsmodels/tsa/base/tsa_model.py:836: ValueWarning: No supported index is available. Prediction results will be given with an integer index beginning at `start`.\n",
            "  return get_prediction_index(\n",
            "/usr/local/lib/python3.10/dist-packages/statsmodels/tsa/base/tsa_model.py:836: FutureWarning: No supported index is available. In the next version, calling this method in a model without a supported index will result in an exception.\n",
            "  return get_prediction_index(\n"
          ]
        },
        {
          "output_type": "stream",
          "name": "stdout",
          "text": [
            "Finished training model...\n",
            "Predicting for store 10 and item 14\n",
            "             date  store  item  sales  is_hol\n",
            "253814 2013-01-01     10    14     30       1\n",
            "253815 2013-01-02     10    14     48       0\n",
            "253816 2013-01-03     10    14     45       0\n",
            "253817 2013-01-04     10    14     30       0\n",
            "253818 2013-01-05     10    14     45       0\n",
            "...           ...    ...   ...    ...     ...\n",
            "255635 2017-12-27     10    14     50       0\n",
            "255636 2017-12-28     10    14     62       0\n",
            "255637 2017-12-29     10    14     40       0\n",
            "255638 2017-12-30     10    14     57       0\n",
            "255639 2017-12-31     10    14     57       0\n",
            "\n",
            "[1826 rows x 5 columns]\n"
          ]
        },
        {
          "output_type": "stream",
          "name": "stderr",
          "text": [
            "/usr/local/lib/python3.10/dist-packages/statsmodels/tsa/base/tsa_model.py:836: ValueWarning: No supported index is available. Prediction results will be given with an integer index beginning at `start`.\n",
            "  return get_prediction_index(\n",
            "/usr/local/lib/python3.10/dist-packages/statsmodels/tsa/base/tsa_model.py:836: FutureWarning: No supported index is available. In the next version, calling this method in a model without a supported index will result in an exception.\n",
            "  return get_prediction_index(\n"
          ]
        },
        {
          "output_type": "stream",
          "name": "stdout",
          "text": [
            "Finished training model...\n",
            "Predicting for store 1 and item 15\n",
            "             date  store  item  sales  is_hol\n",
            "255640 2013-01-01      1    15     42       1\n",
            "255641 2013-01-02      1    15     33       0\n",
            "255642 2013-01-03      1    15     45       0\n",
            "255643 2013-01-04      1    15     39       0\n",
            "255644 2013-01-05      1    15     47       0\n",
            "...           ...    ...   ...    ...     ...\n",
            "257461 2017-12-27      1    15     62       0\n",
            "257462 2017-12-28      1    15     82       0\n",
            "257463 2017-12-29      1    15     65       0\n",
            "257464 2017-12-30      1    15     77       0\n",
            "257465 2017-12-31      1    15     64       0\n",
            "\n",
            "[1826 rows x 5 columns]\n"
          ]
        },
        {
          "output_type": "stream",
          "name": "stderr",
          "text": [
            "/usr/local/lib/python3.10/dist-packages/statsmodels/tsa/base/tsa_model.py:836: ValueWarning: No supported index is available. Prediction results will be given with an integer index beginning at `start`.\n",
            "  return get_prediction_index(\n",
            "/usr/local/lib/python3.10/dist-packages/statsmodels/tsa/base/tsa_model.py:836: FutureWarning: No supported index is available. In the next version, calling this method in a model without a supported index will result in an exception.\n",
            "  return get_prediction_index(\n"
          ]
        },
        {
          "output_type": "stream",
          "name": "stdout",
          "text": [
            "Finished training model...\n",
            "Predicting for store 2 and item 15\n",
            "             date  store  item  sales  is_hol\n",
            "257466 2013-01-01      2    15     65       1\n",
            "257467 2013-01-02      2    15     71       0\n",
            "257468 2013-01-03      2    15     53       0\n",
            "257469 2013-01-04      2    15     68       0\n",
            "257470 2013-01-05      2    15     77       0\n",
            "...           ...    ...   ...    ...     ...\n",
            "259287 2017-12-27      2    15    105       0\n",
            "259288 2017-12-28      2    15     89       0\n",
            "259289 2017-12-29      2    15    101       0\n",
            "259290 2017-12-30      2    15    104       0\n",
            "259291 2017-12-31      2    15    106       0\n",
            "\n",
            "[1826 rows x 5 columns]\n"
          ]
        },
        {
          "output_type": "stream",
          "name": "stderr",
          "text": [
            "/usr/local/lib/python3.10/dist-packages/statsmodels/tsa/base/tsa_model.py:836: ValueWarning: No supported index is available. Prediction results will be given with an integer index beginning at `start`.\n",
            "  return get_prediction_index(\n",
            "/usr/local/lib/python3.10/dist-packages/statsmodels/tsa/base/tsa_model.py:836: FutureWarning: No supported index is available. In the next version, calling this method in a model without a supported index will result in an exception.\n",
            "  return get_prediction_index(\n"
          ]
        },
        {
          "output_type": "stream",
          "name": "stdout",
          "text": [
            "Finished training model...\n",
            "Predicting for store 3 and item 15\n",
            "             date  store  item  sales  is_hol\n",
            "259292 2013-01-01      3    15     61       1\n",
            "259293 2013-01-02      3    15     44       0\n",
            "259294 2013-01-03      3    15     67       0\n",
            "259295 2013-01-04      3    15     61       0\n",
            "259296 2013-01-05      3    15     76       0\n",
            "...           ...    ...   ...    ...     ...\n",
            "261113 2017-12-27      3    15     77       0\n",
            "261114 2017-12-28      3    15     53       0\n",
            "261115 2017-12-29      3    15     93       0\n",
            "261116 2017-12-30      3    15     93       0\n",
            "261117 2017-12-31      3    15    104       0\n",
            "\n",
            "[1826 rows x 5 columns]\n"
          ]
        },
        {
          "output_type": "stream",
          "name": "stderr",
          "text": [
            "/usr/local/lib/python3.10/dist-packages/statsmodels/tsa/base/tsa_model.py:836: ValueWarning: No supported index is available. Prediction results will be given with an integer index beginning at `start`.\n",
            "  return get_prediction_index(\n",
            "/usr/local/lib/python3.10/dist-packages/statsmodels/tsa/base/tsa_model.py:836: FutureWarning: No supported index is available. In the next version, calling this method in a model without a supported index will result in an exception.\n",
            "  return get_prediction_index(\n"
          ]
        },
        {
          "output_type": "stream",
          "name": "stdout",
          "text": [
            "Finished training model...\n",
            "Predicting for store 4 and item 15\n",
            "             date  store  item  sales  is_hol\n",
            "261118 2013-01-01      4    15     46       1\n",
            "261119 2013-01-02      4    15     50       0\n",
            "261120 2013-01-03      4    15     46       0\n",
            "261121 2013-01-04      4    15     58       0\n",
            "261122 2013-01-05      4    15     61       0\n",
            "...           ...    ...   ...    ...     ...\n",
            "262939 2017-12-27      4    15     74       0\n",
            "262940 2017-12-28      4    15     65       0\n",
            "262941 2017-12-29      4    15     95       0\n",
            "262942 2017-12-30      4    15     93       0\n",
            "262943 2017-12-31      4    15    100       0\n",
            "\n",
            "[1826 rows x 5 columns]\n"
          ]
        },
        {
          "output_type": "stream",
          "name": "stderr",
          "text": [
            "/usr/local/lib/python3.10/dist-packages/statsmodels/tsa/base/tsa_model.py:836: ValueWarning: No supported index is available. Prediction results will be given with an integer index beginning at `start`.\n",
            "  return get_prediction_index(\n",
            "/usr/local/lib/python3.10/dist-packages/statsmodels/tsa/base/tsa_model.py:836: FutureWarning: No supported index is available. In the next version, calling this method in a model without a supported index will result in an exception.\n",
            "  return get_prediction_index(\n"
          ]
        },
        {
          "output_type": "stream",
          "name": "stdout",
          "text": [
            "Finished training model...\n",
            "Predicting for store 5 and item 15\n",
            "             date  store  item  sales  is_hol\n",
            "262944 2013-01-01      5    15     31       1\n",
            "262945 2013-01-02      5    15     31       0\n",
            "262946 2013-01-03      5    15     32       0\n",
            "262947 2013-01-04      5    15     37       0\n",
            "262948 2013-01-05      5    15     43       0\n",
            "...           ...    ...   ...    ...     ...\n",
            "264765 2017-12-27      5    15     53       0\n",
            "264766 2017-12-28      5    15     49       0\n",
            "264767 2017-12-29      5    15     61       0\n",
            "264768 2017-12-30      5    15     75       0\n",
            "264769 2017-12-31      5    15     71       0\n",
            "\n",
            "[1826 rows x 5 columns]\n"
          ]
        },
        {
          "output_type": "stream",
          "name": "stderr",
          "text": [
            "/usr/local/lib/python3.10/dist-packages/statsmodels/tsa/base/tsa_model.py:836: ValueWarning: No supported index is available. Prediction results will be given with an integer index beginning at `start`.\n",
            "  return get_prediction_index(\n",
            "/usr/local/lib/python3.10/dist-packages/statsmodels/tsa/base/tsa_model.py:836: FutureWarning: No supported index is available. In the next version, calling this method in a model without a supported index will result in an exception.\n",
            "  return get_prediction_index(\n"
          ]
        },
        {
          "output_type": "stream",
          "name": "stdout",
          "text": [
            "Finished training model...\n",
            "Predicting for store 6 and item 15\n",
            "             date  store  item  sales  is_hol\n",
            "264770 2013-01-01      6    15     38       1\n",
            "264771 2013-01-02      6    15     29       0\n",
            "264772 2013-01-03      6    15     37       0\n",
            "264773 2013-01-04      6    15     46       0\n",
            "264774 2013-01-05      6    15     55       0\n",
            "...           ...    ...   ...    ...     ...\n",
            "266591 2017-12-27      6    15     47       0\n",
            "266592 2017-12-28      6    15     45       0\n",
            "266593 2017-12-29      6    15     49       0\n",
            "266594 2017-12-30      6    15     69       0\n",
            "266595 2017-12-31      6    15     69       0\n",
            "\n",
            "[1826 rows x 5 columns]\n"
          ]
        },
        {
          "output_type": "stream",
          "name": "stderr",
          "text": [
            "/usr/local/lib/python3.10/dist-packages/statsmodels/tsa/base/tsa_model.py:836: ValueWarning: No supported index is available. Prediction results will be given with an integer index beginning at `start`.\n",
            "  return get_prediction_index(\n",
            "/usr/local/lib/python3.10/dist-packages/statsmodels/tsa/base/tsa_model.py:836: FutureWarning: No supported index is available. In the next version, calling this method in a model without a supported index will result in an exception.\n",
            "  return get_prediction_index(\n"
          ]
        },
        {
          "output_type": "stream",
          "name": "stdout",
          "text": [
            "Finished training model...\n",
            "Predicting for store 7 and item 15\n",
            "             date  store  item  sales  is_hol\n",
            "266596 2013-01-01      7    15     27       1\n",
            "266597 2013-01-02      7    15     29       0\n",
            "266598 2013-01-03      7    15     35       0\n",
            "266599 2013-01-04      7    15     43       0\n",
            "266600 2013-01-05      7    15     24       0\n",
            "...           ...    ...   ...    ...     ...\n",
            "268417 2017-12-27      7    15     42       0\n",
            "268418 2017-12-28      7    15     43       0\n",
            "268419 2017-12-29      7    15     52       0\n",
            "268420 2017-12-30      7    15     61       0\n",
            "268421 2017-12-31      7    15     51       0\n",
            "\n",
            "[1826 rows x 5 columns]\n"
          ]
        },
        {
          "output_type": "stream",
          "name": "stderr",
          "text": [
            "/usr/local/lib/python3.10/dist-packages/statsmodels/tsa/base/tsa_model.py:836: ValueWarning: No supported index is available. Prediction results will be given with an integer index beginning at `start`.\n",
            "  return get_prediction_index(\n",
            "/usr/local/lib/python3.10/dist-packages/statsmodels/tsa/base/tsa_model.py:836: FutureWarning: No supported index is available. In the next version, calling this method in a model without a supported index will result in an exception.\n",
            "  return get_prediction_index(\n"
          ]
        },
        {
          "output_type": "stream",
          "name": "stdout",
          "text": [
            "Finished training model...\n",
            "Predicting for store 8 and item 15\n",
            "             date  store  item  sales  is_hol\n",
            "268422 2013-01-01      8    15     44       1\n",
            "268423 2013-01-02      8    15     56       0\n",
            "268424 2013-01-03      8    15     59       0\n",
            "268425 2013-01-04      8    15     66       0\n",
            "268426 2013-01-05      8    15     83       0\n",
            "...           ...    ...   ...    ...     ...\n",
            "270243 2017-12-27      8    15     81       0\n",
            "270244 2017-12-28      8    15     86       0\n",
            "270245 2017-12-29      8    15     86       0\n",
            "270246 2017-12-30      8    15    119       0\n",
            "270247 2017-12-31      8    15    105       0\n",
            "\n",
            "[1826 rows x 5 columns]\n"
          ]
        },
        {
          "output_type": "stream",
          "name": "stderr",
          "text": [
            "/usr/local/lib/python3.10/dist-packages/statsmodels/tsa/base/tsa_model.py:836: ValueWarning: No supported index is available. Prediction results will be given with an integer index beginning at `start`.\n",
            "  return get_prediction_index(\n",
            "/usr/local/lib/python3.10/dist-packages/statsmodels/tsa/base/tsa_model.py:836: FutureWarning: No supported index is available. In the next version, calling this method in a model without a supported index will result in an exception.\n",
            "  return get_prediction_index(\n"
          ]
        },
        {
          "output_type": "stream",
          "name": "stdout",
          "text": [
            "Finished training model...\n",
            "Predicting for store 9 and item 15\n",
            "             date  store  item  sales  is_hol\n",
            "270248 2013-01-01      9    15     48       1\n",
            "270249 2013-01-02      9    15     40       0\n",
            "270250 2013-01-03      9    15     64       0\n",
            "270251 2013-01-04      9    15     60       0\n",
            "270252 2013-01-05      9    15     66       0\n",
            "...           ...    ...   ...    ...     ...\n",
            "272069 2017-12-27      9    15     57       0\n",
            "272070 2017-12-28      9    15     75       0\n",
            "272071 2017-12-29      9    15     75       0\n",
            "272072 2017-12-30      9    15     79       0\n",
            "272073 2017-12-31      9    15     77       0\n",
            "\n",
            "[1826 rows x 5 columns]\n"
          ]
        },
        {
          "output_type": "stream",
          "name": "stderr",
          "text": [
            "/usr/local/lib/python3.10/dist-packages/statsmodels/tsa/base/tsa_model.py:836: ValueWarning: No supported index is available. Prediction results will be given with an integer index beginning at `start`.\n",
            "  return get_prediction_index(\n",
            "/usr/local/lib/python3.10/dist-packages/statsmodels/tsa/base/tsa_model.py:836: FutureWarning: No supported index is available. In the next version, calling this method in a model without a supported index will result in an exception.\n",
            "  return get_prediction_index(\n"
          ]
        },
        {
          "output_type": "stream",
          "name": "stdout",
          "text": [
            "Finished training model...\n",
            "Predicting for store 10 and item 15\n",
            "             date  store  item  sales  is_hol\n",
            "272074 2013-01-01     10    15     51       1\n",
            "272075 2013-01-02     10    15     59       0\n",
            "272076 2013-01-03     10    15     49       0\n",
            "272077 2013-01-04     10    15     55       0\n",
            "272078 2013-01-05     10    15     72       0\n",
            "...           ...    ...   ...    ...     ...\n",
            "273895 2017-12-27     10    15     72       0\n",
            "273896 2017-12-28     10    15     88       0\n",
            "273897 2017-12-29     10    15    101       0\n",
            "273898 2017-12-30     10    15     94       0\n",
            "273899 2017-12-31     10    15     89       0\n",
            "\n",
            "[1826 rows x 5 columns]\n"
          ]
        },
        {
          "output_type": "stream",
          "name": "stderr",
          "text": [
            "/usr/local/lib/python3.10/dist-packages/statsmodels/tsa/base/tsa_model.py:836: ValueWarning: No supported index is available. Prediction results will be given with an integer index beginning at `start`.\n",
            "  return get_prediction_index(\n",
            "/usr/local/lib/python3.10/dist-packages/statsmodels/tsa/base/tsa_model.py:836: FutureWarning: No supported index is available. In the next version, calling this method in a model without a supported index will result in an exception.\n",
            "  return get_prediction_index(\n"
          ]
        },
        {
          "output_type": "stream",
          "name": "stdout",
          "text": [
            "Finished training model...\n",
            "Predicting for store 1 and item 16\n",
            "             date  store  item  sales  is_hol\n",
            "273900 2013-01-01      1    16     14       1\n",
            "273901 2013-01-02      1    16     11       0\n",
            "273902 2013-01-03      1    16     12       0\n",
            "273903 2013-01-04      1    16     15       0\n",
            "273904 2013-01-05      1    16     22       0\n",
            "...           ...    ...   ...    ...     ...\n",
            "275721 2017-12-27      1    16     16       0\n",
            "275722 2017-12-28      1    16     24       0\n",
            "275723 2017-12-29      1    16     11       0\n",
            "275724 2017-12-30      1    16     28       0\n",
            "275725 2017-12-31      1    16     38       0\n",
            "\n",
            "[1826 rows x 5 columns]\n"
          ]
        },
        {
          "output_type": "stream",
          "name": "stderr",
          "text": [
            "/usr/local/lib/python3.10/dist-packages/statsmodels/tsa/base/tsa_model.py:836: ValueWarning: No supported index is available. Prediction results will be given with an integer index beginning at `start`.\n",
            "  return get_prediction_index(\n",
            "/usr/local/lib/python3.10/dist-packages/statsmodels/tsa/base/tsa_model.py:836: FutureWarning: No supported index is available. In the next version, calling this method in a model without a supported index will result in an exception.\n",
            "  return get_prediction_index(\n"
          ]
        },
        {
          "output_type": "stream",
          "name": "stdout",
          "text": [
            "Finished training model...\n",
            "Predicting for store 2 and item 16\n",
            "             date  store  item  sales  is_hol\n",
            "275726 2013-01-01      2    16     15       1\n",
            "275727 2013-01-02      2    16     14       0\n",
            "275728 2013-01-03      2    16     16       0\n",
            "275729 2013-01-04      2    16     14       0\n",
            "275730 2013-01-05      2    16     15       0\n",
            "...           ...    ...   ...    ...     ...\n",
            "277547 2017-12-27      2    16     23       0\n",
            "277548 2017-12-28      2    16     17       0\n",
            "277549 2017-12-29      2    16     27       0\n",
            "277550 2017-12-30      2    16     25       0\n",
            "277551 2017-12-31      2    16     30       0\n",
            "\n",
            "[1826 rows x 5 columns]\n"
          ]
        },
        {
          "output_type": "stream",
          "name": "stderr",
          "text": [
            "/usr/local/lib/python3.10/dist-packages/statsmodels/tsa/base/tsa_model.py:836: ValueWarning: No supported index is available. Prediction results will be given with an integer index beginning at `start`.\n",
            "  return get_prediction_index(\n",
            "/usr/local/lib/python3.10/dist-packages/statsmodels/tsa/base/tsa_model.py:836: FutureWarning: No supported index is available. In the next version, calling this method in a model without a supported index will result in an exception.\n",
            "  return get_prediction_index(\n"
          ]
        },
        {
          "output_type": "stream",
          "name": "stdout",
          "text": [
            "Finished training model...\n",
            "Predicting for store 3 and item 16\n",
            "             date  store  item  sales  is_hol\n",
            "277552 2013-01-01      3    16     15       1\n",
            "277553 2013-01-02      3    16     18       0\n",
            "277554 2013-01-03      3    16     18       0\n",
            "277555 2013-01-04      3    16     18       0\n",
            "277556 2013-01-05      3    16     14       0\n",
            "...           ...    ...   ...    ...     ...\n",
            "279373 2017-12-27      3    16     23       0\n",
            "279374 2017-12-28      3    16     22       0\n",
            "279375 2017-12-29      3    16     28       0\n",
            "279376 2017-12-30      3    16     31       0\n",
            "279377 2017-12-31      3    16     42       0\n",
            "\n",
            "[1826 rows x 5 columns]\n"
          ]
        },
        {
          "output_type": "stream",
          "name": "stderr",
          "text": [
            "/usr/local/lib/python3.10/dist-packages/statsmodels/tsa/base/tsa_model.py:836: ValueWarning: No supported index is available. Prediction results will be given with an integer index beginning at `start`.\n",
            "  return get_prediction_index(\n",
            "/usr/local/lib/python3.10/dist-packages/statsmodels/tsa/base/tsa_model.py:836: FutureWarning: No supported index is available. In the next version, calling this method in a model without a supported index will result in an exception.\n",
            "  return get_prediction_index(\n"
          ]
        },
        {
          "output_type": "stream",
          "name": "stdout",
          "text": [
            "Finished training model...\n",
            "Predicting for store 4 and item 16\n",
            "             date  store  item  sales  is_hol\n",
            "279378 2013-01-01      4    16     13       1\n",
            "279379 2013-01-02      4    16     15       0\n",
            "279380 2013-01-03      4    16      9       0\n",
            "279381 2013-01-04      4    16     18       0\n",
            "279382 2013-01-05      4    16     13       0\n",
            "...           ...    ...   ...    ...     ...\n",
            "281199 2017-12-27      4    16     24       0\n",
            "281200 2017-12-28      4    16     12       0\n",
            "281201 2017-12-29      4    16     22       0\n",
            "281202 2017-12-30      4    16     27       0\n",
            "281203 2017-12-31      4    16     27       0\n",
            "\n",
            "[1826 rows x 5 columns]\n"
          ]
        },
        {
          "output_type": "stream",
          "name": "stderr",
          "text": [
            "/usr/local/lib/python3.10/dist-packages/statsmodels/tsa/base/tsa_model.py:836: ValueWarning: No supported index is available. Prediction results will be given with an integer index beginning at `start`.\n",
            "  return get_prediction_index(\n",
            "/usr/local/lib/python3.10/dist-packages/statsmodels/tsa/base/tsa_model.py:836: FutureWarning: No supported index is available. In the next version, calling this method in a model without a supported index will result in an exception.\n",
            "  return get_prediction_index(\n"
          ]
        },
        {
          "output_type": "stream",
          "name": "stdout",
          "text": [
            "Finished training model...\n",
            "Predicting for store 5 and item 16\n",
            "             date  store  item  sales  is_hol\n",
            "281204 2013-01-01      5    16     10       1\n",
            "281205 2013-01-02      5    16     12       0\n",
            "281206 2013-01-03      5    16     11       0\n",
            "281207 2013-01-04      5    16     12       0\n",
            "281208 2013-01-05      5    16     18       0\n",
            "...           ...    ...   ...    ...     ...\n",
            "283025 2017-12-27      5    16     15       0\n",
            "283026 2017-12-28      5    16     13       0\n",
            "283027 2017-12-29      5    16     20       0\n",
            "283028 2017-12-30      5    16     10       0\n",
            "283029 2017-12-31      5    16     26       0\n",
            "\n",
            "[1826 rows x 5 columns]\n"
          ]
        },
        {
          "output_type": "stream",
          "name": "stderr",
          "text": [
            "/usr/local/lib/python3.10/dist-packages/statsmodels/tsa/base/tsa_model.py:836: ValueWarning: No supported index is available. Prediction results will be given with an integer index beginning at `start`.\n",
            "  return get_prediction_index(\n",
            "/usr/local/lib/python3.10/dist-packages/statsmodels/tsa/base/tsa_model.py:836: FutureWarning: No supported index is available. In the next version, calling this method in a model without a supported index will result in an exception.\n",
            "  return get_prediction_index(\n"
          ]
        },
        {
          "output_type": "stream",
          "name": "stdout",
          "text": [
            "Finished training model...\n",
            "Predicting for store 6 and item 16\n",
            "             date  store  item  sales  is_hol\n",
            "283030 2013-01-01      6    16     13       1\n",
            "283031 2013-01-02      6    16      9       0\n",
            "283032 2013-01-03      6    16     13       0\n",
            "283033 2013-01-04      6    16      9       0\n",
            "283034 2013-01-05      6    16      6       0\n",
            "...           ...    ...   ...    ...     ...\n",
            "284851 2017-12-27      6    16     14       0\n",
            "284852 2017-12-28      6    16     15       0\n",
            "284853 2017-12-29      6    16     20       0\n",
            "284854 2017-12-30      6    16     17       0\n",
            "284855 2017-12-31      6    16     21       0\n",
            "\n",
            "[1826 rows x 5 columns]\n"
          ]
        },
        {
          "output_type": "stream",
          "name": "stderr",
          "text": [
            "/usr/local/lib/python3.10/dist-packages/statsmodels/tsa/base/tsa_model.py:836: ValueWarning: No supported index is available. Prediction results will be given with an integer index beginning at `start`.\n",
            "  return get_prediction_index(\n",
            "/usr/local/lib/python3.10/dist-packages/statsmodels/tsa/base/tsa_model.py:836: FutureWarning: No supported index is available. In the next version, calling this method in a model without a supported index will result in an exception.\n",
            "  return get_prediction_index(\n"
          ]
        },
        {
          "output_type": "stream",
          "name": "stdout",
          "text": [
            "Finished training model...\n",
            "Predicting for store 7 and item 16\n",
            "             date  store  item  sales  is_hol\n",
            "284856 2013-01-01      7    16     11       1\n",
            "284857 2013-01-02      7    16     10       0\n",
            "284858 2013-01-03      7    16      9       0\n",
            "284859 2013-01-04      7    16      8       0\n",
            "284860 2013-01-05      7    16     11       0\n",
            "...           ...    ...   ...    ...     ...\n",
            "286677 2017-12-27      7    16     13       0\n",
            "286678 2017-12-28      7    16     18       0\n",
            "286679 2017-12-29      7    16     10       0\n",
            "286680 2017-12-30      7    16     17       0\n",
            "286681 2017-12-31      7    16     21       0\n",
            "\n",
            "[1826 rows x 5 columns]\n"
          ]
        },
        {
          "output_type": "stream",
          "name": "stderr",
          "text": [
            "/usr/local/lib/python3.10/dist-packages/statsmodels/tsa/base/tsa_model.py:836: ValueWarning: No supported index is available. Prediction results will be given with an integer index beginning at `start`.\n",
            "  return get_prediction_index(\n",
            "/usr/local/lib/python3.10/dist-packages/statsmodels/tsa/base/tsa_model.py:836: FutureWarning: No supported index is available. In the next version, calling this method in a model without a supported index will result in an exception.\n",
            "  return get_prediction_index(\n"
          ]
        },
        {
          "output_type": "stream",
          "name": "stdout",
          "text": [
            "Finished training model...\n",
            "Predicting for store 8 and item 16\n",
            "             date  store  item  sales  is_hol\n",
            "286682 2013-01-01      8    16     14       1\n",
            "286683 2013-01-02      8    16     19       0\n",
            "286684 2013-01-03      8    16     22       0\n",
            "286685 2013-01-04      8    16     18       0\n",
            "286686 2013-01-05      8    16     20       0\n",
            "...           ...    ...   ...    ...     ...\n",
            "288503 2017-12-27      8    16     23       0\n",
            "288504 2017-12-28      8    16     29       0\n",
            "288505 2017-12-29      8    16     27       0\n",
            "288506 2017-12-30      8    16     16       0\n",
            "288507 2017-12-31      8    16     32       0\n",
            "\n",
            "[1826 rows x 5 columns]\n"
          ]
        },
        {
          "output_type": "stream",
          "name": "stderr",
          "text": [
            "/usr/local/lib/python3.10/dist-packages/statsmodels/tsa/base/tsa_model.py:836: ValueWarning: No supported index is available. Prediction results will be given with an integer index beginning at `start`.\n",
            "  return get_prediction_index(\n",
            "/usr/local/lib/python3.10/dist-packages/statsmodels/tsa/base/tsa_model.py:836: FutureWarning: No supported index is available. In the next version, calling this method in a model without a supported index will result in an exception.\n",
            "  return get_prediction_index(\n"
          ]
        },
        {
          "output_type": "stream",
          "name": "stdout",
          "text": [
            "Finished training model...\n",
            "Predicting for store 9 and item 16\n",
            "             date  store  item  sales  is_hol\n",
            "288508 2013-01-01      9    16     19       1\n",
            "288509 2013-01-02      9    16     10       0\n",
            "288510 2013-01-03      9    16     17       0\n",
            "288511 2013-01-04      9    16     15       0\n",
            "288512 2013-01-05      9    16     12       0\n",
            "...           ...    ...   ...    ...     ...\n",
            "290329 2017-12-27      9    16     17       0\n",
            "290330 2017-12-28      9    16     23       0\n",
            "290331 2017-12-29      9    16     24       0\n",
            "290332 2017-12-30      9    16     24       0\n",
            "290333 2017-12-31      9    16     25       0\n",
            "\n",
            "[1826 rows x 5 columns]\n"
          ]
        },
        {
          "output_type": "stream",
          "name": "stderr",
          "text": [
            "/usr/local/lib/python3.10/dist-packages/statsmodels/tsa/base/tsa_model.py:836: ValueWarning: No supported index is available. Prediction results will be given with an integer index beginning at `start`.\n",
            "  return get_prediction_index(\n",
            "/usr/local/lib/python3.10/dist-packages/statsmodels/tsa/base/tsa_model.py:836: FutureWarning: No supported index is available. In the next version, calling this method in a model without a supported index will result in an exception.\n",
            "  return get_prediction_index(\n"
          ]
        },
        {
          "output_type": "stream",
          "name": "stdout",
          "text": [
            "Finished training model...\n",
            "Predicting for store 10 and item 16\n",
            "             date  store  item  sales  is_hol\n",
            "290334 2013-01-01     10    16     20       1\n",
            "290335 2013-01-02     10    16     18       0\n",
            "290336 2013-01-03     10    16     10       0\n",
            "290337 2013-01-04     10    16     14       0\n",
            "290338 2013-01-05     10    16     14       0\n",
            "...           ...    ...   ...    ...     ...\n",
            "292155 2017-12-27     10    16     17       0\n",
            "292156 2017-12-28     10    16     28       0\n",
            "292157 2017-12-29     10    16     24       0\n",
            "292158 2017-12-30     10    16     36       0\n",
            "292159 2017-12-31     10    16     20       0\n",
            "\n",
            "[1826 rows x 5 columns]\n"
          ]
        },
        {
          "output_type": "stream",
          "name": "stderr",
          "text": [
            "/usr/local/lib/python3.10/dist-packages/statsmodels/tsa/base/tsa_model.py:836: ValueWarning: No supported index is available. Prediction results will be given with an integer index beginning at `start`.\n",
            "  return get_prediction_index(\n",
            "/usr/local/lib/python3.10/dist-packages/statsmodels/tsa/base/tsa_model.py:836: FutureWarning: No supported index is available. In the next version, calling this method in a model without a supported index will result in an exception.\n",
            "  return get_prediction_index(\n"
          ]
        },
        {
          "output_type": "stream",
          "name": "stdout",
          "text": [
            "Finished training model...\n",
            "Predicting for store 1 and item 17\n",
            "             date  store  item  sales  is_hol\n",
            "292160 2013-01-01      1    17     13       1\n",
            "292161 2013-01-02      1    17     18       0\n",
            "292162 2013-01-03      1    17     15       0\n",
            "292163 2013-01-04      1    17     19       0\n",
            "292164 2013-01-05      1    17     16       0\n",
            "...           ...    ...   ...    ...     ...\n",
            "293981 2017-12-27      1    17     29       0\n",
            "293982 2017-12-28      1    17     13       0\n",
            "293983 2017-12-29      1    17     27       0\n",
            "293984 2017-12-30      1    17     32       0\n",
            "293985 2017-12-31      1    17     37       0\n",
            "\n",
            "[1826 rows x 5 columns]\n"
          ]
        },
        {
          "output_type": "stream",
          "name": "stderr",
          "text": [
            "/usr/local/lib/python3.10/dist-packages/statsmodels/tsa/base/tsa_model.py:836: ValueWarning: No supported index is available. Prediction results will be given with an integer index beginning at `start`.\n",
            "  return get_prediction_index(\n",
            "/usr/local/lib/python3.10/dist-packages/statsmodels/tsa/base/tsa_model.py:836: FutureWarning: No supported index is available. In the next version, calling this method in a model without a supported index will result in an exception.\n",
            "  return get_prediction_index(\n"
          ]
        },
        {
          "output_type": "stream",
          "name": "stdout",
          "text": [
            "Finished training model...\n",
            "Predicting for store 2 and item 17\n",
            "             date  store  item  sales  is_hol\n",
            "293986 2013-01-01      2    17     24       1\n",
            "293987 2013-01-02      2    17     32       0\n",
            "293988 2013-01-03      2    17     23       0\n",
            "293989 2013-01-04      2    17     29       0\n",
            "293990 2013-01-05      2    17     23       0\n",
            "...           ...    ...   ...    ...     ...\n",
            "295807 2017-12-27      2    17     24       0\n",
            "295808 2017-12-28      2    17     31       0\n",
            "295809 2017-12-29      2    17     24       0\n",
            "295810 2017-12-30      2    17     34       0\n",
            "295811 2017-12-31      2    17     51       0\n",
            "\n",
            "[1826 rows x 5 columns]\n"
          ]
        },
        {
          "output_type": "stream",
          "name": "stderr",
          "text": [
            "/usr/local/lib/python3.10/dist-packages/statsmodels/tsa/base/tsa_model.py:836: ValueWarning: No supported index is available. Prediction results will be given with an integer index beginning at `start`.\n",
            "  return get_prediction_index(\n",
            "/usr/local/lib/python3.10/dist-packages/statsmodels/tsa/base/tsa_model.py:836: FutureWarning: No supported index is available. In the next version, calling this method in a model without a supported index will result in an exception.\n",
            "  return get_prediction_index(\n"
          ]
        },
        {
          "output_type": "stream",
          "name": "stdout",
          "text": [
            "Finished training model...\n",
            "Predicting for store 3 and item 17\n",
            "             date  store  item  sales  is_hol\n",
            "295812 2013-01-01      3    17     26       1\n",
            "295813 2013-01-02      3    17     17       0\n",
            "295814 2013-01-03      3    17     26       0\n",
            "295815 2013-01-04      3    17     20       0\n",
            "295816 2013-01-05      3    17     20       0\n",
            "...           ...    ...   ...    ...     ...\n",
            "297633 2017-12-27      3    17     32       0\n",
            "297634 2017-12-28      3    17     29       0\n",
            "297635 2017-12-29      3    17     39       0\n",
            "297636 2017-12-30      3    17     35       0\n",
            "297637 2017-12-31      3    17     36       0\n",
            "\n",
            "[1826 rows x 5 columns]\n"
          ]
        },
        {
          "output_type": "stream",
          "name": "stderr",
          "text": [
            "/usr/local/lib/python3.10/dist-packages/statsmodels/tsa/base/tsa_model.py:836: ValueWarning: No supported index is available. Prediction results will be given with an integer index beginning at `start`.\n",
            "  return get_prediction_index(\n",
            "/usr/local/lib/python3.10/dist-packages/statsmodels/tsa/base/tsa_model.py:836: FutureWarning: No supported index is available. In the next version, calling this method in a model without a supported index will result in an exception.\n",
            "  return get_prediction_index(\n"
          ]
        },
        {
          "output_type": "stream",
          "name": "stdout",
          "text": [
            "Finished training model...\n",
            "Predicting for store 4 and item 17\n",
            "             date  store  item  sales  is_hol\n",
            "297638 2013-01-01      4    17     20       1\n",
            "297639 2013-01-02      4    17     17       0\n",
            "297640 2013-01-03      4    17     18       0\n",
            "297641 2013-01-04      4    17     19       0\n",
            "297642 2013-01-05      4    17     12       0\n",
            "...           ...    ...   ...    ...     ...\n",
            "299459 2017-12-27      4    17     25       0\n",
            "299460 2017-12-28      4    17     26       0\n",
            "299461 2017-12-29      4    17     45       0\n",
            "299462 2017-12-30      4    17     17       0\n",
            "299463 2017-12-31      4    17     26       0\n",
            "\n",
            "[1826 rows x 5 columns]\n"
          ]
        },
        {
          "output_type": "stream",
          "name": "stderr",
          "text": [
            "/usr/local/lib/python3.10/dist-packages/statsmodels/tsa/base/tsa_model.py:836: ValueWarning: No supported index is available. Prediction results will be given with an integer index beginning at `start`.\n",
            "  return get_prediction_index(\n",
            "/usr/local/lib/python3.10/dist-packages/statsmodels/tsa/base/tsa_model.py:836: FutureWarning: No supported index is available. In the next version, calling this method in a model without a supported index will result in an exception.\n",
            "  return get_prediction_index(\n"
          ]
        },
        {
          "output_type": "stream",
          "name": "stdout",
          "text": [
            "Finished training model...\n",
            "Predicting for store 5 and item 17\n",
            "             date  store  item  sales  is_hol\n",
            "299464 2013-01-01      5    17      9       1\n",
            "299465 2013-01-02      5    17     11       0\n",
            "299466 2013-01-03      5    17     16       0\n",
            "299467 2013-01-04      5    17     20       0\n",
            "299468 2013-01-05      5    17     10       0\n",
            "...           ...    ...   ...    ...     ...\n",
            "301285 2017-12-27      5    17     18       0\n",
            "301286 2017-12-28      5    17     24       0\n",
            "301287 2017-12-29      5    17     21       0\n",
            "301288 2017-12-30      5    17     18       0\n",
            "301289 2017-12-31      5    17     23       0\n",
            "\n",
            "[1826 rows x 5 columns]\n"
          ]
        },
        {
          "output_type": "stream",
          "name": "stderr",
          "text": [
            "/usr/local/lib/python3.10/dist-packages/statsmodels/tsa/base/tsa_model.py:836: ValueWarning: No supported index is available. Prediction results will be given with an integer index beginning at `start`.\n",
            "  return get_prediction_index(\n",
            "/usr/local/lib/python3.10/dist-packages/statsmodels/tsa/base/tsa_model.py:836: FutureWarning: No supported index is available. In the next version, calling this method in a model without a supported index will result in an exception.\n",
            "  return get_prediction_index(\n"
          ]
        },
        {
          "output_type": "stream",
          "name": "stdout",
          "text": [
            "Finished training model...\n",
            "Predicting for store 6 and item 17\n",
            "             date  store  item  sales  is_hol\n",
            "301290 2013-01-01      6    17     18       1\n",
            "301291 2013-01-02      6    17     20       0\n",
            "301292 2013-01-03      6    17     17       0\n",
            "301293 2013-01-04      6    17     16       0\n",
            "301294 2013-01-05      6    17     15       0\n",
            "...           ...    ...   ...    ...     ...\n",
            "303111 2017-12-27      6    17     25       0\n",
            "303112 2017-12-28      6    17     19       0\n",
            "303113 2017-12-29      6    17     25       0\n",
            "303114 2017-12-30      6    17     18       0\n",
            "303115 2017-12-31      6    17     28       0\n",
            "\n",
            "[1826 rows x 5 columns]\n"
          ]
        },
        {
          "output_type": "stream",
          "name": "stderr",
          "text": [
            "/usr/local/lib/python3.10/dist-packages/statsmodels/tsa/base/tsa_model.py:836: ValueWarning: No supported index is available. Prediction results will be given with an integer index beginning at `start`.\n",
            "  return get_prediction_index(\n",
            "/usr/local/lib/python3.10/dist-packages/statsmodels/tsa/base/tsa_model.py:836: FutureWarning: No supported index is available. In the next version, calling this method in a model without a supported index will result in an exception.\n",
            "  return get_prediction_index(\n"
          ]
        },
        {
          "output_type": "stream",
          "name": "stdout",
          "text": [
            "Finished training model...\n",
            "Predicting for store 7 and item 17\n",
            "             date  store  item  sales  is_hol\n",
            "303116 2013-01-01      7    17     10       1\n",
            "303117 2013-01-02      7    17      8       0\n",
            "303118 2013-01-03      7    17     13       0\n",
            "303119 2013-01-04      7    17     13       0\n",
            "303120 2013-01-05      7    17     14       0\n",
            "...           ...    ...   ...    ...     ...\n",
            "304937 2017-12-27      7    17     25       0\n",
            "304938 2017-12-28      7    17     28       0\n",
            "304939 2017-12-29      7    17     18       0\n",
            "304940 2017-12-30      7    17     16       0\n",
            "304941 2017-12-31      7    17     24       0\n",
            "\n",
            "[1826 rows x 5 columns]\n"
          ]
        },
        {
          "output_type": "stream",
          "name": "stderr",
          "text": [
            "/usr/local/lib/python3.10/dist-packages/statsmodels/tsa/base/tsa_model.py:836: ValueWarning: No supported index is available. Prediction results will be given with an integer index beginning at `start`.\n",
            "  return get_prediction_index(\n",
            "/usr/local/lib/python3.10/dist-packages/statsmodels/tsa/base/tsa_model.py:836: FutureWarning: No supported index is available. In the next version, calling this method in a model without a supported index will result in an exception.\n",
            "  return get_prediction_index(\n"
          ]
        },
        {
          "output_type": "stream",
          "name": "stdout",
          "text": [
            "Finished training model...\n",
            "Predicting for store 8 and item 17\n",
            "             date  store  item  sales  is_hol\n",
            "304942 2013-01-01      8    17     13       1\n",
            "304943 2013-01-02      8    17     22       0\n",
            "304944 2013-01-03      8    17     28       0\n",
            "304945 2013-01-04      8    17     26       0\n",
            "304946 2013-01-05      8    17     26       0\n",
            "...           ...    ...   ...    ...     ...\n",
            "306763 2017-12-27      8    17     31       0\n",
            "306764 2017-12-28      8    17     40       0\n",
            "306765 2017-12-29      8    17     38       0\n",
            "306766 2017-12-30      8    17     33       0\n",
            "306767 2017-12-31      8    17     43       0\n",
            "\n",
            "[1826 rows x 5 columns]\n"
          ]
        },
        {
          "output_type": "stream",
          "name": "stderr",
          "text": [
            "/usr/local/lib/python3.10/dist-packages/statsmodels/tsa/base/tsa_model.py:836: ValueWarning: No supported index is available. Prediction results will be given with an integer index beginning at `start`.\n",
            "  return get_prediction_index(\n",
            "/usr/local/lib/python3.10/dist-packages/statsmodels/tsa/base/tsa_model.py:836: FutureWarning: No supported index is available. In the next version, calling this method in a model without a supported index will result in an exception.\n",
            "  return get_prediction_index(\n"
          ]
        },
        {
          "output_type": "stream",
          "name": "stdout",
          "text": [
            "Finished training model...\n",
            "Predicting for store 9 and item 17\n",
            "             date  store  item  sales  is_hol\n",
            "306768 2013-01-01      9    17     18       1\n",
            "306769 2013-01-02      9    17     19       0\n",
            "306770 2013-01-03      9    17     26       0\n",
            "306771 2013-01-04      9    17     17       0\n",
            "306772 2013-01-05      9    17     20       0\n",
            "...           ...    ...   ...    ...     ...\n",
            "308589 2017-12-27      9    17     27       0\n",
            "308590 2017-12-28      9    17     19       0\n",
            "308591 2017-12-29      9    17     37       0\n",
            "308592 2017-12-30      9    17     35       0\n",
            "308593 2017-12-31      9    17     30       0\n",
            "\n",
            "[1826 rows x 5 columns]\n"
          ]
        },
        {
          "output_type": "stream",
          "name": "stderr",
          "text": [
            "/usr/local/lib/python3.10/dist-packages/statsmodels/tsa/base/tsa_model.py:836: ValueWarning: No supported index is available. Prediction results will be given with an integer index beginning at `start`.\n",
            "  return get_prediction_index(\n",
            "/usr/local/lib/python3.10/dist-packages/statsmodels/tsa/base/tsa_model.py:836: FutureWarning: No supported index is available. In the next version, calling this method in a model without a supported index will result in an exception.\n",
            "  return get_prediction_index(\n"
          ]
        },
        {
          "output_type": "stream",
          "name": "stdout",
          "text": [
            "Finished training model...\n",
            "Predicting for store 10 and item 17\n",
            "             date  store  item  sales  is_hol\n",
            "308594 2013-01-01     10    17     20       1\n",
            "308595 2013-01-02     10    17     17       0\n",
            "308596 2013-01-03     10    17     25       0\n",
            "308597 2013-01-04     10    17     16       0\n",
            "308598 2013-01-05     10    17     16       0\n",
            "...           ...    ...   ...    ...     ...\n",
            "310415 2017-12-27     10    17     26       0\n",
            "310416 2017-12-28     10    17     42       0\n",
            "310417 2017-12-29     10    17     32       0\n",
            "310418 2017-12-30     10    17     36       0\n",
            "310419 2017-12-31     10    17     37       0\n",
            "\n",
            "[1826 rows x 5 columns]\n"
          ]
        },
        {
          "output_type": "stream",
          "name": "stderr",
          "text": [
            "/usr/local/lib/python3.10/dist-packages/statsmodels/tsa/base/tsa_model.py:836: ValueWarning: No supported index is available. Prediction results will be given with an integer index beginning at `start`.\n",
            "  return get_prediction_index(\n",
            "/usr/local/lib/python3.10/dist-packages/statsmodels/tsa/base/tsa_model.py:836: FutureWarning: No supported index is available. In the next version, calling this method in a model without a supported index will result in an exception.\n",
            "  return get_prediction_index(\n"
          ]
        },
        {
          "output_type": "stream",
          "name": "stdout",
          "text": [
            "Finished training model...\n",
            "Predicting for store 1 and item 18\n",
            "             date  store  item  sales  is_hol\n",
            "310420 2013-01-01      1    18     38       1\n",
            "310421 2013-01-02      1    18     51       0\n",
            "310422 2013-01-03      1    18     42       0\n",
            "310423 2013-01-04      1    18     50       0\n",
            "310424 2013-01-05      1    18     56       0\n",
            "...           ...    ...   ...    ...     ...\n",
            "312241 2017-12-27      1    18     54       0\n",
            "312242 2017-12-28      1    18     69       0\n",
            "312243 2017-12-29      1    18     66       0\n",
            "312244 2017-12-30      1    18     67       0\n",
            "312245 2017-12-31      1    18     88       0\n",
            "\n",
            "[1826 rows x 5 columns]\n"
          ]
        },
        {
          "output_type": "stream",
          "name": "stderr",
          "text": [
            "/usr/local/lib/python3.10/dist-packages/statsmodels/tsa/base/tsa_model.py:836: ValueWarning: No supported index is available. Prediction results will be given with an integer index beginning at `start`.\n",
            "  return get_prediction_index(\n",
            "/usr/local/lib/python3.10/dist-packages/statsmodels/tsa/base/tsa_model.py:836: FutureWarning: No supported index is available. In the next version, calling this method in a model without a supported index will result in an exception.\n",
            "  return get_prediction_index(\n"
          ]
        },
        {
          "output_type": "stream",
          "name": "stdout",
          "text": [
            "Finished training model...\n",
            "Predicting for store 2 and item 18\n",
            "             date  store  item  sales  is_hol\n",
            "312246 2013-01-01      2    18     51       1\n",
            "312247 2013-01-02      2    18     65       0\n",
            "312248 2013-01-03      2    18     63       0\n",
            "312249 2013-01-04      2    18     57       0\n",
            "312250 2013-01-05      2    18     76       0\n",
            "...           ...    ...   ...    ...     ...\n",
            "314067 2017-12-27      2    18     92       0\n",
            "314068 2017-12-28      2    18     95       0\n",
            "314069 2017-12-29      2    18     98       0\n",
            "314070 2017-12-30      2    18     89       0\n",
            "314071 2017-12-31      2    18     86       0\n",
            "\n",
            "[1826 rows x 5 columns]\n"
          ]
        },
        {
          "output_type": "stream",
          "name": "stderr",
          "text": [
            "/usr/local/lib/python3.10/dist-packages/statsmodels/tsa/base/tsa_model.py:836: ValueWarning: No supported index is available. Prediction results will be given with an integer index beginning at `start`.\n",
            "  return get_prediction_index(\n",
            "/usr/local/lib/python3.10/dist-packages/statsmodels/tsa/base/tsa_model.py:836: FutureWarning: No supported index is available. In the next version, calling this method in a model without a supported index will result in an exception.\n",
            "  return get_prediction_index(\n"
          ]
        },
        {
          "output_type": "stream",
          "name": "stdout",
          "text": [
            "Finished training model...\n",
            "Predicting for store 3 and item 18\n",
            "             date  store  item  sales  is_hol\n",
            "314072 2013-01-01      3    18     45       1\n",
            "314073 2013-01-02      3    18     35       0\n",
            "314074 2013-01-03      3    18     53       0\n",
            "314075 2013-01-04      3    18     47       0\n",
            "314076 2013-01-05      3    18     50       0\n",
            "...           ...    ...   ...    ...     ...\n",
            "315893 2017-12-27      3    18    102       0\n",
            "315894 2017-12-28      3    18     76       0\n",
            "315895 2017-12-29      3    18     88       0\n",
            "315896 2017-12-30      3    18     88       0\n",
            "315897 2017-12-31      3    18    106       0\n",
            "\n",
            "[1826 rows x 5 columns]\n"
          ]
        },
        {
          "output_type": "stream",
          "name": "stderr",
          "text": [
            "/usr/local/lib/python3.10/dist-packages/statsmodels/tsa/base/tsa_model.py:836: ValueWarning: No supported index is available. Prediction results will be given with an integer index beginning at `start`.\n",
            "  return get_prediction_index(\n",
            "/usr/local/lib/python3.10/dist-packages/statsmodels/tsa/base/tsa_model.py:836: FutureWarning: No supported index is available. In the next version, calling this method in a model without a supported index will result in an exception.\n",
            "  return get_prediction_index(\n"
          ]
        },
        {
          "output_type": "stream",
          "name": "stdout",
          "text": [
            "Finished training model...\n",
            "Predicting for store 4 and item 18\n",
            "             date  store  item  sales  is_hol\n",
            "315898 2013-01-01      4    18     49       1\n",
            "315899 2013-01-02      4    18     37       0\n",
            "315900 2013-01-03      4    18     46       0\n",
            "315901 2013-01-04      4    18     68       0\n",
            "315902 2013-01-05      4    18     56       0\n",
            "...           ...    ...   ...    ...     ...\n",
            "317719 2017-12-27      4    18     70       0\n",
            "317720 2017-12-28      4    18     88       0\n",
            "317721 2017-12-29      4    18     67       0\n",
            "317722 2017-12-30      4    18     92       0\n",
            "317723 2017-12-31      4    18     85       0\n",
            "\n",
            "[1826 rows x 5 columns]\n"
          ]
        },
        {
          "output_type": "stream",
          "name": "stderr",
          "text": [
            "/usr/local/lib/python3.10/dist-packages/statsmodels/tsa/base/tsa_model.py:836: ValueWarning: No supported index is available. Prediction results will be given with an integer index beginning at `start`.\n",
            "  return get_prediction_index(\n",
            "/usr/local/lib/python3.10/dist-packages/statsmodels/tsa/base/tsa_model.py:836: FutureWarning: No supported index is available. In the next version, calling this method in a model without a supported index will result in an exception.\n",
            "  return get_prediction_index(\n"
          ]
        },
        {
          "output_type": "stream",
          "name": "stdout",
          "text": [
            "Finished training model...\n",
            "Predicting for store 5 and item 18\n",
            "             date  store  item  sales  is_hol\n",
            "317724 2013-01-01      5    18     34       1\n",
            "317725 2013-01-02      5    18     29       0\n",
            "317726 2013-01-03      5    18     52       0\n",
            "317727 2013-01-04      5    18     35       0\n",
            "317728 2013-01-05      5    18     36       0\n",
            "...           ...    ...   ...    ...     ...\n",
            "319545 2017-12-27      5    18     53       0\n",
            "319546 2017-12-28      5    18     51       0\n",
            "319547 2017-12-29      5    18     65       0\n",
            "319548 2017-12-30      5    18     54       0\n",
            "319549 2017-12-31      5    18     78       0\n",
            "\n",
            "[1826 rows x 5 columns]\n"
          ]
        },
        {
          "output_type": "stream",
          "name": "stderr",
          "text": [
            "/usr/local/lib/python3.10/dist-packages/statsmodels/tsa/base/tsa_model.py:836: ValueWarning: No supported index is available. Prediction results will be given with an integer index beginning at `start`.\n",
            "  return get_prediction_index(\n",
            "/usr/local/lib/python3.10/dist-packages/statsmodels/tsa/base/tsa_model.py:836: FutureWarning: No supported index is available. In the next version, calling this method in a model without a supported index will result in an exception.\n",
            "  return get_prediction_index(\n"
          ]
        },
        {
          "output_type": "stream",
          "name": "stdout",
          "text": [
            "Finished training model...\n",
            "Predicting for store 6 and item 18\n",
            "             date  store  item  sales  is_hol\n",
            "319550 2013-01-01      6    18     32       1\n",
            "319551 2013-01-02      6    18     27       0\n",
            "319552 2013-01-03      6    18     36       0\n",
            "319553 2013-01-04      6    18     40       0\n",
            "319554 2013-01-05      6    18     46       0\n",
            "...           ...    ...   ...    ...     ...\n",
            "321371 2017-12-27      6    18     64       0\n",
            "321372 2017-12-28      6    18     50       0\n",
            "321373 2017-12-29      6    18     72       0\n",
            "321374 2017-12-30      6    18     59       0\n",
            "321375 2017-12-31      6    18     52       0\n",
            "\n",
            "[1826 rows x 5 columns]\n"
          ]
        },
        {
          "output_type": "stream",
          "name": "stderr",
          "text": [
            "/usr/local/lib/python3.10/dist-packages/statsmodels/tsa/base/tsa_model.py:836: ValueWarning: No supported index is available. Prediction results will be given with an integer index beginning at `start`.\n",
            "  return get_prediction_index(\n",
            "/usr/local/lib/python3.10/dist-packages/statsmodels/tsa/base/tsa_model.py:836: FutureWarning: No supported index is available. In the next version, calling this method in a model without a supported index will result in an exception.\n",
            "  return get_prediction_index(\n"
          ]
        },
        {
          "output_type": "stream",
          "name": "stdout",
          "text": [
            "Finished training model...\n",
            "Predicting for store 7 and item 18\n",
            "             date  store  item  sales  is_hol\n",
            "321376 2013-01-01      7    18     28       1\n",
            "321377 2013-01-02      7    18     29       0\n",
            "321378 2013-01-03      7    18     25       0\n",
            "321379 2013-01-04      7    18     41       0\n",
            "321380 2013-01-05      7    18     36       0\n",
            "...           ...    ...   ...    ...     ...\n",
            "323197 2017-12-27      7    18     50       0\n",
            "323198 2017-12-28      7    18     53       0\n",
            "323199 2017-12-29      7    18     59       0\n",
            "323200 2017-12-30      7    18     55       0\n",
            "323201 2017-12-31      7    18     55       0\n",
            "\n",
            "[1826 rows x 5 columns]\n"
          ]
        },
        {
          "output_type": "stream",
          "name": "stderr",
          "text": [
            "/usr/local/lib/python3.10/dist-packages/statsmodels/tsa/base/tsa_model.py:836: ValueWarning: No supported index is available. Prediction results will be given with an integer index beginning at `start`.\n",
            "  return get_prediction_index(\n",
            "/usr/local/lib/python3.10/dist-packages/statsmodels/tsa/base/tsa_model.py:836: FutureWarning: No supported index is available. In the next version, calling this method in a model without a supported index will result in an exception.\n",
            "  return get_prediction_index(\n"
          ]
        },
        {
          "output_type": "stream",
          "name": "stdout",
          "text": [
            "Finished training model...\n",
            "Predicting for store 8 and item 18\n",
            "             date  store  item  sales  is_hol\n",
            "323202 2013-01-01      8    18     52       1\n",
            "323203 2013-01-02      8    18     47       0\n",
            "323204 2013-01-03      8    18     51       0\n",
            "323205 2013-01-04      8    18     61       0\n",
            "323206 2013-01-05      8    18     74       0\n",
            "...           ...    ...   ...    ...     ...\n",
            "325023 2017-12-27      8    18     69       0\n",
            "325024 2017-12-28      8    18     67       0\n",
            "325025 2017-12-29      8    18     77       0\n",
            "325026 2017-12-30      8    18    108       0\n",
            "325027 2017-12-31      8    18    117       0\n",
            "\n",
            "[1826 rows x 5 columns]\n"
          ]
        },
        {
          "output_type": "stream",
          "name": "stderr",
          "text": [
            "/usr/local/lib/python3.10/dist-packages/statsmodels/tsa/base/tsa_model.py:836: ValueWarning: No supported index is available. Prediction results will be given with an integer index beginning at `start`.\n",
            "  return get_prediction_index(\n",
            "/usr/local/lib/python3.10/dist-packages/statsmodels/tsa/base/tsa_model.py:836: FutureWarning: No supported index is available. In the next version, calling this method in a model without a supported index will result in an exception.\n",
            "  return get_prediction_index(\n"
          ]
        },
        {
          "output_type": "stream",
          "name": "stdout",
          "text": [
            "Finished training model...\n",
            "Predicting for store 9 and item 18\n",
            "             date  store  item  sales  is_hol\n",
            "325028 2013-01-01      9    18     41       1\n",
            "325029 2013-01-02      9    18     51       0\n",
            "325030 2013-01-03      9    18     52       0\n",
            "325031 2013-01-04      9    18     60       0\n",
            "325032 2013-01-05      9    18     47       0\n",
            "...           ...    ...   ...    ...     ...\n",
            "326849 2017-12-27      9    18     83       0\n",
            "326850 2017-12-28      9    18     79       0\n",
            "326851 2017-12-29      9    18     67       0\n",
            "326852 2017-12-30      9    18     75       0\n",
            "326853 2017-12-31      9    18     70       0\n",
            "\n",
            "[1826 rows x 5 columns]\n"
          ]
        },
        {
          "output_type": "stream",
          "name": "stderr",
          "text": [
            "/usr/local/lib/python3.10/dist-packages/statsmodels/tsa/base/tsa_model.py:836: ValueWarning: No supported index is available. Prediction results will be given with an integer index beginning at `start`.\n",
            "  return get_prediction_index(\n",
            "/usr/local/lib/python3.10/dist-packages/statsmodels/tsa/base/tsa_model.py:836: FutureWarning: No supported index is available. In the next version, calling this method in a model without a supported index will result in an exception.\n",
            "  return get_prediction_index(\n"
          ]
        },
        {
          "output_type": "stream",
          "name": "stdout",
          "text": [
            "Finished training model...\n",
            "Predicting for store 10 and item 18\n",
            "             date  store  item  sales  is_hol\n",
            "326854 2013-01-01     10    18     45       1\n",
            "326855 2013-01-02     10    18     48       0\n",
            "326856 2013-01-03     10    18     50       0\n",
            "326857 2013-01-04     10    18     54       0\n",
            "326858 2013-01-05     10    18     67       0\n",
            "...           ...    ...   ...    ...     ...\n",
            "328675 2017-12-27     10    18     59       0\n",
            "328676 2017-12-28     10    18     76       0\n",
            "328677 2017-12-29     10    18     85       0\n",
            "328678 2017-12-30     10    18     96       0\n",
            "328679 2017-12-31     10    18     98       0\n",
            "\n",
            "[1826 rows x 5 columns]\n"
          ]
        },
        {
          "output_type": "stream",
          "name": "stderr",
          "text": [
            "/usr/local/lib/python3.10/dist-packages/statsmodels/tsa/base/tsa_model.py:836: ValueWarning: No supported index is available. Prediction results will be given with an integer index beginning at `start`.\n",
            "  return get_prediction_index(\n",
            "/usr/local/lib/python3.10/dist-packages/statsmodels/tsa/base/tsa_model.py:836: FutureWarning: No supported index is available. In the next version, calling this method in a model without a supported index will result in an exception.\n",
            "  return get_prediction_index(\n"
          ]
        },
        {
          "output_type": "stream",
          "name": "stdout",
          "text": [
            "Finished training model...\n",
            "Predicting for store 1 and item 19\n",
            "             date  store  item  sales  is_hol\n",
            "328680 2013-01-01      1    19     15       1\n",
            "328681 2013-01-02      1    19     18       0\n",
            "328682 2013-01-03      1    19     20       0\n",
            "328683 2013-01-04      1    19     16       0\n",
            "328684 2013-01-05      1    19     19       0\n",
            "...           ...    ...   ...    ...     ...\n",
            "330501 2017-12-27      1    19     31       0\n",
            "330502 2017-12-28      1    19     33       0\n",
            "330503 2017-12-29      1    19     30       0\n",
            "330504 2017-12-30      1    19     40       0\n",
            "330505 2017-12-31      1    19     35       0\n",
            "\n",
            "[1826 rows x 5 columns]\n"
          ]
        },
        {
          "output_type": "stream",
          "name": "stderr",
          "text": [
            "/usr/local/lib/python3.10/dist-packages/statsmodels/tsa/base/tsa_model.py:836: ValueWarning: No supported index is available. Prediction results will be given with an integer index beginning at `start`.\n",
            "  return get_prediction_index(\n",
            "/usr/local/lib/python3.10/dist-packages/statsmodels/tsa/base/tsa_model.py:836: FutureWarning: No supported index is available. In the next version, calling this method in a model without a supported index will result in an exception.\n",
            "  return get_prediction_index(\n"
          ]
        },
        {
          "output_type": "stream",
          "name": "stdout",
          "text": [
            "Finished training model...\n",
            "Predicting for store 2 and item 19\n",
            "             date  store  item  sales  is_hol\n",
            "330506 2013-01-01      2    19     32       1\n",
            "330507 2013-01-02      2    19     34       0\n",
            "330508 2013-01-03      2    19     32       0\n",
            "330509 2013-01-04      2    19     30       0\n",
            "330510 2013-01-05      2    19     23       0\n",
            "...           ...    ...   ...    ...     ...\n",
            "332327 2017-12-27      2    19     37       0\n",
            "332328 2017-12-28      2    19     37       0\n",
            "332329 2017-12-29      2    19     49       0\n",
            "332330 2017-12-30      2    19     45       0\n",
            "332331 2017-12-31      2    19     47       0\n",
            "\n",
            "[1826 rows x 5 columns]\n"
          ]
        },
        {
          "output_type": "stream",
          "name": "stderr",
          "text": [
            "/usr/local/lib/python3.10/dist-packages/statsmodels/tsa/base/tsa_model.py:836: ValueWarning: No supported index is available. Prediction results will be given with an integer index beginning at `start`.\n",
            "  return get_prediction_index(\n",
            "/usr/local/lib/python3.10/dist-packages/statsmodels/tsa/base/tsa_model.py:836: FutureWarning: No supported index is available. In the next version, calling this method in a model without a supported index will result in an exception.\n",
            "  return get_prediction_index(\n"
          ]
        },
        {
          "output_type": "stream",
          "name": "stdout",
          "text": [
            "Finished training model...\n",
            "Predicting for store 3 and item 19\n",
            "             date  store  item  sales  is_hol\n",
            "332332 2013-01-01      3    19     34       1\n",
            "332333 2013-01-02      3    19     24       0\n",
            "332334 2013-01-03      3    19     24       0\n",
            "332335 2013-01-04      3    19     22       0\n",
            "332336 2013-01-05      3    19     30       0\n",
            "...           ...    ...   ...    ...     ...\n",
            "334153 2017-12-27      3    19     27       0\n",
            "334154 2017-12-28      3    19     36       0\n",
            "334155 2017-12-29      3    19     38       0\n",
            "334156 2017-12-30      3    19     34       0\n",
            "334157 2017-12-31      3    19     47       0\n",
            "\n",
            "[1826 rows x 5 columns]\n"
          ]
        },
        {
          "output_type": "stream",
          "name": "stderr",
          "text": [
            "/usr/local/lib/python3.10/dist-packages/statsmodels/tsa/base/tsa_model.py:836: ValueWarning: No supported index is available. Prediction results will be given with an integer index beginning at `start`.\n",
            "  return get_prediction_index(\n",
            "/usr/local/lib/python3.10/dist-packages/statsmodels/tsa/base/tsa_model.py:836: FutureWarning: No supported index is available. In the next version, calling this method in a model without a supported index will result in an exception.\n",
            "  return get_prediction_index(\n"
          ]
        },
        {
          "output_type": "stream",
          "name": "stdout",
          "text": [
            "Finished training model...\n",
            "Predicting for store 4 and item 19\n",
            "             date  store  item  sales  is_hol\n",
            "334158 2013-01-01      4    19     14       1\n",
            "334159 2013-01-02      4    19     20       0\n",
            "334160 2013-01-03      4    19     26       0\n",
            "334161 2013-01-04      4    19     25       0\n",
            "334162 2013-01-05      4    19     23       0\n",
            "...           ...    ...   ...    ...     ...\n",
            "335979 2017-12-27      4    19     40       0\n",
            "335980 2017-12-28      4    19     33       0\n",
            "335981 2017-12-29      4    19     44       0\n",
            "335982 2017-12-30      4    19     46       0\n",
            "335983 2017-12-31      4    19     38       0\n",
            "\n",
            "[1826 rows x 5 columns]\n"
          ]
        },
        {
          "output_type": "stream",
          "name": "stderr",
          "text": [
            "/usr/local/lib/python3.10/dist-packages/statsmodels/tsa/base/tsa_model.py:836: ValueWarning: No supported index is available. Prediction results will be given with an integer index beginning at `start`.\n",
            "  return get_prediction_index(\n",
            "/usr/local/lib/python3.10/dist-packages/statsmodels/tsa/base/tsa_model.py:836: FutureWarning: No supported index is available. In the next version, calling this method in a model without a supported index will result in an exception.\n",
            "  return get_prediction_index(\n"
          ]
        },
        {
          "output_type": "stream",
          "name": "stdout",
          "text": [
            "Finished training model...\n",
            "Predicting for store 5 and item 19\n",
            "             date  store  item  sales  is_hol\n",
            "335984 2013-01-01      5    19     20       1\n",
            "335985 2013-01-02      5    19     12       0\n",
            "335986 2013-01-03      5    19     17       0\n",
            "335987 2013-01-04      5    19     24       0\n",
            "335988 2013-01-05      5    19     17       0\n",
            "...           ...    ...   ...    ...     ...\n",
            "337805 2017-12-27      5    19     20       0\n",
            "337806 2017-12-28      5    19     26       0\n",
            "337807 2017-12-29      5    19     18       0\n",
            "337808 2017-12-30      5    19     31       0\n",
            "337809 2017-12-31      5    19     26       0\n",
            "\n",
            "[1826 rows x 5 columns]\n"
          ]
        },
        {
          "output_type": "stream",
          "name": "stderr",
          "text": [
            "/usr/local/lib/python3.10/dist-packages/statsmodels/tsa/base/tsa_model.py:836: ValueWarning: No supported index is available. Prediction results will be given with an integer index beginning at `start`.\n",
            "  return get_prediction_index(\n",
            "/usr/local/lib/python3.10/dist-packages/statsmodels/tsa/base/tsa_model.py:836: FutureWarning: No supported index is available. In the next version, calling this method in a model without a supported index will result in an exception.\n",
            "  return get_prediction_index(\n"
          ]
        },
        {
          "output_type": "stream",
          "name": "stdout",
          "text": [
            "Finished training model...\n",
            "Predicting for store 6 and item 19\n",
            "             date  store  item  sales  is_hol\n",
            "337810 2013-01-01      6    19     22       1\n",
            "337811 2013-01-02      6    19     12       0\n",
            "337812 2013-01-03      6    19     19       0\n",
            "337813 2013-01-04      6    19     14       0\n",
            "337814 2013-01-05      6    19     21       0\n",
            "...           ...    ...   ...    ...     ...\n",
            "339631 2017-12-27      6    19     20       0\n",
            "339632 2017-12-28      6    19     35       0\n",
            "339633 2017-12-29      6    19     29       0\n",
            "339634 2017-12-30      6    19     29       0\n",
            "339635 2017-12-31      6    19     25       0\n",
            "\n",
            "[1826 rows x 5 columns]\n"
          ]
        },
        {
          "output_type": "stream",
          "name": "stderr",
          "text": [
            "/usr/local/lib/python3.10/dist-packages/statsmodels/tsa/base/tsa_model.py:836: ValueWarning: No supported index is available. Prediction results will be given with an integer index beginning at `start`.\n",
            "  return get_prediction_index(\n",
            "/usr/local/lib/python3.10/dist-packages/statsmodels/tsa/base/tsa_model.py:836: FutureWarning: No supported index is available. In the next version, calling this method in a model without a supported index will result in an exception.\n",
            "  return get_prediction_index(\n"
          ]
        },
        {
          "output_type": "stream",
          "name": "stdout",
          "text": [
            "Finished training model...\n",
            "Predicting for store 7 and item 19\n",
            "             date  store  item  sales  is_hol\n",
            "339636 2013-01-01      7    19      6       1\n",
            "339637 2013-01-02      7    19     13       0\n",
            "339638 2013-01-03      7    19     10       0\n",
            "339639 2013-01-04      7    19     19       0\n",
            "339640 2013-01-05      7    19     23       0\n",
            "...           ...    ...   ...    ...     ...\n",
            "341457 2017-12-27      7    19     18       0\n",
            "341458 2017-12-28      7    19     20       0\n",
            "341459 2017-12-29      7    19     26       0\n",
            "341460 2017-12-30      7    19     26       0\n",
            "341461 2017-12-31      7    19     28       0\n",
            "\n",
            "[1826 rows x 5 columns]\n"
          ]
        },
        {
          "output_type": "stream",
          "name": "stderr",
          "text": [
            "/usr/local/lib/python3.10/dist-packages/statsmodels/tsa/base/tsa_model.py:836: ValueWarning: No supported index is available. Prediction results will be given with an integer index beginning at `start`.\n",
            "  return get_prediction_index(\n",
            "/usr/local/lib/python3.10/dist-packages/statsmodels/tsa/base/tsa_model.py:836: FutureWarning: No supported index is available. In the next version, calling this method in a model without a supported index will result in an exception.\n",
            "  return get_prediction_index(\n"
          ]
        },
        {
          "output_type": "stream",
          "name": "stdout",
          "text": [
            "Finished training model...\n",
            "Predicting for store 8 and item 19\n",
            "             date  store  item  sales  is_hol\n",
            "341462 2013-01-01      8    19     20       1\n",
            "341463 2013-01-02      8    19     24       0\n",
            "341464 2013-01-03      8    19     26       0\n",
            "341465 2013-01-04      8    19     28       0\n",
            "341466 2013-01-05      8    19     36       0\n",
            "...           ...    ...   ...    ...     ...\n",
            "343283 2017-12-27      8    19     37       0\n",
            "343284 2017-12-28      8    19     49       0\n",
            "343285 2017-12-29      8    19     38       0\n",
            "343286 2017-12-30      8    19     61       0\n",
            "343287 2017-12-31      8    19     56       0\n",
            "\n",
            "[1826 rows x 5 columns]\n"
          ]
        },
        {
          "output_type": "stream",
          "name": "stderr",
          "text": [
            "/usr/local/lib/python3.10/dist-packages/statsmodels/tsa/base/tsa_model.py:836: ValueWarning: No supported index is available. Prediction results will be given with an integer index beginning at `start`.\n",
            "  return get_prediction_index(\n",
            "/usr/local/lib/python3.10/dist-packages/statsmodels/tsa/base/tsa_model.py:836: FutureWarning: No supported index is available. In the next version, calling this method in a model without a supported index will result in an exception.\n",
            "  return get_prediction_index(\n"
          ]
        },
        {
          "output_type": "stream",
          "name": "stdout",
          "text": [
            "Finished training model...\n",
            "Predicting for store 9 and item 19\n",
            "             date  store  item  sales  is_hol\n",
            "343288 2013-01-01      9    19     24       1\n",
            "343289 2013-01-02      9    19     25       0\n",
            "343290 2013-01-03      9    19     31       0\n",
            "343291 2013-01-04      9    19     30       0\n",
            "343292 2013-01-05      9    19     38       0\n",
            "...           ...    ...   ...    ...     ...\n",
            "345109 2017-12-27      9    19     43       0\n",
            "345110 2017-12-28      9    19     38       0\n",
            "345111 2017-12-29      9    19     40       0\n",
            "345112 2017-12-30      9    19     46       0\n",
            "345113 2017-12-31      9    19     47       0\n",
            "\n",
            "[1826 rows x 5 columns]\n"
          ]
        },
        {
          "output_type": "stream",
          "name": "stderr",
          "text": [
            "/usr/local/lib/python3.10/dist-packages/statsmodels/tsa/base/tsa_model.py:836: ValueWarning: No supported index is available. Prediction results will be given with an integer index beginning at `start`.\n",
            "  return get_prediction_index(\n",
            "/usr/local/lib/python3.10/dist-packages/statsmodels/tsa/base/tsa_model.py:836: FutureWarning: No supported index is available. In the next version, calling this method in a model without a supported index will result in an exception.\n",
            "  return get_prediction_index(\n"
          ]
        },
        {
          "output_type": "stream",
          "name": "stdout",
          "text": [
            "Finished training model...\n",
            "Predicting for store 10 and item 19\n",
            "             date  store  item  sales  is_hol\n",
            "345114 2013-01-01     10    19     21       1\n",
            "345115 2013-01-02     10    19     26       0\n",
            "345116 2013-01-03     10    19     25       0\n",
            "345117 2013-01-04     10    19     30       0\n",
            "345118 2013-01-05     10    19     30       0\n",
            "...           ...    ...   ...    ...     ...\n",
            "346935 2017-12-27     10    19     32       0\n",
            "346936 2017-12-28     10    19     30       0\n",
            "346937 2017-12-29     10    19     31       0\n",
            "346938 2017-12-30     10    19     37       0\n",
            "346939 2017-12-31     10    19     52       0\n",
            "\n",
            "[1826 rows x 5 columns]\n"
          ]
        },
        {
          "output_type": "stream",
          "name": "stderr",
          "text": [
            "/usr/local/lib/python3.10/dist-packages/statsmodels/tsa/base/tsa_model.py:836: ValueWarning: No supported index is available. Prediction results will be given with an integer index beginning at `start`.\n",
            "  return get_prediction_index(\n",
            "/usr/local/lib/python3.10/dist-packages/statsmodels/tsa/base/tsa_model.py:836: FutureWarning: No supported index is available. In the next version, calling this method in a model without a supported index will result in an exception.\n",
            "  return get_prediction_index(\n"
          ]
        },
        {
          "output_type": "stream",
          "name": "stdout",
          "text": [
            "Finished training model...\n",
            "Predicting for store 1 and item 20\n",
            "             date  store  item  sales  is_hol\n",
            "346940 2013-01-01      1    20     22       1\n",
            "346941 2013-01-02      1    20     16       0\n",
            "346942 2013-01-03      1    20     24       0\n",
            "346943 2013-01-04      1    20     24       0\n",
            "346944 2013-01-05      1    20     36       0\n",
            "...           ...    ...   ...    ...     ...\n",
            "348761 2017-12-27      1    20     29       0\n",
            "348762 2017-12-28      1    20     29       0\n",
            "348763 2017-12-29      1    20     51       0\n",
            "348764 2017-12-30      1    20     38       0\n",
            "348765 2017-12-31      1    20     47       0\n",
            "\n",
            "[1826 rows x 5 columns]\n"
          ]
        },
        {
          "output_type": "stream",
          "name": "stderr",
          "text": [
            "/usr/local/lib/python3.10/dist-packages/statsmodels/tsa/base/tsa_model.py:836: ValueWarning: No supported index is available. Prediction results will be given with an integer index beginning at `start`.\n",
            "  return get_prediction_index(\n",
            "/usr/local/lib/python3.10/dist-packages/statsmodels/tsa/base/tsa_model.py:836: FutureWarning: No supported index is available. In the next version, calling this method in a model without a supported index will result in an exception.\n",
            "  return get_prediction_index(\n"
          ]
        },
        {
          "output_type": "stream",
          "name": "stdout",
          "text": [
            "Finished training model...\n",
            "Predicting for store 2 and item 20\n",
            "             date  store  item  sales  is_hol\n",
            "348766 2013-01-01      2    20     35       1\n",
            "348767 2013-01-02      2    20     25       0\n",
            "348768 2013-01-03      2    20     30       0\n",
            "348769 2013-01-04      2    20     29       0\n",
            "348770 2013-01-05      2    20     29       0\n",
            "...           ...    ...   ...    ...     ...\n",
            "350587 2017-12-27      2    20     56       0\n",
            "350588 2017-12-28      2    20     51       0\n",
            "350589 2017-12-29      2    20     54       0\n",
            "350590 2017-12-30      2    20     55       0\n",
            "350591 2017-12-31      2    20     44       0\n",
            "\n",
            "[1826 rows x 5 columns]\n"
          ]
        },
        {
          "output_type": "stream",
          "name": "stderr",
          "text": [
            "/usr/local/lib/python3.10/dist-packages/statsmodels/tsa/base/tsa_model.py:836: ValueWarning: No supported index is available. Prediction results will be given with an integer index beginning at `start`.\n",
            "  return get_prediction_index(\n",
            "/usr/local/lib/python3.10/dist-packages/statsmodels/tsa/base/tsa_model.py:836: FutureWarning: No supported index is available. In the next version, calling this method in a model without a supported index will result in an exception.\n",
            "  return get_prediction_index(\n"
          ]
        },
        {
          "output_type": "stream",
          "name": "stdout",
          "text": [
            "Finished training model...\n",
            "Predicting for store 3 and item 20\n",
            "             date  store  item  sales  is_hol\n",
            "350592 2013-01-01      3    20     29       1\n",
            "350593 2013-01-02      3    20     23       0\n",
            "350594 2013-01-03      3    20     24       0\n",
            "350595 2013-01-04      3    20     25       0\n",
            "350596 2013-01-05      3    20     31       0\n",
            "...           ...    ...   ...    ...     ...\n",
            "352413 2017-12-27      3    20     37       0\n",
            "352414 2017-12-28      3    20     36       0\n",
            "352415 2017-12-29      3    20     54       0\n",
            "352416 2017-12-30      3    20     54       0\n",
            "352417 2017-12-31      3    20     55       0\n",
            "\n",
            "[1826 rows x 5 columns]\n"
          ]
        },
        {
          "output_type": "stream",
          "name": "stderr",
          "text": [
            "/usr/local/lib/python3.10/dist-packages/statsmodels/tsa/base/tsa_model.py:836: ValueWarning: No supported index is available. Prediction results will be given with an integer index beginning at `start`.\n",
            "  return get_prediction_index(\n",
            "/usr/local/lib/python3.10/dist-packages/statsmodels/tsa/base/tsa_model.py:836: FutureWarning: No supported index is available. In the next version, calling this method in a model without a supported index will result in an exception.\n",
            "  return get_prediction_index(\n"
          ]
        },
        {
          "output_type": "stream",
          "name": "stdout",
          "text": [
            "Finished training model...\n",
            "Predicting for store 4 and item 20\n",
            "             date  store  item  sales  is_hol\n",
            "352418 2013-01-01      4    20     36       1\n",
            "352419 2013-01-02      4    20     31       0\n",
            "352420 2013-01-03      4    20     28       0\n",
            "352421 2013-01-04      4    20     29       0\n",
            "352422 2013-01-05      4    20     35       0\n",
            "...           ...    ...   ...    ...     ...\n",
            "354239 2017-12-27      4    20     35       0\n",
            "354240 2017-12-28      4    20     40       0\n",
            "354241 2017-12-29      4    20     45       0\n",
            "354242 2017-12-30      4    20     46       0\n",
            "354243 2017-12-31      4    20     53       0\n",
            "\n",
            "[1826 rows x 5 columns]\n"
          ]
        },
        {
          "output_type": "stream",
          "name": "stderr",
          "text": [
            "/usr/local/lib/python3.10/dist-packages/statsmodels/tsa/base/tsa_model.py:836: ValueWarning: No supported index is available. Prediction results will be given with an integer index beginning at `start`.\n",
            "  return get_prediction_index(\n",
            "/usr/local/lib/python3.10/dist-packages/statsmodels/tsa/base/tsa_model.py:836: FutureWarning: No supported index is available. In the next version, calling this method in a model without a supported index will result in an exception.\n",
            "  return get_prediction_index(\n"
          ]
        },
        {
          "output_type": "stream",
          "name": "stdout",
          "text": [
            "Finished training model...\n",
            "Predicting for store 5 and item 20\n",
            "             date  store  item  sales  is_hol\n",
            "354244 2013-01-01      5    20     20       1\n",
            "354245 2013-01-02      5    20     14       0\n",
            "354246 2013-01-03      5    20     29       0\n",
            "354247 2013-01-04      5    20     16       0\n",
            "354248 2013-01-05      5    20     14       0\n",
            "...           ...    ...   ...    ...     ...\n",
            "356065 2017-12-27      5    20     37       0\n",
            "356066 2017-12-28      5    20     29       0\n",
            "356067 2017-12-29      5    20     26       0\n",
            "356068 2017-12-30      5    20     36       0\n",
            "356069 2017-12-31      5    20     32       0\n",
            "\n",
            "[1826 rows x 5 columns]\n"
          ]
        },
        {
          "output_type": "stream",
          "name": "stderr",
          "text": [
            "/usr/local/lib/python3.10/dist-packages/statsmodels/tsa/base/tsa_model.py:836: ValueWarning: No supported index is available. Prediction results will be given with an integer index beginning at `start`.\n",
            "  return get_prediction_index(\n",
            "/usr/local/lib/python3.10/dist-packages/statsmodels/tsa/base/tsa_model.py:836: FutureWarning: No supported index is available. In the next version, calling this method in a model without a supported index will result in an exception.\n",
            "  return get_prediction_index(\n"
          ]
        },
        {
          "output_type": "stream",
          "name": "stdout",
          "text": [
            "Finished training model...\n",
            "Predicting for store 6 and item 20\n",
            "             date  store  item  sales  is_hol\n",
            "356070 2013-01-01      6    20     20       1\n",
            "356071 2013-01-02      6    20     19       0\n",
            "356072 2013-01-03      6    20     15       0\n",
            "356073 2013-01-04      6    20     18       0\n",
            "356074 2013-01-05      6    20     23       0\n",
            "...           ...    ...   ...    ...     ...\n",
            "357891 2017-12-27      6    20     30       0\n",
            "357892 2017-12-28      6    20     41       0\n",
            "357893 2017-12-29      6    20     32       0\n",
            "357894 2017-12-30      6    20     31       0\n",
            "357895 2017-12-31      6    20     44       0\n",
            "\n",
            "[1826 rows x 5 columns]\n"
          ]
        },
        {
          "output_type": "stream",
          "name": "stderr",
          "text": [
            "/usr/local/lib/python3.10/dist-packages/statsmodels/tsa/base/tsa_model.py:836: ValueWarning: No supported index is available. Prediction results will be given with an integer index beginning at `start`.\n",
            "  return get_prediction_index(\n",
            "/usr/local/lib/python3.10/dist-packages/statsmodels/tsa/base/tsa_model.py:836: FutureWarning: No supported index is available. In the next version, calling this method in a model without a supported index will result in an exception.\n",
            "  return get_prediction_index(\n"
          ]
        },
        {
          "output_type": "stream",
          "name": "stdout",
          "text": [
            "Finished training model...\n",
            "Predicting for store 7 and item 20\n",
            "             date  store  item  sales  is_hol\n",
            "357896 2013-01-01      7    20     17       1\n",
            "357897 2013-01-02      7    20     15       0\n",
            "357898 2013-01-03      7    20     22       0\n",
            "357899 2013-01-04      7    20     18       0\n",
            "357900 2013-01-05      7    20     18       0\n",
            "...           ...    ...   ...    ...     ...\n",
            "359717 2017-12-27      7    20     28       0\n",
            "359718 2017-12-28      7    20     19       0\n",
            "359719 2017-12-29      7    20     28       0\n",
            "359720 2017-12-30      7    20     26       0\n",
            "359721 2017-12-31      7    20     36       0\n",
            "\n",
            "[1826 rows x 5 columns]\n"
          ]
        },
        {
          "output_type": "stream",
          "name": "stderr",
          "text": [
            "/usr/local/lib/python3.10/dist-packages/statsmodels/tsa/base/tsa_model.py:836: ValueWarning: No supported index is available. Prediction results will be given with an integer index beginning at `start`.\n",
            "  return get_prediction_index(\n",
            "/usr/local/lib/python3.10/dist-packages/statsmodels/tsa/base/tsa_model.py:836: FutureWarning: No supported index is available. In the next version, calling this method in a model without a supported index will result in an exception.\n",
            "  return get_prediction_index(\n"
          ]
        },
        {
          "output_type": "stream",
          "name": "stdout",
          "text": [
            "Finished training model...\n",
            "Predicting for store 8 and item 20\n",
            "             date  store  item  sales  is_hol\n",
            "359722 2013-01-01      8    20     27       1\n",
            "359723 2013-01-02      8    20     34       0\n",
            "359724 2013-01-03      8    20     25       0\n",
            "359725 2013-01-04      8    20     44       0\n",
            "359726 2013-01-05      8    20     37       0\n",
            "...           ...    ...   ...    ...     ...\n",
            "361543 2017-12-27      8    20     61       0\n",
            "361544 2017-12-28      8    20     51       0\n",
            "361545 2017-12-29      8    20     46       0\n",
            "361546 2017-12-30      8    20     68       0\n",
            "361547 2017-12-31      8    20     57       0\n",
            "\n",
            "[1826 rows x 5 columns]\n"
          ]
        },
        {
          "output_type": "stream",
          "name": "stderr",
          "text": [
            "/usr/local/lib/python3.10/dist-packages/statsmodels/tsa/base/tsa_model.py:836: ValueWarning: No supported index is available. Prediction results will be given with an integer index beginning at `start`.\n",
            "  return get_prediction_index(\n",
            "/usr/local/lib/python3.10/dist-packages/statsmodels/tsa/base/tsa_model.py:836: FutureWarning: No supported index is available. In the next version, calling this method in a model without a supported index will result in an exception.\n",
            "  return get_prediction_index(\n"
          ]
        },
        {
          "output_type": "stream",
          "name": "stdout",
          "text": [
            "Finished training model...\n",
            "Predicting for store 9 and item 20\n",
            "             date  store  item  sales  is_hol\n",
            "361548 2013-01-01      9    20     28       1\n",
            "361549 2013-01-02      9    20     24       0\n",
            "361550 2013-01-03      9    20     28       0\n",
            "361551 2013-01-04      9    20     32       0\n",
            "361552 2013-01-05      9    20     21       0\n",
            "...           ...    ...   ...    ...     ...\n",
            "363369 2017-12-27      9    20     49       0\n",
            "363370 2017-12-28      9    20     42       0\n",
            "363371 2017-12-29      9    20     52       0\n",
            "363372 2017-12-30      9    20     43       0\n",
            "363373 2017-12-31      9    20     44       0\n",
            "\n",
            "[1826 rows x 5 columns]\n"
          ]
        },
        {
          "output_type": "stream",
          "name": "stderr",
          "text": [
            "/usr/local/lib/python3.10/dist-packages/statsmodels/tsa/base/tsa_model.py:836: ValueWarning: No supported index is available. Prediction results will be given with an integer index beginning at `start`.\n",
            "  return get_prediction_index(\n",
            "/usr/local/lib/python3.10/dist-packages/statsmodels/tsa/base/tsa_model.py:836: FutureWarning: No supported index is available. In the next version, calling this method in a model without a supported index will result in an exception.\n",
            "  return get_prediction_index(\n"
          ]
        },
        {
          "output_type": "stream",
          "name": "stdout",
          "text": [
            "Finished training model...\n",
            "Predicting for store 10 and item 20\n",
            "             date  store  item  sales  is_hol\n",
            "363374 2013-01-01     10    20     31       1\n",
            "363375 2013-01-02     10    20     34       0\n",
            "363376 2013-01-03     10    20     35       0\n",
            "363377 2013-01-04     10    20     34       0\n",
            "363378 2013-01-05     10    20     33       0\n",
            "...           ...    ...   ...    ...     ...\n",
            "365195 2017-12-27     10    20     33       0\n",
            "365196 2017-12-28     10    20     49       0\n",
            "365197 2017-12-29     10    20     45       0\n",
            "365198 2017-12-30     10    20     45       0\n",
            "365199 2017-12-31     10    20     56       0\n",
            "\n",
            "[1826 rows x 5 columns]\n"
          ]
        },
        {
          "output_type": "stream",
          "name": "stderr",
          "text": [
            "/usr/local/lib/python3.10/dist-packages/statsmodels/tsa/base/tsa_model.py:836: ValueWarning: No supported index is available. Prediction results will be given with an integer index beginning at `start`.\n",
            "  return get_prediction_index(\n",
            "/usr/local/lib/python3.10/dist-packages/statsmodels/tsa/base/tsa_model.py:836: FutureWarning: No supported index is available. In the next version, calling this method in a model without a supported index will result in an exception.\n",
            "  return get_prediction_index(\n"
          ]
        },
        {
          "output_type": "stream",
          "name": "stdout",
          "text": [
            "Finished training model...\n",
            "Predicting for store 1 and item 21\n",
            "             date  store  item  sales  is_hol\n",
            "365200 2013-01-01      1    21     22       1\n",
            "365201 2013-01-02      1    21     28       0\n",
            "365202 2013-01-03      1    21     23       0\n",
            "365203 2013-01-04      1    21     15       0\n",
            "365204 2013-01-05      1    21     18       0\n",
            "...           ...    ...   ...    ...     ...\n",
            "367021 2017-12-27      1    21     30       0\n",
            "367022 2017-12-28      1    21     30       0\n",
            "367023 2017-12-29      1    21     35       0\n",
            "367024 2017-12-30      1    21     33       0\n",
            "367025 2017-12-31      1    21     31       0\n",
            "\n",
            "[1826 rows x 5 columns]\n"
          ]
        },
        {
          "output_type": "stream",
          "name": "stderr",
          "text": [
            "/usr/local/lib/python3.10/dist-packages/statsmodels/tsa/base/tsa_model.py:836: ValueWarning: No supported index is available. Prediction results will be given with an integer index beginning at `start`.\n",
            "  return get_prediction_index(\n",
            "/usr/local/lib/python3.10/dist-packages/statsmodels/tsa/base/tsa_model.py:836: FutureWarning: No supported index is available. In the next version, calling this method in a model without a supported index will result in an exception.\n",
            "  return get_prediction_index(\n"
          ]
        },
        {
          "output_type": "stream",
          "name": "stdout",
          "text": [
            "Finished training model...\n",
            "Predicting for store 2 and item 21\n",
            "             date  store  item  sales  is_hol\n",
            "367026 2013-01-01      2    21     30       1\n",
            "367027 2013-01-02      2    21     27       0\n",
            "367028 2013-01-03      2    21     28       0\n",
            "367029 2013-01-04      2    21     27       0\n",
            "367030 2013-01-05      2    21     37       0\n",
            "...           ...    ...   ...    ...     ...\n",
            "368847 2017-12-27      2    21     35       0\n",
            "368848 2017-12-28      2    21     40       0\n",
            "368849 2017-12-29      2    21     55       0\n",
            "368850 2017-12-30      2    21     54       0\n",
            "368851 2017-12-31      2    21     35       0\n",
            "\n",
            "[1826 rows x 5 columns]\n"
          ]
        },
        {
          "output_type": "stream",
          "name": "stderr",
          "text": [
            "/usr/local/lib/python3.10/dist-packages/statsmodels/tsa/base/tsa_model.py:836: ValueWarning: No supported index is available. Prediction results will be given with an integer index beginning at `start`.\n",
            "  return get_prediction_index(\n",
            "/usr/local/lib/python3.10/dist-packages/statsmodels/tsa/base/tsa_model.py:836: FutureWarning: No supported index is available. In the next version, calling this method in a model without a supported index will result in an exception.\n",
            "  return get_prediction_index(\n"
          ]
        },
        {
          "output_type": "stream",
          "name": "stdout",
          "text": [
            "Finished training model...\n",
            "Predicting for store 3 and item 21\n",
            "             date  store  item  sales  is_hol\n",
            "368852 2013-01-01      3    21     25       1\n",
            "368853 2013-01-02      3    21     28       0\n",
            "368854 2013-01-03      3    21     25       0\n",
            "368855 2013-01-04      3    21     41       0\n",
            "368856 2013-01-05      3    21     25       0\n",
            "...           ...    ...   ...    ...     ...\n",
            "370673 2017-12-27      3    21     44       0\n",
            "370674 2017-12-28      3    21     39       0\n",
            "370675 2017-12-29      3    21     32       0\n",
            "370676 2017-12-30      3    21     49       0\n",
            "370677 2017-12-31      3    21     46       0\n",
            "\n",
            "[1826 rows x 5 columns]\n"
          ]
        },
        {
          "output_type": "stream",
          "name": "stderr",
          "text": [
            "/usr/local/lib/python3.10/dist-packages/statsmodels/tsa/base/tsa_model.py:836: ValueWarning: No supported index is available. Prediction results will be given with an integer index beginning at `start`.\n",
            "  return get_prediction_index(\n",
            "/usr/local/lib/python3.10/dist-packages/statsmodels/tsa/base/tsa_model.py:836: FutureWarning: No supported index is available. In the next version, calling this method in a model without a supported index will result in an exception.\n",
            "  return get_prediction_index(\n"
          ]
        },
        {
          "output_type": "stream",
          "name": "stdout",
          "text": [
            "Finished training model...\n",
            "Predicting for store 4 and item 21\n",
            "             date  store  item  sales  is_hol\n",
            "370678 2013-01-01      4    21     23       1\n",
            "370679 2013-01-02      4    21     23       0\n",
            "370680 2013-01-03      4    21     30       0\n",
            "370681 2013-01-04      4    21     25       0\n",
            "370682 2013-01-05      4    21     33       0\n",
            "...           ...    ...   ...    ...     ...\n",
            "372499 2017-12-27      4    21     35       0\n",
            "372500 2017-12-28      4    21     38       0\n",
            "372501 2017-12-29      4    21     43       0\n",
            "372502 2017-12-30      4    21     33       0\n",
            "372503 2017-12-31      4    21     49       0\n",
            "\n",
            "[1826 rows x 5 columns]\n"
          ]
        },
        {
          "output_type": "stream",
          "name": "stderr",
          "text": [
            "/usr/local/lib/python3.10/dist-packages/statsmodels/tsa/base/tsa_model.py:836: ValueWarning: No supported index is available. Prediction results will be given with an integer index beginning at `start`.\n",
            "  return get_prediction_index(\n",
            "/usr/local/lib/python3.10/dist-packages/statsmodels/tsa/base/tsa_model.py:836: FutureWarning: No supported index is available. In the next version, calling this method in a model without a supported index will result in an exception.\n",
            "  return get_prediction_index(\n"
          ]
        },
        {
          "output_type": "stream",
          "name": "stdout",
          "text": [
            "Finished training model...\n",
            "Predicting for store 5 and item 21\n",
            "             date  store  item  sales  is_hol\n",
            "372504 2013-01-01      5    21     15       1\n",
            "372505 2013-01-02      5    21     15       0\n",
            "372506 2013-01-03      5    21     19       0\n",
            "372507 2013-01-04      5    21     17       0\n",
            "372508 2013-01-05      5    21     15       0\n",
            "...           ...    ...   ...    ...     ...\n",
            "374325 2017-12-27      5    21     27       0\n",
            "374326 2017-12-28      5    21     27       0\n",
            "374327 2017-12-29      5    21     25       0\n",
            "374328 2017-12-30      5    21     19       0\n",
            "374329 2017-12-31      5    21     32       0\n",
            "\n",
            "[1826 rows x 5 columns]\n"
          ]
        },
        {
          "output_type": "stream",
          "name": "stderr",
          "text": [
            "/usr/local/lib/python3.10/dist-packages/statsmodels/tsa/base/tsa_model.py:836: ValueWarning: No supported index is available. Prediction results will be given with an integer index beginning at `start`.\n",
            "  return get_prediction_index(\n",
            "/usr/local/lib/python3.10/dist-packages/statsmodels/tsa/base/tsa_model.py:836: FutureWarning: No supported index is available. In the next version, calling this method in a model without a supported index will result in an exception.\n",
            "  return get_prediction_index(\n"
          ]
        },
        {
          "output_type": "stream",
          "name": "stdout",
          "text": [
            "Finished training model...\n",
            "Predicting for store 6 and item 21\n",
            "             date  store  item  sales  is_hol\n",
            "374330 2013-01-01      6    21     15       1\n",
            "374331 2013-01-02      6    21     16       0\n",
            "374332 2013-01-03      6    21     23       0\n",
            "374333 2013-01-04      6    21     12       0\n",
            "374334 2013-01-05      6    21     22       0\n",
            "...           ...    ...   ...    ...     ...\n",
            "376151 2017-12-27      6    21     24       0\n",
            "376152 2017-12-28      6    21     21       0\n",
            "376153 2017-12-29      6    21     40       0\n",
            "376154 2017-12-30      6    21     31       0\n",
            "376155 2017-12-31      6    21     37       0\n",
            "\n",
            "[1826 rows x 5 columns]\n"
          ]
        },
        {
          "output_type": "stream",
          "name": "stderr",
          "text": [
            "/usr/local/lib/python3.10/dist-packages/statsmodels/tsa/base/tsa_model.py:836: ValueWarning: No supported index is available. Prediction results will be given with an integer index beginning at `start`.\n",
            "  return get_prediction_index(\n",
            "/usr/local/lib/python3.10/dist-packages/statsmodels/tsa/base/tsa_model.py:836: FutureWarning: No supported index is available. In the next version, calling this method in a model without a supported index will result in an exception.\n",
            "  return get_prediction_index(\n"
          ]
        },
        {
          "output_type": "stream",
          "name": "stdout",
          "text": [
            "Finished training model...\n",
            "Predicting for store 7 and item 21\n",
            "             date  store  item  sales  is_hol\n",
            "376156 2013-01-01      7    21     13       1\n",
            "376157 2013-01-02      7    21     19       0\n",
            "376158 2013-01-03      7    21     19       0\n",
            "376159 2013-01-04      7    21     28       0\n",
            "376160 2013-01-05      7    21     19       0\n",
            "...           ...    ...   ...    ...     ...\n",
            "377977 2017-12-27      7    21     22       0\n",
            "377978 2017-12-28      7    21     21       0\n",
            "377979 2017-12-29      7    21     27       0\n",
            "377980 2017-12-30      7    21     27       0\n",
            "377981 2017-12-31      7    21     32       0\n",
            "\n",
            "[1826 rows x 5 columns]\n"
          ]
        },
        {
          "output_type": "stream",
          "name": "stderr",
          "text": [
            "/usr/local/lib/python3.10/dist-packages/statsmodels/tsa/base/tsa_model.py:836: ValueWarning: No supported index is available. Prediction results will be given with an integer index beginning at `start`.\n",
            "  return get_prediction_index(\n",
            "/usr/local/lib/python3.10/dist-packages/statsmodels/tsa/base/tsa_model.py:836: FutureWarning: No supported index is available. In the next version, calling this method in a model without a supported index will result in an exception.\n",
            "  return get_prediction_index(\n"
          ]
        },
        {
          "output_type": "stream",
          "name": "stdout",
          "text": [
            "Finished training model...\n",
            "Predicting for store 8 and item 21\n",
            "             date  store  item  sales  is_hol\n",
            "377982 2013-01-01      8    21     21       1\n",
            "377983 2013-01-02      8    21     30       0\n",
            "377984 2013-01-03      8    21     24       0\n",
            "377985 2013-01-04      8    21     30       0\n",
            "377986 2013-01-05      8    21     23       0\n",
            "...           ...    ...   ...    ...     ...\n",
            "379803 2017-12-27      8    21     43       0\n",
            "379804 2017-12-28      8    21     41       0\n",
            "379805 2017-12-29      8    21     56       0\n",
            "379806 2017-12-30      8    21     49       0\n",
            "379807 2017-12-31      8    21     60       0\n",
            "\n",
            "[1826 rows x 5 columns]\n"
          ]
        },
        {
          "output_type": "stream",
          "name": "stderr",
          "text": [
            "/usr/local/lib/python3.10/dist-packages/statsmodels/tsa/base/tsa_model.py:836: ValueWarning: No supported index is available. Prediction results will be given with an integer index beginning at `start`.\n",
            "  return get_prediction_index(\n",
            "/usr/local/lib/python3.10/dist-packages/statsmodels/tsa/base/tsa_model.py:836: FutureWarning: No supported index is available. In the next version, calling this method in a model without a supported index will result in an exception.\n",
            "  return get_prediction_index(\n"
          ]
        },
        {
          "output_type": "stream",
          "name": "stdout",
          "text": [
            "Finished training model...\n",
            "Predicting for store 9 and item 21\n",
            "             date  store  item  sales  is_hol\n",
            "379808 2013-01-01      9    21     25       1\n",
            "379809 2013-01-02      9    21     28       0\n",
            "379810 2013-01-03      9    21     34       0\n",
            "379811 2013-01-04      9    21     21       0\n",
            "379812 2013-01-05      9    21     20       0\n",
            "...           ...    ...   ...    ...     ...\n",
            "381629 2017-12-27      9    21     31       0\n",
            "381630 2017-12-28      9    21     34       0\n",
            "381631 2017-12-29      9    21     28       0\n",
            "381632 2017-12-30      9    21     41       0\n",
            "381633 2017-12-31      9    21     44       0\n",
            "\n",
            "[1826 rows x 5 columns]\n"
          ]
        },
        {
          "output_type": "stream",
          "name": "stderr",
          "text": [
            "/usr/local/lib/python3.10/dist-packages/statsmodels/tsa/base/tsa_model.py:836: ValueWarning: No supported index is available. Prediction results will be given with an integer index beginning at `start`.\n",
            "  return get_prediction_index(\n",
            "/usr/local/lib/python3.10/dist-packages/statsmodels/tsa/base/tsa_model.py:836: FutureWarning: No supported index is available. In the next version, calling this method in a model without a supported index will result in an exception.\n",
            "  return get_prediction_index(\n"
          ]
        },
        {
          "output_type": "stream",
          "name": "stdout",
          "text": [
            "Finished training model...\n",
            "Predicting for store 10 and item 21\n",
            "             date  store  item  sales  is_hol\n",
            "381634 2013-01-01     10    21     33       1\n",
            "381635 2013-01-02     10    21     28       0\n",
            "381636 2013-01-03     10    21     18       0\n",
            "381637 2013-01-04     10    21     30       0\n",
            "381638 2013-01-05     10    21     31       0\n",
            "...           ...    ...   ...    ...     ...\n",
            "383455 2017-12-27     10    21     37       0\n",
            "383456 2017-12-28     10    21     39       0\n",
            "383457 2017-12-29     10    21     37       0\n",
            "383458 2017-12-30     10    21     43       0\n",
            "383459 2017-12-31     10    21     42       0\n",
            "\n",
            "[1826 rows x 5 columns]\n"
          ]
        },
        {
          "output_type": "stream",
          "name": "stderr",
          "text": [
            "/usr/local/lib/python3.10/dist-packages/statsmodels/tsa/base/tsa_model.py:836: ValueWarning: No supported index is available. Prediction results will be given with an integer index beginning at `start`.\n",
            "  return get_prediction_index(\n",
            "/usr/local/lib/python3.10/dist-packages/statsmodels/tsa/base/tsa_model.py:836: FutureWarning: No supported index is available. In the next version, calling this method in a model without a supported index will result in an exception.\n",
            "  return get_prediction_index(\n"
          ]
        },
        {
          "output_type": "stream",
          "name": "stdout",
          "text": [
            "Finished training model...\n",
            "Predicting for store 1 and item 22\n",
            "             date  store  item  sales  is_hol\n",
            "383460 2013-01-01      1    22     59       1\n",
            "383461 2013-01-02      1    22     29       0\n",
            "383462 2013-01-03      1    22     33       0\n",
            "383463 2013-01-04      1    22     45       0\n",
            "383464 2013-01-05      1    22     32       0\n",
            "...           ...    ...   ...    ...     ...\n",
            "385281 2017-12-27      1    22     44       0\n",
            "385282 2017-12-28      1    22     60       0\n",
            "385283 2017-12-29      1    22     69       0\n",
            "385284 2017-12-30      1    22     63       0\n",
            "385285 2017-12-31      1    22     87       0\n",
            "\n",
            "[1826 rows x 5 columns]\n"
          ]
        },
        {
          "output_type": "stream",
          "name": "stderr",
          "text": [
            "/usr/local/lib/python3.10/dist-packages/statsmodels/tsa/base/tsa_model.py:836: ValueWarning: No supported index is available. Prediction results will be given with an integer index beginning at `start`.\n",
            "  return get_prediction_index(\n",
            "/usr/local/lib/python3.10/dist-packages/statsmodels/tsa/base/tsa_model.py:836: FutureWarning: No supported index is available. In the next version, calling this method in a model without a supported index will result in an exception.\n",
            "  return get_prediction_index(\n"
          ]
        },
        {
          "output_type": "stream",
          "name": "stdout",
          "text": [
            "Finished training model...\n",
            "Predicting for store 2 and item 22\n",
            "             date  store  item  sales  is_hol\n",
            "385286 2013-01-01      2    22     64       1\n",
            "385287 2013-01-02      2    22     53       0\n",
            "385288 2013-01-03      2    22     65       0\n",
            "385289 2013-01-04      2    22     70       0\n",
            "385290 2013-01-05      2    22     64       0\n",
            "...           ...    ...   ...    ...     ...\n",
            "387107 2017-12-27      2    22     80       0\n",
            "387108 2017-12-28      2    22     81       0\n",
            "387109 2017-12-29      2    22     90       0\n",
            "387110 2017-12-30      2    22    104       0\n",
            "387111 2017-12-31      2    22    129       0\n",
            "\n",
            "[1826 rows x 5 columns]\n"
          ]
        },
        {
          "output_type": "stream",
          "name": "stderr",
          "text": [
            "/usr/local/lib/python3.10/dist-packages/statsmodels/tsa/base/tsa_model.py:836: ValueWarning: No supported index is available. Prediction results will be given with an integer index beginning at `start`.\n",
            "  return get_prediction_index(\n",
            "/usr/local/lib/python3.10/dist-packages/statsmodels/tsa/base/tsa_model.py:836: FutureWarning: No supported index is available. In the next version, calling this method in a model without a supported index will result in an exception.\n",
            "  return get_prediction_index(\n"
          ]
        },
        {
          "output_type": "stream",
          "name": "stdout",
          "text": [
            "Finished training model...\n",
            "Predicting for store 3 and item 22\n",
            "             date  store  item  sales  is_hol\n",
            "387112 2013-01-01      3    22     50       1\n",
            "387113 2013-01-02      3    22     53       0\n",
            "387114 2013-01-03      3    22     51       0\n",
            "387115 2013-01-04      3    22     45       0\n",
            "387116 2013-01-05      3    22     46       0\n",
            "...           ...    ...   ...    ...     ...\n",
            "388933 2017-12-27      3    22     67       0\n",
            "388934 2017-12-28      3    22     82       0\n",
            "388935 2017-12-29      3    22     84       0\n",
            "388936 2017-12-30      3    22     80       0\n",
            "388937 2017-12-31      3    22     96       0\n",
            "\n",
            "[1826 rows x 5 columns]\n"
          ]
        },
        {
          "output_type": "stream",
          "name": "stderr",
          "text": [
            "/usr/local/lib/python3.10/dist-packages/statsmodels/tsa/base/tsa_model.py:836: ValueWarning: No supported index is available. Prediction results will be given with an integer index beginning at `start`.\n",
            "  return get_prediction_index(\n",
            "/usr/local/lib/python3.10/dist-packages/statsmodels/tsa/base/tsa_model.py:836: FutureWarning: No supported index is available. In the next version, calling this method in a model without a supported index will result in an exception.\n",
            "  return get_prediction_index(\n"
          ]
        },
        {
          "output_type": "stream",
          "name": "stdout",
          "text": [
            "Finished training model...\n",
            "Predicting for store 4 and item 22\n",
            "             date  store  item  sales  is_hol\n",
            "388938 2013-01-01      4    22     44       1\n",
            "388939 2013-01-02      4    22     51       0\n",
            "388940 2013-01-03      4    22     47       0\n",
            "388941 2013-01-04      4    22     58       0\n",
            "388942 2013-01-05      4    22     55       0\n",
            "...           ...    ...   ...    ...     ...\n",
            "390759 2017-12-27      4    22     81       0\n",
            "390760 2017-12-28      4    22     61       0\n",
            "390761 2017-12-29      4    22     83       0\n",
            "390762 2017-12-30      4    22     77       0\n",
            "390763 2017-12-31      4    22     91       0\n",
            "\n",
            "[1826 rows x 5 columns]\n"
          ]
        },
        {
          "output_type": "stream",
          "name": "stderr",
          "text": [
            "/usr/local/lib/python3.10/dist-packages/statsmodels/tsa/base/tsa_model.py:836: ValueWarning: No supported index is available. Prediction results will be given with an integer index beginning at `start`.\n",
            "  return get_prediction_index(\n",
            "/usr/local/lib/python3.10/dist-packages/statsmodels/tsa/base/tsa_model.py:836: FutureWarning: No supported index is available. In the next version, calling this method in a model without a supported index will result in an exception.\n",
            "  return get_prediction_index(\n"
          ]
        },
        {
          "output_type": "stream",
          "name": "stdout",
          "text": [
            "Finished training model...\n",
            "Predicting for store 5 and item 22\n",
            "             date  store  item  sales  is_hol\n",
            "390764 2013-01-01      5    22     36       1\n",
            "390765 2013-01-02      5    22     33       0\n",
            "390766 2013-01-03      5    22     37       0\n",
            "390767 2013-01-04      5    22     38       0\n",
            "390768 2013-01-05      5    22     38       0\n",
            "...           ...    ...   ...    ...     ...\n",
            "392585 2017-12-27      5    22     47       0\n",
            "392586 2017-12-28      5    22     63       0\n",
            "392587 2017-12-29      5    22     57       0\n",
            "392588 2017-12-30      5    22     60       0\n",
            "392589 2017-12-31      5    22     50       0\n",
            "\n",
            "[1826 rows x 5 columns]\n"
          ]
        },
        {
          "output_type": "stream",
          "name": "stderr",
          "text": [
            "/usr/local/lib/python3.10/dist-packages/statsmodels/tsa/base/tsa_model.py:836: ValueWarning: No supported index is available. Prediction results will be given with an integer index beginning at `start`.\n",
            "  return get_prediction_index(\n",
            "/usr/local/lib/python3.10/dist-packages/statsmodels/tsa/base/tsa_model.py:836: FutureWarning: No supported index is available. In the next version, calling this method in a model without a supported index will result in an exception.\n",
            "  return get_prediction_index(\n"
          ]
        },
        {
          "output_type": "stream",
          "name": "stdout",
          "text": [
            "Finished training model...\n",
            "Predicting for store 6 and item 22\n",
            "             date  store  item  sales  is_hol\n",
            "392590 2013-01-01      6    22     32       1\n",
            "392591 2013-01-02      6    22     34       0\n",
            "392592 2013-01-03      6    22     31       0\n",
            "392593 2013-01-04      6    22     35       0\n",
            "392594 2013-01-05      6    22     28       0\n",
            "...           ...    ...   ...    ...     ...\n",
            "394411 2017-12-27      6    22     41       0\n",
            "394412 2017-12-28      6    22     45       0\n",
            "394413 2017-12-29      6    22     48       0\n",
            "394414 2017-12-30      6    22     51       0\n",
            "394415 2017-12-31      6    22     75       0\n",
            "\n",
            "[1826 rows x 5 columns]\n"
          ]
        },
        {
          "output_type": "stream",
          "name": "stderr",
          "text": [
            "/usr/local/lib/python3.10/dist-packages/statsmodels/tsa/base/tsa_model.py:836: ValueWarning: No supported index is available. Prediction results will be given with an integer index beginning at `start`.\n",
            "  return get_prediction_index(\n",
            "/usr/local/lib/python3.10/dist-packages/statsmodels/tsa/base/tsa_model.py:836: FutureWarning: No supported index is available. In the next version, calling this method in a model without a supported index will result in an exception.\n",
            "  return get_prediction_index(\n"
          ]
        },
        {
          "output_type": "stream",
          "name": "stdout",
          "text": [
            "Finished training model...\n",
            "Predicting for store 7 and item 22\n",
            "             date  store  item  sales  is_hol\n",
            "394416 2013-01-01      7    22     33       1\n",
            "394417 2013-01-02      7    22     31       0\n",
            "394418 2013-01-03      7    22     27       0\n",
            "394419 2013-01-04      7    22     38       0\n",
            "394420 2013-01-05      7    22     32       0\n",
            "...           ...    ...   ...    ...     ...\n",
            "396237 2017-12-27      7    22     38       0\n",
            "396238 2017-12-28      7    22     58       0\n",
            "396239 2017-12-29      7    22     60       0\n",
            "396240 2017-12-30      7    22     60       0\n",
            "396241 2017-12-31      7    22     59       0\n",
            "\n",
            "[1826 rows x 5 columns]\n"
          ]
        },
        {
          "output_type": "stream",
          "name": "stderr",
          "text": [
            "/usr/local/lib/python3.10/dist-packages/statsmodels/tsa/base/tsa_model.py:836: ValueWarning: No supported index is available. Prediction results will be given with an integer index beginning at `start`.\n",
            "  return get_prediction_index(\n",
            "/usr/local/lib/python3.10/dist-packages/statsmodels/tsa/base/tsa_model.py:836: FutureWarning: No supported index is available. In the next version, calling this method in a model without a supported index will result in an exception.\n",
            "  return get_prediction_index(\n"
          ]
        },
        {
          "output_type": "stream",
          "name": "stdout",
          "text": [
            "Finished training model...\n",
            "Predicting for store 8 and item 22\n",
            "             date  store  item  sales  is_hol\n",
            "396242 2013-01-01      8    22     60       1\n",
            "396243 2013-01-02      8    22     58       0\n",
            "396244 2013-01-03      8    22     49       0\n",
            "396245 2013-01-04      8    22     46       0\n",
            "396246 2013-01-05      8    22     70       0\n",
            "...           ...    ...   ...    ...     ...\n",
            "398063 2017-12-27      8    22     84       0\n",
            "398064 2017-12-28      8    22     74       0\n",
            "398065 2017-12-29      8    22     87       0\n",
            "398066 2017-12-30      8    22     82       0\n",
            "398067 2017-12-31      8    22     92       0\n",
            "\n",
            "[1826 rows x 5 columns]\n"
          ]
        },
        {
          "output_type": "stream",
          "name": "stderr",
          "text": [
            "/usr/local/lib/python3.10/dist-packages/statsmodels/tsa/base/tsa_model.py:836: ValueWarning: No supported index is available. Prediction results will be given with an integer index beginning at `start`.\n",
            "  return get_prediction_index(\n",
            "/usr/local/lib/python3.10/dist-packages/statsmodels/tsa/base/tsa_model.py:836: FutureWarning: No supported index is available. In the next version, calling this method in a model without a supported index will result in an exception.\n",
            "  return get_prediction_index(\n"
          ]
        },
        {
          "output_type": "stream",
          "name": "stdout",
          "text": [
            "Finished training model...\n",
            "Predicting for store 9 and item 22\n",
            "             date  store  item  sales  is_hol\n",
            "398068 2013-01-01      9    22     47       1\n",
            "398069 2013-01-02      9    22     54       0\n",
            "398070 2013-01-03      9    22     35       0\n",
            "398071 2013-01-04      9    22     44       0\n",
            "398072 2013-01-05      9    22     31       0\n",
            "...           ...    ...   ...    ...     ...\n",
            "399889 2017-12-27      9    22     55       0\n",
            "399890 2017-12-28      9    22     78       0\n",
            "399891 2017-12-29      9    22     91       0\n",
            "399892 2017-12-30      9    22     82       0\n",
            "399893 2017-12-31      9    22     75       0\n",
            "\n",
            "[1826 rows x 5 columns]\n"
          ]
        },
        {
          "output_type": "stream",
          "name": "stderr",
          "text": [
            "/usr/local/lib/python3.10/dist-packages/statsmodels/tsa/base/tsa_model.py:836: ValueWarning: No supported index is available. Prediction results will be given with an integer index beginning at `start`.\n",
            "  return get_prediction_index(\n",
            "/usr/local/lib/python3.10/dist-packages/statsmodels/tsa/base/tsa_model.py:836: FutureWarning: No supported index is available. In the next version, calling this method in a model without a supported index will result in an exception.\n",
            "  return get_prediction_index(\n"
          ]
        },
        {
          "output_type": "stream",
          "name": "stdout",
          "text": [
            "Finished training model...\n",
            "Predicting for store 10 and item 22\n",
            "             date  store  item  sales  is_hol\n",
            "399894 2013-01-01     10    22     34       1\n",
            "399895 2013-01-02     10    22     54       0\n",
            "399896 2013-01-03     10    22     56       0\n",
            "399897 2013-01-04     10    22     46       0\n",
            "399898 2013-01-05     10    22     63       0\n",
            "...           ...    ...   ...    ...     ...\n",
            "401715 2017-12-27     10    22     59       0\n",
            "401716 2017-12-28     10    22     70       0\n",
            "401717 2017-12-29     10    22     89       0\n",
            "401718 2017-12-30     10    22     91       0\n",
            "401719 2017-12-31     10    22     89       0\n",
            "\n",
            "[1826 rows x 5 columns]\n"
          ]
        },
        {
          "output_type": "stream",
          "name": "stderr",
          "text": [
            "/usr/local/lib/python3.10/dist-packages/statsmodels/tsa/base/tsa_model.py:836: ValueWarning: No supported index is available. Prediction results will be given with an integer index beginning at `start`.\n",
            "  return get_prediction_index(\n",
            "/usr/local/lib/python3.10/dist-packages/statsmodels/tsa/base/tsa_model.py:836: FutureWarning: No supported index is available. In the next version, calling this method in a model without a supported index will result in an exception.\n",
            "  return get_prediction_index(\n"
          ]
        },
        {
          "output_type": "stream",
          "name": "stdout",
          "text": [
            "Finished training model...\n",
            "Predicting for store 1 and item 23\n",
            "             date  store  item  sales  is_hol\n",
            "401720 2013-01-01      1    23     14       1\n",
            "401721 2013-01-02      1    23     17       0\n",
            "401722 2013-01-03      1    23      5       0\n",
            "401723 2013-01-04      1    23     16       0\n",
            "401724 2013-01-05      1    23     23       0\n",
            "...           ...    ...   ...    ...     ...\n",
            "403541 2017-12-27      1    23     25       0\n",
            "403542 2017-12-28      1    23     26       0\n",
            "403543 2017-12-29      1    23     20       0\n",
            "403544 2017-12-30      1    23     23       0\n",
            "403545 2017-12-31      1    23     28       0\n",
            "\n",
            "[1826 rows x 5 columns]\n"
          ]
        },
        {
          "output_type": "stream",
          "name": "stderr",
          "text": [
            "/usr/local/lib/python3.10/dist-packages/statsmodels/tsa/base/tsa_model.py:836: ValueWarning: No supported index is available. Prediction results will be given with an integer index beginning at `start`.\n",
            "  return get_prediction_index(\n",
            "/usr/local/lib/python3.10/dist-packages/statsmodels/tsa/base/tsa_model.py:836: FutureWarning: No supported index is available. In the next version, calling this method in a model without a supported index will result in an exception.\n",
            "  return get_prediction_index(\n"
          ]
        },
        {
          "output_type": "stream",
          "name": "stdout",
          "text": [
            "Finished training model...\n",
            "Predicting for store 2 and item 23\n",
            "             date  store  item  sales  is_hol\n",
            "403546 2013-01-01      2    23     17       1\n",
            "403547 2013-01-02      2    23     24       0\n",
            "403548 2013-01-03      2    23     22       0\n",
            "403549 2013-01-04      2    23     15       0\n",
            "403550 2013-01-05      2    23     18       0\n",
            "...           ...    ...   ...    ...     ...\n",
            "405367 2017-12-27      2    23     32       0\n",
            "405368 2017-12-28      2    23     35       0\n",
            "405369 2017-12-29      2    23     37       0\n",
            "405370 2017-12-30      2    23     35       0\n",
            "405371 2017-12-31      2    23     40       0\n",
            "\n",
            "[1826 rows x 5 columns]\n"
          ]
        },
        {
          "output_type": "stream",
          "name": "stderr",
          "text": [
            "/usr/local/lib/python3.10/dist-packages/statsmodels/tsa/base/tsa_model.py:836: ValueWarning: No supported index is available. Prediction results will be given with an integer index beginning at `start`.\n",
            "  return get_prediction_index(\n",
            "/usr/local/lib/python3.10/dist-packages/statsmodels/tsa/base/tsa_model.py:836: FutureWarning: No supported index is available. In the next version, calling this method in a model without a supported index will result in an exception.\n",
            "  return get_prediction_index(\n"
          ]
        },
        {
          "output_type": "stream",
          "name": "stdout",
          "text": [
            "Finished training model...\n",
            "Predicting for store 3 and item 23\n",
            "             date  store  item  sales  is_hol\n",
            "405372 2013-01-01      3    23     12       1\n",
            "405373 2013-01-02      3    23     21       0\n",
            "405374 2013-01-03      3    23     14       0\n",
            "405375 2013-01-04      3    23     21       0\n",
            "405376 2013-01-05      3    23     23       0\n",
            "...           ...    ...   ...    ...     ...\n",
            "407193 2017-12-27      3    23     26       0\n",
            "407194 2017-12-28      3    23     28       0\n",
            "407195 2017-12-29      3    23     32       0\n",
            "407196 2017-12-30      3    23     41       0\n",
            "407197 2017-12-31      3    23     33       0\n",
            "\n",
            "[1826 rows x 5 columns]\n"
          ]
        },
        {
          "output_type": "stream",
          "name": "stderr",
          "text": [
            "/usr/local/lib/python3.10/dist-packages/statsmodels/tsa/base/tsa_model.py:836: ValueWarning: No supported index is available. Prediction results will be given with an integer index beginning at `start`.\n",
            "  return get_prediction_index(\n",
            "/usr/local/lib/python3.10/dist-packages/statsmodels/tsa/base/tsa_model.py:836: FutureWarning: No supported index is available. In the next version, calling this method in a model without a supported index will result in an exception.\n",
            "  return get_prediction_index(\n"
          ]
        },
        {
          "output_type": "stream",
          "name": "stdout",
          "text": [
            "Finished training model...\n",
            "Predicting for store 4 and item 23\n",
            "             date  store  item  sales  is_hol\n",
            "407198 2013-01-01      4    23     13       1\n",
            "407199 2013-01-02      4    23     15       0\n",
            "407200 2013-01-03      4    23     16       0\n",
            "407201 2013-01-04      4    23     20       0\n",
            "407202 2013-01-05      4    23     29       0\n",
            "...           ...    ...   ...    ...     ...\n",
            "409019 2017-12-27      4    23     30       0\n",
            "409020 2017-12-28      4    23     28       0\n",
            "409021 2017-12-29      4    23     23       0\n",
            "409022 2017-12-30      4    23     23       0\n",
            "409023 2017-12-31      4    23     21       0\n",
            "\n",
            "[1826 rows x 5 columns]\n"
          ]
        },
        {
          "output_type": "stream",
          "name": "stderr",
          "text": [
            "/usr/local/lib/python3.10/dist-packages/statsmodels/tsa/base/tsa_model.py:836: ValueWarning: No supported index is available. Prediction results will be given with an integer index beginning at `start`.\n",
            "  return get_prediction_index(\n",
            "/usr/local/lib/python3.10/dist-packages/statsmodels/tsa/base/tsa_model.py:836: FutureWarning: No supported index is available. In the next version, calling this method in a model without a supported index will result in an exception.\n",
            "  return get_prediction_index(\n"
          ]
        },
        {
          "output_type": "stream",
          "name": "stdout",
          "text": [
            "Finished training model...\n",
            "Predicting for store 5 and item 23\n",
            "             date  store  item  sales  is_hol\n",
            "409024 2013-01-01      5    23     11       1\n",
            "409025 2013-01-02      5    23     13       0\n",
            "409026 2013-01-03      5    23      7       0\n",
            "409027 2013-01-04      5    23     13       0\n",
            "409028 2013-01-05      5    23     11       0\n",
            "...           ...    ...   ...    ...     ...\n",
            "410845 2017-12-27      5    23     12       0\n",
            "410846 2017-12-28      5    23     22       0\n",
            "410847 2017-12-29      5    23     13       0\n",
            "410848 2017-12-30      5    23     12       0\n",
            "410849 2017-12-31      5    23     18       0\n",
            "\n",
            "[1826 rows x 5 columns]\n"
          ]
        },
        {
          "output_type": "stream",
          "name": "stderr",
          "text": [
            "/usr/local/lib/python3.10/dist-packages/statsmodels/tsa/base/tsa_model.py:836: ValueWarning: No supported index is available. Prediction results will be given with an integer index beginning at `start`.\n",
            "  return get_prediction_index(\n",
            "/usr/local/lib/python3.10/dist-packages/statsmodels/tsa/base/tsa_model.py:836: FutureWarning: No supported index is available. In the next version, calling this method in a model without a supported index will result in an exception.\n",
            "  return get_prediction_index(\n"
          ]
        },
        {
          "output_type": "stream",
          "name": "stdout",
          "text": [
            "Finished training model...\n",
            "Predicting for store 6 and item 23\n",
            "             date  store  item  sales  is_hol\n",
            "410850 2013-01-01      6    23     17       1\n",
            "410851 2013-01-02      6    23     15       0\n",
            "410852 2013-01-03      6    23      7       0\n",
            "410853 2013-01-04      6    23     18       0\n",
            "410854 2013-01-05      6    23     17       0\n",
            "...           ...    ...   ...    ...     ...\n",
            "412671 2017-12-27      6    23     11       0\n",
            "412672 2017-12-28      6    23     17       0\n",
            "412673 2017-12-29      6    23     24       0\n",
            "412674 2017-12-30      6    23     21       0\n",
            "412675 2017-12-31      6    23     26       0\n",
            "\n",
            "[1826 rows x 5 columns]\n"
          ]
        },
        {
          "output_type": "stream",
          "name": "stderr",
          "text": [
            "/usr/local/lib/python3.10/dist-packages/statsmodels/tsa/base/tsa_model.py:836: ValueWarning: No supported index is available. Prediction results will be given with an integer index beginning at `start`.\n",
            "  return get_prediction_index(\n",
            "/usr/local/lib/python3.10/dist-packages/statsmodels/tsa/base/tsa_model.py:836: FutureWarning: No supported index is available. In the next version, calling this method in a model without a supported index will result in an exception.\n",
            "  return get_prediction_index(\n"
          ]
        },
        {
          "output_type": "stream",
          "name": "stdout",
          "text": [
            "Finished training model...\n",
            "Predicting for store 7 and item 23\n",
            "             date  store  item  sales  is_hol\n",
            "412676 2013-01-01      7    23      7       1\n",
            "412677 2013-01-02      7    23     11       0\n",
            "412678 2013-01-03      7    23     10       0\n",
            "412679 2013-01-04      7    23     13       0\n",
            "412680 2013-01-05      7    23     10       0\n",
            "...           ...    ...   ...    ...     ...\n",
            "414497 2017-12-27      7    23     16       0\n",
            "414498 2017-12-28      7    23     17       0\n",
            "414499 2017-12-29      7    23     12       0\n",
            "414500 2017-12-30      7    23     17       0\n",
            "414501 2017-12-31      7    23     11       0\n",
            "\n",
            "[1826 rows x 5 columns]\n"
          ]
        },
        {
          "output_type": "stream",
          "name": "stderr",
          "text": [
            "/usr/local/lib/python3.10/dist-packages/statsmodels/tsa/base/tsa_model.py:836: ValueWarning: No supported index is available. Prediction results will be given with an integer index beginning at `start`.\n",
            "  return get_prediction_index(\n",
            "/usr/local/lib/python3.10/dist-packages/statsmodels/tsa/base/tsa_model.py:836: FutureWarning: No supported index is available. In the next version, calling this method in a model without a supported index will result in an exception.\n",
            "  return get_prediction_index(\n"
          ]
        },
        {
          "output_type": "stream",
          "name": "stdout",
          "text": [
            "Finished training model...\n",
            "Predicting for store 8 and item 23\n",
            "             date  store  item  sales  is_hol\n",
            "414502 2013-01-01      8    23     13       1\n",
            "414503 2013-01-02      8    23     16       0\n",
            "414504 2013-01-03      8    23     17       0\n",
            "414505 2013-01-04      8    23     17       0\n",
            "414506 2013-01-05      8    23     36       0\n",
            "...           ...    ...   ...    ...     ...\n",
            "416323 2017-12-27      8    23     31       0\n",
            "416324 2017-12-28      8    23     23       0\n",
            "416325 2017-12-29      8    23     34       0\n",
            "416326 2017-12-30      8    23     30       0\n",
            "416327 2017-12-31      8    23     49       0\n",
            "\n",
            "[1826 rows x 5 columns]\n"
          ]
        },
        {
          "output_type": "stream",
          "name": "stderr",
          "text": [
            "/usr/local/lib/python3.10/dist-packages/statsmodels/tsa/base/tsa_model.py:836: ValueWarning: No supported index is available. Prediction results will be given with an integer index beginning at `start`.\n",
            "  return get_prediction_index(\n",
            "/usr/local/lib/python3.10/dist-packages/statsmodels/tsa/base/tsa_model.py:836: FutureWarning: No supported index is available. In the next version, calling this method in a model without a supported index will result in an exception.\n",
            "  return get_prediction_index(\n"
          ]
        },
        {
          "output_type": "stream",
          "name": "stdout",
          "text": [
            "Finished training model...\n",
            "Predicting for store 9 and item 23\n",
            "             date  store  item  sales  is_hol\n",
            "416328 2013-01-01      9    23     20       1\n",
            "416329 2013-01-02      9    23     16       0\n",
            "416330 2013-01-03      9    23     11       0\n",
            "416331 2013-01-04      9    23     21       0\n",
            "416332 2013-01-05      9    23     20       0\n",
            "...           ...    ...   ...    ...     ...\n",
            "418149 2017-12-27      9    23     25       0\n",
            "418150 2017-12-28      9    23     26       0\n",
            "418151 2017-12-29      9    23     29       0\n",
            "418152 2017-12-30      9    23     21       0\n",
            "418153 2017-12-31      9    23     38       0\n",
            "\n",
            "[1826 rows x 5 columns]\n"
          ]
        },
        {
          "output_type": "stream",
          "name": "stderr",
          "text": [
            "/usr/local/lib/python3.10/dist-packages/statsmodels/tsa/base/tsa_model.py:836: ValueWarning: No supported index is available. Prediction results will be given with an integer index beginning at `start`.\n",
            "  return get_prediction_index(\n",
            "/usr/local/lib/python3.10/dist-packages/statsmodels/tsa/base/tsa_model.py:836: FutureWarning: No supported index is available. In the next version, calling this method in a model without a supported index will result in an exception.\n",
            "  return get_prediction_index(\n"
          ]
        },
        {
          "output_type": "stream",
          "name": "stdout",
          "text": [
            "Finished training model...\n",
            "Predicting for store 10 and item 23\n",
            "             date  store  item  sales  is_hol\n",
            "418154 2013-01-01     10    23     22       1\n",
            "418155 2013-01-02     10    23     15       0\n",
            "418156 2013-01-03     10    23     12       0\n",
            "418157 2013-01-04     10    23     19       0\n",
            "418158 2013-01-05     10    23     25       0\n",
            "...           ...    ...   ...    ...     ...\n",
            "419975 2017-12-27     10    23     25       0\n",
            "419976 2017-12-28     10    23     26       0\n",
            "419977 2017-12-29     10    23     34       0\n",
            "419978 2017-12-30     10    23     35       0\n",
            "419979 2017-12-31     10    23     39       0\n",
            "\n",
            "[1826 rows x 5 columns]\n"
          ]
        },
        {
          "output_type": "stream",
          "name": "stderr",
          "text": [
            "/usr/local/lib/python3.10/dist-packages/statsmodels/tsa/base/tsa_model.py:836: ValueWarning: No supported index is available. Prediction results will be given with an integer index beginning at `start`.\n",
            "  return get_prediction_index(\n",
            "/usr/local/lib/python3.10/dist-packages/statsmodels/tsa/base/tsa_model.py:836: FutureWarning: No supported index is available. In the next version, calling this method in a model without a supported index will result in an exception.\n",
            "  return get_prediction_index(\n"
          ]
        },
        {
          "output_type": "stream",
          "name": "stdout",
          "text": [
            "Finished training model...\n",
            "Predicting for store 1 and item 24\n",
            "             date  store  item  sales  is_hol\n",
            "419980 2013-01-01      1    24     41       1\n",
            "419981 2013-01-02      1    24     25       0\n",
            "419982 2013-01-03      1    24     32       0\n",
            "419983 2013-01-04      1    24     36       0\n",
            "419984 2013-01-05      1    24     31       0\n",
            "...           ...    ...   ...    ...     ...\n",
            "421801 2017-12-27      1    24     45       0\n",
            "421802 2017-12-28      1    24     46       0\n",
            "421803 2017-12-29      1    24     53       0\n",
            "421804 2017-12-30      1    24     44       0\n",
            "421805 2017-12-31      1    24     54       0\n",
            "\n",
            "[1826 rows x 5 columns]\n"
          ]
        },
        {
          "output_type": "stream",
          "name": "stderr",
          "text": [
            "/usr/local/lib/python3.10/dist-packages/statsmodels/tsa/base/tsa_model.py:836: ValueWarning: No supported index is available. Prediction results will be given with an integer index beginning at `start`.\n",
            "  return get_prediction_index(\n",
            "/usr/local/lib/python3.10/dist-packages/statsmodels/tsa/base/tsa_model.py:836: FutureWarning: No supported index is available. In the next version, calling this method in a model without a supported index will result in an exception.\n",
            "  return get_prediction_index(\n"
          ]
        },
        {
          "output_type": "stream",
          "name": "stdout",
          "text": [
            "Finished training model...\n",
            "Predicting for store 2 and item 24\n",
            "             date  store  item  sales  is_hol\n",
            "421806 2013-01-01      2    24     45       1\n",
            "421807 2013-01-02      2    24     51       0\n",
            "421808 2013-01-03      2    24     38       0\n",
            "421809 2013-01-04      2    24     62       0\n",
            "421810 2013-01-05      2    24     42       0\n",
            "...           ...    ...   ...    ...     ...\n",
            "423627 2017-12-27      2    24     59       0\n",
            "423628 2017-12-28      2    24     62       0\n",
            "423629 2017-12-29      2    24     74       0\n",
            "423630 2017-12-30      2    24     74       0\n",
            "423631 2017-12-31      2    24     77       0\n",
            "\n",
            "[1826 rows x 5 columns]\n"
          ]
        },
        {
          "output_type": "stream",
          "name": "stderr",
          "text": [
            "/usr/local/lib/python3.10/dist-packages/statsmodels/tsa/base/tsa_model.py:836: ValueWarning: No supported index is available. Prediction results will be given with an integer index beginning at `start`.\n",
            "  return get_prediction_index(\n",
            "/usr/local/lib/python3.10/dist-packages/statsmodels/tsa/base/tsa_model.py:836: FutureWarning: No supported index is available. In the next version, calling this method in a model without a supported index will result in an exception.\n",
            "  return get_prediction_index(\n"
          ]
        },
        {
          "output_type": "stream",
          "name": "stdout",
          "text": [
            "Finished training model...\n",
            "Predicting for store 3 and item 24\n",
            "             date  store  item  sales  is_hol\n",
            "423632 2013-01-01      3    24     36       1\n",
            "423633 2013-01-02      3    24     31       0\n",
            "423634 2013-01-03      3    24     40       0\n",
            "423635 2013-01-04      3    24     35       0\n",
            "423636 2013-01-05      3    24     58       0\n",
            "...           ...    ...   ...    ...     ...\n",
            "425453 2017-12-27      3    24     48       0\n",
            "425454 2017-12-28      3    24     71       0\n",
            "425455 2017-12-29      3    24     72       0\n",
            "425456 2017-12-30      3    24    108       0\n",
            "425457 2017-12-31      3    24    100       0\n",
            "\n",
            "[1826 rows x 5 columns]\n"
          ]
        },
        {
          "output_type": "stream",
          "name": "stderr",
          "text": [
            "/usr/local/lib/python3.10/dist-packages/statsmodels/tsa/base/tsa_model.py:836: ValueWarning: No supported index is available. Prediction results will be given with an integer index beginning at `start`.\n",
            "  return get_prediction_index(\n",
            "/usr/local/lib/python3.10/dist-packages/statsmodels/tsa/base/tsa_model.py:836: FutureWarning: No supported index is available. In the next version, calling this method in a model without a supported index will result in an exception.\n",
            "  return get_prediction_index(\n"
          ]
        },
        {
          "output_type": "stream",
          "name": "stdout",
          "text": [
            "Finished training model...\n",
            "Predicting for store 4 and item 24\n",
            "             date  store  item  sales  is_hol\n",
            "425458 2013-01-01      4    24     35       1\n",
            "425459 2013-01-02      4    24     34       0\n",
            "425460 2013-01-03      4    24     36       0\n",
            "425461 2013-01-04      4    24     37       0\n",
            "425462 2013-01-05      4    24     34       0\n",
            "...           ...    ...   ...    ...     ...\n",
            "427279 2017-12-27      4    24     54       0\n",
            "427280 2017-12-28      4    24     60       0\n",
            "427281 2017-12-29      4    24     67       0\n",
            "427282 2017-12-30      4    24     65       0\n",
            "427283 2017-12-31      4    24     53       0\n",
            "\n",
            "[1826 rows x 5 columns]\n"
          ]
        },
        {
          "output_type": "stream",
          "name": "stderr",
          "text": [
            "/usr/local/lib/python3.10/dist-packages/statsmodels/tsa/base/tsa_model.py:836: ValueWarning: No supported index is available. Prediction results will be given with an integer index beginning at `start`.\n",
            "  return get_prediction_index(\n",
            "/usr/local/lib/python3.10/dist-packages/statsmodels/tsa/base/tsa_model.py:836: FutureWarning: No supported index is available. In the next version, calling this method in a model without a supported index will result in an exception.\n",
            "  return get_prediction_index(\n"
          ]
        },
        {
          "output_type": "stream",
          "name": "stdout",
          "text": [
            "Finished training model...\n",
            "Predicting for store 5 and item 24\n",
            "             date  store  item  sales  is_hol\n",
            "427284 2013-01-01      5    24     26       1\n",
            "427285 2013-01-02      5    24     25       0\n",
            "427286 2013-01-03      5    24     21       0\n",
            "427287 2013-01-04      5    24     36       0\n",
            "427288 2013-01-05      5    24     31       0\n",
            "...           ...    ...   ...    ...     ...\n",
            "429105 2017-12-27      5    24     37       0\n",
            "429106 2017-12-28      5    24     48       0\n",
            "429107 2017-12-29      5    24     36       0\n",
            "429108 2017-12-30      5    24     46       0\n",
            "429109 2017-12-31      5    24     46       0\n",
            "\n",
            "[1826 rows x 5 columns]\n"
          ]
        },
        {
          "output_type": "stream",
          "name": "stderr",
          "text": [
            "/usr/local/lib/python3.10/dist-packages/statsmodels/tsa/base/tsa_model.py:836: ValueWarning: No supported index is available. Prediction results will be given with an integer index beginning at `start`.\n",
            "  return get_prediction_index(\n",
            "/usr/local/lib/python3.10/dist-packages/statsmodels/tsa/base/tsa_model.py:836: FutureWarning: No supported index is available. In the next version, calling this method in a model without a supported index will result in an exception.\n",
            "  return get_prediction_index(\n"
          ]
        },
        {
          "output_type": "stream",
          "name": "stdout",
          "text": [
            "Finished training model...\n",
            "Predicting for store 6 and item 24\n",
            "             date  store  item  sales  is_hol\n",
            "429110 2013-01-01      6    24     33       1\n",
            "429111 2013-01-02      6    24     27       0\n",
            "429112 2013-01-03      6    24     19       0\n",
            "429113 2013-01-04      6    24     32       0\n",
            "429114 2013-01-05      6    24     24       0\n",
            "...           ...    ...   ...    ...     ...\n",
            "430931 2017-12-27      6    24     33       0\n",
            "430932 2017-12-28      6    24     41       0\n",
            "430933 2017-12-29      6    24     36       0\n",
            "430934 2017-12-30      6    24     49       0\n",
            "430935 2017-12-31      6    24     52       0\n",
            "\n",
            "[1826 rows x 5 columns]\n"
          ]
        },
        {
          "output_type": "stream",
          "name": "stderr",
          "text": [
            "/usr/local/lib/python3.10/dist-packages/statsmodels/tsa/base/tsa_model.py:836: ValueWarning: No supported index is available. Prediction results will be given with an integer index beginning at `start`.\n",
            "  return get_prediction_index(\n",
            "/usr/local/lib/python3.10/dist-packages/statsmodels/tsa/base/tsa_model.py:836: FutureWarning: No supported index is available. In the next version, calling this method in a model without a supported index will result in an exception.\n",
            "  return get_prediction_index(\n"
          ]
        },
        {
          "output_type": "stream",
          "name": "stdout",
          "text": [
            "Finished training model...\n",
            "Predicting for store 7 and item 24\n",
            "             date  store  item  sales  is_hol\n",
            "430936 2013-01-01      7    24     21       1\n",
            "430937 2013-01-02      7    24     23       0\n",
            "430938 2013-01-03      7    24     24       0\n",
            "430939 2013-01-04      7    24     17       0\n",
            "430940 2013-01-05      7    24     26       0\n",
            "...           ...    ...   ...    ...     ...\n",
            "432757 2017-12-27      7    24     37       0\n",
            "432758 2017-12-28      7    24     49       0\n",
            "432759 2017-12-29      7    24     40       0\n",
            "432760 2017-12-30      7    24     49       0\n",
            "432761 2017-12-31      7    24     49       0\n",
            "\n",
            "[1826 rows x 5 columns]\n"
          ]
        },
        {
          "output_type": "stream",
          "name": "stderr",
          "text": [
            "/usr/local/lib/python3.10/dist-packages/statsmodels/tsa/base/tsa_model.py:836: ValueWarning: No supported index is available. Prediction results will be given with an integer index beginning at `start`.\n",
            "  return get_prediction_index(\n",
            "/usr/local/lib/python3.10/dist-packages/statsmodels/tsa/base/tsa_model.py:836: FutureWarning: No supported index is available. In the next version, calling this method in a model without a supported index will result in an exception.\n",
            "  return get_prediction_index(\n"
          ]
        },
        {
          "output_type": "stream",
          "name": "stdout",
          "text": [
            "Finished training model...\n",
            "Predicting for store 8 and item 24\n",
            "             date  store  item  sales  is_hol\n",
            "432762 2013-01-01      8    24     43       1\n",
            "432763 2013-01-02      8    24     38       0\n",
            "432764 2013-01-03      8    24     43       0\n",
            "432765 2013-01-04      8    24     52       0\n",
            "432766 2013-01-05      8    24     29       0\n",
            "...           ...    ...   ...    ...     ...\n",
            "434583 2017-12-27      8    24     62       0\n",
            "434584 2017-12-28      8    24     68       0\n",
            "434585 2017-12-29      8    24     71       0\n",
            "434586 2017-12-30      8    24     90       0\n",
            "434587 2017-12-31      8    24     75       0\n",
            "\n",
            "[1826 rows x 5 columns]\n"
          ]
        },
        {
          "output_type": "stream",
          "name": "stderr",
          "text": [
            "/usr/local/lib/python3.10/dist-packages/statsmodels/tsa/base/tsa_model.py:836: ValueWarning: No supported index is available. Prediction results will be given with an integer index beginning at `start`.\n",
            "  return get_prediction_index(\n",
            "/usr/local/lib/python3.10/dist-packages/statsmodels/tsa/base/tsa_model.py:836: FutureWarning: No supported index is available. In the next version, calling this method in a model without a supported index will result in an exception.\n",
            "  return get_prediction_index(\n"
          ]
        },
        {
          "output_type": "stream",
          "name": "stdout",
          "text": [
            "Finished training model...\n",
            "Predicting for store 9 and item 24\n",
            "             date  store  item  sales  is_hol\n",
            "434588 2013-01-01      9    24     34       1\n",
            "434589 2013-01-02      9    24     32       0\n",
            "434590 2013-01-03      9    24     26       0\n",
            "434591 2013-01-04      9    24     33       0\n",
            "434592 2013-01-05      9    24     44       0\n",
            "...           ...    ...   ...    ...     ...\n",
            "436409 2017-12-27      9    24     44       0\n",
            "436410 2017-12-28      9    24     53       0\n",
            "436411 2017-12-29      9    24     77       0\n",
            "436412 2017-12-30      9    24     68       0\n",
            "436413 2017-12-31      9    24     71       0\n",
            "\n",
            "[1826 rows x 5 columns]\n"
          ]
        },
        {
          "output_type": "stream",
          "name": "stderr",
          "text": [
            "/usr/local/lib/python3.10/dist-packages/statsmodels/tsa/base/tsa_model.py:836: ValueWarning: No supported index is available. Prediction results will be given with an integer index beginning at `start`.\n",
            "  return get_prediction_index(\n",
            "/usr/local/lib/python3.10/dist-packages/statsmodels/tsa/base/tsa_model.py:836: FutureWarning: No supported index is available. In the next version, calling this method in a model without a supported index will result in an exception.\n",
            "  return get_prediction_index(\n"
          ]
        },
        {
          "output_type": "stream",
          "name": "stdout",
          "text": [
            "Finished training model...\n",
            "Predicting for store 10 and item 24\n",
            "             date  store  item  sales  is_hol\n",
            "436414 2013-01-01     10    24     35       1\n",
            "436415 2013-01-02     10    24     38       0\n",
            "436416 2013-01-03     10    24     38       0\n",
            "436417 2013-01-04     10    24     28       0\n",
            "436418 2013-01-05     10    24     45       0\n",
            "...           ...    ...   ...    ...     ...\n",
            "438235 2017-12-27     10    24     56       0\n",
            "438236 2017-12-28     10    24     57       0\n",
            "438237 2017-12-29     10    24     73       0\n",
            "438238 2017-12-30     10    24     85       0\n",
            "438239 2017-12-31     10    24     63       0\n",
            "\n",
            "[1826 rows x 5 columns]\n"
          ]
        },
        {
          "output_type": "stream",
          "name": "stderr",
          "text": [
            "/usr/local/lib/python3.10/dist-packages/statsmodels/tsa/base/tsa_model.py:836: ValueWarning: No supported index is available. Prediction results will be given with an integer index beginning at `start`.\n",
            "  return get_prediction_index(\n",
            "/usr/local/lib/python3.10/dist-packages/statsmodels/tsa/base/tsa_model.py:836: FutureWarning: No supported index is available. In the next version, calling this method in a model without a supported index will result in an exception.\n",
            "  return get_prediction_index(\n"
          ]
        },
        {
          "output_type": "stream",
          "name": "stdout",
          "text": [
            "Finished training model...\n",
            "Predicting for store 1 and item 25\n",
            "             date  store  item  sales  is_hol\n",
            "438240 2013-01-01      1    25     59       1\n",
            "438241 2013-01-02      1    25     26       0\n",
            "438242 2013-01-03      1    25     42       0\n",
            "438243 2013-01-04      1    25     35       0\n",
            "438244 2013-01-05      1    25     45       0\n",
            "...           ...    ...   ...    ...     ...\n",
            "440061 2017-12-27      1    25     65       0\n",
            "440062 2017-12-28      1    25     63       0\n",
            "440063 2017-12-29      1    25     58       0\n",
            "440064 2017-12-30      1    25     70       0\n",
            "440065 2017-12-31      1    25     82       0\n",
            "\n",
            "[1826 rows x 5 columns]\n"
          ]
        },
        {
          "output_type": "stream",
          "name": "stderr",
          "text": [
            "/usr/local/lib/python3.10/dist-packages/statsmodels/tsa/base/tsa_model.py:836: ValueWarning: No supported index is available. Prediction results will be given with an integer index beginning at `start`.\n",
            "  return get_prediction_index(\n",
            "/usr/local/lib/python3.10/dist-packages/statsmodels/tsa/base/tsa_model.py:836: FutureWarning: No supported index is available. In the next version, calling this method in a model without a supported index will result in an exception.\n",
            "  return get_prediction_index(\n"
          ]
        },
        {
          "output_type": "stream",
          "name": "stdout",
          "text": [
            "Finished training model...\n",
            "Predicting for store 2 and item 25\n",
            "             date  store  item  sales  is_hol\n",
            "440066 2013-01-01      2    25     42       1\n",
            "440067 2013-01-02      2    25     57       0\n",
            "440068 2013-01-03      2    25     63       0\n",
            "440069 2013-01-04      2    25     56       0\n",
            "440070 2013-01-05      2    25     61       0\n",
            "...           ...    ...   ...    ...     ...\n",
            "441887 2017-12-27      2    25    101       0\n",
            "441888 2017-12-28      2    25     87       0\n",
            "441889 2017-12-29      2    25     88       0\n",
            "441890 2017-12-30      2    25    105       0\n",
            "441891 2017-12-31      2    25    128       0\n",
            "\n",
            "[1826 rows x 5 columns]\n"
          ]
        },
        {
          "output_type": "stream",
          "name": "stderr",
          "text": [
            "/usr/local/lib/python3.10/dist-packages/statsmodels/tsa/base/tsa_model.py:836: ValueWarning: No supported index is available. Prediction results will be given with an integer index beginning at `start`.\n",
            "  return get_prediction_index(\n",
            "/usr/local/lib/python3.10/dist-packages/statsmodels/tsa/base/tsa_model.py:836: FutureWarning: No supported index is available. In the next version, calling this method in a model without a supported index will result in an exception.\n",
            "  return get_prediction_index(\n"
          ]
        },
        {
          "output_type": "stream",
          "name": "stdout",
          "text": [
            "Finished training model...\n",
            "Predicting for store 3 and item 25\n",
            "             date  store  item  sales  is_hol\n",
            "441892 2013-01-01      3    25     62       1\n",
            "441893 2013-01-02      3    25     56       0\n",
            "441894 2013-01-03      3    25     44       0\n",
            "441895 2013-01-04      3    25     54       0\n",
            "441896 2013-01-05      3    25     64       0\n",
            "...           ...    ...   ...    ...     ...\n",
            "443713 2017-12-27      3    25     78       0\n",
            "443714 2017-12-28      3    25     64       0\n",
            "443715 2017-12-29      3    25     72       0\n",
            "443716 2017-12-30      3    25     94       0\n",
            "443717 2017-12-31      3    25     87       0\n",
            "\n",
            "[1826 rows x 5 columns]\n"
          ]
        },
        {
          "output_type": "stream",
          "name": "stderr",
          "text": [
            "/usr/local/lib/python3.10/dist-packages/statsmodels/tsa/base/tsa_model.py:836: ValueWarning: No supported index is available. Prediction results will be given with an integer index beginning at `start`.\n",
            "  return get_prediction_index(\n",
            "/usr/local/lib/python3.10/dist-packages/statsmodels/tsa/base/tsa_model.py:836: FutureWarning: No supported index is available. In the next version, calling this method in a model without a supported index will result in an exception.\n",
            "  return get_prediction_index(\n"
          ]
        },
        {
          "output_type": "stream",
          "name": "stdout",
          "text": [
            "Finished training model...\n",
            "Predicting for store 4 and item 25\n",
            "             date  store  item  sales  is_hol\n",
            "443718 2013-01-01      4    25     56       1\n",
            "443719 2013-01-02      4    25     45       0\n",
            "443720 2013-01-03      4    25     41       0\n",
            "443721 2013-01-04      4    25     47       0\n",
            "443722 2013-01-05      4    25     52       0\n",
            "...           ...    ...   ...    ...     ...\n",
            "445539 2017-12-27      4    25     63       0\n",
            "445540 2017-12-28      4    25     72       0\n",
            "445541 2017-12-29      4    25     83       0\n",
            "445542 2017-12-30      4    25     77       0\n",
            "445543 2017-12-31      4    25    111       0\n",
            "\n",
            "[1826 rows x 5 columns]\n"
          ]
        },
        {
          "output_type": "stream",
          "name": "stderr",
          "text": [
            "/usr/local/lib/python3.10/dist-packages/statsmodels/tsa/base/tsa_model.py:836: ValueWarning: No supported index is available. Prediction results will be given with an integer index beginning at `start`.\n",
            "  return get_prediction_index(\n",
            "/usr/local/lib/python3.10/dist-packages/statsmodels/tsa/base/tsa_model.py:836: FutureWarning: No supported index is available. In the next version, calling this method in a model without a supported index will result in an exception.\n",
            "  return get_prediction_index(\n"
          ]
        },
        {
          "output_type": "stream",
          "name": "stdout",
          "text": [
            "Finished training model...\n",
            "Predicting for store 5 and item 25\n",
            "             date  store  item  sales  is_hol\n",
            "445544 2013-01-01      5    25     37       1\n",
            "445545 2013-01-02      5    25     39       0\n",
            "445546 2013-01-03      5    25     40       0\n",
            "445547 2013-01-04      5    25     38       0\n",
            "445548 2013-01-05      5    25     32       0\n",
            "...           ...    ...   ...    ...     ...\n",
            "447365 2017-12-27      5    25     44       0\n",
            "447366 2017-12-28      5    25     37       0\n",
            "447367 2017-12-29      5    25     62       0\n",
            "447368 2017-12-30      5    25     64       0\n",
            "447369 2017-12-31      5    25     59       0\n",
            "\n",
            "[1826 rows x 5 columns]\n"
          ]
        },
        {
          "output_type": "stream",
          "name": "stderr",
          "text": [
            "/usr/local/lib/python3.10/dist-packages/statsmodels/tsa/base/tsa_model.py:836: ValueWarning: No supported index is available. Prediction results will be given with an integer index beginning at `start`.\n",
            "  return get_prediction_index(\n",
            "/usr/local/lib/python3.10/dist-packages/statsmodels/tsa/base/tsa_model.py:836: FutureWarning: No supported index is available. In the next version, calling this method in a model without a supported index will result in an exception.\n",
            "  return get_prediction_index(\n"
          ]
        },
        {
          "output_type": "stream",
          "name": "stdout",
          "text": [
            "Finished training model...\n",
            "Predicting for store 6 and item 25\n",
            "             date  store  item  sales  is_hol\n",
            "447370 2013-01-01      6    25     27       1\n",
            "447371 2013-01-02      6    25     38       0\n",
            "447372 2013-01-03      6    25     44       0\n",
            "447373 2013-01-04      6    25     36       0\n",
            "447374 2013-01-05      6    25     32       0\n",
            "...           ...    ...   ...    ...     ...\n",
            "449191 2017-12-27      6    25     52       0\n",
            "449192 2017-12-28      6    25     59       0\n",
            "449193 2017-12-29      6    25     53       0\n",
            "449194 2017-12-30      6    25     48       0\n",
            "449195 2017-12-31      6    25     71       0\n",
            "\n",
            "[1826 rows x 5 columns]\n"
          ]
        },
        {
          "output_type": "stream",
          "name": "stderr",
          "text": [
            "/usr/local/lib/python3.10/dist-packages/statsmodels/tsa/base/tsa_model.py:836: ValueWarning: No supported index is available. Prediction results will be given with an integer index beginning at `start`.\n",
            "  return get_prediction_index(\n",
            "/usr/local/lib/python3.10/dist-packages/statsmodels/tsa/base/tsa_model.py:836: FutureWarning: No supported index is available. In the next version, calling this method in a model without a supported index will result in an exception.\n",
            "  return get_prediction_index(\n"
          ]
        },
        {
          "output_type": "stream",
          "name": "stdout",
          "text": [
            "Finished training model...\n",
            "Predicting for store 7 and item 25\n",
            "             date  store  item  sales  is_hol\n",
            "449196 2013-01-01      7    25     24       1\n",
            "449197 2013-01-02      7    25     26       0\n",
            "449198 2013-01-03      7    25     34       0\n",
            "449199 2013-01-04      7    25     39       0\n",
            "449200 2013-01-05      7    25     40       0\n",
            "...           ...    ...   ...    ...     ...\n",
            "451017 2017-12-27      7    25     41       0\n",
            "451018 2017-12-28      7    25     52       0\n",
            "451019 2017-12-29      7    25     49       0\n",
            "451020 2017-12-30      7    25     46       0\n",
            "451021 2017-12-31      7    25     66       0\n",
            "\n",
            "[1826 rows x 5 columns]\n"
          ]
        },
        {
          "output_type": "stream",
          "name": "stderr",
          "text": [
            "/usr/local/lib/python3.10/dist-packages/statsmodels/tsa/base/tsa_model.py:836: ValueWarning: No supported index is available. Prediction results will be given with an integer index beginning at `start`.\n",
            "  return get_prediction_index(\n",
            "/usr/local/lib/python3.10/dist-packages/statsmodels/tsa/base/tsa_model.py:836: FutureWarning: No supported index is available. In the next version, calling this method in a model without a supported index will result in an exception.\n",
            "  return get_prediction_index(\n"
          ]
        },
        {
          "output_type": "stream",
          "name": "stdout",
          "text": [
            "Finished training model...\n",
            "Predicting for store 8 and item 25\n",
            "             date  store  item  sales  is_hol\n",
            "451022 2013-01-01      8    25     47       1\n",
            "451023 2013-01-02      8    25     53       0\n",
            "451024 2013-01-03      8    25     63       0\n",
            "451025 2013-01-04      8    25     51       0\n",
            "451026 2013-01-05      8    25     73       0\n",
            "...           ...    ...   ...    ...     ...\n",
            "452843 2017-12-27      8    25     94       0\n",
            "452844 2017-12-28      8    25     92       0\n",
            "452845 2017-12-29      8    25     87       0\n",
            "452846 2017-12-30      8    25    104       0\n",
            "452847 2017-12-31      8    25    104       0\n",
            "\n",
            "[1826 rows x 5 columns]\n"
          ]
        },
        {
          "output_type": "stream",
          "name": "stderr",
          "text": [
            "/usr/local/lib/python3.10/dist-packages/statsmodels/tsa/base/tsa_model.py:836: ValueWarning: No supported index is available. Prediction results will be given with an integer index beginning at `start`.\n",
            "  return get_prediction_index(\n",
            "/usr/local/lib/python3.10/dist-packages/statsmodels/tsa/base/tsa_model.py:836: FutureWarning: No supported index is available. In the next version, calling this method in a model without a supported index will result in an exception.\n",
            "  return get_prediction_index(\n"
          ]
        },
        {
          "output_type": "stream",
          "name": "stdout",
          "text": [
            "Finished training model...\n",
            "Predicting for store 9 and item 25\n",
            "             date  store  item  sales  is_hol\n",
            "452848 2013-01-01      9    25     45       1\n",
            "452849 2013-01-02      9    25     48       0\n",
            "452850 2013-01-03      9    25     50       0\n",
            "452851 2013-01-04      9    25     38       0\n",
            "452852 2013-01-05      9    25     61       0\n",
            "...           ...    ...   ...    ...     ...\n",
            "454669 2017-12-27      9    25     62       0\n",
            "454670 2017-12-28      9    25     82       0\n",
            "454671 2017-12-29      9    25     73       0\n",
            "454672 2017-12-30      9    25     86       0\n",
            "454673 2017-12-31      9    25     93       0\n",
            "\n",
            "[1826 rows x 5 columns]\n"
          ]
        },
        {
          "output_type": "stream",
          "name": "stderr",
          "text": [
            "/usr/local/lib/python3.10/dist-packages/statsmodels/tsa/base/tsa_model.py:836: ValueWarning: No supported index is available. Prediction results will be given with an integer index beginning at `start`.\n",
            "  return get_prediction_index(\n",
            "/usr/local/lib/python3.10/dist-packages/statsmodels/tsa/base/tsa_model.py:836: FutureWarning: No supported index is available. In the next version, calling this method in a model without a supported index will result in an exception.\n",
            "  return get_prediction_index(\n"
          ]
        },
        {
          "output_type": "stream",
          "name": "stdout",
          "text": [
            "Finished training model...\n",
            "Predicting for store 10 and item 25\n",
            "             date  store  item  sales  is_hol\n",
            "454674 2013-01-01     10    25     48       1\n",
            "454675 2013-01-02     10    25     44       0\n",
            "454676 2013-01-03     10    25     60       0\n",
            "454677 2013-01-04     10    25     56       0\n",
            "454678 2013-01-05     10    25     50       0\n",
            "...           ...    ...   ...    ...     ...\n",
            "456495 2017-12-27     10    25     65       0\n",
            "456496 2017-12-28     10    25     72       0\n",
            "456497 2017-12-29     10    25     93       0\n",
            "456498 2017-12-30     10    25     73       0\n",
            "456499 2017-12-31     10    25     97       0\n",
            "\n",
            "[1826 rows x 5 columns]\n"
          ]
        },
        {
          "output_type": "stream",
          "name": "stderr",
          "text": [
            "/usr/local/lib/python3.10/dist-packages/statsmodels/tsa/base/tsa_model.py:836: ValueWarning: No supported index is available. Prediction results will be given with an integer index beginning at `start`.\n",
            "  return get_prediction_index(\n",
            "/usr/local/lib/python3.10/dist-packages/statsmodels/tsa/base/tsa_model.py:836: FutureWarning: No supported index is available. In the next version, calling this method in a model without a supported index will result in an exception.\n",
            "  return get_prediction_index(\n"
          ]
        },
        {
          "output_type": "stream",
          "name": "stdout",
          "text": [
            "Finished training model...\n",
            "Predicting for store 1 and item 26\n",
            "             date  store  item  sales  is_hol\n",
            "456500 2013-01-01      1    26     16       1\n",
            "456501 2013-01-02      1    26     26       0\n",
            "456502 2013-01-03      1    26     31       0\n",
            "456503 2013-01-04      1    26     25       0\n",
            "456504 2013-01-05      1    26     27       0\n",
            "...           ...    ...   ...    ...     ...\n",
            "458321 2017-12-27      1    26     42       0\n",
            "458322 2017-12-28      1    26     52       0\n",
            "458323 2017-12-29      1    26     33       0\n",
            "458324 2017-12-30      1    26     49       0\n",
            "458325 2017-12-31      1    26     54       0\n",
            "\n",
            "[1826 rows x 5 columns]\n"
          ]
        },
        {
          "output_type": "stream",
          "name": "stderr",
          "text": [
            "/usr/local/lib/python3.10/dist-packages/statsmodels/tsa/base/tsa_model.py:836: ValueWarning: No supported index is available. Prediction results will be given with an integer index beginning at `start`.\n",
            "  return get_prediction_index(\n",
            "/usr/local/lib/python3.10/dist-packages/statsmodels/tsa/base/tsa_model.py:836: FutureWarning: No supported index is available. In the next version, calling this method in a model without a supported index will result in an exception.\n",
            "  return get_prediction_index(\n"
          ]
        },
        {
          "output_type": "stream",
          "name": "stdout",
          "text": [
            "Finished training model...\n",
            "Predicting for store 2 and item 26\n",
            "             date  store  item  sales  is_hol\n",
            "458326 2013-01-01      2    26     35       1\n",
            "458327 2013-01-02      2    26     32       0\n",
            "458328 2013-01-03      2    26     44       0\n",
            "458329 2013-01-04      2    26     33       0\n",
            "458330 2013-01-05      2    26     43       0\n",
            "...           ...    ...   ...    ...     ...\n",
            "460147 2017-12-27      2    26     48       0\n",
            "460148 2017-12-28      2    26     46       0\n",
            "460149 2017-12-29      2    26     72       0\n",
            "460150 2017-12-30      2    26     56       0\n",
            "460151 2017-12-31      2    26     66       0\n",
            "\n",
            "[1826 rows x 5 columns]\n"
          ]
        },
        {
          "output_type": "stream",
          "name": "stderr",
          "text": [
            "/usr/local/lib/python3.10/dist-packages/statsmodels/tsa/base/tsa_model.py:836: ValueWarning: No supported index is available. Prediction results will be given with an integer index beginning at `start`.\n",
            "  return get_prediction_index(\n",
            "/usr/local/lib/python3.10/dist-packages/statsmodels/tsa/base/tsa_model.py:836: FutureWarning: No supported index is available. In the next version, calling this method in a model without a supported index will result in an exception.\n",
            "  return get_prediction_index(\n"
          ]
        },
        {
          "output_type": "stream",
          "name": "stdout",
          "text": [
            "Finished training model...\n",
            "Predicting for store 3 and item 26\n",
            "             date  store  item  sales  is_hol\n",
            "460152 2013-01-01      3    26     19       1\n",
            "460153 2013-01-02      3    26     26       0\n",
            "460154 2013-01-03      3    26     30       0\n",
            "460155 2013-01-04      3    26     29       0\n",
            "460156 2013-01-05      3    26     30       0\n",
            "...           ...    ...   ...    ...     ...\n",
            "461973 2017-12-27      3    26     41       0\n",
            "461974 2017-12-28      3    26     47       0\n",
            "461975 2017-12-29      3    26     44       0\n",
            "461976 2017-12-30      3    26     51       0\n",
            "461977 2017-12-31      3    26     49       0\n",
            "\n",
            "[1826 rows x 5 columns]\n"
          ]
        },
        {
          "output_type": "stream",
          "name": "stderr",
          "text": [
            "/usr/local/lib/python3.10/dist-packages/statsmodels/tsa/base/tsa_model.py:836: ValueWarning: No supported index is available. Prediction results will be given with an integer index beginning at `start`.\n",
            "  return get_prediction_index(\n",
            "/usr/local/lib/python3.10/dist-packages/statsmodels/tsa/base/tsa_model.py:836: FutureWarning: No supported index is available. In the next version, calling this method in a model without a supported index will result in an exception.\n",
            "  return get_prediction_index(\n"
          ]
        },
        {
          "output_type": "stream",
          "name": "stdout",
          "text": [
            "Finished training model...\n",
            "Predicting for store 4 and item 26\n",
            "             date  store  item  sales  is_hol\n",
            "461978 2013-01-01      4    26     22       1\n",
            "461979 2013-01-02      4    26     31       0\n",
            "461980 2013-01-03      4    26     24       0\n",
            "461981 2013-01-04      4    26     32       0\n",
            "461982 2013-01-05      4    26     30       0\n",
            "...           ...    ...   ...    ...     ...\n",
            "463799 2017-12-27      4    26     48       0\n",
            "463800 2017-12-28      4    26     35       0\n",
            "463801 2017-12-29      4    26     44       0\n",
            "463802 2017-12-30      4    26     37       0\n",
            "463803 2017-12-31      4    26     45       0\n",
            "\n",
            "[1826 rows x 5 columns]\n"
          ]
        },
        {
          "output_type": "stream",
          "name": "stderr",
          "text": [
            "/usr/local/lib/python3.10/dist-packages/statsmodels/tsa/base/tsa_model.py:836: ValueWarning: No supported index is available. Prediction results will be given with an integer index beginning at `start`.\n",
            "  return get_prediction_index(\n",
            "/usr/local/lib/python3.10/dist-packages/statsmodels/tsa/base/tsa_model.py:836: FutureWarning: No supported index is available. In the next version, calling this method in a model without a supported index will result in an exception.\n",
            "  return get_prediction_index(\n"
          ]
        },
        {
          "output_type": "stream",
          "name": "stdout",
          "text": [
            "Finished training model...\n",
            "Predicting for store 5 and item 26\n",
            "             date  store  item  sales  is_hol\n",
            "463804 2013-01-01      5    26     19       1\n",
            "463805 2013-01-02      5    26     17       0\n",
            "463806 2013-01-03      5    26     26       0\n",
            "463807 2013-01-04      5    26     19       0\n",
            "463808 2013-01-05      5    26     19       0\n",
            "...           ...    ...   ...    ...     ...\n",
            "465625 2017-12-27      5    26     32       0\n",
            "465626 2017-12-28      5    26     22       0\n",
            "465627 2017-12-29      5    26     21       0\n",
            "465628 2017-12-30      5    26     25       0\n",
            "465629 2017-12-31      5    26     43       0\n",
            "\n",
            "[1826 rows x 5 columns]\n"
          ]
        },
        {
          "output_type": "stream",
          "name": "stderr",
          "text": [
            "/usr/local/lib/python3.10/dist-packages/statsmodels/tsa/base/tsa_model.py:836: ValueWarning: No supported index is available. Prediction results will be given with an integer index beginning at `start`.\n",
            "  return get_prediction_index(\n",
            "/usr/local/lib/python3.10/dist-packages/statsmodels/tsa/base/tsa_model.py:836: FutureWarning: No supported index is available. In the next version, calling this method in a model without a supported index will result in an exception.\n",
            "  return get_prediction_index(\n"
          ]
        },
        {
          "output_type": "stream",
          "name": "stdout",
          "text": [
            "Finished training model...\n",
            "Predicting for store 6 and item 26\n",
            "             date  store  item  sales  is_hol\n",
            "465630 2013-01-01      6    26     11       1\n",
            "465631 2013-01-02      6    26     22       0\n",
            "465632 2013-01-03      6    26     24       0\n",
            "465633 2013-01-04      6    26     38       0\n",
            "465634 2013-01-05      6    26     28       0\n",
            "...           ...    ...   ...    ...     ...\n",
            "467451 2017-12-27      6    26     33       0\n",
            "467452 2017-12-28      6    26     32       0\n",
            "467453 2017-12-29      6    26     26       0\n",
            "467454 2017-12-30      6    26     38       0\n",
            "467455 2017-12-31      6    26     44       0\n",
            "\n",
            "[1826 rows x 5 columns]\n"
          ]
        },
        {
          "output_type": "stream",
          "name": "stderr",
          "text": [
            "/usr/local/lib/python3.10/dist-packages/statsmodels/tsa/base/tsa_model.py:836: ValueWarning: No supported index is available. Prediction results will be given with an integer index beginning at `start`.\n",
            "  return get_prediction_index(\n",
            "/usr/local/lib/python3.10/dist-packages/statsmodels/tsa/base/tsa_model.py:836: FutureWarning: No supported index is available. In the next version, calling this method in a model without a supported index will result in an exception.\n",
            "  return get_prediction_index(\n"
          ]
        },
        {
          "output_type": "stream",
          "name": "stdout",
          "text": [
            "Finished training model...\n",
            "Predicting for store 7 and item 26\n",
            "             date  store  item  sales  is_hol\n",
            "467456 2013-01-01      7    26     18       1\n",
            "467457 2013-01-02      7    26     25       0\n",
            "467458 2013-01-03      7    26     16       0\n",
            "467459 2013-01-04      7    26     14       0\n",
            "467460 2013-01-05      7    26     22       0\n",
            "...           ...    ...   ...    ...     ...\n",
            "469277 2017-12-27      7    26     27       0\n",
            "469278 2017-12-28      7    26     28       0\n",
            "469279 2017-12-29      7    26     25       0\n",
            "469280 2017-12-30      7    26     32       0\n",
            "469281 2017-12-31      7    26     31       0\n",
            "\n",
            "[1826 rows x 5 columns]\n"
          ]
        },
        {
          "output_type": "stream",
          "name": "stderr",
          "text": [
            "/usr/local/lib/python3.10/dist-packages/statsmodels/tsa/base/tsa_model.py:836: ValueWarning: No supported index is available. Prediction results will be given with an integer index beginning at `start`.\n",
            "  return get_prediction_index(\n",
            "/usr/local/lib/python3.10/dist-packages/statsmodels/tsa/base/tsa_model.py:836: FutureWarning: No supported index is available. In the next version, calling this method in a model without a supported index will result in an exception.\n",
            "  return get_prediction_index(\n"
          ]
        },
        {
          "output_type": "stream",
          "name": "stdout",
          "text": [
            "Finished training model...\n",
            "Predicting for store 8 and item 26\n",
            "             date  store  item  sales  is_hol\n",
            "469282 2013-01-01      8    26     34       1\n",
            "469283 2013-01-02      8    26     30       0\n",
            "469284 2013-01-03      8    26     37       0\n",
            "469285 2013-01-04      8    26     44       0\n",
            "469286 2013-01-05      8    26     39       0\n",
            "...           ...    ...   ...    ...     ...\n",
            "471103 2017-12-27      8    26     43       0\n",
            "471104 2017-12-28      8    26     46       0\n",
            "471105 2017-12-29      8    26     58       0\n",
            "471106 2017-12-30      8    26     46       0\n",
            "471107 2017-12-31      8    26     55       0\n",
            "\n",
            "[1826 rows x 5 columns]\n"
          ]
        },
        {
          "output_type": "stream",
          "name": "stderr",
          "text": [
            "/usr/local/lib/python3.10/dist-packages/statsmodels/tsa/base/tsa_model.py:836: ValueWarning: No supported index is available. Prediction results will be given with an integer index beginning at `start`.\n",
            "  return get_prediction_index(\n",
            "/usr/local/lib/python3.10/dist-packages/statsmodels/tsa/base/tsa_model.py:836: FutureWarning: No supported index is available. In the next version, calling this method in a model without a supported index will result in an exception.\n",
            "  return get_prediction_index(\n"
          ]
        },
        {
          "output_type": "stream",
          "name": "stdout",
          "text": [
            "Finished training model...\n",
            "Predicting for store 9 and item 26\n",
            "             date  store  item  sales  is_hol\n",
            "471108 2013-01-01      9    26     15       1\n",
            "471109 2013-01-02      9    26     28       0\n",
            "471110 2013-01-03      9    26     34       0\n",
            "471111 2013-01-04      9    26     28       0\n",
            "471112 2013-01-05      9    26     34       0\n",
            "...           ...    ...   ...    ...     ...\n",
            "472929 2017-12-27      9    26     36       0\n",
            "472930 2017-12-28      9    26     47       0\n",
            "472931 2017-12-29      9    26     38       0\n",
            "472932 2017-12-30      9    26     37       0\n",
            "472933 2017-12-31      9    26     54       0\n",
            "\n",
            "[1826 rows x 5 columns]\n"
          ]
        },
        {
          "output_type": "stream",
          "name": "stderr",
          "text": [
            "/usr/local/lib/python3.10/dist-packages/statsmodels/tsa/base/tsa_model.py:836: ValueWarning: No supported index is available. Prediction results will be given with an integer index beginning at `start`.\n",
            "  return get_prediction_index(\n",
            "/usr/local/lib/python3.10/dist-packages/statsmodels/tsa/base/tsa_model.py:836: FutureWarning: No supported index is available. In the next version, calling this method in a model without a supported index will result in an exception.\n",
            "  return get_prediction_index(\n"
          ]
        },
        {
          "output_type": "stream",
          "name": "stdout",
          "text": [
            "Finished training model...\n",
            "Predicting for store 10 and item 26\n",
            "             date  store  item  sales  is_hol\n",
            "472934 2013-01-01     10    26     22       1\n",
            "472935 2013-01-02     10    26     23       0\n",
            "472936 2013-01-03     10    26     30       0\n",
            "472937 2013-01-04     10    26     41       0\n",
            "472938 2013-01-05     10    26     26       0\n",
            "...           ...    ...   ...    ...     ...\n",
            "474755 2017-12-27     10    26     45       0\n",
            "474756 2017-12-28     10    26     42       0\n",
            "474757 2017-12-29     10    26     51       0\n",
            "474758 2017-12-30     10    26     49       0\n",
            "474759 2017-12-31     10    26     53       0\n",
            "\n",
            "[1826 rows x 5 columns]\n"
          ]
        },
        {
          "output_type": "stream",
          "name": "stderr",
          "text": [
            "/usr/local/lib/python3.10/dist-packages/statsmodels/tsa/base/tsa_model.py:836: ValueWarning: No supported index is available. Prediction results will be given with an integer index beginning at `start`.\n",
            "  return get_prediction_index(\n",
            "/usr/local/lib/python3.10/dist-packages/statsmodels/tsa/base/tsa_model.py:836: FutureWarning: No supported index is available. In the next version, calling this method in a model without a supported index will result in an exception.\n",
            "  return get_prediction_index(\n"
          ]
        },
        {
          "output_type": "stream",
          "name": "stdout",
          "text": [
            "Finished training model...\n",
            "Predicting for store 1 and item 27\n",
            "             date  store  item  sales  is_hol\n",
            "474760 2013-01-01      1    27     14       1\n",
            "474761 2013-01-02      1    27     10       0\n",
            "474762 2013-01-03      1    27     12       0\n",
            "474763 2013-01-04      1    27     18       0\n",
            "474764 2013-01-05      1    27     13       0\n",
            "...           ...    ...   ...    ...     ...\n",
            "476581 2017-12-27      1    27     18       0\n",
            "476582 2017-12-28      1    27     18       0\n",
            "476583 2017-12-29      1    27     16       0\n",
            "476584 2017-12-30      1    27     22       0\n",
            "476585 2017-12-31      1    27     22       0\n",
            "\n",
            "[1826 rows x 5 columns]\n"
          ]
        },
        {
          "output_type": "stream",
          "name": "stderr",
          "text": [
            "/usr/local/lib/python3.10/dist-packages/statsmodels/tsa/base/tsa_model.py:836: ValueWarning: No supported index is available. Prediction results will be given with an integer index beginning at `start`.\n",
            "  return get_prediction_index(\n",
            "/usr/local/lib/python3.10/dist-packages/statsmodels/tsa/base/tsa_model.py:836: FutureWarning: No supported index is available. In the next version, calling this method in a model without a supported index will result in an exception.\n",
            "  return get_prediction_index(\n"
          ]
        },
        {
          "output_type": "stream",
          "name": "stdout",
          "text": [
            "Finished training model...\n",
            "Predicting for store 2 and item 27\n",
            "             date  store  item  sales  is_hol\n",
            "476586 2013-01-01      2    27     17       1\n",
            "476587 2013-01-02      2    27     24       0\n",
            "476588 2013-01-03      2    27     20       0\n",
            "476589 2013-01-04      2    27     14       0\n",
            "476590 2013-01-05      2    27     16       0\n",
            "...           ...    ...   ...    ...     ...\n",
            "478407 2017-12-27      2    27     18       0\n",
            "478408 2017-12-28      2    27     25       0\n",
            "478409 2017-12-29      2    27     22       0\n",
            "478410 2017-12-30      2    27     31       0\n",
            "478411 2017-12-31      2    27     30       0\n",
            "\n",
            "[1826 rows x 5 columns]\n"
          ]
        },
        {
          "output_type": "stream",
          "name": "stderr",
          "text": [
            "/usr/local/lib/python3.10/dist-packages/statsmodels/tsa/base/tsa_model.py:836: ValueWarning: No supported index is available. Prediction results will be given with an integer index beginning at `start`.\n",
            "  return get_prediction_index(\n",
            "/usr/local/lib/python3.10/dist-packages/statsmodels/tsa/base/tsa_model.py:836: FutureWarning: No supported index is available. In the next version, calling this method in a model without a supported index will result in an exception.\n",
            "  return get_prediction_index(\n"
          ]
        },
        {
          "output_type": "stream",
          "name": "stdout",
          "text": [
            "Finished training model...\n",
            "Predicting for store 3 and item 27\n",
            "             date  store  item  sales  is_hol\n",
            "478412 2013-01-01      3    27     11       1\n",
            "478413 2013-01-02      3    27     17       0\n",
            "478414 2013-01-03      3    27     14       0\n",
            "478415 2013-01-04      3    27     16       0\n",
            "478416 2013-01-05      3    27     11       0\n",
            "...           ...    ...   ...    ...     ...\n",
            "480233 2017-12-27      3    27     27       0\n",
            "480234 2017-12-28      3    27     18       0\n",
            "480235 2017-12-29      3    27     22       0\n",
            "480236 2017-12-30      3    27     26       0\n",
            "480237 2017-12-31      3    27     32       0\n",
            "\n",
            "[1826 rows x 5 columns]\n"
          ]
        },
        {
          "output_type": "stream",
          "name": "stderr",
          "text": [
            "/usr/local/lib/python3.10/dist-packages/statsmodels/tsa/base/tsa_model.py:836: ValueWarning: No supported index is available. Prediction results will be given with an integer index beginning at `start`.\n",
            "  return get_prediction_index(\n",
            "/usr/local/lib/python3.10/dist-packages/statsmodels/tsa/base/tsa_model.py:836: FutureWarning: No supported index is available. In the next version, calling this method in a model without a supported index will result in an exception.\n",
            "  return get_prediction_index(\n"
          ]
        },
        {
          "output_type": "stream",
          "name": "stdout",
          "text": [
            "Finished training model...\n",
            "Predicting for store 4 and item 27\n",
            "             date  store  item  sales  is_hol\n",
            "480238 2013-01-01      4    27     17       1\n",
            "480239 2013-01-02      4    27     13       0\n",
            "480240 2013-01-03      4    27     11       0\n",
            "480241 2013-01-04      4    27     13       0\n",
            "480242 2013-01-05      4    27     16       0\n",
            "...           ...    ...   ...    ...     ...\n",
            "482059 2017-12-27      4    27     15       0\n",
            "482060 2017-12-28      4    27     16       0\n",
            "482061 2017-12-29      4    27     24       0\n",
            "482062 2017-12-30      4    27     22       0\n",
            "482063 2017-12-31      4    27     27       0\n",
            "\n",
            "[1826 rows x 5 columns]\n"
          ]
        },
        {
          "output_type": "stream",
          "name": "stderr",
          "text": [
            "/usr/local/lib/python3.10/dist-packages/statsmodels/tsa/base/tsa_model.py:836: ValueWarning: No supported index is available. Prediction results will be given with an integer index beginning at `start`.\n",
            "  return get_prediction_index(\n",
            "/usr/local/lib/python3.10/dist-packages/statsmodels/tsa/base/tsa_model.py:836: FutureWarning: No supported index is available. In the next version, calling this method in a model without a supported index will result in an exception.\n",
            "  return get_prediction_index(\n"
          ]
        },
        {
          "output_type": "stream",
          "name": "stdout",
          "text": [
            "Finished training model...\n",
            "Predicting for store 5 and item 27\n",
            "             date  store  item  sales  is_hol\n",
            "482064 2013-01-01      5    27      5       1\n",
            "482065 2013-01-02      5    27     11       0\n",
            "482066 2013-01-03      5    27      5       0\n",
            "482067 2013-01-04      5    27      9       0\n",
            "482068 2013-01-05      5    27     10       0\n",
            "...           ...    ...   ...    ...     ...\n",
            "483885 2017-12-27      5    27     11       0\n",
            "483886 2017-12-28      5    27     17       0\n",
            "483887 2017-12-29      5    27     12       0\n",
            "483888 2017-12-30      5    27     16       0\n",
            "483889 2017-12-31      5    27     17       0\n",
            "\n",
            "[1826 rows x 5 columns]\n"
          ]
        },
        {
          "output_type": "stream",
          "name": "stderr",
          "text": [
            "/usr/local/lib/python3.10/dist-packages/statsmodels/tsa/base/tsa_model.py:836: ValueWarning: No supported index is available. Prediction results will be given with an integer index beginning at `start`.\n",
            "  return get_prediction_index(\n",
            "/usr/local/lib/python3.10/dist-packages/statsmodels/tsa/base/tsa_model.py:836: FutureWarning: No supported index is available. In the next version, calling this method in a model without a supported index will result in an exception.\n",
            "  return get_prediction_index(\n"
          ]
        },
        {
          "output_type": "stream",
          "name": "stdout",
          "text": [
            "Finished training model...\n",
            "Predicting for store 6 and item 27\n",
            "             date  store  item  sales  is_hol\n",
            "483890 2013-01-01      6    27      2       1\n",
            "483891 2013-01-02      6    27      9       0\n",
            "483892 2013-01-03      6    27      8       0\n",
            "483893 2013-01-04      6    27     12       0\n",
            "483894 2013-01-05      6    27      7       0\n",
            "...           ...    ...   ...    ...     ...\n",
            "485711 2017-12-27      6    27     22       0\n",
            "485712 2017-12-28      6    27     18       0\n",
            "485713 2017-12-29      6    27     14       0\n",
            "485714 2017-12-30      6    27     13       0\n",
            "485715 2017-12-31      6    27     13       0\n",
            "\n",
            "[1826 rows x 5 columns]\n"
          ]
        },
        {
          "output_type": "stream",
          "name": "stderr",
          "text": [
            "/usr/local/lib/python3.10/dist-packages/statsmodels/tsa/base/tsa_model.py:836: ValueWarning: No supported index is available. Prediction results will be given with an integer index beginning at `start`.\n",
            "  return get_prediction_index(\n",
            "/usr/local/lib/python3.10/dist-packages/statsmodels/tsa/base/tsa_model.py:836: FutureWarning: No supported index is available. In the next version, calling this method in a model without a supported index will result in an exception.\n",
            "  return get_prediction_index(\n"
          ]
        },
        {
          "output_type": "stream",
          "name": "stdout",
          "text": [
            "Finished training model...\n",
            "Predicting for store 7 and item 27\n",
            "             date  store  item  sales  is_hol\n",
            "485716 2013-01-01      7    27      9       1\n",
            "485717 2013-01-02      7    27      4       0\n",
            "485718 2013-01-03      7    27      7       0\n",
            "485719 2013-01-04      7    27     10       0\n",
            "485720 2013-01-05      7    27      7       0\n",
            "...           ...    ...   ...    ...     ...\n",
            "487537 2017-12-27      7    27      8       0\n",
            "487538 2017-12-28      7    27     12       0\n",
            "487539 2017-12-29      7    27     10       0\n",
            "487540 2017-12-30      7    27     10       0\n",
            "487541 2017-12-31      7    27      8       0\n",
            "\n",
            "[1826 rows x 5 columns]\n"
          ]
        },
        {
          "output_type": "stream",
          "name": "stderr",
          "text": [
            "/usr/local/lib/python3.10/dist-packages/statsmodels/tsa/base/tsa_model.py:836: ValueWarning: No supported index is available. Prediction results will be given with an integer index beginning at `start`.\n",
            "  return get_prediction_index(\n",
            "/usr/local/lib/python3.10/dist-packages/statsmodels/tsa/base/tsa_model.py:836: FutureWarning: No supported index is available. In the next version, calling this method in a model without a supported index will result in an exception.\n",
            "  return get_prediction_index(\n"
          ]
        },
        {
          "output_type": "stream",
          "name": "stdout",
          "text": [
            "Finished training model...\n",
            "Predicting for store 8 and item 27\n",
            "             date  store  item  sales  is_hol\n",
            "487542 2013-01-01      8    27     19       1\n",
            "487543 2013-01-02      8    27     12       0\n",
            "487544 2013-01-03      8    27     19       0\n",
            "487545 2013-01-04      8    27      9       0\n",
            "487546 2013-01-05      8    27     14       0\n",
            "...           ...    ...   ...    ...     ...\n",
            "489363 2017-12-27      8    27     17       0\n",
            "489364 2017-12-28      8    27     19       0\n",
            "489365 2017-12-29      8    27     21       0\n",
            "489366 2017-12-30      8    27     28       0\n",
            "489367 2017-12-31      8    27     25       0\n",
            "\n",
            "[1826 rows x 5 columns]\n"
          ]
        },
        {
          "output_type": "stream",
          "name": "stderr",
          "text": [
            "/usr/local/lib/python3.10/dist-packages/statsmodels/tsa/base/tsa_model.py:836: ValueWarning: No supported index is available. Prediction results will be given with an integer index beginning at `start`.\n",
            "  return get_prediction_index(\n",
            "/usr/local/lib/python3.10/dist-packages/statsmodels/tsa/base/tsa_model.py:836: FutureWarning: No supported index is available. In the next version, calling this method in a model without a supported index will result in an exception.\n",
            "  return get_prediction_index(\n"
          ]
        },
        {
          "output_type": "stream",
          "name": "stdout",
          "text": [
            "Finished training model...\n",
            "Predicting for store 9 and item 27\n",
            "             date  store  item  sales  is_hol\n",
            "489368 2013-01-01      9    27      8       1\n",
            "489369 2013-01-02      9    27     15       0\n",
            "489370 2013-01-03      9    27     10       0\n",
            "489371 2013-01-04      9    27     20       0\n",
            "489372 2013-01-05      9    27     10       0\n",
            "...           ...    ...   ...    ...     ...\n",
            "491189 2017-12-27      9    27     17       0\n",
            "491190 2017-12-28      9    27     24       0\n",
            "491191 2017-12-29      9    27     24       0\n",
            "491192 2017-12-30      9    27     27       0\n",
            "491193 2017-12-31      9    27     19       0\n",
            "\n",
            "[1826 rows x 5 columns]\n"
          ]
        },
        {
          "output_type": "stream",
          "name": "stderr",
          "text": [
            "/usr/local/lib/python3.10/dist-packages/statsmodels/tsa/base/tsa_model.py:836: ValueWarning: No supported index is available. Prediction results will be given with an integer index beginning at `start`.\n",
            "  return get_prediction_index(\n",
            "/usr/local/lib/python3.10/dist-packages/statsmodels/tsa/base/tsa_model.py:836: FutureWarning: No supported index is available. In the next version, calling this method in a model without a supported index will result in an exception.\n",
            "  return get_prediction_index(\n"
          ]
        },
        {
          "output_type": "stream",
          "name": "stdout",
          "text": [
            "Finished training model...\n",
            "Predicting for store 10 and item 27\n",
            "             date  store  item  sales  is_hol\n",
            "491194 2013-01-01     10    27      9       1\n",
            "491195 2013-01-02     10    27     19       0\n",
            "491196 2013-01-03     10    27     14       0\n",
            "491197 2013-01-04     10    27     14       0\n",
            "491198 2013-01-05     10    27     14       0\n",
            "...           ...    ...   ...    ...     ...\n",
            "493015 2017-12-27     10    27     20       0\n",
            "493016 2017-12-28     10    27     27       0\n",
            "493017 2017-12-29     10    27     16       0\n",
            "493018 2017-12-30     10    27     28       0\n",
            "493019 2017-12-31     10    27     27       0\n",
            "\n",
            "[1826 rows x 5 columns]\n"
          ]
        },
        {
          "output_type": "stream",
          "name": "stderr",
          "text": [
            "/usr/local/lib/python3.10/dist-packages/statsmodels/tsa/base/tsa_model.py:836: ValueWarning: No supported index is available. Prediction results will be given with an integer index beginning at `start`.\n",
            "  return get_prediction_index(\n",
            "/usr/local/lib/python3.10/dist-packages/statsmodels/tsa/base/tsa_model.py:836: FutureWarning: No supported index is available. In the next version, calling this method in a model without a supported index will result in an exception.\n",
            "  return get_prediction_index(\n"
          ]
        },
        {
          "output_type": "stream",
          "name": "stdout",
          "text": [
            "Finished training model...\n",
            "Predicting for store 1 and item 28\n",
            "             date  store  item  sales  is_hol\n",
            "493020 2013-01-01      1    28     49       1\n",
            "493021 2013-01-02      1    28     39       0\n",
            "493022 2013-01-03      1    28     57       0\n",
            "493023 2013-01-04      1    28     46       0\n",
            "493024 2013-01-05      1    28     45       0\n",
            "...           ...    ...   ...    ...     ...\n",
            "494841 2017-12-27      1    28     58       0\n",
            "494842 2017-12-28      1    28     57       0\n",
            "494843 2017-12-29      1    28     60       0\n",
            "494844 2017-12-30      1    28     81       0\n",
            "494845 2017-12-31      1    28     93       0\n",
            "\n",
            "[1826 rows x 5 columns]\n"
          ]
        },
        {
          "output_type": "stream",
          "name": "stderr",
          "text": [
            "/usr/local/lib/python3.10/dist-packages/statsmodels/tsa/base/tsa_model.py:836: ValueWarning: No supported index is available. Prediction results will be given with an integer index beginning at `start`.\n",
            "  return get_prediction_index(\n",
            "/usr/local/lib/python3.10/dist-packages/statsmodels/tsa/base/tsa_model.py:836: FutureWarning: No supported index is available. In the next version, calling this method in a model without a supported index will result in an exception.\n",
            "  return get_prediction_index(\n"
          ]
        },
        {
          "output_type": "stream",
          "name": "stdout",
          "text": [
            "Finished training model...\n",
            "Predicting for store 2 and item 28\n",
            "             date  store  item  sales  is_hol\n",
            "494846 2013-01-01      2    28     45       1\n",
            "494847 2013-01-02      2    28     53       0\n",
            "494848 2013-01-03      2    28     65       0\n",
            "494849 2013-01-04      2    28     66       0\n",
            "494850 2013-01-05      2    28     97       0\n",
            "...           ...    ...   ...    ...     ...\n",
            "496667 2017-12-27      2    28     82       0\n",
            "496668 2017-12-28      2    28    114       0\n",
            "496669 2017-12-29      2    28    101       0\n",
            "496670 2017-12-30      2    28    120       0\n",
            "496671 2017-12-31      2    28    104       0\n",
            "\n",
            "[1826 rows x 5 columns]\n"
          ]
        },
        {
          "output_type": "stream",
          "name": "stderr",
          "text": [
            "/usr/local/lib/python3.10/dist-packages/statsmodels/tsa/base/tsa_model.py:836: ValueWarning: No supported index is available. Prediction results will be given with an integer index beginning at `start`.\n",
            "  return get_prediction_index(\n",
            "/usr/local/lib/python3.10/dist-packages/statsmodels/tsa/base/tsa_model.py:836: FutureWarning: No supported index is available. In the next version, calling this method in a model without a supported index will result in an exception.\n",
            "  return get_prediction_index(\n"
          ]
        },
        {
          "output_type": "stream",
          "name": "stdout",
          "text": [
            "Finished training model...\n",
            "Predicting for store 3 and item 28\n",
            "             date  store  item  sales  is_hol\n",
            "496672 2013-01-01      3    28     42       1\n",
            "496673 2013-01-02      3    28     60       0\n",
            "496674 2013-01-03      3    28     61       0\n",
            "496675 2013-01-04      3    28     61       0\n",
            "496676 2013-01-05      3    28     69       0\n",
            "...           ...    ...   ...    ...     ...\n",
            "498493 2017-12-27      3    28     64       0\n",
            "498494 2017-12-28      3    28     79       0\n",
            "498495 2017-12-29      3    28     84       0\n",
            "498496 2017-12-30      3    28     95       0\n",
            "498497 2017-12-31      3    28     92       0\n",
            "\n",
            "[1826 rows x 5 columns]\n"
          ]
        },
        {
          "output_type": "stream",
          "name": "stderr",
          "text": [
            "/usr/local/lib/python3.10/dist-packages/statsmodels/tsa/base/tsa_model.py:836: ValueWarning: No supported index is available. Prediction results will be given with an integer index beginning at `start`.\n",
            "  return get_prediction_index(\n",
            "/usr/local/lib/python3.10/dist-packages/statsmodels/tsa/base/tsa_model.py:836: FutureWarning: No supported index is available. In the next version, calling this method in a model without a supported index will result in an exception.\n",
            "  return get_prediction_index(\n"
          ]
        },
        {
          "output_type": "stream",
          "name": "stdout",
          "text": [
            "Finished training model...\n",
            "Predicting for store 4 and item 28\n",
            "             date  store  item  sales  is_hol\n",
            "498498 2013-01-01      4    28     46       1\n",
            "498499 2013-01-02      4    28     45       0\n",
            "498500 2013-01-03      4    28     45       0\n",
            "498501 2013-01-04      4    28     60       0\n",
            "498502 2013-01-05      4    28     52       0\n",
            "...           ...    ...   ...    ...     ...\n",
            "500319 2017-12-27      4    28     82       0\n",
            "500320 2017-12-28      4    28     78       0\n",
            "500321 2017-12-29      4    28     67       0\n",
            "500322 2017-12-30      4    28     89       0\n",
            "500323 2017-12-31      4    28    104       0\n",
            "\n",
            "[1826 rows x 5 columns]\n"
          ]
        },
        {
          "output_type": "stream",
          "name": "stderr",
          "text": [
            "/usr/local/lib/python3.10/dist-packages/statsmodels/tsa/base/tsa_model.py:836: ValueWarning: No supported index is available. Prediction results will be given with an integer index beginning at `start`.\n",
            "  return get_prediction_index(\n",
            "/usr/local/lib/python3.10/dist-packages/statsmodels/tsa/base/tsa_model.py:836: FutureWarning: No supported index is available. In the next version, calling this method in a model without a supported index will result in an exception.\n",
            "  return get_prediction_index(\n"
          ]
        },
        {
          "output_type": "stream",
          "name": "stdout",
          "text": [
            "Finished training model...\n",
            "Predicting for store 5 and item 28\n",
            "             date  store  item  sales  is_hol\n",
            "500324 2013-01-01      5    28     41       1\n",
            "500325 2013-01-02      5    28     42       0\n",
            "500326 2013-01-03      5    28     36       0\n",
            "500327 2013-01-04      5    28     29       0\n",
            "500328 2013-01-05      5    28     36       0\n",
            "...           ...    ...   ...    ...     ...\n",
            "502145 2017-12-27      5    28     52       0\n",
            "502146 2017-12-28      5    28     61       0\n",
            "502147 2017-12-29      5    28     69       0\n",
            "502148 2017-12-30      5    28     81       0\n",
            "502149 2017-12-31      5    28     78       0\n",
            "\n",
            "[1826 rows x 5 columns]\n"
          ]
        },
        {
          "output_type": "stream",
          "name": "stderr",
          "text": [
            "/usr/local/lib/python3.10/dist-packages/statsmodels/tsa/base/tsa_model.py:836: ValueWarning: No supported index is available. Prediction results will be given with an integer index beginning at `start`.\n",
            "  return get_prediction_index(\n",
            "/usr/local/lib/python3.10/dist-packages/statsmodels/tsa/base/tsa_model.py:836: FutureWarning: No supported index is available. In the next version, calling this method in a model without a supported index will result in an exception.\n",
            "  return get_prediction_index(\n"
          ]
        },
        {
          "output_type": "stream",
          "name": "stdout",
          "text": [
            "Finished training model...\n",
            "Predicting for store 6 and item 28\n",
            "             date  store  item  sales  is_hol\n",
            "502150 2013-01-01      6    28     44       1\n",
            "502151 2013-01-02      6    28     38       0\n",
            "502152 2013-01-03      6    28     44       0\n",
            "502153 2013-01-04      6    28     45       0\n",
            "502154 2013-01-05      6    28     33       0\n",
            "...           ...    ...   ...    ...     ...\n",
            "503971 2017-12-27      6    28     62       0\n",
            "503972 2017-12-28      6    28     60       0\n",
            "503973 2017-12-29      6    28     47       0\n",
            "503974 2017-12-30      6    28     72       0\n",
            "503975 2017-12-31      6    28     62       0\n",
            "\n",
            "[1826 rows x 5 columns]\n"
          ]
        },
        {
          "output_type": "stream",
          "name": "stderr",
          "text": [
            "/usr/local/lib/python3.10/dist-packages/statsmodels/tsa/base/tsa_model.py:836: ValueWarning: No supported index is available. Prediction results will be given with an integer index beginning at `start`.\n",
            "  return get_prediction_index(\n",
            "/usr/local/lib/python3.10/dist-packages/statsmodels/tsa/base/tsa_model.py:836: FutureWarning: No supported index is available. In the next version, calling this method in a model without a supported index will result in an exception.\n",
            "  return get_prediction_index(\n"
          ]
        },
        {
          "output_type": "stream",
          "name": "stdout",
          "text": [
            "Finished training model...\n",
            "Predicting for store 7 and item 28\n",
            "             date  store  item  sales  is_hol\n",
            "503976 2013-01-01      7    28     24       1\n",
            "503977 2013-01-02      7    28     30       0\n",
            "503978 2013-01-03      7    28     42       0\n",
            "503979 2013-01-04      7    28     35       0\n",
            "503980 2013-01-05      7    28     45       0\n",
            "...           ...    ...   ...    ...     ...\n",
            "505797 2017-12-27      7    28     45       0\n",
            "505798 2017-12-28      7    28     49       0\n",
            "505799 2017-12-29      7    28     66       0\n",
            "505800 2017-12-30      7    28     58       0\n",
            "505801 2017-12-31      7    28     59       0\n",
            "\n",
            "[1826 rows x 5 columns]\n"
          ]
        },
        {
          "output_type": "stream",
          "name": "stderr",
          "text": [
            "/usr/local/lib/python3.10/dist-packages/statsmodels/tsa/base/tsa_model.py:836: ValueWarning: No supported index is available. Prediction results will be given with an integer index beginning at `start`.\n",
            "  return get_prediction_index(\n",
            "/usr/local/lib/python3.10/dist-packages/statsmodels/tsa/base/tsa_model.py:836: FutureWarning: No supported index is available. In the next version, calling this method in a model without a supported index will result in an exception.\n",
            "  return get_prediction_index(\n"
          ]
        },
        {
          "output_type": "stream",
          "name": "stdout",
          "text": [
            "Finished training model...\n",
            "Predicting for store 8 and item 28\n",
            "             date  store  item  sales  is_hol\n",
            "505802 2013-01-01      8    28     61       1\n",
            "505803 2013-01-02      8    28     54       0\n",
            "505804 2013-01-03      8    28     65       0\n",
            "505805 2013-01-04      8    28     62       0\n",
            "505806 2013-01-05      8    28     75       0\n",
            "...           ...    ...   ...    ...     ...\n",
            "507623 2017-12-27      8    28     89       0\n",
            "507624 2017-12-28      8    28     86       0\n",
            "507625 2017-12-29      8    28     89       0\n",
            "507626 2017-12-30      8    28    115       0\n",
            "507627 2017-12-31      8    28     87       0\n",
            "\n",
            "[1826 rows x 5 columns]\n"
          ]
        },
        {
          "output_type": "stream",
          "name": "stderr",
          "text": [
            "/usr/local/lib/python3.10/dist-packages/statsmodels/tsa/base/tsa_model.py:836: ValueWarning: No supported index is available. Prediction results will be given with an integer index beginning at `start`.\n",
            "  return get_prediction_index(\n",
            "/usr/local/lib/python3.10/dist-packages/statsmodels/tsa/base/tsa_model.py:836: FutureWarning: No supported index is available. In the next version, calling this method in a model without a supported index will result in an exception.\n",
            "  return get_prediction_index(\n"
          ]
        },
        {
          "output_type": "stream",
          "name": "stdout",
          "text": [
            "Finished training model...\n",
            "Predicting for store 9 and item 28\n",
            "             date  store  item  sales  is_hol\n",
            "507628 2013-01-01      9    28     50       1\n",
            "507629 2013-01-02      9    28     55       0\n",
            "507630 2013-01-03      9    28     45       0\n",
            "507631 2013-01-04      9    28     60       0\n",
            "507632 2013-01-05      9    28     56       0\n",
            "...           ...    ...   ...    ...     ...\n",
            "509449 2017-12-27      9    28     64       0\n",
            "509450 2017-12-28      9    28     78       0\n",
            "509451 2017-12-29      9    28     95       0\n",
            "509452 2017-12-30      9    28     91       0\n",
            "509453 2017-12-31      9    28     94       0\n",
            "\n",
            "[1826 rows x 5 columns]\n"
          ]
        },
        {
          "output_type": "stream",
          "name": "stderr",
          "text": [
            "/usr/local/lib/python3.10/dist-packages/statsmodels/tsa/base/tsa_model.py:836: ValueWarning: No supported index is available. Prediction results will be given with an integer index beginning at `start`.\n",
            "  return get_prediction_index(\n",
            "/usr/local/lib/python3.10/dist-packages/statsmodels/tsa/base/tsa_model.py:836: FutureWarning: No supported index is available. In the next version, calling this method in a model without a supported index will result in an exception.\n",
            "  return get_prediction_index(\n"
          ]
        },
        {
          "output_type": "stream",
          "name": "stdout",
          "text": [
            "Finished training model...\n",
            "Predicting for store 10 and item 28\n",
            "             date  store  item  sales  is_hol\n",
            "509454 2013-01-01     10    28     54       1\n",
            "509455 2013-01-02     10    28     58       0\n",
            "509456 2013-01-03     10    28     59       0\n",
            "509457 2013-01-04     10    28     63       0\n",
            "509458 2013-01-05     10    28     67       0\n",
            "...           ...    ...   ...    ...     ...\n",
            "511275 2017-12-27     10    28     82       0\n",
            "511276 2017-12-28     10    28     81       0\n",
            "511277 2017-12-29     10    28     98       0\n",
            "511278 2017-12-30     10    28     99       0\n",
            "511279 2017-12-31     10    28     97       0\n",
            "\n",
            "[1826 rows x 5 columns]\n"
          ]
        },
        {
          "output_type": "stream",
          "name": "stderr",
          "text": [
            "/usr/local/lib/python3.10/dist-packages/statsmodels/tsa/base/tsa_model.py:836: ValueWarning: No supported index is available. Prediction results will be given with an integer index beginning at `start`.\n",
            "  return get_prediction_index(\n",
            "/usr/local/lib/python3.10/dist-packages/statsmodels/tsa/base/tsa_model.py:836: FutureWarning: No supported index is available. In the next version, calling this method in a model without a supported index will result in an exception.\n",
            "  return get_prediction_index(\n"
          ]
        },
        {
          "output_type": "stream",
          "name": "stdout",
          "text": [
            "Finished training model...\n",
            "Predicting for store 1 and item 29\n",
            "             date  store  item  sales  is_hol\n",
            "511280 2013-01-01      1    29     34       1\n",
            "511281 2013-01-02      1    29     30       0\n",
            "511282 2013-01-03      1    29     35       0\n",
            "511283 2013-01-04      1    29     46       0\n",
            "511284 2013-01-05      1    29     43       0\n",
            "...           ...    ...   ...    ...     ...\n",
            "513101 2017-12-27      1    29     53       0\n",
            "513102 2017-12-28      1    29     61       0\n",
            "513103 2017-12-29      1    29     59       0\n",
            "513104 2017-12-30      1    29     58       0\n",
            "513105 2017-12-31      1    29     51       0\n",
            "\n",
            "[1826 rows x 5 columns]\n"
          ]
        },
        {
          "output_type": "stream",
          "name": "stderr",
          "text": [
            "/usr/local/lib/python3.10/dist-packages/statsmodels/tsa/base/tsa_model.py:836: ValueWarning: No supported index is available. Prediction results will be given with an integer index beginning at `start`.\n",
            "  return get_prediction_index(\n",
            "/usr/local/lib/python3.10/dist-packages/statsmodels/tsa/base/tsa_model.py:836: FutureWarning: No supported index is available. In the next version, calling this method in a model without a supported index will result in an exception.\n",
            "  return get_prediction_index(\n"
          ]
        },
        {
          "output_type": "stream",
          "name": "stdout",
          "text": [
            "Finished training model...\n",
            "Predicting for store 2 and item 29\n",
            "             date  store  item  sales  is_hol\n",
            "513106 2013-01-01      2    29     50       1\n",
            "513107 2013-01-02      2    29     54       0\n",
            "513108 2013-01-03      2    29     57       0\n",
            "513109 2013-01-04      2    29     64       0\n",
            "513110 2013-01-05      2    29     56       0\n",
            "...           ...    ...   ...    ...     ...\n",
            "514927 2017-12-27      2    29     49       0\n",
            "514928 2017-12-28      2    29     70       0\n",
            "514929 2017-12-29      2    29     90       0\n",
            "514930 2017-12-30      2    29     87       0\n",
            "514931 2017-12-31      2    29     97       0\n",
            "\n",
            "[1826 rows x 5 columns]\n"
          ]
        },
        {
          "output_type": "stream",
          "name": "stderr",
          "text": [
            "/usr/local/lib/python3.10/dist-packages/statsmodels/tsa/base/tsa_model.py:836: ValueWarning: No supported index is available. Prediction results will be given with an integer index beginning at `start`.\n",
            "  return get_prediction_index(\n",
            "/usr/local/lib/python3.10/dist-packages/statsmodels/tsa/base/tsa_model.py:836: FutureWarning: No supported index is available. In the next version, calling this method in a model without a supported index will result in an exception.\n",
            "  return get_prediction_index(\n"
          ]
        },
        {
          "output_type": "stream",
          "name": "stdout",
          "text": [
            "Finished training model...\n",
            "Predicting for store 3 and item 29\n",
            "             date  store  item  sales  is_hol\n",
            "514932 2013-01-01      3    29     46       1\n",
            "514933 2013-01-02      3    29     39       0\n",
            "514934 2013-01-03      3    29     47       0\n",
            "514935 2013-01-04      3    29     45       0\n",
            "514936 2013-01-05      3    29     54       0\n",
            "...           ...    ...   ...    ...     ...\n",
            "516753 2017-12-27      3    29     61       0\n",
            "516754 2017-12-28      3    29     65       0\n",
            "516755 2017-12-29      3    29     71       0\n",
            "516756 2017-12-30      3    29     78       0\n",
            "516757 2017-12-31      3    29     86       0\n",
            "\n",
            "[1826 rows x 5 columns]\n"
          ]
        },
        {
          "output_type": "stream",
          "name": "stderr",
          "text": [
            "/usr/local/lib/python3.10/dist-packages/statsmodels/tsa/base/tsa_model.py:836: ValueWarning: No supported index is available. Prediction results will be given with an integer index beginning at `start`.\n",
            "  return get_prediction_index(\n",
            "/usr/local/lib/python3.10/dist-packages/statsmodels/tsa/base/tsa_model.py:836: FutureWarning: No supported index is available. In the next version, calling this method in a model without a supported index will result in an exception.\n",
            "  return get_prediction_index(\n"
          ]
        },
        {
          "output_type": "stream",
          "name": "stdout",
          "text": [
            "Finished training model...\n",
            "Predicting for store 4 and item 29\n",
            "             date  store  item  sales  is_hol\n",
            "516758 2013-01-01      4    29     35       1\n",
            "516759 2013-01-02      4    29     39       0\n",
            "516760 2013-01-03      4    29     56       0\n",
            "516761 2013-01-04      4    29     44       0\n",
            "516762 2013-01-05      4    29     42       0\n",
            "...           ...    ...   ...    ...     ...\n",
            "518579 2017-12-27      4    29     46       0\n",
            "518580 2017-12-28      4    29     62       0\n",
            "518581 2017-12-29      4    29     69       0\n",
            "518582 2017-12-30      4    29     60       0\n",
            "518583 2017-12-31      4    29     76       0\n",
            "\n",
            "[1826 rows x 5 columns]\n"
          ]
        },
        {
          "output_type": "stream",
          "name": "stderr",
          "text": [
            "/usr/local/lib/python3.10/dist-packages/statsmodels/tsa/base/tsa_model.py:836: ValueWarning: No supported index is available. Prediction results will be given with an integer index beginning at `start`.\n",
            "  return get_prediction_index(\n",
            "/usr/local/lib/python3.10/dist-packages/statsmodels/tsa/base/tsa_model.py:836: FutureWarning: No supported index is available. In the next version, calling this method in a model without a supported index will result in an exception.\n",
            "  return get_prediction_index(\n"
          ]
        },
        {
          "output_type": "stream",
          "name": "stdout",
          "text": [
            "Finished training model...\n",
            "Predicting for store 5 and item 29\n",
            "             date  store  item  sales  is_hol\n",
            "518584 2013-01-01      5    29     24       1\n",
            "518585 2013-01-02      5    29     34       0\n",
            "518586 2013-01-03      5    29     25       0\n",
            "518587 2013-01-04      5    29     32       0\n",
            "518588 2013-01-05      5    29     41       0\n",
            "...           ...    ...   ...    ...     ...\n",
            "520405 2017-12-27      5    29     44       0\n",
            "520406 2017-12-28      5    29     37       0\n",
            "520407 2017-12-29      5    29     43       0\n",
            "520408 2017-12-30      5    29     46       0\n",
            "520409 2017-12-31      5    29     57       0\n",
            "\n",
            "[1826 rows x 5 columns]\n"
          ]
        },
        {
          "output_type": "stream",
          "name": "stderr",
          "text": [
            "/usr/local/lib/python3.10/dist-packages/statsmodels/tsa/base/tsa_model.py:836: ValueWarning: No supported index is available. Prediction results will be given with an integer index beginning at `start`.\n",
            "  return get_prediction_index(\n",
            "/usr/local/lib/python3.10/dist-packages/statsmodels/tsa/base/tsa_model.py:836: FutureWarning: No supported index is available. In the next version, calling this method in a model without a supported index will result in an exception.\n",
            "  return get_prediction_index(\n"
          ]
        },
        {
          "output_type": "stream",
          "name": "stdout",
          "text": [
            "Finished training model...\n",
            "Predicting for store 6 and item 29\n",
            "             date  store  item  sales  is_hol\n",
            "520410 2013-01-01      6    29     24       1\n",
            "520411 2013-01-02      6    29     29       0\n",
            "520412 2013-01-03      6    29     30       0\n",
            "520413 2013-01-04      6    29     24       0\n",
            "520414 2013-01-05      6    29     30       0\n",
            "...           ...    ...   ...    ...     ...\n",
            "522231 2017-12-27      6    29     23       0\n",
            "522232 2017-12-28      6    29     43       0\n",
            "522233 2017-12-29      6    29     44       0\n",
            "522234 2017-12-30      6    29     45       0\n",
            "522235 2017-12-31      6    29     44       0\n",
            "\n",
            "[1826 rows x 5 columns]\n"
          ]
        },
        {
          "output_type": "stream",
          "name": "stderr",
          "text": [
            "/usr/local/lib/python3.10/dist-packages/statsmodels/tsa/base/tsa_model.py:836: ValueWarning: No supported index is available. Prediction results will be given with an integer index beginning at `start`.\n",
            "  return get_prediction_index(\n",
            "/usr/local/lib/python3.10/dist-packages/statsmodels/tsa/base/tsa_model.py:836: FutureWarning: No supported index is available. In the next version, calling this method in a model without a supported index will result in an exception.\n",
            "  return get_prediction_index(\n"
          ]
        },
        {
          "output_type": "stream",
          "name": "stdout",
          "text": [
            "Finished training model...\n",
            "Predicting for store 7 and item 29\n",
            "             date  store  item  sales  is_hol\n",
            "522236 2013-01-01      7    29     27       1\n",
            "522237 2013-01-02      7    29     25       0\n",
            "522238 2013-01-03      7    29     26       0\n",
            "522239 2013-01-04      7    29     23       0\n",
            "522240 2013-01-05      7    29     40       0\n",
            "...           ...    ...   ...    ...     ...\n",
            "524057 2017-12-27      7    29     43       0\n",
            "524058 2017-12-28      7    29     37       0\n",
            "524059 2017-12-29      7    29     52       0\n",
            "524060 2017-12-30      7    29     65       0\n",
            "524061 2017-12-31      7    29     44       0\n",
            "\n",
            "[1826 rows x 5 columns]\n"
          ]
        },
        {
          "output_type": "stream",
          "name": "stderr",
          "text": [
            "/usr/local/lib/python3.10/dist-packages/statsmodels/tsa/base/tsa_model.py:836: ValueWarning: No supported index is available. Prediction results will be given with an integer index beginning at `start`.\n",
            "  return get_prediction_index(\n",
            "/usr/local/lib/python3.10/dist-packages/statsmodels/tsa/base/tsa_model.py:836: FutureWarning: No supported index is available. In the next version, calling this method in a model without a supported index will result in an exception.\n",
            "  return get_prediction_index(\n"
          ]
        },
        {
          "output_type": "stream",
          "name": "stdout",
          "text": [
            "Finished training model...\n",
            "Predicting for store 8 and item 29\n",
            "             date  store  item  sales  is_hol\n",
            "524062 2013-01-01      8    29     42       1\n",
            "524063 2013-01-02      8    29     50       0\n",
            "524064 2013-01-03      8    29     48       0\n",
            "524065 2013-01-04      8    29     38       0\n",
            "524066 2013-01-05      8    29     58       0\n",
            "...           ...    ...   ...    ...     ...\n",
            "525883 2017-12-27      8    29     70       0\n",
            "525884 2017-12-28      8    29     47       0\n",
            "525885 2017-12-29      8    29     84       0\n",
            "525886 2017-12-30      8    29     88       0\n",
            "525887 2017-12-31      8    29     82       0\n",
            "\n",
            "[1826 rows x 5 columns]\n"
          ]
        },
        {
          "output_type": "stream",
          "name": "stderr",
          "text": [
            "/usr/local/lib/python3.10/dist-packages/statsmodels/tsa/base/tsa_model.py:836: ValueWarning: No supported index is available. Prediction results will be given with an integer index beginning at `start`.\n",
            "  return get_prediction_index(\n",
            "/usr/local/lib/python3.10/dist-packages/statsmodels/tsa/base/tsa_model.py:836: FutureWarning: No supported index is available. In the next version, calling this method in a model without a supported index will result in an exception.\n",
            "  return get_prediction_index(\n"
          ]
        },
        {
          "output_type": "stream",
          "name": "stdout",
          "text": [
            "Finished training model...\n",
            "Predicting for store 9 and item 29\n",
            "             date  store  item  sales  is_hol\n",
            "525888 2013-01-01      9    29     34       1\n",
            "525889 2013-01-02      9    29     28       0\n",
            "525890 2013-01-03      9    29     53       0\n",
            "525891 2013-01-04      9    29     45       0\n",
            "525892 2013-01-05      9    29     55       0\n",
            "...           ...    ...   ...    ...     ...\n",
            "527709 2017-12-27      9    29     68       0\n",
            "527710 2017-12-28      9    29     51       0\n",
            "527711 2017-12-29      9    29     68       0\n",
            "527712 2017-12-30      9    29     77       0\n",
            "527713 2017-12-31      9    29     84       0\n",
            "\n",
            "[1826 rows x 5 columns]\n"
          ]
        },
        {
          "output_type": "stream",
          "name": "stderr",
          "text": [
            "/usr/local/lib/python3.10/dist-packages/statsmodels/tsa/base/tsa_model.py:836: ValueWarning: No supported index is available. Prediction results will be given with an integer index beginning at `start`.\n",
            "  return get_prediction_index(\n",
            "/usr/local/lib/python3.10/dist-packages/statsmodels/tsa/base/tsa_model.py:836: FutureWarning: No supported index is available. In the next version, calling this method in a model without a supported index will result in an exception.\n",
            "  return get_prediction_index(\n"
          ]
        },
        {
          "output_type": "stream",
          "name": "stdout",
          "text": [
            "Finished training model...\n",
            "Predicting for store 10 and item 29\n",
            "             date  store  item  sales  is_hol\n",
            "527714 2013-01-01     10    29     35       1\n",
            "527715 2013-01-02     10    29     32       0\n",
            "527716 2013-01-03     10    29     36       0\n",
            "527717 2013-01-04     10    29     45       0\n",
            "527718 2013-01-05     10    29     49       0\n",
            "...           ...    ...   ...    ...     ...\n",
            "529535 2017-12-27     10    29     63       0\n",
            "529536 2017-12-28     10    29     58       0\n",
            "529537 2017-12-29     10    29     75       0\n",
            "529538 2017-12-30     10    29     85       0\n",
            "529539 2017-12-31     10    29     79       0\n",
            "\n",
            "[1826 rows x 5 columns]\n"
          ]
        },
        {
          "output_type": "stream",
          "name": "stderr",
          "text": [
            "/usr/local/lib/python3.10/dist-packages/statsmodels/tsa/base/tsa_model.py:836: ValueWarning: No supported index is available. Prediction results will be given with an integer index beginning at `start`.\n",
            "  return get_prediction_index(\n",
            "/usr/local/lib/python3.10/dist-packages/statsmodels/tsa/base/tsa_model.py:836: FutureWarning: No supported index is available. In the next version, calling this method in a model without a supported index will result in an exception.\n",
            "  return get_prediction_index(\n"
          ]
        },
        {
          "output_type": "stream",
          "name": "stdout",
          "text": [
            "Finished training model...\n",
            "Predicting for store 1 and item 30\n",
            "             date  store  item  sales  is_hol\n",
            "529540 2013-01-01      1    30     17       1\n",
            "529541 2013-01-02      1    30     25       0\n",
            "529542 2013-01-03      1    30     25       0\n",
            "529543 2013-01-04      1    30     27       0\n",
            "529544 2013-01-05      1    30     22       0\n",
            "...           ...    ...   ...    ...     ...\n",
            "531361 2017-12-27      1    30     28       0\n",
            "531362 2017-12-28      1    30     31       0\n",
            "531363 2017-12-29      1    30     24       0\n",
            "531364 2017-12-30      1    30     33       0\n",
            "531365 2017-12-31      1    30     37       0\n",
            "\n",
            "[1826 rows x 5 columns]\n"
          ]
        },
        {
          "output_type": "stream",
          "name": "stderr",
          "text": [
            "/usr/local/lib/python3.10/dist-packages/statsmodels/tsa/base/tsa_model.py:836: ValueWarning: No supported index is available. Prediction results will be given with an integer index beginning at `start`.\n",
            "  return get_prediction_index(\n",
            "/usr/local/lib/python3.10/dist-packages/statsmodels/tsa/base/tsa_model.py:836: FutureWarning: No supported index is available. In the next version, calling this method in a model without a supported index will result in an exception.\n",
            "  return get_prediction_index(\n"
          ]
        },
        {
          "output_type": "stream",
          "name": "stdout",
          "text": [
            "Finished training model...\n",
            "Predicting for store 2 and item 30\n",
            "             date  store  item  sales  is_hol\n",
            "531366 2013-01-01      2    30     32       1\n",
            "531367 2013-01-02      2    30     16       0\n",
            "531368 2013-01-03      2    30     26       0\n",
            "531369 2013-01-04      2    30     31       0\n",
            "531370 2013-01-05      2    30     30       0\n",
            "...           ...    ...   ...    ...     ...\n",
            "533187 2017-12-27      2    30     46       0\n",
            "533188 2017-12-28      2    30     50       0\n",
            "533189 2017-12-29      2    30     44       0\n",
            "533190 2017-12-30      2    30     50       0\n",
            "533191 2017-12-31      2    30     44       0\n",
            "\n",
            "[1826 rows x 5 columns]\n"
          ]
        },
        {
          "output_type": "stream",
          "name": "stderr",
          "text": [
            "/usr/local/lib/python3.10/dist-packages/statsmodels/tsa/base/tsa_model.py:836: ValueWarning: No supported index is available. Prediction results will be given with an integer index beginning at `start`.\n",
            "  return get_prediction_index(\n",
            "/usr/local/lib/python3.10/dist-packages/statsmodels/tsa/base/tsa_model.py:836: FutureWarning: No supported index is available. In the next version, calling this method in a model without a supported index will result in an exception.\n",
            "  return get_prediction_index(\n"
          ]
        },
        {
          "output_type": "stream",
          "name": "stdout",
          "text": [
            "Finished training model...\n",
            "Predicting for store 3 and item 30\n",
            "             date  store  item  sales  is_hol\n",
            "533192 2013-01-01      3    30     19       1\n",
            "533193 2013-01-02      3    30     23       0\n",
            "533194 2013-01-03      3    30     28       0\n",
            "533195 2013-01-04      3    30     29       0\n",
            "533196 2013-01-05      3    30     39       0\n",
            "...           ...    ...   ...    ...     ...\n",
            "535013 2017-12-27      3    30     46       0\n",
            "535014 2017-12-28      3    30     33       0\n",
            "535015 2017-12-29      3    30     36       0\n",
            "535016 2017-12-30      3    30     55       0\n",
            "535017 2017-12-31      3    30     50       0\n",
            "\n",
            "[1826 rows x 5 columns]\n"
          ]
        },
        {
          "output_type": "stream",
          "name": "stderr",
          "text": [
            "/usr/local/lib/python3.10/dist-packages/statsmodels/tsa/base/tsa_model.py:836: ValueWarning: No supported index is available. Prediction results will be given with an integer index beginning at `start`.\n",
            "  return get_prediction_index(\n",
            "/usr/local/lib/python3.10/dist-packages/statsmodels/tsa/base/tsa_model.py:836: FutureWarning: No supported index is available. In the next version, calling this method in a model without a supported index will result in an exception.\n",
            "  return get_prediction_index(\n"
          ]
        },
        {
          "output_type": "stream",
          "name": "stdout",
          "text": [
            "Finished training model...\n",
            "Predicting for store 4 and item 30\n",
            "             date  store  item  sales  is_hol\n",
            "535018 2013-01-01      4    30     29       1\n",
            "535019 2013-01-02      4    30     29       0\n",
            "535020 2013-01-03      4    30     30       0\n",
            "535021 2013-01-04      4    30     28       0\n",
            "535022 2013-01-05      4    30     29       0\n",
            "...           ...    ...   ...    ...     ...\n",
            "536839 2017-12-27      4    30     30       0\n",
            "536840 2017-12-28      4    30     37       0\n",
            "536841 2017-12-29      4    30     40       0\n",
            "536842 2017-12-30      4    30     33       0\n",
            "536843 2017-12-31      4    30     51       0\n",
            "\n",
            "[1826 rows x 5 columns]\n"
          ]
        },
        {
          "output_type": "stream",
          "name": "stderr",
          "text": [
            "/usr/local/lib/python3.10/dist-packages/statsmodels/tsa/base/tsa_model.py:836: ValueWarning: No supported index is available. Prediction results will be given with an integer index beginning at `start`.\n",
            "  return get_prediction_index(\n",
            "/usr/local/lib/python3.10/dist-packages/statsmodels/tsa/base/tsa_model.py:836: FutureWarning: No supported index is available. In the next version, calling this method in a model without a supported index will result in an exception.\n",
            "  return get_prediction_index(\n"
          ]
        },
        {
          "output_type": "stream",
          "name": "stdout",
          "text": [
            "Finished training model...\n",
            "Predicting for store 5 and item 30\n",
            "             date  store  item  sales  is_hol\n",
            "536844 2013-01-01      5    30     16       1\n",
            "536845 2013-01-02      5    30     17       0\n",
            "536846 2013-01-03      5    30     18       0\n",
            "536847 2013-01-04      5    30     19       0\n",
            "536848 2013-01-05      5    30      9       0\n",
            "...           ...    ...   ...    ...     ...\n",
            "538665 2017-12-27      5    30     17       0\n",
            "538666 2017-12-28      5    30     24       0\n",
            "538667 2017-12-29      5    30     34       0\n",
            "538668 2017-12-30      5    30     31       0\n",
            "538669 2017-12-31      5    30     36       0\n",
            "\n",
            "[1826 rows x 5 columns]\n"
          ]
        },
        {
          "output_type": "stream",
          "name": "stderr",
          "text": [
            "/usr/local/lib/python3.10/dist-packages/statsmodels/tsa/base/tsa_model.py:836: ValueWarning: No supported index is available. Prediction results will be given with an integer index beginning at `start`.\n",
            "  return get_prediction_index(\n",
            "/usr/local/lib/python3.10/dist-packages/statsmodels/tsa/base/tsa_model.py:836: FutureWarning: No supported index is available. In the next version, calling this method in a model without a supported index will result in an exception.\n",
            "  return get_prediction_index(\n"
          ]
        },
        {
          "output_type": "stream",
          "name": "stdout",
          "text": [
            "Finished training model...\n",
            "Predicting for store 6 and item 30\n",
            "             date  store  item  sales  is_hol\n",
            "538670 2013-01-01      6    30     25       1\n",
            "538671 2013-01-02      6    30     13       0\n",
            "538672 2013-01-03      6    30     16       0\n",
            "538673 2013-01-04      6    30     21       0\n",
            "538674 2013-01-05      6    30     20       0\n",
            "...           ...    ...   ...    ...     ...\n",
            "540491 2017-12-27      6    30     18       0\n",
            "540492 2017-12-28      6    30     29       0\n",
            "540493 2017-12-29      6    30     28       0\n",
            "540494 2017-12-30      6    30     27       0\n",
            "540495 2017-12-31      6    30     25       0\n",
            "\n",
            "[1826 rows x 5 columns]\n"
          ]
        },
        {
          "output_type": "stream",
          "name": "stderr",
          "text": [
            "/usr/local/lib/python3.10/dist-packages/statsmodels/tsa/base/tsa_model.py:836: ValueWarning: No supported index is available. Prediction results will be given with an integer index beginning at `start`.\n",
            "  return get_prediction_index(\n",
            "/usr/local/lib/python3.10/dist-packages/statsmodels/tsa/base/tsa_model.py:836: FutureWarning: No supported index is available. In the next version, calling this method in a model without a supported index will result in an exception.\n",
            "  return get_prediction_index(\n"
          ]
        },
        {
          "output_type": "stream",
          "name": "stdout",
          "text": [
            "Finished training model...\n",
            "Predicting for store 7 and item 30\n",
            "             date  store  item  sales  is_hol\n",
            "540496 2013-01-01      7    30     15       1\n",
            "540497 2013-01-02      7    30     13       0\n",
            "540498 2013-01-03      7    30     14       0\n",
            "540499 2013-01-04      7    30     22       0\n",
            "540500 2013-01-05      7    30     14       0\n",
            "...           ...    ...   ...    ...     ...\n",
            "542317 2017-12-27      7    30      9       0\n",
            "542318 2017-12-28      7    30     22       0\n",
            "542319 2017-12-29      7    30     24       0\n",
            "542320 2017-12-30      7    30     29       0\n",
            "542321 2017-12-31      7    30     43       0\n",
            "\n",
            "[1826 rows x 5 columns]\n"
          ]
        },
        {
          "output_type": "stream",
          "name": "stderr",
          "text": [
            "/usr/local/lib/python3.10/dist-packages/statsmodels/tsa/base/tsa_model.py:836: ValueWarning: No supported index is available. Prediction results will be given with an integer index beginning at `start`.\n",
            "  return get_prediction_index(\n",
            "/usr/local/lib/python3.10/dist-packages/statsmodels/tsa/base/tsa_model.py:836: FutureWarning: No supported index is available. In the next version, calling this method in a model without a supported index will result in an exception.\n",
            "  return get_prediction_index(\n"
          ]
        },
        {
          "output_type": "stream",
          "name": "stdout",
          "text": [
            "Finished training model...\n",
            "Predicting for store 8 and item 30\n",
            "             date  store  item  sales  is_hol\n",
            "542322 2013-01-01      8    30     25       1\n",
            "542323 2013-01-02      8    30     17       0\n",
            "542324 2013-01-03      8    30     31       0\n",
            "542325 2013-01-04      8    30     38       0\n",
            "542326 2013-01-05      8    30     39       0\n",
            "...           ...    ...   ...    ...     ...\n",
            "544143 2017-12-27      8    30     40       0\n",
            "544144 2017-12-28      8    30     48       0\n",
            "544145 2017-12-29      8    30     38       0\n",
            "544146 2017-12-30      8    30     38       0\n",
            "544147 2017-12-31      8    30     33       0\n",
            "\n",
            "[1826 rows x 5 columns]\n"
          ]
        },
        {
          "output_type": "stream",
          "name": "stderr",
          "text": [
            "/usr/local/lib/python3.10/dist-packages/statsmodels/tsa/base/tsa_model.py:836: ValueWarning: No supported index is available. Prediction results will be given with an integer index beginning at `start`.\n",
            "  return get_prediction_index(\n",
            "/usr/local/lib/python3.10/dist-packages/statsmodels/tsa/base/tsa_model.py:836: FutureWarning: No supported index is available. In the next version, calling this method in a model without a supported index will result in an exception.\n",
            "  return get_prediction_index(\n"
          ]
        },
        {
          "output_type": "stream",
          "name": "stdout",
          "text": [
            "Finished training model...\n",
            "Predicting for store 9 and item 30\n",
            "             date  store  item  sales  is_hol\n",
            "544148 2013-01-01      9    30     20       1\n",
            "544149 2013-01-02      9    30     25       0\n",
            "544150 2013-01-03      9    30     20       0\n",
            "544151 2013-01-04      9    30     24       0\n",
            "544152 2013-01-05      9    30     23       0\n",
            "...           ...    ...   ...    ...     ...\n",
            "545969 2017-12-27      9    30     39       0\n",
            "545970 2017-12-28      9    30     27       0\n",
            "545971 2017-12-29      9    30     38       0\n",
            "545972 2017-12-30      9    30     54       0\n",
            "545973 2017-12-31      9    30     37       0\n",
            "\n",
            "[1826 rows x 5 columns]\n"
          ]
        },
        {
          "output_type": "stream",
          "name": "stderr",
          "text": [
            "/usr/local/lib/python3.10/dist-packages/statsmodels/tsa/base/tsa_model.py:836: ValueWarning: No supported index is available. Prediction results will be given with an integer index beginning at `start`.\n",
            "  return get_prediction_index(\n",
            "/usr/local/lib/python3.10/dist-packages/statsmodels/tsa/base/tsa_model.py:836: FutureWarning: No supported index is available. In the next version, calling this method in a model without a supported index will result in an exception.\n",
            "  return get_prediction_index(\n"
          ]
        },
        {
          "output_type": "stream",
          "name": "stdout",
          "text": [
            "Finished training model...\n",
            "Predicting for store 10 and item 30\n",
            "             date  store  item  sales  is_hol\n",
            "545974 2013-01-01     10    30     21       1\n",
            "545975 2013-01-02     10    30     24       0\n",
            "545976 2013-01-03     10    30     29       0\n",
            "545977 2013-01-04     10    30     39       0\n",
            "545978 2013-01-05     10    30     30       0\n",
            "...           ...    ...   ...    ...     ...\n",
            "547795 2017-12-27     10    30     40       0\n",
            "547796 2017-12-28     10    30     29       0\n",
            "547797 2017-12-29     10    30     39       0\n",
            "547798 2017-12-30     10    30     41       0\n",
            "547799 2017-12-31     10    30     38       0\n",
            "\n",
            "[1826 rows x 5 columns]\n"
          ]
        },
        {
          "output_type": "stream",
          "name": "stderr",
          "text": [
            "/usr/local/lib/python3.10/dist-packages/statsmodels/tsa/base/tsa_model.py:836: ValueWarning: No supported index is available. Prediction results will be given with an integer index beginning at `start`.\n",
            "  return get_prediction_index(\n",
            "/usr/local/lib/python3.10/dist-packages/statsmodels/tsa/base/tsa_model.py:836: FutureWarning: No supported index is available. In the next version, calling this method in a model without a supported index will result in an exception.\n",
            "  return get_prediction_index(\n"
          ]
        },
        {
          "output_type": "stream",
          "name": "stdout",
          "text": [
            "Finished training model...\n",
            "Predicting for store 1 and item 31\n",
            "             date  store  item  sales  is_hol\n",
            "547800 2013-01-01      1    31     30       1\n",
            "547801 2013-01-02      1    31     19       0\n",
            "547802 2013-01-03      1    31     33       0\n",
            "547803 2013-01-04      1    31     24       0\n",
            "547804 2013-01-05      1    31     32       0\n",
            "...           ...    ...   ...    ...     ...\n",
            "549621 2017-12-27      1    31     34       0\n",
            "549622 2017-12-28      1    31     46       0\n",
            "549623 2017-12-29      1    31     49       0\n",
            "549624 2017-12-30      1    31     42       0\n",
            "549625 2017-12-31      1    31     48       0\n",
            "\n",
            "[1826 rows x 5 columns]\n"
          ]
        },
        {
          "output_type": "stream",
          "name": "stderr",
          "text": [
            "/usr/local/lib/python3.10/dist-packages/statsmodels/tsa/base/tsa_model.py:836: ValueWarning: No supported index is available. Prediction results will be given with an integer index beginning at `start`.\n",
            "  return get_prediction_index(\n",
            "/usr/local/lib/python3.10/dist-packages/statsmodels/tsa/base/tsa_model.py:836: FutureWarning: No supported index is available. In the next version, calling this method in a model without a supported index will result in an exception.\n",
            "  return get_prediction_index(\n"
          ]
        },
        {
          "output_type": "stream",
          "name": "stdout",
          "text": [
            "Finished training model...\n",
            "Predicting for store 2 and item 31\n",
            "             date  store  item  sales  is_hol\n",
            "549626 2013-01-01      2    31     38       1\n",
            "549627 2013-01-02      2    31     37       0\n",
            "549628 2013-01-03      2    31     54       0\n",
            "549629 2013-01-04      2    31     47       0\n",
            "549630 2013-01-05      2    31     45       0\n",
            "...           ...    ...   ...    ...     ...\n",
            "551447 2017-12-27      2    31     74       0\n",
            "551448 2017-12-28      2    31     59       0\n",
            "551449 2017-12-29      2    31     72       0\n",
            "551450 2017-12-30      2    31     60       0\n",
            "551451 2017-12-31      2    31     69       0\n",
            "\n",
            "[1826 rows x 5 columns]\n"
          ]
        },
        {
          "output_type": "stream",
          "name": "stderr",
          "text": [
            "/usr/local/lib/python3.10/dist-packages/statsmodels/tsa/base/tsa_model.py:836: ValueWarning: No supported index is available. Prediction results will be given with an integer index beginning at `start`.\n",
            "  return get_prediction_index(\n",
            "/usr/local/lib/python3.10/dist-packages/statsmodels/tsa/base/tsa_model.py:836: FutureWarning: No supported index is available. In the next version, calling this method in a model without a supported index will result in an exception.\n",
            "  return get_prediction_index(\n"
          ]
        },
        {
          "output_type": "stream",
          "name": "stdout",
          "text": [
            "Finished training model...\n",
            "Predicting for store 3 and item 31\n",
            "             date  store  item  sales  is_hol\n",
            "551452 2013-01-01      3    31     42       1\n",
            "551453 2013-01-02      3    31     32       0\n",
            "551454 2013-01-03      3    31     30       0\n",
            "551455 2013-01-04      3    31     57       0\n",
            "551456 2013-01-05      3    31     39       0\n",
            "...           ...    ...   ...    ...     ...\n",
            "553273 2017-12-27      3    31     44       0\n",
            "553274 2017-12-28      3    31     51       0\n",
            "553275 2017-12-29      3    31     60       0\n",
            "553276 2017-12-30      3    31     67       0\n",
            "553277 2017-12-31      3    31     73       0\n",
            "\n",
            "[1826 rows x 5 columns]\n"
          ]
        },
        {
          "output_type": "stream",
          "name": "stderr",
          "text": [
            "/usr/local/lib/python3.10/dist-packages/statsmodels/tsa/base/tsa_model.py:836: ValueWarning: No supported index is available. Prediction results will be given with an integer index beginning at `start`.\n",
            "  return get_prediction_index(\n",
            "/usr/local/lib/python3.10/dist-packages/statsmodels/tsa/base/tsa_model.py:836: FutureWarning: No supported index is available. In the next version, calling this method in a model without a supported index will result in an exception.\n",
            "  return get_prediction_index(\n"
          ]
        },
        {
          "output_type": "stream",
          "name": "stdout",
          "text": [
            "Finished training model...\n",
            "Predicting for store 4 and item 31\n",
            "             date  store  item  sales  is_hol\n",
            "553278 2013-01-01      4    31     35       1\n",
            "553279 2013-01-02      4    31     35       0\n",
            "553280 2013-01-03      4    31     27       0\n",
            "553281 2013-01-04      4    31     44       0\n",
            "553282 2013-01-05      4    31     44       0\n",
            "...           ...    ...   ...    ...     ...\n",
            "555099 2017-12-27      4    31     41       0\n",
            "555100 2017-12-28      4    31     47       0\n",
            "555101 2017-12-29      4    31     63       0\n",
            "555102 2017-12-30      4    31     67       0\n",
            "555103 2017-12-31      4    31     71       0\n",
            "\n",
            "[1826 rows x 5 columns]\n"
          ]
        },
        {
          "output_type": "stream",
          "name": "stderr",
          "text": [
            "/usr/local/lib/python3.10/dist-packages/statsmodels/tsa/base/tsa_model.py:836: ValueWarning: No supported index is available. Prediction results will be given with an integer index beginning at `start`.\n",
            "  return get_prediction_index(\n",
            "/usr/local/lib/python3.10/dist-packages/statsmodels/tsa/base/tsa_model.py:836: FutureWarning: No supported index is available. In the next version, calling this method in a model without a supported index will result in an exception.\n",
            "  return get_prediction_index(\n"
          ]
        },
        {
          "output_type": "stream",
          "name": "stdout",
          "text": [
            "Finished training model...\n",
            "Predicting for store 5 and item 31\n",
            "             date  store  item  sales  is_hol\n",
            "555104 2013-01-01      5    31     24       1\n",
            "555105 2013-01-02      5    31     28       0\n",
            "555106 2013-01-03      5    31     24       0\n",
            "555107 2013-01-04      5    31     26       0\n",
            "555108 2013-01-05      5    31     21       0\n",
            "...           ...    ...   ...    ...     ...\n",
            "556925 2017-12-27      5    31     38       0\n",
            "556926 2017-12-28      5    31     36       0\n",
            "556927 2017-12-29      5    31     41       0\n",
            "556928 2017-12-30      5    31     38       0\n",
            "556929 2017-12-31      5    31     51       0\n",
            "\n",
            "[1826 rows x 5 columns]\n"
          ]
        },
        {
          "output_type": "stream",
          "name": "stderr",
          "text": [
            "/usr/local/lib/python3.10/dist-packages/statsmodels/tsa/base/tsa_model.py:836: ValueWarning: No supported index is available. Prediction results will be given with an integer index beginning at `start`.\n",
            "  return get_prediction_index(\n",
            "/usr/local/lib/python3.10/dist-packages/statsmodels/tsa/base/tsa_model.py:836: FutureWarning: No supported index is available. In the next version, calling this method in a model without a supported index will result in an exception.\n",
            "  return get_prediction_index(\n"
          ]
        },
        {
          "output_type": "stream",
          "name": "stdout",
          "text": [
            "Finished training model...\n",
            "Predicting for store 6 and item 31\n",
            "             date  store  item  sales  is_hol\n",
            "556930 2013-01-01      6    31     23       1\n",
            "556931 2013-01-02      6    31     26       0\n",
            "556932 2013-01-03      6    31     16       0\n",
            "556933 2013-01-04      6    31     24       0\n",
            "556934 2013-01-05      6    31     27       0\n",
            "...           ...    ...   ...    ...     ...\n",
            "558751 2017-12-27      6    31     40       0\n",
            "558752 2017-12-28      6    31     33       0\n",
            "558753 2017-12-29      6    31     30       0\n",
            "558754 2017-12-30      6    31     30       0\n",
            "558755 2017-12-31      6    31     45       0\n",
            "\n",
            "[1826 rows x 5 columns]\n"
          ]
        },
        {
          "output_type": "stream",
          "name": "stderr",
          "text": [
            "/usr/local/lib/python3.10/dist-packages/statsmodels/tsa/base/tsa_model.py:836: ValueWarning: No supported index is available. Prediction results will be given with an integer index beginning at `start`.\n",
            "  return get_prediction_index(\n",
            "/usr/local/lib/python3.10/dist-packages/statsmodels/tsa/base/tsa_model.py:836: FutureWarning: No supported index is available. In the next version, calling this method in a model without a supported index will result in an exception.\n",
            "  return get_prediction_index(\n"
          ]
        },
        {
          "output_type": "stream",
          "name": "stdout",
          "text": [
            "Finished training model...\n",
            "Predicting for store 7 and item 31\n",
            "             date  store  item  sales  is_hol\n",
            "558756 2013-01-01      7    31     23       1\n",
            "558757 2013-01-02      7    31     28       0\n",
            "558758 2013-01-03      7    31     13       0\n",
            "558759 2013-01-04      7    31     23       0\n",
            "558760 2013-01-05      7    31     24       0\n",
            "...           ...    ...   ...    ...     ...\n",
            "560577 2017-12-27      7    31     40       0\n",
            "560578 2017-12-28      7    31     37       0\n",
            "560579 2017-12-29      7    31     44       0\n",
            "560580 2017-12-30      7    31     37       0\n",
            "560581 2017-12-31      7    31     46       0\n",
            "\n",
            "[1826 rows x 5 columns]\n"
          ]
        },
        {
          "output_type": "stream",
          "name": "stderr",
          "text": [
            "/usr/local/lib/python3.10/dist-packages/statsmodels/tsa/base/tsa_model.py:836: ValueWarning: No supported index is available. Prediction results will be given with an integer index beginning at `start`.\n",
            "  return get_prediction_index(\n",
            "/usr/local/lib/python3.10/dist-packages/statsmodels/tsa/base/tsa_model.py:836: FutureWarning: No supported index is available. In the next version, calling this method in a model without a supported index will result in an exception.\n",
            "  return get_prediction_index(\n"
          ]
        },
        {
          "output_type": "stream",
          "name": "stdout",
          "text": [
            "Finished training model...\n",
            "Predicting for store 8 and item 31\n",
            "             date  store  item  sales  is_hol\n",
            "560582 2013-01-01      8    31     43       1\n",
            "560583 2013-01-02      8    31     49       0\n",
            "560584 2013-01-03      8    31     47       0\n",
            "560585 2013-01-04      8    31     53       0\n",
            "560586 2013-01-05      8    31     43       0\n",
            "...           ...    ...   ...    ...     ...\n",
            "562403 2017-12-27      8    31     65       0\n",
            "562404 2017-12-28      8    31     60       0\n",
            "562405 2017-12-29      8    31     73       0\n",
            "562406 2017-12-30      8    31     67       0\n",
            "562407 2017-12-31      8    31     69       0\n",
            "\n",
            "[1826 rows x 5 columns]\n"
          ]
        },
        {
          "output_type": "stream",
          "name": "stderr",
          "text": [
            "/usr/local/lib/python3.10/dist-packages/statsmodels/tsa/base/tsa_model.py:836: ValueWarning: No supported index is available. Prediction results will be given with an integer index beginning at `start`.\n",
            "  return get_prediction_index(\n",
            "/usr/local/lib/python3.10/dist-packages/statsmodels/tsa/base/tsa_model.py:836: FutureWarning: No supported index is available. In the next version, calling this method in a model without a supported index will result in an exception.\n",
            "  return get_prediction_index(\n"
          ]
        },
        {
          "output_type": "stream",
          "name": "stdout",
          "text": [
            "Finished training model...\n",
            "Predicting for store 9 and item 31\n",
            "             date  store  item  sales  is_hol\n",
            "562408 2013-01-01      9    31     37       1\n",
            "562409 2013-01-02      9    31     37       0\n",
            "562410 2013-01-03      9    31     28       0\n",
            "562411 2013-01-04      9    31     41       0\n",
            "562412 2013-01-05      9    31     46       0\n",
            "...           ...    ...   ...    ...     ...\n",
            "564229 2017-12-27      9    31     39       0\n",
            "564230 2017-12-28      9    31     52       0\n",
            "564231 2017-12-29      9    31     67       0\n",
            "564232 2017-12-30      9    31     61       0\n",
            "564233 2017-12-31      9    31     70       0\n",
            "\n",
            "[1826 rows x 5 columns]\n"
          ]
        },
        {
          "output_type": "stream",
          "name": "stderr",
          "text": [
            "/usr/local/lib/python3.10/dist-packages/statsmodels/tsa/base/tsa_model.py:836: ValueWarning: No supported index is available. Prediction results will be given with an integer index beginning at `start`.\n",
            "  return get_prediction_index(\n",
            "/usr/local/lib/python3.10/dist-packages/statsmodels/tsa/base/tsa_model.py:836: FutureWarning: No supported index is available. In the next version, calling this method in a model without a supported index will result in an exception.\n",
            "  return get_prediction_index(\n"
          ]
        },
        {
          "output_type": "stream",
          "name": "stdout",
          "text": [
            "Finished training model...\n",
            "Predicting for store 10 and item 31\n",
            "             date  store  item  sales  is_hol\n",
            "564234 2013-01-01     10    31     42       1\n",
            "564235 2013-01-02     10    31     32       0\n",
            "564236 2013-01-03     10    31     33       0\n",
            "564237 2013-01-04     10    31     29       0\n",
            "564238 2013-01-05     10    31     35       0\n",
            "...           ...    ...   ...    ...     ...\n",
            "566055 2017-12-27     10    31     54       0\n",
            "566056 2017-12-28     10    31     63       0\n",
            "566057 2017-12-29     10    31     58       0\n",
            "566058 2017-12-30     10    31     61       0\n",
            "566059 2017-12-31     10    31     68       0\n",
            "\n",
            "[1826 rows x 5 columns]\n"
          ]
        },
        {
          "output_type": "stream",
          "name": "stderr",
          "text": [
            "/usr/local/lib/python3.10/dist-packages/statsmodels/tsa/base/tsa_model.py:836: ValueWarning: No supported index is available. Prediction results will be given with an integer index beginning at `start`.\n",
            "  return get_prediction_index(\n",
            "/usr/local/lib/python3.10/dist-packages/statsmodels/tsa/base/tsa_model.py:836: FutureWarning: No supported index is available. In the next version, calling this method in a model without a supported index will result in an exception.\n",
            "  return get_prediction_index(\n"
          ]
        },
        {
          "output_type": "stream",
          "name": "stdout",
          "text": [
            "Finished training model...\n",
            "Predicting for store 1 and item 32\n",
            "             date  store  item  sales  is_hol\n",
            "566060 2013-01-01      1    32     22       1\n",
            "566061 2013-01-02      1    32     22       0\n",
            "566062 2013-01-03      1    32     30       0\n",
            "566063 2013-01-04      1    32     24       0\n",
            "566064 2013-01-05      1    32     28       0\n",
            "...           ...    ...   ...    ...     ...\n",
            "567881 2017-12-27      1    32     28       0\n",
            "567882 2017-12-28      1    32     37       0\n",
            "567883 2017-12-29      1    32     37       0\n",
            "567884 2017-12-30      1    32     25       0\n",
            "567885 2017-12-31      1    32     41       0\n",
            "\n",
            "[1826 rows x 5 columns]\n"
          ]
        },
        {
          "output_type": "stream",
          "name": "stderr",
          "text": [
            "/usr/local/lib/python3.10/dist-packages/statsmodels/tsa/base/tsa_model.py:836: ValueWarning: No supported index is available. Prediction results will be given with an integer index beginning at `start`.\n",
            "  return get_prediction_index(\n",
            "/usr/local/lib/python3.10/dist-packages/statsmodels/tsa/base/tsa_model.py:836: FutureWarning: No supported index is available. In the next version, calling this method in a model without a supported index will result in an exception.\n",
            "  return get_prediction_index(\n"
          ]
        },
        {
          "output_type": "stream",
          "name": "stdout",
          "text": [
            "Finished training model...\n",
            "Predicting for store 2 and item 32\n",
            "             date  store  item  sales  is_hol\n",
            "567886 2013-01-01      2    32     26       1\n",
            "567887 2013-01-02      2    32     23       0\n",
            "567888 2013-01-03      2    32     32       0\n",
            "567889 2013-01-04      2    32     34       0\n",
            "567890 2013-01-05      2    32     35       0\n",
            "...           ...    ...   ...    ...     ...\n",
            "569707 2017-12-27      2    32     50       0\n",
            "569708 2017-12-28      2    32     59       0\n",
            "569709 2017-12-29      2    32     50       0\n",
            "569710 2017-12-30      2    32     62       0\n",
            "569711 2017-12-31      2    32     60       0\n",
            "\n",
            "[1826 rows x 5 columns]\n"
          ]
        },
        {
          "output_type": "stream",
          "name": "stderr",
          "text": [
            "/usr/local/lib/python3.10/dist-packages/statsmodels/tsa/base/tsa_model.py:836: ValueWarning: No supported index is available. Prediction results will be given with an integer index beginning at `start`.\n",
            "  return get_prediction_index(\n",
            "/usr/local/lib/python3.10/dist-packages/statsmodels/tsa/base/tsa_model.py:836: FutureWarning: No supported index is available. In the next version, calling this method in a model without a supported index will result in an exception.\n",
            "  return get_prediction_index(\n"
          ]
        },
        {
          "output_type": "stream",
          "name": "stdout",
          "text": [
            "Finished training model...\n",
            "Predicting for store 3 and item 32\n",
            "             date  store  item  sales  is_hol\n",
            "569712 2013-01-01      3    32     31       1\n",
            "569713 2013-01-02      3    32     29       0\n",
            "569714 2013-01-03      3    32     30       0\n",
            "569715 2013-01-04      3    32     27       0\n",
            "569716 2013-01-05      3    32     37       0\n",
            "...           ...    ...   ...    ...     ...\n",
            "571533 2017-12-27      3    32     44       0\n",
            "571534 2017-12-28      3    32     51       0\n",
            "571535 2017-12-29      3    32     50       0\n",
            "571536 2017-12-30      3    32     51       0\n",
            "571537 2017-12-31      3    32     53       0\n",
            "\n",
            "[1826 rows x 5 columns]\n"
          ]
        },
        {
          "output_type": "stream",
          "name": "stderr",
          "text": [
            "/usr/local/lib/python3.10/dist-packages/statsmodels/tsa/base/tsa_model.py:836: ValueWarning: No supported index is available. Prediction results will be given with an integer index beginning at `start`.\n",
            "  return get_prediction_index(\n",
            "/usr/local/lib/python3.10/dist-packages/statsmodels/tsa/base/tsa_model.py:836: FutureWarning: No supported index is available. In the next version, calling this method in a model without a supported index will result in an exception.\n",
            "  return get_prediction_index(\n"
          ]
        },
        {
          "output_type": "stream",
          "name": "stdout",
          "text": [
            "Finished training model...\n",
            "Predicting for store 4 and item 32\n",
            "             date  store  item  sales  is_hol\n",
            "571538 2013-01-01      4    32     24       1\n",
            "571539 2013-01-02      4    32     29       0\n",
            "571540 2013-01-03      4    32     22       0\n",
            "571541 2013-01-04      4    32     28       0\n",
            "571542 2013-01-05      4    32     24       0\n",
            "...           ...    ...   ...    ...     ...\n",
            "573359 2017-12-27      4    32     38       0\n",
            "573360 2017-12-28      4    32     38       0\n",
            "573361 2017-12-29      4    32     43       0\n",
            "573362 2017-12-30      4    32     47       0\n",
            "573363 2017-12-31      4    32     44       0\n",
            "\n",
            "[1826 rows x 5 columns]\n"
          ]
        },
        {
          "output_type": "stream",
          "name": "stderr",
          "text": [
            "/usr/local/lib/python3.10/dist-packages/statsmodels/tsa/base/tsa_model.py:836: ValueWarning: No supported index is available. Prediction results will be given with an integer index beginning at `start`.\n",
            "  return get_prediction_index(\n",
            "/usr/local/lib/python3.10/dist-packages/statsmodels/tsa/base/tsa_model.py:836: FutureWarning: No supported index is available. In the next version, calling this method in a model without a supported index will result in an exception.\n",
            "  return get_prediction_index(\n"
          ]
        },
        {
          "output_type": "stream",
          "name": "stdout",
          "text": [
            "Finished training model...\n",
            "Predicting for store 5 and item 32\n",
            "             date  store  item  sales  is_hol\n",
            "573364 2013-01-01      5    32     20       1\n",
            "573365 2013-01-02      5    32     13       0\n",
            "573366 2013-01-03      5    32     18       0\n",
            "573367 2013-01-04      5    32     24       0\n",
            "573368 2013-01-05      5    32     20       0\n",
            "...           ...    ...   ...    ...     ...\n",
            "575185 2017-12-27      5    32     24       0\n",
            "575186 2017-12-28      5    32     31       0\n",
            "575187 2017-12-29      5    32     42       0\n",
            "575188 2017-12-30      5    32     33       0\n",
            "575189 2017-12-31      5    32     27       0\n",
            "\n",
            "[1826 rows x 5 columns]\n"
          ]
        },
        {
          "output_type": "stream",
          "name": "stderr",
          "text": [
            "/usr/local/lib/python3.10/dist-packages/statsmodels/tsa/base/tsa_model.py:836: ValueWarning: No supported index is available. Prediction results will be given with an integer index beginning at `start`.\n",
            "  return get_prediction_index(\n",
            "/usr/local/lib/python3.10/dist-packages/statsmodels/tsa/base/tsa_model.py:836: FutureWarning: No supported index is available. In the next version, calling this method in a model without a supported index will result in an exception.\n",
            "  return get_prediction_index(\n"
          ]
        },
        {
          "output_type": "stream",
          "name": "stdout",
          "text": [
            "Finished training model...\n",
            "Predicting for store 6 and item 32\n",
            "             date  store  item  sales  is_hol\n",
            "575190 2013-01-01      6    32     16       1\n",
            "575191 2013-01-02      6    32     21       0\n",
            "575192 2013-01-03      6    32     21       0\n",
            "575193 2013-01-04      6    32     18       0\n",
            "575194 2013-01-05      6    32     18       0\n",
            "...           ...    ...   ...    ...     ...\n",
            "577011 2017-12-27      6    32     20       0\n",
            "577012 2017-12-28      6    32     37       0\n",
            "577013 2017-12-29      6    32     31       0\n",
            "577014 2017-12-30      6    32     31       0\n",
            "577015 2017-12-31      6    32     31       0\n",
            "\n",
            "[1826 rows x 5 columns]\n"
          ]
        },
        {
          "output_type": "stream",
          "name": "stderr",
          "text": [
            "/usr/local/lib/python3.10/dist-packages/statsmodels/tsa/base/tsa_model.py:836: ValueWarning: No supported index is available. Prediction results will be given with an integer index beginning at `start`.\n",
            "  return get_prediction_index(\n",
            "/usr/local/lib/python3.10/dist-packages/statsmodels/tsa/base/tsa_model.py:836: FutureWarning: No supported index is available. In the next version, calling this method in a model without a supported index will result in an exception.\n",
            "  return get_prediction_index(\n"
          ]
        },
        {
          "output_type": "stream",
          "name": "stdout",
          "text": [
            "Finished training model...\n",
            "Predicting for store 7 and item 32\n",
            "             date  store  item  sales  is_hol\n",
            "577016 2013-01-01      7    32     18       1\n",
            "577017 2013-01-02      7    32     12       0\n",
            "577018 2013-01-03      7    32     25       0\n",
            "577019 2013-01-04      7    32     13       0\n",
            "577020 2013-01-05      7    32     15       0\n",
            "...           ...    ...   ...    ...     ...\n",
            "578837 2017-12-27      7    32     30       0\n",
            "578838 2017-12-28      7    32     21       0\n",
            "578839 2017-12-29      7    32     31       0\n",
            "578840 2017-12-30      7    32     32       0\n",
            "578841 2017-12-31      7    32     34       0\n",
            "\n",
            "[1826 rows x 5 columns]\n"
          ]
        },
        {
          "output_type": "stream",
          "name": "stderr",
          "text": [
            "/usr/local/lib/python3.10/dist-packages/statsmodels/tsa/base/tsa_model.py:836: ValueWarning: No supported index is available. Prediction results will be given with an integer index beginning at `start`.\n",
            "  return get_prediction_index(\n",
            "/usr/local/lib/python3.10/dist-packages/statsmodels/tsa/base/tsa_model.py:836: FutureWarning: No supported index is available. In the next version, calling this method in a model without a supported index will result in an exception.\n",
            "  return get_prediction_index(\n"
          ]
        },
        {
          "output_type": "stream",
          "name": "stdout",
          "text": [
            "Finished training model...\n",
            "Predicting for store 8 and item 32\n",
            "             date  store  item  sales  is_hol\n",
            "578842 2013-01-01      8    32     27       1\n",
            "578843 2013-01-02      8    32     29       0\n",
            "578844 2013-01-03      8    32     34       0\n",
            "578845 2013-01-04      8    32     39       0\n",
            "578846 2013-01-05      8    32     23       0\n",
            "...           ...    ...   ...    ...     ...\n",
            "580663 2017-12-27      8    32     32       0\n",
            "580664 2017-12-28      8    32     38       0\n",
            "580665 2017-12-29      8    32     52       0\n",
            "580666 2017-12-30      8    32     55       0\n",
            "580667 2017-12-31      8    32     61       0\n",
            "\n",
            "[1826 rows x 5 columns]\n"
          ]
        },
        {
          "output_type": "stream",
          "name": "stderr",
          "text": [
            "/usr/local/lib/python3.10/dist-packages/statsmodels/tsa/base/tsa_model.py:836: ValueWarning: No supported index is available. Prediction results will be given with an integer index beginning at `start`.\n",
            "  return get_prediction_index(\n",
            "/usr/local/lib/python3.10/dist-packages/statsmodels/tsa/base/tsa_model.py:836: FutureWarning: No supported index is available. In the next version, calling this method in a model without a supported index will result in an exception.\n",
            "  return get_prediction_index(\n"
          ]
        },
        {
          "output_type": "stream",
          "name": "stdout",
          "text": [
            "Finished training model...\n",
            "Predicting for store 9 and item 32\n",
            "             date  store  item  sales  is_hol\n",
            "580668 2013-01-01      9    32     23       1\n",
            "580669 2013-01-02      9    32     19       0\n",
            "580670 2013-01-03      9    32     21       0\n",
            "580671 2013-01-04      9    32     23       0\n",
            "580672 2013-01-05      9    32     16       0\n",
            "...           ...    ...   ...    ...     ...\n",
            "582489 2017-12-27      9    32     41       0\n",
            "582490 2017-12-28      9    32     38       0\n",
            "582491 2017-12-29      9    32     45       0\n",
            "582492 2017-12-30      9    32     56       0\n",
            "582493 2017-12-31      9    32     40       0\n",
            "\n",
            "[1826 rows x 5 columns]\n"
          ]
        },
        {
          "output_type": "stream",
          "name": "stderr",
          "text": [
            "/usr/local/lib/python3.10/dist-packages/statsmodels/tsa/base/tsa_model.py:836: ValueWarning: No supported index is available. Prediction results will be given with an integer index beginning at `start`.\n",
            "  return get_prediction_index(\n",
            "/usr/local/lib/python3.10/dist-packages/statsmodels/tsa/base/tsa_model.py:836: FutureWarning: No supported index is available. In the next version, calling this method in a model without a supported index will result in an exception.\n",
            "  return get_prediction_index(\n"
          ]
        },
        {
          "output_type": "stream",
          "name": "stdout",
          "text": [
            "Finished training model...\n",
            "Predicting for store 10 and item 32\n",
            "             date  store  item  sales  is_hol\n",
            "582494 2013-01-01     10    32     30       1\n",
            "582495 2013-01-02     10    32     18       0\n",
            "582496 2013-01-03     10    32     26       0\n",
            "582497 2013-01-04     10    32     31       0\n",
            "582498 2013-01-05     10    32     24       0\n",
            "...           ...    ...   ...    ...     ...\n",
            "584315 2017-12-27     10    32     42       0\n",
            "584316 2017-12-28     10    32     41       0\n",
            "584317 2017-12-29     10    32     41       0\n",
            "584318 2017-12-30     10    32     40       0\n",
            "584319 2017-12-31     10    32     43       0\n",
            "\n",
            "[1826 rows x 5 columns]\n"
          ]
        },
        {
          "output_type": "stream",
          "name": "stderr",
          "text": [
            "/usr/local/lib/python3.10/dist-packages/statsmodels/tsa/base/tsa_model.py:836: ValueWarning: No supported index is available. Prediction results will be given with an integer index beginning at `start`.\n",
            "  return get_prediction_index(\n",
            "/usr/local/lib/python3.10/dist-packages/statsmodels/tsa/base/tsa_model.py:836: FutureWarning: No supported index is available. In the next version, calling this method in a model without a supported index will result in an exception.\n",
            "  return get_prediction_index(\n"
          ]
        },
        {
          "output_type": "stream",
          "name": "stdout",
          "text": [
            "Finished training model...\n",
            "Predicting for store 1 and item 33\n",
            "             date  store  item  sales  is_hol\n",
            "584320 2013-01-01      1    33     37       1\n",
            "584321 2013-01-02      1    33     30       0\n",
            "584322 2013-01-03      1    33     40       0\n",
            "584323 2013-01-04      1    33     48       0\n",
            "584324 2013-01-05      1    33     31       0\n",
            "...           ...    ...   ...    ...     ...\n",
            "586141 2017-12-27      1    33     63       0\n",
            "586142 2017-12-28      1    33     36       0\n",
            "586143 2017-12-29      1    33     48       0\n",
            "586144 2017-12-30      1    33     62       0\n",
            "586145 2017-12-31      1    33     61       0\n",
            "\n",
            "[1826 rows x 5 columns]\n"
          ]
        },
        {
          "output_type": "stream",
          "name": "stderr",
          "text": [
            "/usr/local/lib/python3.10/dist-packages/statsmodels/tsa/base/tsa_model.py:836: ValueWarning: No supported index is available. Prediction results will be given with an integer index beginning at `start`.\n",
            "  return get_prediction_index(\n",
            "/usr/local/lib/python3.10/dist-packages/statsmodels/tsa/base/tsa_model.py:836: FutureWarning: No supported index is available. In the next version, calling this method in a model without a supported index will result in an exception.\n",
            "  return get_prediction_index(\n"
          ]
        },
        {
          "output_type": "stream",
          "name": "stdout",
          "text": [
            "Finished training model...\n",
            "Predicting for store 2 and item 33\n",
            "             date  store  item  sales  is_hol\n",
            "586146 2013-01-01      2    33     43       1\n",
            "586147 2013-01-02      2    33     49       0\n",
            "586148 2013-01-03      2    33     63       0\n",
            "586149 2013-01-04      2    33     52       0\n",
            "586150 2013-01-05      2    33     56       0\n",
            "...           ...    ...   ...    ...     ...\n",
            "587967 2017-12-27      2    33     59       0\n",
            "587968 2017-12-28      2    33     74       0\n",
            "587969 2017-12-29      2    33     56       0\n",
            "587970 2017-12-30      2    33     83       0\n",
            "587971 2017-12-31      2    33     83       0\n",
            "\n",
            "[1826 rows x 5 columns]\n"
          ]
        },
        {
          "output_type": "stream",
          "name": "stderr",
          "text": [
            "/usr/local/lib/python3.10/dist-packages/statsmodels/tsa/base/tsa_model.py:836: ValueWarning: No supported index is available. Prediction results will be given with an integer index beginning at `start`.\n",
            "  return get_prediction_index(\n",
            "/usr/local/lib/python3.10/dist-packages/statsmodels/tsa/base/tsa_model.py:836: FutureWarning: No supported index is available. In the next version, calling this method in a model without a supported index will result in an exception.\n",
            "  return get_prediction_index(\n"
          ]
        },
        {
          "output_type": "stream",
          "name": "stdout",
          "text": [
            "Finished training model...\n",
            "Predicting for store 3 and item 33\n",
            "             date  store  item  sales  is_hol\n",
            "587972 2013-01-01      3    33     38       1\n",
            "587973 2013-01-02      3    33     36       0\n",
            "587974 2013-01-03      3    33     42       0\n",
            "587975 2013-01-04      3    33     45       0\n",
            "587976 2013-01-05      3    33     45       0\n",
            "...           ...    ...   ...    ...     ...\n",
            "589793 2017-12-27      3    33     52       0\n",
            "589794 2017-12-28      3    33     67       0\n",
            "589795 2017-12-29      3    33     78       0\n",
            "589796 2017-12-30      3    33     72       0\n",
            "589797 2017-12-31      3    33     91       0\n",
            "\n",
            "[1826 rows x 5 columns]\n"
          ]
        },
        {
          "output_type": "stream",
          "name": "stderr",
          "text": [
            "/usr/local/lib/python3.10/dist-packages/statsmodels/tsa/base/tsa_model.py:836: ValueWarning: No supported index is available. Prediction results will be given with an integer index beginning at `start`.\n",
            "  return get_prediction_index(\n",
            "/usr/local/lib/python3.10/dist-packages/statsmodels/tsa/base/tsa_model.py:836: FutureWarning: No supported index is available. In the next version, calling this method in a model without a supported index will result in an exception.\n",
            "  return get_prediction_index(\n"
          ]
        },
        {
          "output_type": "stream",
          "name": "stdout",
          "text": [
            "Finished training model...\n",
            "Predicting for store 4 and item 33\n",
            "             date  store  item  sales  is_hol\n",
            "589798 2013-01-01      4    33     42       1\n",
            "589799 2013-01-02      4    33     49       0\n",
            "589800 2013-01-03      4    33     51       0\n",
            "589801 2013-01-04      4    33     39       0\n",
            "589802 2013-01-05      4    33     47       0\n",
            "...           ...    ...   ...    ...     ...\n",
            "591619 2017-12-27      4    33     56       0\n",
            "591620 2017-12-28      4    33     57       0\n",
            "591621 2017-12-29      4    33     63       0\n",
            "591622 2017-12-30      4    33     76       0\n",
            "591623 2017-12-31      4    33     80       0\n",
            "\n",
            "[1826 rows x 5 columns]\n"
          ]
        },
        {
          "output_type": "stream",
          "name": "stderr",
          "text": [
            "/usr/local/lib/python3.10/dist-packages/statsmodels/tsa/base/tsa_model.py:836: ValueWarning: No supported index is available. Prediction results will be given with an integer index beginning at `start`.\n",
            "  return get_prediction_index(\n",
            "/usr/local/lib/python3.10/dist-packages/statsmodels/tsa/base/tsa_model.py:836: FutureWarning: No supported index is available. In the next version, calling this method in a model without a supported index will result in an exception.\n",
            "  return get_prediction_index(\n"
          ]
        },
        {
          "output_type": "stream",
          "name": "stdout",
          "text": [
            "Finished training model...\n",
            "Predicting for store 5 and item 33\n",
            "             date  store  item  sales  is_hol\n",
            "591624 2013-01-01      5    33     32       1\n",
            "591625 2013-01-02      5    33     26       0\n",
            "591626 2013-01-03      5    33     24       0\n",
            "591627 2013-01-04      5    33     33       0\n",
            "591628 2013-01-05      5    33     25       0\n",
            "...           ...    ...   ...    ...     ...\n",
            "593445 2017-12-27      5    33     37       0\n",
            "593446 2017-12-28      5    33     39       0\n",
            "593447 2017-12-29      5    33     33       0\n",
            "593448 2017-12-30      5    33     43       0\n",
            "593449 2017-12-31      5    33     53       0\n",
            "\n",
            "[1826 rows x 5 columns]\n"
          ]
        },
        {
          "output_type": "stream",
          "name": "stderr",
          "text": [
            "/usr/local/lib/python3.10/dist-packages/statsmodels/tsa/base/tsa_model.py:836: ValueWarning: No supported index is available. Prediction results will be given with an integer index beginning at `start`.\n",
            "  return get_prediction_index(\n",
            "/usr/local/lib/python3.10/dist-packages/statsmodels/tsa/base/tsa_model.py:836: FutureWarning: No supported index is available. In the next version, calling this method in a model without a supported index will result in an exception.\n",
            "  return get_prediction_index(\n"
          ]
        },
        {
          "output_type": "stream",
          "name": "stdout",
          "text": [
            "Finished training model...\n",
            "Predicting for store 6 and item 33\n",
            "             date  store  item  sales  is_hol\n",
            "593450 2013-01-01      6    33     28       1\n",
            "593451 2013-01-02      6    33     18       0\n",
            "593452 2013-01-03      6    33     29       0\n",
            "593453 2013-01-04      6    33     31       0\n",
            "593454 2013-01-05      6    33     47       0\n",
            "...           ...    ...   ...    ...     ...\n",
            "595271 2017-12-27      6    33     42       0\n",
            "595272 2017-12-28      6    33     46       0\n",
            "595273 2017-12-29      6    33     42       0\n",
            "595274 2017-12-30      6    33     65       0\n",
            "595275 2017-12-31      6    33     49       0\n",
            "\n",
            "[1826 rows x 5 columns]\n"
          ]
        },
        {
          "output_type": "stream",
          "name": "stderr",
          "text": [
            "/usr/local/lib/python3.10/dist-packages/statsmodels/tsa/base/tsa_model.py:836: ValueWarning: No supported index is available. Prediction results will be given with an integer index beginning at `start`.\n",
            "  return get_prediction_index(\n",
            "/usr/local/lib/python3.10/dist-packages/statsmodels/tsa/base/tsa_model.py:836: FutureWarning: No supported index is available. In the next version, calling this method in a model without a supported index will result in an exception.\n",
            "  return get_prediction_index(\n"
          ]
        },
        {
          "output_type": "stream",
          "name": "stdout",
          "text": [
            "Finished training model...\n",
            "Predicting for store 7 and item 33\n",
            "             date  store  item  sales  is_hol\n",
            "595276 2013-01-01      7    33     31       1\n",
            "595277 2013-01-02      7    33     19       0\n",
            "595278 2013-01-03      7    33     25       0\n",
            "595279 2013-01-04      7    33     24       0\n",
            "595280 2013-01-05      7    33     27       0\n",
            "...           ...    ...   ...    ...     ...\n",
            "597097 2017-12-27      7    33     39       0\n",
            "597098 2017-12-28      7    33     62       0\n",
            "597099 2017-12-29      7    33     49       0\n",
            "597100 2017-12-30      7    33     41       0\n",
            "597101 2017-12-31      7    33     58       0\n",
            "\n",
            "[1826 rows x 5 columns]\n"
          ]
        },
        {
          "output_type": "stream",
          "name": "stderr",
          "text": [
            "/usr/local/lib/python3.10/dist-packages/statsmodels/tsa/base/tsa_model.py:836: ValueWarning: No supported index is available. Prediction results will be given with an integer index beginning at `start`.\n",
            "  return get_prediction_index(\n",
            "/usr/local/lib/python3.10/dist-packages/statsmodels/tsa/base/tsa_model.py:836: FutureWarning: No supported index is available. In the next version, calling this method in a model without a supported index will result in an exception.\n",
            "  return get_prediction_index(\n"
          ]
        },
        {
          "output_type": "stream",
          "name": "stdout",
          "text": [
            "Finished training model...\n",
            "Predicting for store 8 and item 33\n",
            "             date  store  item  sales  is_hol\n",
            "597102 2013-01-01      8    33     49       1\n",
            "597103 2013-01-02      8    33     50       0\n",
            "597104 2013-01-03      8    33     39       0\n",
            "597105 2013-01-04      8    33     59       0\n",
            "597106 2013-01-05      8    33     59       0\n",
            "...           ...    ...   ...    ...     ...\n",
            "598923 2017-12-27      8    33     58       0\n",
            "598924 2017-12-28      8    33     74       0\n",
            "598925 2017-12-29      8    33     51       0\n",
            "598926 2017-12-30      8    33     67       0\n",
            "598927 2017-12-31      8    33    100       0\n",
            "\n",
            "[1826 rows x 5 columns]\n"
          ]
        },
        {
          "output_type": "stream",
          "name": "stderr",
          "text": [
            "/usr/local/lib/python3.10/dist-packages/statsmodels/tsa/base/tsa_model.py:836: ValueWarning: No supported index is available. Prediction results will be given with an integer index beginning at `start`.\n",
            "  return get_prediction_index(\n",
            "/usr/local/lib/python3.10/dist-packages/statsmodels/tsa/base/tsa_model.py:836: FutureWarning: No supported index is available. In the next version, calling this method in a model without a supported index will result in an exception.\n",
            "  return get_prediction_index(\n"
          ]
        },
        {
          "output_type": "stream",
          "name": "stdout",
          "text": [
            "Finished training model...\n",
            "Predicting for store 9 and item 33\n",
            "             date  store  item  sales  is_hol\n",
            "598928 2013-01-01      9    33     37       1\n",
            "598929 2013-01-02      9    33     23       0\n",
            "598930 2013-01-03      9    33     36       0\n",
            "598931 2013-01-04      9    33     36       0\n",
            "598932 2013-01-05      9    33     39       0\n",
            "...           ...    ...   ...    ...     ...\n",
            "600749 2017-12-27      9    33     47       0\n",
            "600750 2017-12-28      9    33     62       0\n",
            "600751 2017-12-29      9    33     70       0\n",
            "600752 2017-12-30      9    33     59       0\n",
            "600753 2017-12-31      9    33     70       0\n",
            "\n",
            "[1826 rows x 5 columns]\n"
          ]
        },
        {
          "output_type": "stream",
          "name": "stderr",
          "text": [
            "/usr/local/lib/python3.10/dist-packages/statsmodels/tsa/base/tsa_model.py:836: ValueWarning: No supported index is available. Prediction results will be given with an integer index beginning at `start`.\n",
            "  return get_prediction_index(\n",
            "/usr/local/lib/python3.10/dist-packages/statsmodels/tsa/base/tsa_model.py:836: FutureWarning: No supported index is available. In the next version, calling this method in a model without a supported index will result in an exception.\n",
            "  return get_prediction_index(\n"
          ]
        },
        {
          "output_type": "stream",
          "name": "stdout",
          "text": [
            "Finished training model...\n",
            "Predicting for store 10 and item 33\n",
            "             date  store  item  sales  is_hol\n",
            "600754 2013-01-01     10    33     47       1\n",
            "600755 2013-01-02     10    33     45       0\n",
            "600756 2013-01-03     10    33     39       0\n",
            "600757 2013-01-04     10    33     48       0\n",
            "600758 2013-01-05     10    33     38       0\n",
            "...           ...    ...   ...    ...     ...\n",
            "602575 2017-12-27     10    33     52       0\n",
            "602576 2017-12-28     10    33     61       0\n",
            "602577 2017-12-29     10    33     79       0\n",
            "602578 2017-12-30     10    33     75       0\n",
            "602579 2017-12-31     10    33     77       0\n",
            "\n",
            "[1826 rows x 5 columns]\n"
          ]
        },
        {
          "output_type": "stream",
          "name": "stderr",
          "text": [
            "/usr/local/lib/python3.10/dist-packages/statsmodels/tsa/base/tsa_model.py:836: ValueWarning: No supported index is available. Prediction results will be given with an integer index beginning at `start`.\n",
            "  return get_prediction_index(\n",
            "/usr/local/lib/python3.10/dist-packages/statsmodels/tsa/base/tsa_model.py:836: FutureWarning: No supported index is available. In the next version, calling this method in a model without a supported index will result in an exception.\n",
            "  return get_prediction_index(\n"
          ]
        },
        {
          "output_type": "stream",
          "name": "stdout",
          "text": [
            "Finished training model...\n",
            "Predicting for store 1 and item 34\n",
            "             date  store  item  sales  is_hol\n",
            "602580 2013-01-01      1    34     23       1\n",
            "602581 2013-01-02      1    34      6       0\n",
            "602582 2013-01-03      1    34     15       0\n",
            "602583 2013-01-04      1    34     13       0\n",
            "602584 2013-01-05      1    34     15       0\n",
            "...           ...    ...   ...    ...     ...\n",
            "604401 2017-12-27      1    34     19       0\n",
            "604402 2017-12-28      1    34     20       0\n",
            "604403 2017-12-29      1    34     25       0\n",
            "604404 2017-12-30      1    34     23       0\n",
            "604405 2017-12-31      1    34     32       0\n",
            "\n",
            "[1826 rows x 5 columns]\n"
          ]
        },
        {
          "output_type": "stream",
          "name": "stderr",
          "text": [
            "/usr/local/lib/python3.10/dist-packages/statsmodels/tsa/base/tsa_model.py:836: ValueWarning: No supported index is available. Prediction results will be given with an integer index beginning at `start`.\n",
            "  return get_prediction_index(\n",
            "/usr/local/lib/python3.10/dist-packages/statsmodels/tsa/base/tsa_model.py:836: FutureWarning: No supported index is available. In the next version, calling this method in a model without a supported index will result in an exception.\n",
            "  return get_prediction_index(\n"
          ]
        },
        {
          "output_type": "stream",
          "name": "stdout",
          "text": [
            "Finished training model...\n",
            "Predicting for store 2 and item 34\n",
            "             date  store  item  sales  is_hol\n",
            "604406 2013-01-01      2    34     18       1\n",
            "604407 2013-01-02      2    34     20       0\n",
            "604408 2013-01-03      2    34     23       0\n",
            "604409 2013-01-04      2    34     14       0\n",
            "604410 2013-01-05      2    34     18       0\n",
            "...           ...    ...   ...    ...     ...\n",
            "606227 2017-12-27      2    34     21       0\n",
            "606228 2017-12-28      2    34     21       0\n",
            "606229 2017-12-29      2    34     25       0\n",
            "606230 2017-12-30      2    34     26       0\n",
            "606231 2017-12-31      2    34     29       0\n",
            "\n",
            "[1826 rows x 5 columns]\n"
          ]
        },
        {
          "output_type": "stream",
          "name": "stderr",
          "text": [
            "/usr/local/lib/python3.10/dist-packages/statsmodels/tsa/base/tsa_model.py:836: ValueWarning: No supported index is available. Prediction results will be given with an integer index beginning at `start`.\n",
            "  return get_prediction_index(\n",
            "/usr/local/lib/python3.10/dist-packages/statsmodels/tsa/base/tsa_model.py:836: FutureWarning: No supported index is available. In the next version, calling this method in a model without a supported index will result in an exception.\n",
            "  return get_prediction_index(\n"
          ]
        },
        {
          "output_type": "stream",
          "name": "stdout",
          "text": [
            "Finished training model...\n",
            "Predicting for store 3 and item 34\n",
            "             date  store  item  sales  is_hol\n",
            "606232 2013-01-01      3    34     24       1\n",
            "606233 2013-01-02      3    34     11       0\n",
            "606234 2013-01-03      3    34     16       0\n",
            "606235 2013-01-04      3    34     22       0\n",
            "606236 2013-01-05      3    34     19       0\n",
            "...           ...    ...   ...    ...     ...\n",
            "608053 2017-12-27      3    34     30       0\n",
            "608054 2017-12-28      3    34     18       0\n",
            "608055 2017-12-29      3    34     21       0\n",
            "608056 2017-12-30      3    34     30       0\n",
            "608057 2017-12-31      3    34     36       0\n",
            "\n",
            "[1826 rows x 5 columns]\n"
          ]
        },
        {
          "output_type": "stream",
          "name": "stderr",
          "text": [
            "/usr/local/lib/python3.10/dist-packages/statsmodels/tsa/base/tsa_model.py:836: ValueWarning: No supported index is available. Prediction results will be given with an integer index beginning at `start`.\n",
            "  return get_prediction_index(\n",
            "/usr/local/lib/python3.10/dist-packages/statsmodels/tsa/base/tsa_model.py:836: FutureWarning: No supported index is available. In the next version, calling this method in a model without a supported index will result in an exception.\n",
            "  return get_prediction_index(\n"
          ]
        },
        {
          "output_type": "stream",
          "name": "stdout",
          "text": [
            "Finished training model...\n",
            "Predicting for store 4 and item 34\n",
            "             date  store  item  sales  is_hol\n",
            "608058 2013-01-01      4    34     11       1\n",
            "608059 2013-01-02      4    34     12       0\n",
            "608060 2013-01-03      4    34     12       0\n",
            "608061 2013-01-04      4    34     11       0\n",
            "608062 2013-01-05      4    34     11       0\n",
            "...           ...    ...   ...    ...     ...\n",
            "609879 2017-12-27      4    34     21       0\n",
            "609880 2017-12-28      4    34     16       0\n",
            "609881 2017-12-29      4    34     22       0\n",
            "609882 2017-12-30      4    34     33       0\n",
            "609883 2017-12-31      4    34     31       0\n",
            "\n",
            "[1826 rows x 5 columns]\n"
          ]
        },
        {
          "output_type": "stream",
          "name": "stderr",
          "text": [
            "/usr/local/lib/python3.10/dist-packages/statsmodels/tsa/base/tsa_model.py:836: ValueWarning: No supported index is available. Prediction results will be given with an integer index beginning at `start`.\n",
            "  return get_prediction_index(\n",
            "/usr/local/lib/python3.10/dist-packages/statsmodels/tsa/base/tsa_model.py:836: FutureWarning: No supported index is available. In the next version, calling this method in a model without a supported index will result in an exception.\n",
            "  return get_prediction_index(\n"
          ]
        },
        {
          "output_type": "stream",
          "name": "stdout",
          "text": [
            "Finished training model...\n",
            "Predicting for store 5 and item 34\n",
            "             date  store  item  sales  is_hol\n",
            "609884 2013-01-01      5    34      5       1\n",
            "609885 2013-01-02      5    34     10       0\n",
            "609886 2013-01-03      5    34     19       0\n",
            "609887 2013-01-04      5    34      8       0\n",
            "609888 2013-01-05      5    34     10       0\n",
            "...           ...    ...   ...    ...     ...\n",
            "611705 2017-12-27      5    34     14       0\n",
            "611706 2017-12-28      5    34     15       0\n",
            "611707 2017-12-29      5    34      9       0\n",
            "611708 2017-12-30      5    34     19       0\n",
            "611709 2017-12-31      5    34     16       0\n",
            "\n",
            "[1826 rows x 5 columns]\n"
          ]
        },
        {
          "output_type": "stream",
          "name": "stderr",
          "text": [
            "/usr/local/lib/python3.10/dist-packages/statsmodels/tsa/base/tsa_model.py:836: ValueWarning: No supported index is available. Prediction results will be given with an integer index beginning at `start`.\n",
            "  return get_prediction_index(\n",
            "/usr/local/lib/python3.10/dist-packages/statsmodels/tsa/base/tsa_model.py:836: FutureWarning: No supported index is available. In the next version, calling this method in a model without a supported index will result in an exception.\n",
            "  return get_prediction_index(\n"
          ]
        },
        {
          "output_type": "stream",
          "name": "stdout",
          "text": [
            "Finished training model...\n",
            "Predicting for store 6 and item 34\n",
            "             date  store  item  sales  is_hol\n",
            "611710 2013-01-01      6    34      9       1\n",
            "611711 2013-01-02      6    34     13       0\n",
            "611712 2013-01-03      6    34      9       0\n",
            "611713 2013-01-04      6    34     15       0\n",
            "611714 2013-01-05      6    34      8       0\n",
            "...           ...    ...   ...    ...     ...\n",
            "613531 2017-12-27      6    34     14       0\n",
            "613532 2017-12-28      6    34     17       0\n",
            "613533 2017-12-29      6    34     10       0\n",
            "613534 2017-12-30      6    34     20       0\n",
            "613535 2017-12-31      6    34     22       0\n",
            "\n",
            "[1826 rows x 5 columns]\n"
          ]
        },
        {
          "output_type": "stream",
          "name": "stderr",
          "text": [
            "/usr/local/lib/python3.10/dist-packages/statsmodels/tsa/base/tsa_model.py:836: ValueWarning: No supported index is available. Prediction results will be given with an integer index beginning at `start`.\n",
            "  return get_prediction_index(\n",
            "/usr/local/lib/python3.10/dist-packages/statsmodels/tsa/base/tsa_model.py:836: FutureWarning: No supported index is available. In the next version, calling this method in a model without a supported index will result in an exception.\n",
            "  return get_prediction_index(\n"
          ]
        },
        {
          "output_type": "stream",
          "name": "stdout",
          "text": [
            "Finished training model...\n",
            "Predicting for store 7 and item 34\n",
            "             date  store  item  sales  is_hol\n",
            "613536 2013-01-01      7    34      9       1\n",
            "613537 2013-01-02      7    34      7       0\n",
            "613538 2013-01-03      7    34     15       0\n",
            "613539 2013-01-04      7    34     15       0\n",
            "613540 2013-01-05      7    34     13       0\n",
            "...           ...    ...   ...    ...     ...\n",
            "615357 2017-12-27      7    34     19       0\n",
            "615358 2017-12-28      7    34     13       0\n",
            "615359 2017-12-29      7    34     14       0\n",
            "615360 2017-12-30      7    34     21       0\n",
            "615361 2017-12-31      7    34     18       0\n",
            "\n",
            "[1826 rows x 5 columns]\n"
          ]
        },
        {
          "output_type": "stream",
          "name": "stderr",
          "text": [
            "/usr/local/lib/python3.10/dist-packages/statsmodels/tsa/base/tsa_model.py:836: ValueWarning: No supported index is available. Prediction results will be given with an integer index beginning at `start`.\n",
            "  return get_prediction_index(\n",
            "/usr/local/lib/python3.10/dist-packages/statsmodels/tsa/base/tsa_model.py:836: FutureWarning: No supported index is available. In the next version, calling this method in a model without a supported index will result in an exception.\n",
            "  return get_prediction_index(\n"
          ]
        },
        {
          "output_type": "stream",
          "name": "stdout",
          "text": [
            "Finished training model...\n",
            "Predicting for store 8 and item 34\n",
            "             date  store  item  sales  is_hol\n",
            "615362 2013-01-01      8    34     16       1\n",
            "615363 2013-01-02      8    34     14       0\n",
            "615364 2013-01-03      8    34     21       0\n",
            "615365 2013-01-04      8    34     22       0\n",
            "615366 2013-01-05      8    34     19       0\n",
            "...           ...    ...   ...    ...     ...\n",
            "617183 2017-12-27      8    34     27       0\n",
            "617184 2017-12-28      8    34     32       0\n",
            "617185 2017-12-29      8    34     33       0\n",
            "617186 2017-12-30      8    34     33       0\n",
            "617187 2017-12-31      8    34     43       0\n",
            "\n",
            "[1826 rows x 5 columns]\n"
          ]
        },
        {
          "output_type": "stream",
          "name": "stderr",
          "text": [
            "/usr/local/lib/python3.10/dist-packages/statsmodels/tsa/base/tsa_model.py:836: ValueWarning: No supported index is available. Prediction results will be given with an integer index beginning at `start`.\n",
            "  return get_prediction_index(\n",
            "/usr/local/lib/python3.10/dist-packages/statsmodels/tsa/base/tsa_model.py:836: FutureWarning: No supported index is available. In the next version, calling this method in a model without a supported index will result in an exception.\n",
            "  return get_prediction_index(\n"
          ]
        },
        {
          "output_type": "stream",
          "name": "stdout",
          "text": [
            "Finished training model...\n",
            "Predicting for store 9 and item 34\n",
            "             date  store  item  sales  is_hol\n",
            "617188 2013-01-01      9    34     19       1\n",
            "617189 2013-01-02      9    34     10       0\n",
            "617190 2013-01-03      9    34     15       0\n",
            "617191 2013-01-04      9    34     14       0\n",
            "617192 2013-01-05      9    34     17       0\n",
            "...           ...    ...   ...    ...     ...\n",
            "619009 2017-12-27      9    34     20       0\n",
            "619010 2017-12-28      9    34     22       0\n",
            "619011 2017-12-29      9    34     24       0\n",
            "619012 2017-12-30      9    34     20       0\n",
            "619013 2017-12-31      9    34     21       0\n",
            "\n",
            "[1826 rows x 5 columns]\n"
          ]
        },
        {
          "output_type": "stream",
          "name": "stderr",
          "text": [
            "/usr/local/lib/python3.10/dist-packages/statsmodels/tsa/base/tsa_model.py:836: ValueWarning: No supported index is available. Prediction results will be given with an integer index beginning at `start`.\n",
            "  return get_prediction_index(\n",
            "/usr/local/lib/python3.10/dist-packages/statsmodels/tsa/base/tsa_model.py:836: FutureWarning: No supported index is available. In the next version, calling this method in a model without a supported index will result in an exception.\n",
            "  return get_prediction_index(\n"
          ]
        },
        {
          "output_type": "stream",
          "name": "stdout",
          "text": [
            "Finished training model...\n",
            "Predicting for store 10 and item 34\n",
            "             date  store  item  sales  is_hol\n",
            "619014 2013-01-01     10    34     15       1\n",
            "619015 2013-01-02     10    34     13       0\n",
            "619016 2013-01-03     10    34     19       0\n",
            "619017 2013-01-04     10    34     16       0\n",
            "619018 2013-01-05     10    34     15       0\n",
            "...           ...    ...   ...    ...     ...\n",
            "620835 2017-12-27     10    34     19       0\n",
            "620836 2017-12-28     10    34     29       0\n",
            "620837 2017-12-29     10    34     24       0\n",
            "620838 2017-12-30     10    34     21       0\n",
            "620839 2017-12-31     10    34     32       0\n",
            "\n",
            "[1826 rows x 5 columns]\n"
          ]
        },
        {
          "output_type": "stream",
          "name": "stderr",
          "text": [
            "/usr/local/lib/python3.10/dist-packages/statsmodels/tsa/base/tsa_model.py:836: ValueWarning: No supported index is available. Prediction results will be given with an integer index beginning at `start`.\n",
            "  return get_prediction_index(\n",
            "/usr/local/lib/python3.10/dist-packages/statsmodels/tsa/base/tsa_model.py:836: FutureWarning: No supported index is available. In the next version, calling this method in a model without a supported index will result in an exception.\n",
            "  return get_prediction_index(\n"
          ]
        },
        {
          "output_type": "stream",
          "name": "stdout",
          "text": [
            "Finished training model...\n",
            "Predicting for store 1 and item 35\n",
            "             date  store  item  sales  is_hol\n",
            "620840 2013-01-01      1    35     28       1\n",
            "620841 2013-01-02      1    35     26       0\n",
            "620842 2013-01-03      1    35     38       0\n",
            "620843 2013-01-04      1    35     38       0\n",
            "620844 2013-01-05      1    35     45       0\n",
            "...           ...    ...   ...    ...     ...\n",
            "622661 2017-12-27      1    35     54       0\n",
            "622662 2017-12-28      1    35     50       0\n",
            "622663 2017-12-29      1    35     48       0\n",
            "622664 2017-12-30      1    35     66       0\n",
            "622665 2017-12-31      1    35     55       0\n",
            "\n",
            "[1826 rows x 5 columns]\n"
          ]
        },
        {
          "output_type": "stream",
          "name": "stderr",
          "text": [
            "/usr/local/lib/python3.10/dist-packages/statsmodels/tsa/base/tsa_model.py:836: ValueWarning: No supported index is available. Prediction results will be given with an integer index beginning at `start`.\n",
            "  return get_prediction_index(\n",
            "/usr/local/lib/python3.10/dist-packages/statsmodels/tsa/base/tsa_model.py:836: FutureWarning: No supported index is available. In the next version, calling this method in a model without a supported index will result in an exception.\n",
            "  return get_prediction_index(\n"
          ]
        },
        {
          "output_type": "stream",
          "name": "stdout",
          "text": [
            "Finished training model...\n",
            "Predicting for store 2 and item 35\n",
            "             date  store  item  sales  is_hol\n",
            "622666 2013-01-01      2    35     42       1\n",
            "622667 2013-01-02      2    35     46       0\n",
            "622668 2013-01-03      2    35     35       0\n",
            "622669 2013-01-04      2    35     53       0\n",
            "622670 2013-01-05      2    35     48       0\n",
            "...           ...    ...   ...    ...     ...\n",
            "624487 2017-12-27      2    35     64       0\n",
            "624488 2017-12-28      2    35     58       0\n",
            "624489 2017-12-29      2    35     78       0\n",
            "624490 2017-12-30      2    35     88       0\n",
            "624491 2017-12-31      2    35     65       0\n",
            "\n",
            "[1826 rows x 5 columns]\n"
          ]
        },
        {
          "output_type": "stream",
          "name": "stderr",
          "text": [
            "/usr/local/lib/python3.10/dist-packages/statsmodels/tsa/base/tsa_model.py:836: ValueWarning: No supported index is available. Prediction results will be given with an integer index beginning at `start`.\n",
            "  return get_prediction_index(\n",
            "/usr/local/lib/python3.10/dist-packages/statsmodels/tsa/base/tsa_model.py:836: FutureWarning: No supported index is available. In the next version, calling this method in a model without a supported index will result in an exception.\n",
            "  return get_prediction_index(\n"
          ]
        },
        {
          "output_type": "stream",
          "name": "stdout",
          "text": [
            "Finished training model...\n",
            "Predicting for store 3 and item 35\n",
            "             date  store  item  sales  is_hol\n",
            "624492 2013-01-01      3    35     38       1\n",
            "624493 2013-01-02      3    35     40       0\n",
            "624494 2013-01-03      3    35     37       0\n",
            "624495 2013-01-04      3    35     45       0\n",
            "624496 2013-01-05      3    35     58       0\n",
            "...           ...    ...   ...    ...     ...\n",
            "626313 2017-12-27      3    35     48       0\n",
            "626314 2017-12-28      3    35     66       0\n",
            "626315 2017-12-29      3    35     65       0\n",
            "626316 2017-12-30      3    35     76       0\n",
            "626317 2017-12-31      3    35     84       0\n",
            "\n",
            "[1826 rows x 5 columns]\n"
          ]
        },
        {
          "output_type": "stream",
          "name": "stderr",
          "text": [
            "/usr/local/lib/python3.10/dist-packages/statsmodels/tsa/base/tsa_model.py:836: ValueWarning: No supported index is available. Prediction results will be given with an integer index beginning at `start`.\n",
            "  return get_prediction_index(\n",
            "/usr/local/lib/python3.10/dist-packages/statsmodels/tsa/base/tsa_model.py:836: FutureWarning: No supported index is available. In the next version, calling this method in a model without a supported index will result in an exception.\n",
            "  return get_prediction_index(\n"
          ]
        },
        {
          "output_type": "stream",
          "name": "stdout",
          "text": [
            "Finished training model...\n",
            "Predicting for store 4 and item 35\n",
            "             date  store  item  sales  is_hol\n",
            "626318 2013-01-01      4    35     34       1\n",
            "626319 2013-01-02      4    35     34       0\n",
            "626320 2013-01-03      4    35     27       0\n",
            "626321 2013-01-04      4    35     40       0\n",
            "626322 2013-01-05      4    35     47       0\n",
            "...           ...    ...   ...    ...     ...\n",
            "628139 2017-12-27      4    35     59       0\n",
            "628140 2017-12-28      4    35     54       0\n",
            "628141 2017-12-29      4    35     67       0\n",
            "628142 2017-12-30      4    35     60       0\n",
            "628143 2017-12-31      4    35     61       0\n",
            "\n",
            "[1826 rows x 5 columns]\n"
          ]
        },
        {
          "output_type": "stream",
          "name": "stderr",
          "text": [
            "/usr/local/lib/python3.10/dist-packages/statsmodels/tsa/base/tsa_model.py:836: ValueWarning: No supported index is available. Prediction results will be given with an integer index beginning at `start`.\n",
            "  return get_prediction_index(\n",
            "/usr/local/lib/python3.10/dist-packages/statsmodels/tsa/base/tsa_model.py:836: FutureWarning: No supported index is available. In the next version, calling this method in a model without a supported index will result in an exception.\n",
            "  return get_prediction_index(\n"
          ]
        },
        {
          "output_type": "stream",
          "name": "stdout",
          "text": [
            "Finished training model...\n",
            "Predicting for store 5 and item 35\n",
            "             date  store  item  sales  is_hol\n",
            "628144 2013-01-01      5    35     37       1\n",
            "628145 2013-01-02      5    35     26       0\n",
            "628146 2013-01-03      5    35     23       0\n",
            "628147 2013-01-04      5    35     38       0\n",
            "628148 2013-01-05      5    35     36       0\n",
            "...           ...    ...   ...    ...     ...\n",
            "629965 2017-12-27      5    35     42       0\n",
            "629966 2017-12-28      5    35     36       0\n",
            "629967 2017-12-29      5    35     43       0\n",
            "629968 2017-12-30      5    35     59       0\n",
            "629969 2017-12-31      5    35     45       0\n",
            "\n",
            "[1826 rows x 5 columns]\n"
          ]
        },
        {
          "output_type": "stream",
          "name": "stderr",
          "text": [
            "/usr/local/lib/python3.10/dist-packages/statsmodels/tsa/base/tsa_model.py:836: ValueWarning: No supported index is available. Prediction results will be given with an integer index beginning at `start`.\n",
            "  return get_prediction_index(\n",
            "/usr/local/lib/python3.10/dist-packages/statsmodels/tsa/base/tsa_model.py:836: FutureWarning: No supported index is available. In the next version, calling this method in a model without a supported index will result in an exception.\n",
            "  return get_prediction_index(\n"
          ]
        },
        {
          "output_type": "stream",
          "name": "stdout",
          "text": [
            "Finished training model...\n",
            "Predicting for store 6 and item 35\n",
            "             date  store  item  sales  is_hol\n",
            "629970 2013-01-01      6    35     23       1\n",
            "629971 2013-01-02      6    35     20       0\n",
            "629972 2013-01-03      6    35     27       0\n",
            "629973 2013-01-04      6    35     28       0\n",
            "629974 2013-01-05      6    35     38       0\n",
            "...           ...    ...   ...    ...     ...\n",
            "631791 2017-12-27      6    35     43       0\n",
            "631792 2017-12-28      6    35     41       0\n",
            "631793 2017-12-29      6    35     42       0\n",
            "631794 2017-12-30      6    35     42       0\n",
            "631795 2017-12-31      6    35     55       0\n",
            "\n",
            "[1826 rows x 5 columns]\n"
          ]
        },
        {
          "output_type": "stream",
          "name": "stderr",
          "text": [
            "/usr/local/lib/python3.10/dist-packages/statsmodels/tsa/base/tsa_model.py:836: ValueWarning: No supported index is available. Prediction results will be given with an integer index beginning at `start`.\n",
            "  return get_prediction_index(\n",
            "/usr/local/lib/python3.10/dist-packages/statsmodels/tsa/base/tsa_model.py:836: FutureWarning: No supported index is available. In the next version, calling this method in a model without a supported index will result in an exception.\n",
            "  return get_prediction_index(\n"
          ]
        },
        {
          "output_type": "stream",
          "name": "stdout",
          "text": [
            "Finished training model...\n",
            "Predicting for store 7 and item 35\n",
            "             date  store  item  sales  is_hol\n",
            "631796 2013-01-01      7    35     27       1\n",
            "631797 2013-01-02      7    35     27       0\n",
            "631798 2013-01-03      7    35     28       0\n",
            "631799 2013-01-04      7    35     28       0\n",
            "631800 2013-01-05      7    35     32       0\n",
            "...           ...    ...   ...    ...     ...\n",
            "633617 2017-12-27      7    35     48       0\n",
            "633618 2017-12-28      7    35     29       0\n",
            "633619 2017-12-29      7    35     38       0\n",
            "633620 2017-12-30      7    35     42       0\n",
            "633621 2017-12-31      7    35     62       0\n",
            "\n",
            "[1826 rows x 5 columns]\n"
          ]
        },
        {
          "output_type": "stream",
          "name": "stderr",
          "text": [
            "/usr/local/lib/python3.10/dist-packages/statsmodels/tsa/base/tsa_model.py:836: ValueWarning: No supported index is available. Prediction results will be given with an integer index beginning at `start`.\n",
            "  return get_prediction_index(\n",
            "/usr/local/lib/python3.10/dist-packages/statsmodels/tsa/base/tsa_model.py:836: FutureWarning: No supported index is available. In the next version, calling this method in a model without a supported index will result in an exception.\n",
            "  return get_prediction_index(\n"
          ]
        },
        {
          "output_type": "stream",
          "name": "stdout",
          "text": [
            "Finished training model...\n",
            "Predicting for store 8 and item 35\n",
            "             date  store  item  sales  is_hol\n",
            "633622 2013-01-01      8    35     40       1\n",
            "633623 2013-01-02      8    35     42       0\n",
            "633624 2013-01-03      8    35     36       0\n",
            "633625 2013-01-04      8    35     42       0\n",
            "633626 2013-01-05      8    35     42       0\n",
            "...           ...    ...   ...    ...     ...\n",
            "635443 2017-12-27      8    35     58       0\n",
            "635444 2017-12-28      8    35     60       0\n",
            "635445 2017-12-29      8    35     75       0\n",
            "635446 2017-12-30      8    35     73       0\n",
            "635447 2017-12-31      8    35     74       0\n",
            "\n",
            "[1826 rows x 5 columns]\n"
          ]
        },
        {
          "output_type": "stream",
          "name": "stderr",
          "text": [
            "/usr/local/lib/python3.10/dist-packages/statsmodels/tsa/base/tsa_model.py:836: ValueWarning: No supported index is available. Prediction results will be given with an integer index beginning at `start`.\n",
            "  return get_prediction_index(\n",
            "/usr/local/lib/python3.10/dist-packages/statsmodels/tsa/base/tsa_model.py:836: FutureWarning: No supported index is available. In the next version, calling this method in a model without a supported index will result in an exception.\n",
            "  return get_prediction_index(\n"
          ]
        },
        {
          "output_type": "stream",
          "name": "stdout",
          "text": [
            "Finished training model...\n",
            "Predicting for store 9 and item 35\n",
            "             date  store  item  sales  is_hol\n",
            "635448 2013-01-01      9    35     36       1\n",
            "635449 2013-01-02      9    35     46       0\n",
            "635450 2013-01-03      9    35     34       0\n",
            "635451 2013-01-04      9    35     29       0\n",
            "635452 2013-01-05      9    35     43       0\n",
            "...           ...    ...   ...    ...     ...\n",
            "637269 2017-12-27      9    35     58       0\n",
            "637270 2017-12-28      9    35     50       0\n",
            "637271 2017-12-29      9    35     64       0\n",
            "637272 2017-12-30      9    35     79       0\n",
            "637273 2017-12-31      9    35     74       0\n",
            "\n",
            "[1826 rows x 5 columns]\n"
          ]
        },
        {
          "output_type": "stream",
          "name": "stderr",
          "text": [
            "/usr/local/lib/python3.10/dist-packages/statsmodels/tsa/base/tsa_model.py:836: ValueWarning: No supported index is available. Prediction results will be given with an integer index beginning at `start`.\n",
            "  return get_prediction_index(\n",
            "/usr/local/lib/python3.10/dist-packages/statsmodels/tsa/base/tsa_model.py:836: FutureWarning: No supported index is available. In the next version, calling this method in a model without a supported index will result in an exception.\n",
            "  return get_prediction_index(\n"
          ]
        },
        {
          "output_type": "stream",
          "name": "stdout",
          "text": [
            "Finished training model...\n",
            "Predicting for store 10 and item 35\n",
            "             date  store  item  sales  is_hol\n",
            "637274 2013-01-01     10    35     45       1\n",
            "637275 2013-01-02     10    35     38       0\n",
            "637276 2013-01-03     10    35     31       0\n",
            "637277 2013-01-04     10    35     48       0\n",
            "637278 2013-01-05     10    35     59       0\n",
            "...           ...    ...   ...    ...     ...\n",
            "639095 2017-12-27     10    35     56       0\n",
            "639096 2017-12-28     10    35     55       0\n",
            "639097 2017-12-29     10    35     65       0\n",
            "639098 2017-12-30     10    35     55       0\n",
            "639099 2017-12-31     10    35     72       0\n",
            "\n",
            "[1826 rows x 5 columns]\n"
          ]
        },
        {
          "output_type": "stream",
          "name": "stderr",
          "text": [
            "/usr/local/lib/python3.10/dist-packages/statsmodels/tsa/base/tsa_model.py:836: ValueWarning: No supported index is available. Prediction results will be given with an integer index beginning at `start`.\n",
            "  return get_prediction_index(\n",
            "/usr/local/lib/python3.10/dist-packages/statsmodels/tsa/base/tsa_model.py:836: FutureWarning: No supported index is available. In the next version, calling this method in a model without a supported index will result in an exception.\n",
            "  return get_prediction_index(\n"
          ]
        },
        {
          "output_type": "stream",
          "name": "stdout",
          "text": [
            "Finished training model...\n",
            "Predicting for store 1 and item 36\n",
            "             date  store  item  sales  is_hol\n",
            "639100 2013-01-01      1    36     49       1\n",
            "639101 2013-01-02      1    36     48       0\n",
            "639102 2013-01-03      1    36     45       0\n",
            "639103 2013-01-04      1    36     41       0\n",
            "639104 2013-01-05      1    36     48       0\n",
            "...           ...    ...   ...    ...     ...\n",
            "640921 2017-12-27      1    36     62       0\n",
            "640922 2017-12-28      1    36     58       0\n",
            "640923 2017-12-29      1    36     69       0\n",
            "640924 2017-12-30      1    36     68       0\n",
            "640925 2017-12-31      1    36     71       0\n",
            "\n",
            "[1826 rows x 5 columns]\n"
          ]
        },
        {
          "output_type": "stream",
          "name": "stderr",
          "text": [
            "/usr/local/lib/python3.10/dist-packages/statsmodels/tsa/base/tsa_model.py:836: ValueWarning: No supported index is available. Prediction results will be given with an integer index beginning at `start`.\n",
            "  return get_prediction_index(\n",
            "/usr/local/lib/python3.10/dist-packages/statsmodels/tsa/base/tsa_model.py:836: FutureWarning: No supported index is available. In the next version, calling this method in a model without a supported index will result in an exception.\n",
            "  return get_prediction_index(\n"
          ]
        },
        {
          "output_type": "stream",
          "name": "stdout",
          "text": [
            "Finished training model...\n",
            "Predicting for store 2 and item 36\n",
            "             date  store  item  sales  is_hol\n",
            "640926 2013-01-01      2    36     64       1\n",
            "640927 2013-01-02      2    36     46       0\n",
            "640928 2013-01-03      2    36     55       0\n",
            "640929 2013-01-04      2    36     55       0\n",
            "640930 2013-01-05      2    36     53       0\n",
            "...           ...    ...   ...    ...     ...\n",
            "642747 2017-12-27      2    36     83       0\n",
            "642748 2017-12-28      2    36     91       0\n",
            "642749 2017-12-29      2    36     93       0\n",
            "642750 2017-12-30      2    36     97       0\n",
            "642751 2017-12-31      2    36    105       0\n",
            "\n",
            "[1826 rows x 5 columns]\n"
          ]
        },
        {
          "output_type": "stream",
          "name": "stderr",
          "text": [
            "/usr/local/lib/python3.10/dist-packages/statsmodels/tsa/base/tsa_model.py:836: ValueWarning: No supported index is available. Prediction results will be given with an integer index beginning at `start`.\n",
            "  return get_prediction_index(\n",
            "/usr/local/lib/python3.10/dist-packages/statsmodels/tsa/base/tsa_model.py:836: FutureWarning: No supported index is available. In the next version, calling this method in a model without a supported index will result in an exception.\n",
            "  return get_prediction_index(\n"
          ]
        },
        {
          "output_type": "stream",
          "name": "stdout",
          "text": [
            "Finished training model...\n",
            "Predicting for store 3 and item 36\n",
            "             date  store  item  sales  is_hol\n",
            "642752 2013-01-01      3    36     51       1\n",
            "642753 2013-01-02      3    36     51       0\n",
            "642754 2013-01-03      3    36     43       0\n",
            "642755 2013-01-04      3    36     55       0\n",
            "642756 2013-01-05      3    36     40       0\n",
            "...           ...    ...   ...    ...     ...\n",
            "644573 2017-12-27      3    36     74       0\n",
            "644574 2017-12-28      3    36     64       0\n",
            "644575 2017-12-29      3    36     85       0\n",
            "644576 2017-12-30      3    36     80       0\n",
            "644577 2017-12-31      3    36     96       0\n",
            "\n",
            "[1826 rows x 5 columns]\n"
          ]
        },
        {
          "output_type": "stream",
          "name": "stderr",
          "text": [
            "/usr/local/lib/python3.10/dist-packages/statsmodels/tsa/base/tsa_model.py:836: ValueWarning: No supported index is available. Prediction results will be given with an integer index beginning at `start`.\n",
            "  return get_prediction_index(\n",
            "/usr/local/lib/python3.10/dist-packages/statsmodels/tsa/base/tsa_model.py:836: FutureWarning: No supported index is available. In the next version, calling this method in a model without a supported index will result in an exception.\n",
            "  return get_prediction_index(\n"
          ]
        },
        {
          "output_type": "stream",
          "name": "stdout",
          "text": [
            "Finished training model...\n",
            "Predicting for store 4 and item 36\n",
            "             date  store  item  sales  is_hol\n",
            "644578 2013-01-01      4    36     41       1\n",
            "644579 2013-01-02      4    36     29       0\n",
            "644580 2013-01-03      4    36     48       0\n",
            "644581 2013-01-04      4    36     52       0\n",
            "644582 2013-01-05      4    36     36       0\n",
            "...           ...    ...   ...    ...     ...\n",
            "646399 2017-12-27      4    36     67       0\n",
            "646400 2017-12-28      4    36     72       0\n",
            "646401 2017-12-29      4    36     81       0\n",
            "646402 2017-12-30      4    36     77       0\n",
            "646403 2017-12-31      4    36     91       0\n",
            "\n",
            "[1826 rows x 5 columns]\n"
          ]
        },
        {
          "output_type": "stream",
          "name": "stderr",
          "text": [
            "/usr/local/lib/python3.10/dist-packages/statsmodels/tsa/base/tsa_model.py:836: ValueWarning: No supported index is available. Prediction results will be given with an integer index beginning at `start`.\n",
            "  return get_prediction_index(\n",
            "/usr/local/lib/python3.10/dist-packages/statsmodels/tsa/base/tsa_model.py:836: FutureWarning: No supported index is available. In the next version, calling this method in a model without a supported index will result in an exception.\n",
            "  return get_prediction_index(\n"
          ]
        },
        {
          "output_type": "stream",
          "name": "stdout",
          "text": [
            "Finished training model...\n",
            "Predicting for store 5 and item 36\n",
            "             date  store  item  sales  is_hol\n",
            "646404 2013-01-01      5    36     28       1\n",
            "646405 2013-01-02      5    36     32       0\n",
            "646406 2013-01-03      5    36     38       0\n",
            "646407 2013-01-04      5    36     35       0\n",
            "646408 2013-01-05      5    36     31       0\n",
            "...           ...    ...   ...    ...     ...\n",
            "648225 2017-12-27      5    36     46       0\n",
            "648226 2017-12-28      5    36     55       0\n",
            "648227 2017-12-29      5    36     47       0\n",
            "648228 2017-12-30      5    36     67       0\n",
            "648229 2017-12-31      5    36     58       0\n",
            "\n",
            "[1826 rows x 5 columns]\n"
          ]
        },
        {
          "output_type": "stream",
          "name": "stderr",
          "text": [
            "/usr/local/lib/python3.10/dist-packages/statsmodels/tsa/base/tsa_model.py:836: ValueWarning: No supported index is available. Prediction results will be given with an integer index beginning at `start`.\n",
            "  return get_prediction_index(\n",
            "/usr/local/lib/python3.10/dist-packages/statsmodels/tsa/base/tsa_model.py:836: FutureWarning: No supported index is available. In the next version, calling this method in a model without a supported index will result in an exception.\n",
            "  return get_prediction_index(\n"
          ]
        },
        {
          "output_type": "stream",
          "name": "stdout",
          "text": [
            "Finished training model...\n",
            "Predicting for store 6 and item 36\n",
            "             date  store  item  sales  is_hol\n",
            "648230 2013-01-01      6    36     33       1\n",
            "648231 2013-01-02      6    36     35       0\n",
            "648232 2013-01-03      6    36     29       0\n",
            "648233 2013-01-04      6    36     31       0\n",
            "648234 2013-01-05      6    36     46       0\n",
            "...           ...    ...   ...    ...     ...\n",
            "650051 2017-12-27      6    36     54       0\n",
            "650052 2017-12-28      6    36     51       0\n",
            "650053 2017-12-29      6    36     53       0\n",
            "650054 2017-12-30      6    36     52       0\n",
            "650055 2017-12-31      6    36     69       0\n",
            "\n",
            "[1826 rows x 5 columns]\n"
          ]
        },
        {
          "output_type": "stream",
          "name": "stderr",
          "text": [
            "/usr/local/lib/python3.10/dist-packages/statsmodels/tsa/base/tsa_model.py:836: ValueWarning: No supported index is available. Prediction results will be given with an integer index beginning at `start`.\n",
            "  return get_prediction_index(\n",
            "/usr/local/lib/python3.10/dist-packages/statsmodels/tsa/base/tsa_model.py:836: FutureWarning: No supported index is available. In the next version, calling this method in a model without a supported index will result in an exception.\n",
            "  return get_prediction_index(\n"
          ]
        },
        {
          "output_type": "stream",
          "name": "stdout",
          "text": [
            "Finished training model...\n",
            "Predicting for store 7 and item 36\n",
            "             date  store  item  sales  is_hol\n",
            "650056 2013-01-01      7    36     31       1\n",
            "650057 2013-01-02      7    36     20       0\n",
            "650058 2013-01-03      7    36     30       0\n",
            "650059 2013-01-04      7    36     36       0\n",
            "650060 2013-01-05      7    36     31       0\n",
            "...           ...    ...   ...    ...     ...\n",
            "651877 2017-12-27      7    36     44       0\n",
            "651878 2017-12-28      7    36     42       0\n",
            "651879 2017-12-29      7    36     52       0\n",
            "651880 2017-12-30      7    36     60       0\n",
            "651881 2017-12-31      7    36     53       0\n",
            "\n",
            "[1826 rows x 5 columns]\n"
          ]
        },
        {
          "output_type": "stream",
          "name": "stderr",
          "text": [
            "/usr/local/lib/python3.10/dist-packages/statsmodels/tsa/base/tsa_model.py:836: ValueWarning: No supported index is available. Prediction results will be given with an integer index beginning at `start`.\n",
            "  return get_prediction_index(\n",
            "/usr/local/lib/python3.10/dist-packages/statsmodels/tsa/base/tsa_model.py:836: FutureWarning: No supported index is available. In the next version, calling this method in a model without a supported index will result in an exception.\n",
            "  return get_prediction_index(\n"
          ]
        },
        {
          "output_type": "stream",
          "name": "stdout",
          "text": [
            "Finished training model...\n",
            "Predicting for store 8 and item 36\n",
            "             date  store  item  sales  is_hol\n",
            "651882 2013-01-01      8    36     45       1\n",
            "651883 2013-01-02      8    36     47       0\n",
            "651884 2013-01-03      8    36     60       0\n",
            "651885 2013-01-04      8    36     74       0\n",
            "651886 2013-01-05      8    36     56       0\n",
            "...           ...    ...   ...    ...     ...\n",
            "653703 2017-12-27      8    36     72       0\n",
            "653704 2017-12-28      8    36     85       0\n",
            "653705 2017-12-29      8    36     95       0\n",
            "653706 2017-12-30      8    36     86       0\n",
            "653707 2017-12-31      8    36     99       0\n",
            "\n",
            "[1826 rows x 5 columns]\n"
          ]
        },
        {
          "output_type": "stream",
          "name": "stderr",
          "text": [
            "/usr/local/lib/python3.10/dist-packages/statsmodels/tsa/base/tsa_model.py:836: ValueWarning: No supported index is available. Prediction results will be given with an integer index beginning at `start`.\n",
            "  return get_prediction_index(\n",
            "/usr/local/lib/python3.10/dist-packages/statsmodels/tsa/base/tsa_model.py:836: FutureWarning: No supported index is available. In the next version, calling this method in a model without a supported index will result in an exception.\n",
            "  return get_prediction_index(\n"
          ]
        },
        {
          "output_type": "stream",
          "name": "stdout",
          "text": [
            "Finished training model...\n",
            "Predicting for store 9 and item 36\n",
            "             date  store  item  sales  is_hol\n",
            "653708 2013-01-01      9    36     34       1\n",
            "653709 2013-01-02      9    36     49       0\n",
            "653710 2013-01-03      9    36     41       0\n",
            "653711 2013-01-04      9    36     41       0\n",
            "653712 2013-01-05      9    36     52       0\n",
            "...           ...    ...   ...    ...     ...\n",
            "655529 2017-12-27      9    36     59       0\n",
            "655530 2017-12-28      9    36     57       0\n",
            "655531 2017-12-29      9    36     76       0\n",
            "655532 2017-12-30      9    36     81       0\n",
            "655533 2017-12-31      9    36     87       0\n",
            "\n",
            "[1826 rows x 5 columns]\n"
          ]
        },
        {
          "output_type": "stream",
          "name": "stderr",
          "text": [
            "/usr/local/lib/python3.10/dist-packages/statsmodels/tsa/base/tsa_model.py:836: ValueWarning: No supported index is available. Prediction results will be given with an integer index beginning at `start`.\n",
            "  return get_prediction_index(\n",
            "/usr/local/lib/python3.10/dist-packages/statsmodels/tsa/base/tsa_model.py:836: FutureWarning: No supported index is available. In the next version, calling this method in a model without a supported index will result in an exception.\n",
            "  return get_prediction_index(\n"
          ]
        },
        {
          "output_type": "stream",
          "name": "stdout",
          "text": [
            "Finished training model...\n",
            "Predicting for store 10 and item 36\n",
            "             date  store  item  sales  is_hol\n",
            "655534 2013-01-01     10    36     55       1\n",
            "655535 2013-01-02     10    36     34       0\n",
            "655536 2013-01-03     10    36     54       0\n",
            "655537 2013-01-04     10    36     46       0\n",
            "655538 2013-01-05     10    36     60       0\n",
            "...           ...    ...   ...    ...     ...\n",
            "657355 2017-12-27     10    36     69       0\n",
            "657356 2017-12-28     10    36     89       0\n",
            "657357 2017-12-29     10    36     76       0\n",
            "657358 2017-12-30     10    36     84       0\n",
            "657359 2017-12-31     10    36     88       0\n",
            "\n",
            "[1826 rows x 5 columns]\n"
          ]
        },
        {
          "output_type": "stream",
          "name": "stderr",
          "text": [
            "/usr/local/lib/python3.10/dist-packages/statsmodels/tsa/base/tsa_model.py:836: ValueWarning: No supported index is available. Prediction results will be given with an integer index beginning at `start`.\n",
            "  return get_prediction_index(\n",
            "/usr/local/lib/python3.10/dist-packages/statsmodels/tsa/base/tsa_model.py:836: FutureWarning: No supported index is available. In the next version, calling this method in a model without a supported index will result in an exception.\n",
            "  return get_prediction_index(\n"
          ]
        },
        {
          "output_type": "stream",
          "name": "stdout",
          "text": [
            "Finished training model...\n",
            "Predicting for store 1 and item 37\n",
            "             date  store  item  sales  is_hol\n",
            "657360 2013-01-01      1    37     16       1\n",
            "657361 2013-01-02      1    37     13       0\n",
            "657362 2013-01-03      1    37     12       0\n",
            "657363 2013-01-04      1    37     23       0\n",
            "657364 2013-01-05      1    37     23       0\n",
            "...           ...    ...   ...    ...     ...\n",
            "659181 2017-12-27      1    37     15       0\n",
            "659182 2017-12-28      1    37     18       0\n",
            "659183 2017-12-29      1    37     21       0\n",
            "659184 2017-12-30      1    37     23       0\n",
            "659185 2017-12-31      1    37     17       0\n",
            "\n",
            "[1826 rows x 5 columns]\n"
          ]
        },
        {
          "output_type": "stream",
          "name": "stderr",
          "text": [
            "/usr/local/lib/python3.10/dist-packages/statsmodels/tsa/base/tsa_model.py:836: ValueWarning: No supported index is available. Prediction results will be given with an integer index beginning at `start`.\n",
            "  return get_prediction_index(\n",
            "/usr/local/lib/python3.10/dist-packages/statsmodels/tsa/base/tsa_model.py:836: FutureWarning: No supported index is available. In the next version, calling this method in a model without a supported index will result in an exception.\n",
            "  return get_prediction_index(\n"
          ]
        },
        {
          "output_type": "stream",
          "name": "stdout",
          "text": [
            "Finished training model...\n",
            "Predicting for store 2 and item 37\n",
            "             date  store  item  sales  is_hol\n",
            "659186 2013-01-01      2    37     18       1\n",
            "659187 2013-01-02      2    37     15       0\n",
            "659188 2013-01-03      2    37     19       0\n",
            "659189 2013-01-04      2    37     28       0\n",
            "659190 2013-01-05      2    37     18       0\n",
            "...           ...    ...   ...    ...     ...\n",
            "661007 2017-12-27      2    37     31       0\n",
            "661008 2017-12-28      2    37     38       0\n",
            "661009 2017-12-29      2    37     38       0\n",
            "661010 2017-12-30      2    37     27       0\n",
            "661011 2017-12-31      2    37     30       0\n",
            "\n",
            "[1826 rows x 5 columns]\n"
          ]
        },
        {
          "output_type": "stream",
          "name": "stderr",
          "text": [
            "/usr/local/lib/python3.10/dist-packages/statsmodels/tsa/base/tsa_model.py:836: ValueWarning: No supported index is available. Prediction results will be given with an integer index beginning at `start`.\n",
            "  return get_prediction_index(\n",
            "/usr/local/lib/python3.10/dist-packages/statsmodels/tsa/base/tsa_model.py:836: FutureWarning: No supported index is available. In the next version, calling this method in a model without a supported index will result in an exception.\n",
            "  return get_prediction_index(\n"
          ]
        },
        {
          "output_type": "stream",
          "name": "stdout",
          "text": [
            "Finished training model...\n",
            "Predicting for store 3 and item 37\n",
            "             date  store  item  sales  is_hol\n",
            "661012 2013-01-01      3    37      9       1\n",
            "661013 2013-01-02      3    37     22       0\n",
            "661014 2013-01-03      3    37     14       0\n",
            "661015 2013-01-04      3    37     17       0\n",
            "661016 2013-01-05      3    37     32       0\n",
            "...           ...    ...   ...    ...     ...\n",
            "662833 2017-12-27      3    37     28       0\n",
            "662834 2017-12-28      3    37     21       0\n",
            "662835 2017-12-29      3    37     26       0\n",
            "662836 2017-12-30      3    37     29       0\n",
            "662837 2017-12-31      3    37     36       0\n",
            "\n",
            "[1826 rows x 5 columns]\n"
          ]
        },
        {
          "output_type": "stream",
          "name": "stderr",
          "text": [
            "/usr/local/lib/python3.10/dist-packages/statsmodels/tsa/base/tsa_model.py:836: ValueWarning: No supported index is available. Prediction results will be given with an integer index beginning at `start`.\n",
            "  return get_prediction_index(\n",
            "/usr/local/lib/python3.10/dist-packages/statsmodels/tsa/base/tsa_model.py:836: FutureWarning: No supported index is available. In the next version, calling this method in a model without a supported index will result in an exception.\n",
            "  return get_prediction_index(\n"
          ]
        },
        {
          "output_type": "stream",
          "name": "stdout",
          "text": [
            "Finished training model...\n",
            "Predicting for store 4 and item 37\n",
            "             date  store  item  sales  is_hol\n",
            "662838 2013-01-01      4    37     22       1\n",
            "662839 2013-01-02      4    37     20       0\n",
            "662840 2013-01-03      4    37     17       0\n",
            "662841 2013-01-04      4    37     21       0\n",
            "662842 2013-01-05      4    37     10       0\n",
            "...           ...    ...   ...    ...     ...\n",
            "664659 2017-12-27      4    37     18       0\n",
            "664660 2017-12-28      4    37     26       0\n",
            "664661 2017-12-29      4    37     25       0\n",
            "664662 2017-12-30      4    37     29       0\n",
            "664663 2017-12-31      4    37     29       0\n",
            "\n",
            "[1826 rows x 5 columns]\n"
          ]
        },
        {
          "output_type": "stream",
          "name": "stderr",
          "text": [
            "/usr/local/lib/python3.10/dist-packages/statsmodels/tsa/base/tsa_model.py:836: ValueWarning: No supported index is available. Prediction results will be given with an integer index beginning at `start`.\n",
            "  return get_prediction_index(\n",
            "/usr/local/lib/python3.10/dist-packages/statsmodels/tsa/base/tsa_model.py:836: FutureWarning: No supported index is available. In the next version, calling this method in a model without a supported index will result in an exception.\n",
            "  return get_prediction_index(\n"
          ]
        },
        {
          "output_type": "stream",
          "name": "stdout",
          "text": [
            "Finished training model...\n",
            "Predicting for store 5 and item 37\n",
            "             date  store  item  sales  is_hol\n",
            "664664 2013-01-01      5    37     12       1\n",
            "664665 2013-01-02      5    37     10       0\n",
            "664666 2013-01-03      5    37     16       0\n",
            "664667 2013-01-04      5    37      8       0\n",
            "664668 2013-01-05      5    37     24       0\n",
            "...           ...    ...   ...    ...     ...\n",
            "666485 2017-12-27      5    37     20       0\n",
            "666486 2017-12-28      5    37     15       0\n",
            "666487 2017-12-29      5    37     23       0\n",
            "666488 2017-12-30      5    37     31       0\n",
            "666489 2017-12-31      5    37     11       0\n",
            "\n",
            "[1826 rows x 5 columns]\n"
          ]
        },
        {
          "output_type": "stream",
          "name": "stderr",
          "text": [
            "/usr/local/lib/python3.10/dist-packages/statsmodels/tsa/base/tsa_model.py:836: ValueWarning: No supported index is available. Prediction results will be given with an integer index beginning at `start`.\n",
            "  return get_prediction_index(\n",
            "/usr/local/lib/python3.10/dist-packages/statsmodels/tsa/base/tsa_model.py:836: FutureWarning: No supported index is available. In the next version, calling this method in a model without a supported index will result in an exception.\n",
            "  return get_prediction_index(\n"
          ]
        },
        {
          "output_type": "stream",
          "name": "stdout",
          "text": [
            "Finished training model...\n",
            "Predicting for store 6 and item 37\n",
            "             date  store  item  sales  is_hol\n",
            "666490 2013-01-01      6    37     16       1\n",
            "666491 2013-01-02      6    37     16       0\n",
            "666492 2013-01-03      6    37     10       0\n",
            "666493 2013-01-04      6    37      9       0\n",
            "666494 2013-01-05      6    37     17       0\n",
            "...           ...    ...   ...    ...     ...\n",
            "668311 2017-12-27      6    37     16       0\n",
            "668312 2017-12-28      6    37     20       0\n",
            "668313 2017-12-29      6    37     17       0\n",
            "668314 2017-12-30      6    37     14       0\n",
            "668315 2017-12-31      6    37     23       0\n",
            "\n",
            "[1826 rows x 5 columns]\n"
          ]
        },
        {
          "output_type": "stream",
          "name": "stderr",
          "text": [
            "/usr/local/lib/python3.10/dist-packages/statsmodels/tsa/base/tsa_model.py:836: ValueWarning: No supported index is available. Prediction results will be given with an integer index beginning at `start`.\n",
            "  return get_prediction_index(\n",
            "/usr/local/lib/python3.10/dist-packages/statsmodels/tsa/base/tsa_model.py:836: FutureWarning: No supported index is available. In the next version, calling this method in a model without a supported index will result in an exception.\n",
            "  return get_prediction_index(\n"
          ]
        },
        {
          "output_type": "stream",
          "name": "stdout",
          "text": [
            "Finished training model...\n",
            "Predicting for store 7 and item 37\n",
            "             date  store  item  sales  is_hol\n",
            "668316 2013-01-01      7    37     11       1\n",
            "668317 2013-01-02      7    37     11       0\n",
            "668318 2013-01-03      7    37      5       0\n",
            "668319 2013-01-04      7    37      8       0\n",
            "668320 2013-01-05      7    37     15       0\n",
            "...           ...    ...   ...    ...     ...\n",
            "670137 2017-12-27      7    37     20       0\n",
            "670138 2017-12-28      7    37     18       0\n",
            "670139 2017-12-29      7    37     12       0\n",
            "670140 2017-12-30      7    37     20       0\n",
            "670141 2017-12-31      7    37     16       0\n",
            "\n",
            "[1826 rows x 5 columns]\n"
          ]
        },
        {
          "output_type": "stream",
          "name": "stderr",
          "text": [
            "/usr/local/lib/python3.10/dist-packages/statsmodels/tsa/base/tsa_model.py:836: ValueWarning: No supported index is available. Prediction results will be given with an integer index beginning at `start`.\n",
            "  return get_prediction_index(\n",
            "/usr/local/lib/python3.10/dist-packages/statsmodels/tsa/base/tsa_model.py:836: FutureWarning: No supported index is available. In the next version, calling this method in a model without a supported index will result in an exception.\n",
            "  return get_prediction_index(\n"
          ]
        },
        {
          "output_type": "stream",
          "name": "stdout",
          "text": [
            "Finished training model...\n",
            "Predicting for store 8 and item 37\n",
            "             date  store  item  sales  is_hol\n",
            "670142 2013-01-01      8    37     12       1\n",
            "670143 2013-01-02      8    37     24       0\n",
            "670144 2013-01-03      8    37     20       0\n",
            "670145 2013-01-04      8    37     19       0\n",
            "670146 2013-01-05      8    37     19       0\n",
            "...           ...    ...   ...    ...     ...\n",
            "671963 2017-12-27      8    37     21       0\n",
            "671964 2017-12-28      8    37     31       0\n",
            "671965 2017-12-29      8    37     41       0\n",
            "671966 2017-12-30      8    37     22       0\n",
            "671967 2017-12-31      8    37     43       0\n",
            "\n",
            "[1826 rows x 5 columns]\n"
          ]
        },
        {
          "output_type": "stream",
          "name": "stderr",
          "text": [
            "/usr/local/lib/python3.10/dist-packages/statsmodels/tsa/base/tsa_model.py:836: ValueWarning: No supported index is available. Prediction results will be given with an integer index beginning at `start`.\n",
            "  return get_prediction_index(\n",
            "/usr/local/lib/python3.10/dist-packages/statsmodels/tsa/base/tsa_model.py:836: FutureWarning: No supported index is available. In the next version, calling this method in a model without a supported index will result in an exception.\n",
            "  return get_prediction_index(\n"
          ]
        },
        {
          "output_type": "stream",
          "name": "stdout",
          "text": [
            "Finished training model...\n",
            "Predicting for store 9 and item 37\n",
            "             date  store  item  sales  is_hol\n",
            "671968 2013-01-01      9    37     22       1\n",
            "671969 2013-01-02      9    37     11       0\n",
            "671970 2013-01-03      9    37     22       0\n",
            "671971 2013-01-04      9    37     18       0\n",
            "671972 2013-01-05      9    37     12       0\n",
            "...           ...    ...   ...    ...     ...\n",
            "673789 2017-12-27      9    37     17       0\n",
            "673790 2017-12-28      9    37     28       0\n",
            "673791 2017-12-29      9    37     37       0\n",
            "673792 2017-12-30      9    37     34       0\n",
            "673793 2017-12-31      9    37     30       0\n",
            "\n",
            "[1826 rows x 5 columns]\n"
          ]
        },
        {
          "output_type": "stream",
          "name": "stderr",
          "text": [
            "/usr/local/lib/python3.10/dist-packages/statsmodels/tsa/base/tsa_model.py:836: ValueWarning: No supported index is available. Prediction results will be given with an integer index beginning at `start`.\n",
            "  return get_prediction_index(\n",
            "/usr/local/lib/python3.10/dist-packages/statsmodels/tsa/base/tsa_model.py:836: FutureWarning: No supported index is available. In the next version, calling this method in a model without a supported index will result in an exception.\n",
            "  return get_prediction_index(\n"
          ]
        },
        {
          "output_type": "stream",
          "name": "stdout",
          "text": [
            "Finished training model...\n",
            "Predicting for store 10 and item 37\n",
            "             date  store  item  sales  is_hol\n",
            "673794 2013-01-01     10    37     19       1\n",
            "673795 2013-01-02     10    37      9       0\n",
            "673796 2013-01-03     10    37     23       0\n",
            "673797 2013-01-04     10    37     23       0\n",
            "673798 2013-01-05     10    37     19       0\n",
            "...           ...    ...   ...    ...     ...\n",
            "675615 2017-12-27     10    37     29       0\n",
            "675616 2017-12-28     10    37     34       0\n",
            "675617 2017-12-29     10    37     33       0\n",
            "675618 2017-12-30     10    37     31       0\n",
            "675619 2017-12-31     10    37     28       0\n",
            "\n",
            "[1826 rows x 5 columns]\n"
          ]
        },
        {
          "output_type": "stream",
          "name": "stderr",
          "text": [
            "/usr/local/lib/python3.10/dist-packages/statsmodels/tsa/base/tsa_model.py:836: ValueWarning: No supported index is available. Prediction results will be given with an integer index beginning at `start`.\n",
            "  return get_prediction_index(\n",
            "/usr/local/lib/python3.10/dist-packages/statsmodels/tsa/base/tsa_model.py:836: FutureWarning: No supported index is available. In the next version, calling this method in a model without a supported index will result in an exception.\n",
            "  return get_prediction_index(\n"
          ]
        },
        {
          "output_type": "stream",
          "name": "stdout",
          "text": [
            "Finished training model...\n",
            "Predicting for store 1 and item 38\n",
            "             date  store  item  sales  is_hol\n",
            "675620 2013-01-01      1    38     21       1\n",
            "675621 2013-01-02      1    38     28       0\n",
            "675622 2013-01-03      1    38     40       0\n",
            "675623 2013-01-04      1    38     45       0\n",
            "675624 2013-01-05      1    38     38       0\n",
            "...           ...    ...   ...    ...     ...\n",
            "677441 2017-12-27      1    38     62       0\n",
            "677442 2017-12-28      1    38     57       0\n",
            "677443 2017-12-29      1    38     64       0\n",
            "677444 2017-12-30      1    38     66       0\n",
            "677445 2017-12-31      1    38     90       0\n",
            "\n",
            "[1826 rows x 5 columns]\n"
          ]
        },
        {
          "output_type": "stream",
          "name": "stderr",
          "text": [
            "/usr/local/lib/python3.10/dist-packages/statsmodels/tsa/base/tsa_model.py:836: ValueWarning: No supported index is available. Prediction results will be given with an integer index beginning at `start`.\n",
            "  return get_prediction_index(\n",
            "/usr/local/lib/python3.10/dist-packages/statsmodels/tsa/base/tsa_model.py:836: FutureWarning: No supported index is available. In the next version, calling this method in a model without a supported index will result in an exception.\n",
            "  return get_prediction_index(\n"
          ]
        },
        {
          "output_type": "stream",
          "name": "stdout",
          "text": [
            "Finished training model...\n",
            "Predicting for store 2 and item 38\n",
            "             date  store  item  sales  is_hol\n",
            "677446 2013-01-01      2    38     50       1\n",
            "677447 2013-01-02      2    38     58       0\n",
            "677448 2013-01-03      2    38     52       0\n",
            "677449 2013-01-04      2    38     57       0\n",
            "677450 2013-01-05      2    38     61       0\n",
            "...           ...    ...   ...    ...     ...\n",
            "679267 2017-12-27      2    38     82       0\n",
            "679268 2017-12-28      2    38     96       0\n",
            "679269 2017-12-29      2    38    110       0\n",
            "679270 2017-12-30      2    38     95       0\n",
            "679271 2017-12-31      2    38    120       0\n",
            "\n",
            "[1826 rows x 5 columns]\n"
          ]
        },
        {
          "output_type": "stream",
          "name": "stderr",
          "text": [
            "/usr/local/lib/python3.10/dist-packages/statsmodels/tsa/base/tsa_model.py:836: ValueWarning: No supported index is available. Prediction results will be given with an integer index beginning at `start`.\n",
            "  return get_prediction_index(\n",
            "/usr/local/lib/python3.10/dist-packages/statsmodels/tsa/base/tsa_model.py:836: FutureWarning: No supported index is available. In the next version, calling this method in a model without a supported index will result in an exception.\n",
            "  return get_prediction_index(\n"
          ]
        },
        {
          "output_type": "stream",
          "name": "stdout",
          "text": [
            "Finished training model...\n",
            "Predicting for store 3 and item 38\n",
            "             date  store  item  sales  is_hol\n",
            "679272 2013-01-01      3    38     42       1\n",
            "679273 2013-01-02      3    38     58       0\n",
            "679274 2013-01-03      3    38     37       0\n",
            "679275 2013-01-04      3    38     69       0\n",
            "679276 2013-01-05      3    38     54       0\n",
            "...           ...    ...   ...    ...     ...\n",
            "681093 2017-12-27      3    38     74       0\n",
            "681094 2017-12-28      3    38     80       0\n",
            "681095 2017-12-29      3    38     82       0\n",
            "681096 2017-12-30      3    38     79       0\n",
            "681097 2017-12-31      3    38     99       0\n",
            "\n",
            "[1826 rows x 5 columns]\n"
          ]
        },
        {
          "output_type": "stream",
          "name": "stderr",
          "text": [
            "/usr/local/lib/python3.10/dist-packages/statsmodels/tsa/base/tsa_model.py:836: ValueWarning: No supported index is available. Prediction results will be given with an integer index beginning at `start`.\n",
            "  return get_prediction_index(\n",
            "/usr/local/lib/python3.10/dist-packages/statsmodels/tsa/base/tsa_model.py:836: FutureWarning: No supported index is available. In the next version, calling this method in a model without a supported index will result in an exception.\n",
            "  return get_prediction_index(\n"
          ]
        },
        {
          "output_type": "stream",
          "name": "stdout",
          "text": [
            "Finished training model...\n",
            "Predicting for store 4 and item 38\n",
            "             date  store  item  sales  is_hol\n",
            "681098 2013-01-01      4    38     40       1\n",
            "681099 2013-01-02      4    38     42       0\n",
            "681100 2013-01-03      4    38     53       0\n",
            "681101 2013-01-04      4    38     47       0\n",
            "681102 2013-01-05      4    38     56       0\n",
            "...           ...    ...   ...    ...     ...\n",
            "682919 2017-12-27      4    38     54       0\n",
            "682920 2017-12-28      4    38     90       0\n",
            "682921 2017-12-29      4    38     67       0\n",
            "682922 2017-12-30      4    38     92       0\n",
            "682923 2017-12-31      4    38     70       0\n",
            "\n",
            "[1826 rows x 5 columns]\n"
          ]
        },
        {
          "output_type": "stream",
          "name": "stderr",
          "text": [
            "/usr/local/lib/python3.10/dist-packages/statsmodels/tsa/base/tsa_model.py:836: ValueWarning: No supported index is available. Prediction results will be given with an integer index beginning at `start`.\n",
            "  return get_prediction_index(\n",
            "/usr/local/lib/python3.10/dist-packages/statsmodels/tsa/base/tsa_model.py:836: FutureWarning: No supported index is available. In the next version, calling this method in a model without a supported index will result in an exception.\n",
            "  return get_prediction_index(\n"
          ]
        },
        {
          "output_type": "stream",
          "name": "stdout",
          "text": [
            "Finished training model...\n",
            "Predicting for store 5 and item 38\n",
            "             date  store  item  sales  is_hol\n",
            "682924 2013-01-01      5    38     29       1\n",
            "682925 2013-01-02      5    38     41       0\n",
            "682926 2013-01-03      5    38     45       0\n",
            "682927 2013-01-04      5    38     42       0\n",
            "682928 2013-01-05      5    38     36       0\n",
            "...           ...    ...   ...    ...     ...\n",
            "684745 2017-12-27      5    38     45       0\n",
            "684746 2017-12-28      5    38     61       0\n",
            "684747 2017-12-29      5    38     68       0\n",
            "684748 2017-12-30      5    38     60       0\n",
            "684749 2017-12-31      5    38     65       0\n",
            "\n",
            "[1826 rows x 5 columns]\n"
          ]
        },
        {
          "output_type": "stream",
          "name": "stderr",
          "text": [
            "/usr/local/lib/python3.10/dist-packages/statsmodels/tsa/base/tsa_model.py:836: ValueWarning: No supported index is available. Prediction results will be given with an integer index beginning at `start`.\n",
            "  return get_prediction_index(\n",
            "/usr/local/lib/python3.10/dist-packages/statsmodels/tsa/base/tsa_model.py:836: FutureWarning: No supported index is available. In the next version, calling this method in a model without a supported index will result in an exception.\n",
            "  return get_prediction_index(\n"
          ]
        },
        {
          "output_type": "stream",
          "name": "stdout",
          "text": [
            "Finished training model...\n",
            "Predicting for store 6 and item 38\n",
            "             date  store  item  sales  is_hol\n",
            "684750 2013-01-01      6    38     31       1\n",
            "684751 2013-01-02      6    38     20       0\n",
            "684752 2013-01-03      6    38     37       0\n",
            "684753 2013-01-04      6    38     41       0\n",
            "684754 2013-01-05      6    38     50       0\n",
            "...           ...    ...   ...    ...     ...\n",
            "686571 2017-12-27      6    38     42       0\n",
            "686572 2017-12-28      6    38     56       0\n",
            "686573 2017-12-29      6    38     54       0\n",
            "686574 2017-12-30      6    38     79       0\n",
            "686575 2017-12-31      6    38     53       0\n",
            "\n",
            "[1826 rows x 5 columns]\n"
          ]
        },
        {
          "output_type": "stream",
          "name": "stderr",
          "text": [
            "/usr/local/lib/python3.10/dist-packages/statsmodels/tsa/base/tsa_model.py:836: ValueWarning: No supported index is available. Prediction results will be given with an integer index beginning at `start`.\n",
            "  return get_prediction_index(\n",
            "/usr/local/lib/python3.10/dist-packages/statsmodels/tsa/base/tsa_model.py:836: FutureWarning: No supported index is available. In the next version, calling this method in a model without a supported index will result in an exception.\n",
            "  return get_prediction_index(\n"
          ]
        },
        {
          "output_type": "stream",
          "name": "stdout",
          "text": [
            "Finished training model...\n",
            "Predicting for store 7 and item 38\n",
            "             date  store  item  sales  is_hol\n",
            "686576 2013-01-01      7    38     33       1\n",
            "686577 2013-01-02      7    38     28       0\n",
            "686578 2013-01-03      7    38     28       0\n",
            "686579 2013-01-04      7    38     24       0\n",
            "686580 2013-01-05      7    38     37       0\n",
            "...           ...    ...   ...    ...     ...\n",
            "688397 2017-12-27      7    38     39       0\n",
            "688398 2017-12-28      7    38     50       0\n",
            "688399 2017-12-29      7    38     58       0\n",
            "688400 2017-12-30      7    38     44       0\n",
            "688401 2017-12-31      7    38     46       0\n",
            "\n",
            "[1826 rows x 5 columns]\n"
          ]
        },
        {
          "output_type": "stream",
          "name": "stderr",
          "text": [
            "/usr/local/lib/python3.10/dist-packages/statsmodels/tsa/base/tsa_model.py:836: ValueWarning: No supported index is available. Prediction results will be given with an integer index beginning at `start`.\n",
            "  return get_prediction_index(\n",
            "/usr/local/lib/python3.10/dist-packages/statsmodels/tsa/base/tsa_model.py:836: FutureWarning: No supported index is available. In the next version, calling this method in a model without a supported index will result in an exception.\n",
            "  return get_prediction_index(\n"
          ]
        },
        {
          "output_type": "stream",
          "name": "stdout",
          "text": [
            "Finished training model...\n",
            "Predicting for store 8 and item 38\n",
            "             date  store  item  sales  is_hol\n",
            "688402 2013-01-01      8    38     49       1\n",
            "688403 2013-01-02      8    38     55       0\n",
            "688404 2013-01-03      8    38     46       0\n",
            "688405 2013-01-04      8    38     62       0\n",
            "688406 2013-01-05      8    38     63       0\n",
            "...           ...    ...   ...    ...     ...\n",
            "690223 2017-12-27      8    38     69       0\n",
            "690224 2017-12-28      8    38     76       0\n",
            "690225 2017-12-29      8    38     88       0\n",
            "690226 2017-12-30      8    38    108       0\n",
            "690227 2017-12-31      8    38     97       0\n",
            "\n",
            "[1826 rows x 5 columns]\n"
          ]
        },
        {
          "output_type": "stream",
          "name": "stderr",
          "text": [
            "/usr/local/lib/python3.10/dist-packages/statsmodels/tsa/base/tsa_model.py:836: ValueWarning: No supported index is available. Prediction results will be given with an integer index beginning at `start`.\n",
            "  return get_prediction_index(\n",
            "/usr/local/lib/python3.10/dist-packages/statsmodels/tsa/base/tsa_model.py:836: FutureWarning: No supported index is available. In the next version, calling this method in a model without a supported index will result in an exception.\n",
            "  return get_prediction_index(\n"
          ]
        },
        {
          "output_type": "stream",
          "name": "stdout",
          "text": [
            "Finished training model...\n",
            "Predicting for store 9 and item 38\n",
            "             date  store  item  sales  is_hol\n",
            "690228 2013-01-01      9    38     39       1\n",
            "690229 2013-01-02      9    38     48       0\n",
            "690230 2013-01-03      9    38     44       0\n",
            "690231 2013-01-04      9    38     51       0\n",
            "690232 2013-01-05      9    38     63       0\n",
            "...           ...    ...   ...    ...     ...\n",
            "692049 2017-12-27      9    38     60       0\n",
            "692050 2017-12-28      9    38     54       0\n",
            "692051 2017-12-29      9    38     88       0\n",
            "692052 2017-12-30      9    38     89       0\n",
            "692053 2017-12-31      9    38     87       0\n",
            "\n",
            "[1826 rows x 5 columns]\n"
          ]
        },
        {
          "output_type": "stream",
          "name": "stderr",
          "text": [
            "/usr/local/lib/python3.10/dist-packages/statsmodels/tsa/base/tsa_model.py:836: ValueWarning: No supported index is available. Prediction results will be given with an integer index beginning at `start`.\n",
            "  return get_prediction_index(\n",
            "/usr/local/lib/python3.10/dist-packages/statsmodels/tsa/base/tsa_model.py:836: FutureWarning: No supported index is available. In the next version, calling this method in a model without a supported index will result in an exception.\n",
            "  return get_prediction_index(\n"
          ]
        },
        {
          "output_type": "stream",
          "name": "stdout",
          "text": [
            "Finished training model...\n",
            "Predicting for store 10 and item 38\n",
            "             date  store  item  sales  is_hol\n",
            "692054 2013-01-01     10    38     47       1\n",
            "692055 2013-01-02     10    38     54       0\n",
            "692056 2013-01-03     10    38     55       0\n",
            "692057 2013-01-04     10    38     56       0\n",
            "692058 2013-01-05     10    38     51       0\n",
            "...           ...    ...   ...    ...     ...\n",
            "693875 2017-12-27     10    38     65       0\n",
            "693876 2017-12-28     10    38     73       0\n",
            "693877 2017-12-29     10    38    103       0\n",
            "693878 2017-12-30     10    38     76       0\n",
            "693879 2017-12-31     10    38     94       0\n",
            "\n",
            "[1826 rows x 5 columns]\n"
          ]
        },
        {
          "output_type": "stream",
          "name": "stderr",
          "text": [
            "/usr/local/lib/python3.10/dist-packages/statsmodels/tsa/base/tsa_model.py:836: ValueWarning: No supported index is available. Prediction results will be given with an integer index beginning at `start`.\n",
            "  return get_prediction_index(\n",
            "/usr/local/lib/python3.10/dist-packages/statsmodels/tsa/base/tsa_model.py:836: FutureWarning: No supported index is available. In the next version, calling this method in a model without a supported index will result in an exception.\n",
            "  return get_prediction_index(\n"
          ]
        },
        {
          "output_type": "stream",
          "name": "stdout",
          "text": [
            "Finished training model...\n",
            "Predicting for store 1 and item 39\n",
            "             date  store  item  sales  is_hol\n",
            "693880 2013-01-01      1    39     25       1\n",
            "693881 2013-01-02      1    39     23       0\n",
            "693882 2013-01-03      1    39     29       0\n",
            "693883 2013-01-04      1    39     31       0\n",
            "693884 2013-01-05      1    39     29       0\n",
            "...           ...    ...   ...    ...     ...\n",
            "695701 2017-12-27      1    39     32       0\n",
            "695702 2017-12-28      1    39     22       0\n",
            "695703 2017-12-29      1    39     38       0\n",
            "695704 2017-12-30      1    39     35       0\n",
            "695705 2017-12-31      1    39     41       0\n",
            "\n",
            "[1826 rows x 5 columns]\n"
          ]
        },
        {
          "output_type": "stream",
          "name": "stderr",
          "text": [
            "/usr/local/lib/python3.10/dist-packages/statsmodels/tsa/base/tsa_model.py:836: ValueWarning: No supported index is available. Prediction results will be given with an integer index beginning at `start`.\n",
            "  return get_prediction_index(\n",
            "/usr/local/lib/python3.10/dist-packages/statsmodels/tsa/base/tsa_model.py:836: FutureWarning: No supported index is available. In the next version, calling this method in a model without a supported index will result in an exception.\n",
            "  return get_prediction_index(\n"
          ]
        },
        {
          "output_type": "stream",
          "name": "stdout",
          "text": [
            "Finished training model...\n",
            "Predicting for store 2 and item 39\n",
            "             date  store  item  sales  is_hol\n",
            "695706 2013-01-01      2    39     35       1\n",
            "695707 2013-01-02      2    39     26       0\n",
            "695708 2013-01-03      2    39     36       0\n",
            "695709 2013-01-04      2    39     38       0\n",
            "695710 2013-01-05      2    39     37       0\n",
            "...           ...    ...   ...    ...     ...\n",
            "697527 2017-12-27      2    39     32       0\n",
            "697528 2017-12-28      2    39     50       0\n",
            "697529 2017-12-29      2    39     49       0\n",
            "697530 2017-12-30      2    39     57       0\n",
            "697531 2017-12-31      2    39     47       0\n",
            "\n",
            "[1826 rows x 5 columns]\n"
          ]
        },
        {
          "output_type": "stream",
          "name": "stderr",
          "text": [
            "/usr/local/lib/python3.10/dist-packages/statsmodels/tsa/base/tsa_model.py:836: ValueWarning: No supported index is available. Prediction results will be given with an integer index beginning at `start`.\n",
            "  return get_prediction_index(\n",
            "/usr/local/lib/python3.10/dist-packages/statsmodels/tsa/base/tsa_model.py:836: FutureWarning: No supported index is available. In the next version, calling this method in a model without a supported index will result in an exception.\n",
            "  return get_prediction_index(\n"
          ]
        },
        {
          "output_type": "stream",
          "name": "stdout",
          "text": [
            "Finished training model...\n",
            "Predicting for store 3 and item 39\n",
            "             date  store  item  sales  is_hol\n",
            "697532 2013-01-01      3    39     25       1\n",
            "697533 2013-01-02      3    39     18       0\n",
            "697534 2013-01-03      3    39     26       0\n",
            "697535 2013-01-04      3    39     30       0\n",
            "697536 2013-01-05      3    39     30       0\n",
            "...           ...    ...   ...    ...     ...\n",
            "699353 2017-12-27      3    39     40       0\n",
            "699354 2017-12-28      3    39     43       0\n",
            "699355 2017-12-29      3    39     58       0\n",
            "699356 2017-12-30      3    39     54       0\n",
            "699357 2017-12-31      3    39     46       0\n",
            "\n",
            "[1826 rows x 5 columns]\n"
          ]
        },
        {
          "output_type": "stream",
          "name": "stderr",
          "text": [
            "/usr/local/lib/python3.10/dist-packages/statsmodels/tsa/base/tsa_model.py:836: ValueWarning: No supported index is available. Prediction results will be given with an integer index beginning at `start`.\n",
            "  return get_prediction_index(\n",
            "/usr/local/lib/python3.10/dist-packages/statsmodels/tsa/base/tsa_model.py:836: FutureWarning: No supported index is available. In the next version, calling this method in a model without a supported index will result in an exception.\n",
            "  return get_prediction_index(\n"
          ]
        },
        {
          "output_type": "stream",
          "name": "stdout",
          "text": [
            "Finished training model...\n",
            "Predicting for store 4 and item 39\n",
            "             date  store  item  sales  is_hol\n",
            "699358 2013-01-01      4    39     18       1\n",
            "699359 2013-01-02      4    39     26       0\n",
            "699360 2013-01-03      4    39     27       0\n",
            "699361 2013-01-04      4    39     27       0\n",
            "699362 2013-01-05      4    39     22       0\n",
            "...           ...    ...   ...    ...     ...\n",
            "701179 2017-12-27      4    39     36       0\n",
            "701180 2017-12-28      4    39     42       0\n",
            "701181 2017-12-29      4    39     35       0\n",
            "701182 2017-12-30      4    39     46       0\n",
            "701183 2017-12-31      4    39     40       0\n",
            "\n",
            "[1826 rows x 5 columns]\n"
          ]
        },
        {
          "output_type": "stream",
          "name": "stderr",
          "text": [
            "/usr/local/lib/python3.10/dist-packages/statsmodels/tsa/base/tsa_model.py:836: ValueWarning: No supported index is available. Prediction results will be given with an integer index beginning at `start`.\n",
            "  return get_prediction_index(\n",
            "/usr/local/lib/python3.10/dist-packages/statsmodels/tsa/base/tsa_model.py:836: FutureWarning: No supported index is available. In the next version, calling this method in a model without a supported index will result in an exception.\n",
            "  return get_prediction_index(\n"
          ]
        },
        {
          "output_type": "stream",
          "name": "stdout",
          "text": [
            "Finished training model...\n",
            "Predicting for store 5 and item 39\n",
            "             date  store  item  sales  is_hol\n",
            "701184 2013-01-01      5    39     20       1\n",
            "701185 2013-01-02      5    39     17       0\n",
            "701186 2013-01-03      5    39     22       0\n",
            "701187 2013-01-04      5    39     25       0\n",
            "701188 2013-01-05      5    39     16       0\n",
            "...           ...    ...   ...    ...     ...\n",
            "703005 2017-12-27      5    39     31       0\n",
            "703006 2017-12-28      5    39     27       0\n",
            "703007 2017-12-29      5    39     32       0\n",
            "703008 2017-12-30      5    39     37       0\n",
            "703009 2017-12-31      5    39     34       0\n",
            "\n",
            "[1826 rows x 5 columns]\n"
          ]
        },
        {
          "output_type": "stream",
          "name": "stderr",
          "text": [
            "/usr/local/lib/python3.10/dist-packages/statsmodels/tsa/base/tsa_model.py:836: ValueWarning: No supported index is available. Prediction results will be given with an integer index beginning at `start`.\n",
            "  return get_prediction_index(\n",
            "/usr/local/lib/python3.10/dist-packages/statsmodels/tsa/base/tsa_model.py:836: FutureWarning: No supported index is available. In the next version, calling this method in a model without a supported index will result in an exception.\n",
            "  return get_prediction_index(\n"
          ]
        },
        {
          "output_type": "stream",
          "name": "stdout",
          "text": [
            "Finished training model...\n",
            "Predicting for store 6 and item 39\n",
            "             date  store  item  sales  is_hol\n",
            "703010 2013-01-01      6    39     22       1\n",
            "703011 2013-01-02      6    39     17       0\n",
            "703012 2013-01-03      6    39     22       0\n",
            "703013 2013-01-04      6    39     29       0\n",
            "703014 2013-01-05      6    39     21       0\n",
            "...           ...    ...   ...    ...     ...\n",
            "704831 2017-12-27      6    39     25       0\n",
            "704832 2017-12-28      6    39     29       0\n",
            "704833 2017-12-29      6    39     29       0\n",
            "704834 2017-12-30      6    39     28       0\n",
            "704835 2017-12-31      6    39     27       0\n",
            "\n",
            "[1826 rows x 5 columns]\n"
          ]
        },
        {
          "output_type": "stream",
          "name": "stderr",
          "text": [
            "/usr/local/lib/python3.10/dist-packages/statsmodels/tsa/base/tsa_model.py:836: ValueWarning: No supported index is available. Prediction results will be given with an integer index beginning at `start`.\n",
            "  return get_prediction_index(\n",
            "/usr/local/lib/python3.10/dist-packages/statsmodels/tsa/base/tsa_model.py:836: FutureWarning: No supported index is available. In the next version, calling this method in a model without a supported index will result in an exception.\n",
            "  return get_prediction_index(\n"
          ]
        },
        {
          "output_type": "stream",
          "name": "stdout",
          "text": [
            "Finished training model...\n",
            "Predicting for store 7 and item 39\n",
            "             date  store  item  sales  is_hol\n",
            "704836 2013-01-01      7    39     18       1\n",
            "704837 2013-01-02      7    39     18       0\n",
            "704838 2013-01-03      7    39     18       0\n",
            "704839 2013-01-04      7    39     20       0\n",
            "704840 2013-01-05      7    39     23       0\n",
            "...           ...    ...   ...    ...     ...\n",
            "706657 2017-12-27      7    39     21       0\n",
            "706658 2017-12-28      7    39     21       0\n",
            "706659 2017-12-29      7    39     25       0\n",
            "706660 2017-12-30      7    39     24       0\n",
            "706661 2017-12-31      7    39     31       0\n",
            "\n",
            "[1826 rows x 5 columns]\n"
          ]
        },
        {
          "output_type": "stream",
          "name": "stderr",
          "text": [
            "/usr/local/lib/python3.10/dist-packages/statsmodels/tsa/base/tsa_model.py:836: ValueWarning: No supported index is available. Prediction results will be given with an integer index beginning at `start`.\n",
            "  return get_prediction_index(\n",
            "/usr/local/lib/python3.10/dist-packages/statsmodels/tsa/base/tsa_model.py:836: FutureWarning: No supported index is available. In the next version, calling this method in a model without a supported index will result in an exception.\n",
            "  return get_prediction_index(\n"
          ]
        },
        {
          "output_type": "stream",
          "name": "stdout",
          "text": [
            "Finished training model...\n",
            "Predicting for store 8 and item 39\n",
            "             date  store  item  sales  is_hol\n",
            "706662 2013-01-01      8    39     36       1\n",
            "706663 2013-01-02      8    39     28       0\n",
            "706664 2013-01-03      8    39     32       0\n",
            "706665 2013-01-04      8    39     27       0\n",
            "706666 2013-01-05      8    39     27       0\n",
            "...           ...    ...   ...    ...     ...\n",
            "708483 2017-12-27      8    39     42       0\n",
            "708484 2017-12-28      8    39     51       0\n",
            "708485 2017-12-29      8    39     55       0\n",
            "708486 2017-12-30      8    39     56       0\n",
            "708487 2017-12-31      8    39     50       0\n",
            "\n",
            "[1826 rows x 5 columns]\n"
          ]
        },
        {
          "output_type": "stream",
          "name": "stderr",
          "text": [
            "/usr/local/lib/python3.10/dist-packages/statsmodels/tsa/base/tsa_model.py:836: ValueWarning: No supported index is available. Prediction results will be given with an integer index beginning at `start`.\n",
            "  return get_prediction_index(\n",
            "/usr/local/lib/python3.10/dist-packages/statsmodels/tsa/base/tsa_model.py:836: FutureWarning: No supported index is available. In the next version, calling this method in a model without a supported index will result in an exception.\n",
            "  return get_prediction_index(\n"
          ]
        },
        {
          "output_type": "stream",
          "name": "stdout",
          "text": [
            "Finished training model...\n",
            "Predicting for store 9 and item 39\n",
            "             date  store  item  sales  is_hol\n",
            "708488 2013-01-01      9    39     19       1\n",
            "708489 2013-01-02      9    39     25       0\n",
            "708490 2013-01-03      9    39     21       0\n",
            "708491 2013-01-04      9    39     27       0\n",
            "708492 2013-01-05      9    39     32       0\n",
            "...           ...    ...   ...    ...     ...\n",
            "710309 2017-12-27      9    39     29       0\n",
            "710310 2017-12-28      9    39     37       0\n",
            "710311 2017-12-29      9    39     36       0\n",
            "710312 2017-12-30      9    39     47       0\n",
            "710313 2017-12-31      9    39     58       0\n",
            "\n",
            "[1826 rows x 5 columns]\n"
          ]
        },
        {
          "output_type": "stream",
          "name": "stderr",
          "text": [
            "/usr/local/lib/python3.10/dist-packages/statsmodels/tsa/base/tsa_model.py:836: ValueWarning: No supported index is available. Prediction results will be given with an integer index beginning at `start`.\n",
            "  return get_prediction_index(\n",
            "/usr/local/lib/python3.10/dist-packages/statsmodels/tsa/base/tsa_model.py:836: FutureWarning: No supported index is available. In the next version, calling this method in a model without a supported index will result in an exception.\n",
            "  return get_prediction_index(\n"
          ]
        },
        {
          "output_type": "stream",
          "name": "stdout",
          "text": [
            "Finished training model...\n",
            "Predicting for store 10 and item 39\n",
            "             date  store  item  sales  is_hol\n",
            "710314 2013-01-01     10    39     30       1\n",
            "710315 2013-01-02     10    39     27       0\n",
            "710316 2013-01-03     10    39     21       0\n",
            "710317 2013-01-04     10    39     30       0\n",
            "710318 2013-01-05     10    39     46       0\n",
            "...           ...    ...   ...    ...     ...\n",
            "712135 2017-12-27     10    39     25       0\n",
            "712136 2017-12-28     10    39     40       0\n",
            "712137 2017-12-29     10    39     43       0\n",
            "712138 2017-12-30     10    39     45       0\n",
            "712139 2017-12-31     10    39     40       0\n",
            "\n",
            "[1826 rows x 5 columns]\n"
          ]
        },
        {
          "output_type": "stream",
          "name": "stderr",
          "text": [
            "/usr/local/lib/python3.10/dist-packages/statsmodels/tsa/base/tsa_model.py:836: ValueWarning: No supported index is available. Prediction results will be given with an integer index beginning at `start`.\n",
            "  return get_prediction_index(\n",
            "/usr/local/lib/python3.10/dist-packages/statsmodels/tsa/base/tsa_model.py:836: FutureWarning: No supported index is available. In the next version, calling this method in a model without a supported index will result in an exception.\n",
            "  return get_prediction_index(\n"
          ]
        },
        {
          "output_type": "stream",
          "name": "stdout",
          "text": [
            "Finished training model...\n",
            "Predicting for store 1 and item 40\n",
            "             date  store  item  sales  is_hol\n",
            "712140 2013-01-01      1    40     19       1\n",
            "712141 2013-01-02      1    40     15       0\n",
            "712142 2013-01-03      1    40     12       0\n",
            "712143 2013-01-04      1    40     13       0\n",
            "712144 2013-01-05      1    40     19       0\n",
            "...           ...    ...   ...    ...     ...\n",
            "713961 2017-12-27      1    40     24       0\n",
            "713962 2017-12-28      1    40     28       0\n",
            "713963 2017-12-29      1    40     22       0\n",
            "713964 2017-12-30      1    40     18       0\n",
            "713965 2017-12-31      1    40     40       0\n",
            "\n",
            "[1826 rows x 5 columns]\n"
          ]
        },
        {
          "output_type": "stream",
          "name": "stderr",
          "text": [
            "/usr/local/lib/python3.10/dist-packages/statsmodels/tsa/base/tsa_model.py:836: ValueWarning: No supported index is available. Prediction results will be given with an integer index beginning at `start`.\n",
            "  return get_prediction_index(\n",
            "/usr/local/lib/python3.10/dist-packages/statsmodels/tsa/base/tsa_model.py:836: FutureWarning: No supported index is available. In the next version, calling this method in a model without a supported index will result in an exception.\n",
            "  return get_prediction_index(\n"
          ]
        },
        {
          "output_type": "stream",
          "name": "stdout",
          "text": [
            "Finished training model...\n",
            "Predicting for store 2 and item 40\n",
            "             date  store  item  sales  is_hol\n",
            "713966 2013-01-01      2    40     20       1\n",
            "713967 2013-01-02      2    40     19       0\n",
            "713968 2013-01-03      2    40     24       0\n",
            "713969 2013-01-04      2    40     35       0\n",
            "713970 2013-01-05      2    40     18       0\n",
            "...           ...    ...   ...    ...     ...\n",
            "715787 2017-12-27      2    40     28       0\n",
            "715788 2017-12-28      2    40     34       0\n",
            "715789 2017-12-29      2    40     36       0\n",
            "715790 2017-12-30      2    40     33       0\n",
            "715791 2017-12-31      2    40     46       0\n",
            "\n",
            "[1826 rows x 5 columns]\n"
          ]
        },
        {
          "output_type": "stream",
          "name": "stderr",
          "text": [
            "/usr/local/lib/python3.10/dist-packages/statsmodels/tsa/base/tsa_model.py:836: ValueWarning: No supported index is available. Prediction results will be given with an integer index beginning at `start`.\n",
            "  return get_prediction_index(\n",
            "/usr/local/lib/python3.10/dist-packages/statsmodels/tsa/base/tsa_model.py:836: FutureWarning: No supported index is available. In the next version, calling this method in a model without a supported index will result in an exception.\n",
            "  return get_prediction_index(\n"
          ]
        },
        {
          "output_type": "stream",
          "name": "stdout",
          "text": [
            "Finished training model...\n",
            "Predicting for store 3 and item 40\n",
            "             date  store  item  sales  is_hol\n",
            "715792 2013-01-01      3    40     16       1\n",
            "715793 2013-01-02      3    40     12       0\n",
            "715794 2013-01-03      3    40     26       0\n",
            "715795 2013-01-04      3    40     21       0\n",
            "715796 2013-01-05      3    40     17       0\n",
            "...           ...    ...   ...    ...     ...\n",
            "717613 2017-12-27      3    40     33       0\n",
            "717614 2017-12-28      3    40     35       0\n",
            "717615 2017-12-29      3    40     26       0\n",
            "717616 2017-12-30      3    40     31       0\n",
            "717617 2017-12-31      3    40     38       0\n",
            "\n",
            "[1826 rows x 5 columns]\n"
          ]
        },
        {
          "output_type": "stream",
          "name": "stderr",
          "text": [
            "/usr/local/lib/python3.10/dist-packages/statsmodels/tsa/base/tsa_model.py:836: ValueWarning: No supported index is available. Prediction results will be given with an integer index beginning at `start`.\n",
            "  return get_prediction_index(\n",
            "/usr/local/lib/python3.10/dist-packages/statsmodels/tsa/base/tsa_model.py:836: FutureWarning: No supported index is available. In the next version, calling this method in a model without a supported index will result in an exception.\n",
            "  return get_prediction_index(\n"
          ]
        },
        {
          "output_type": "stream",
          "name": "stdout",
          "text": [
            "Finished training model...\n",
            "Predicting for store 4 and item 40\n",
            "             date  store  item  sales  is_hol\n",
            "717618 2013-01-01      4    40     18       1\n",
            "717619 2013-01-02      4    40     15       0\n",
            "717620 2013-01-03      4    40     14       0\n",
            "717621 2013-01-04      4    40     17       0\n",
            "717622 2013-01-05      4    40     18       0\n",
            "...           ...    ...   ...    ...     ...\n",
            "719439 2017-12-27      4    40     33       0\n",
            "719440 2017-12-28      4    40     27       0\n",
            "719441 2017-12-29      4    40     27       0\n",
            "719442 2017-12-30      4    40     28       0\n",
            "719443 2017-12-31      4    40     23       0\n",
            "\n",
            "[1826 rows x 5 columns]\n"
          ]
        },
        {
          "output_type": "stream",
          "name": "stderr",
          "text": [
            "/usr/local/lib/python3.10/dist-packages/statsmodels/tsa/base/tsa_model.py:836: ValueWarning: No supported index is available. Prediction results will be given with an integer index beginning at `start`.\n",
            "  return get_prediction_index(\n",
            "/usr/local/lib/python3.10/dist-packages/statsmodels/tsa/base/tsa_model.py:836: FutureWarning: No supported index is available. In the next version, calling this method in a model without a supported index will result in an exception.\n",
            "  return get_prediction_index(\n"
          ]
        },
        {
          "output_type": "stream",
          "name": "stdout",
          "text": [
            "Finished training model...\n",
            "Predicting for store 5 and item 40\n",
            "             date  store  item  sales  is_hol\n",
            "719444 2013-01-01      5    40     18       1\n",
            "719445 2013-01-02      5    40     10       0\n",
            "719446 2013-01-03      5    40     14       0\n",
            "719447 2013-01-04      5    40     10       0\n",
            "719448 2013-01-05      5    40      9       0\n",
            "...           ...    ...   ...    ...     ...\n",
            "721265 2017-12-27      5    40     16       0\n",
            "721266 2017-12-28      5    40     21       0\n",
            "721267 2017-12-29      5    40     21       0\n",
            "721268 2017-12-30      5    40     13       0\n",
            "721269 2017-12-31      5    40     25       0\n",
            "\n",
            "[1826 rows x 5 columns]\n"
          ]
        },
        {
          "output_type": "stream",
          "name": "stderr",
          "text": [
            "/usr/local/lib/python3.10/dist-packages/statsmodels/tsa/base/tsa_model.py:836: ValueWarning: No supported index is available. Prediction results will be given with an integer index beginning at `start`.\n",
            "  return get_prediction_index(\n",
            "/usr/local/lib/python3.10/dist-packages/statsmodels/tsa/base/tsa_model.py:836: FutureWarning: No supported index is available. In the next version, calling this method in a model without a supported index will result in an exception.\n",
            "  return get_prediction_index(\n"
          ]
        },
        {
          "output_type": "stream",
          "name": "stdout",
          "text": [
            "Finished training model...\n",
            "Predicting for store 6 and item 40\n",
            "             date  store  item  sales  is_hol\n",
            "721270 2013-01-01      6    40     15       1\n",
            "721271 2013-01-02      6    40      9       0\n",
            "721272 2013-01-03      6    40     12       0\n",
            "721273 2013-01-04      6    40     15       0\n",
            "721274 2013-01-05      6    40     12       0\n",
            "...           ...    ...   ...    ...     ...\n",
            "723091 2017-12-27      6    40     15       0\n",
            "723092 2017-12-28      6    40     13       0\n",
            "723093 2017-12-29      6    40     26       0\n",
            "723094 2017-12-30      6    40     31       0\n",
            "723095 2017-12-31      6    40     20       0\n",
            "\n",
            "[1826 rows x 5 columns]\n"
          ]
        },
        {
          "output_type": "stream",
          "name": "stderr",
          "text": [
            "/usr/local/lib/python3.10/dist-packages/statsmodels/tsa/base/tsa_model.py:836: ValueWarning: No supported index is available. Prediction results will be given with an integer index beginning at `start`.\n",
            "  return get_prediction_index(\n",
            "/usr/local/lib/python3.10/dist-packages/statsmodels/tsa/base/tsa_model.py:836: FutureWarning: No supported index is available. In the next version, calling this method in a model without a supported index will result in an exception.\n",
            "  return get_prediction_index(\n"
          ]
        },
        {
          "output_type": "stream",
          "name": "stdout",
          "text": [
            "Finished training model...\n",
            "Predicting for store 7 and item 40\n",
            "             date  store  item  sales  is_hol\n",
            "723096 2013-01-01      7    40     15       1\n",
            "723097 2013-01-02      7    40     11       0\n",
            "723098 2013-01-03      7    40     12       0\n",
            "723099 2013-01-04      7    40      7       0\n",
            "723100 2013-01-05      7    40     18       0\n",
            "...           ...    ...   ...    ...     ...\n",
            "724917 2017-12-27      7    40     12       0\n",
            "724918 2017-12-28      7    40     19       0\n",
            "724919 2017-12-29      7    40     24       0\n",
            "724920 2017-12-30      7    40     19       0\n",
            "724921 2017-12-31      7    40     22       0\n",
            "\n",
            "[1826 rows x 5 columns]\n"
          ]
        },
        {
          "output_type": "stream",
          "name": "stderr",
          "text": [
            "/usr/local/lib/python3.10/dist-packages/statsmodels/tsa/base/tsa_model.py:836: ValueWarning: No supported index is available. Prediction results will be given with an integer index beginning at `start`.\n",
            "  return get_prediction_index(\n",
            "/usr/local/lib/python3.10/dist-packages/statsmodels/tsa/base/tsa_model.py:836: FutureWarning: No supported index is available. In the next version, calling this method in a model without a supported index will result in an exception.\n",
            "  return get_prediction_index(\n"
          ]
        },
        {
          "output_type": "stream",
          "name": "stdout",
          "text": [
            "Finished training model...\n",
            "Predicting for store 8 and item 40\n",
            "             date  store  item  sales  is_hol\n",
            "724922 2013-01-01      8    40     20       1\n",
            "724923 2013-01-02      8    40     23       0\n",
            "724924 2013-01-03      8    40     24       0\n",
            "724925 2013-01-04      8    40     25       0\n",
            "724926 2013-01-05      8    40     25       0\n",
            "...           ...    ...   ...    ...     ...\n",
            "726743 2017-12-27      8    40     30       0\n",
            "726744 2017-12-28      8    40     31       0\n",
            "726745 2017-12-29      8    40     29       0\n",
            "726746 2017-12-30      8    40     28       0\n",
            "726747 2017-12-31      8    40     43       0\n",
            "\n",
            "[1826 rows x 5 columns]\n"
          ]
        },
        {
          "output_type": "stream",
          "name": "stderr",
          "text": [
            "/usr/local/lib/python3.10/dist-packages/statsmodels/tsa/base/tsa_model.py:836: ValueWarning: No supported index is available. Prediction results will be given with an integer index beginning at `start`.\n",
            "  return get_prediction_index(\n",
            "/usr/local/lib/python3.10/dist-packages/statsmodels/tsa/base/tsa_model.py:836: FutureWarning: No supported index is available. In the next version, calling this method in a model without a supported index will result in an exception.\n",
            "  return get_prediction_index(\n"
          ]
        },
        {
          "output_type": "stream",
          "name": "stdout",
          "text": [
            "Finished training model...\n",
            "Predicting for store 9 and item 40\n",
            "             date  store  item  sales  is_hol\n",
            "726748 2013-01-01      9    40     21       1\n",
            "726749 2013-01-02      9    40     12       0\n",
            "726750 2013-01-03      9    40     16       0\n",
            "726751 2013-01-04      9    40     20       0\n",
            "726752 2013-01-05      9    40     15       0\n",
            "...           ...    ...   ...    ...     ...\n",
            "728569 2017-12-27      9    40     31       0\n",
            "728570 2017-12-28      9    40     26       0\n",
            "728571 2017-12-29      9    40     31       0\n",
            "728572 2017-12-30      9    40     28       0\n",
            "728573 2017-12-31      9    40     20       0\n",
            "\n",
            "[1826 rows x 5 columns]\n"
          ]
        },
        {
          "output_type": "stream",
          "name": "stderr",
          "text": [
            "/usr/local/lib/python3.10/dist-packages/statsmodels/tsa/base/tsa_model.py:836: ValueWarning: No supported index is available. Prediction results will be given with an integer index beginning at `start`.\n",
            "  return get_prediction_index(\n",
            "/usr/local/lib/python3.10/dist-packages/statsmodels/tsa/base/tsa_model.py:836: FutureWarning: No supported index is available. In the next version, calling this method in a model without a supported index will result in an exception.\n",
            "  return get_prediction_index(\n"
          ]
        },
        {
          "output_type": "stream",
          "name": "stdout",
          "text": [
            "Finished training model...\n",
            "Predicting for store 10 and item 40\n",
            "             date  store  item  sales  is_hol\n",
            "728574 2013-01-01     10    40     17       1\n",
            "728575 2013-01-02     10    40     19       0\n",
            "728576 2013-01-03     10    40     18       0\n",
            "728577 2013-01-04     10    40     21       0\n",
            "728578 2013-01-05     10    40     23       0\n",
            "...           ...    ...   ...    ...     ...\n",
            "730395 2017-12-27     10    40     34       0\n",
            "730396 2017-12-28     10    40     30       0\n",
            "730397 2017-12-29     10    40     33       0\n",
            "730398 2017-12-30     10    40     29       0\n",
            "730399 2017-12-31     10    40     28       0\n",
            "\n",
            "[1826 rows x 5 columns]\n"
          ]
        },
        {
          "output_type": "stream",
          "name": "stderr",
          "text": [
            "/usr/local/lib/python3.10/dist-packages/statsmodels/tsa/base/tsa_model.py:836: ValueWarning: No supported index is available. Prediction results will be given with an integer index beginning at `start`.\n",
            "  return get_prediction_index(\n",
            "/usr/local/lib/python3.10/dist-packages/statsmodels/tsa/base/tsa_model.py:836: FutureWarning: No supported index is available. In the next version, calling this method in a model without a supported index will result in an exception.\n",
            "  return get_prediction_index(\n"
          ]
        },
        {
          "output_type": "stream",
          "name": "stdout",
          "text": [
            "Finished training model...\n",
            "Predicting for store 1 and item 41\n",
            "             date  store  item  sales  is_hol\n",
            "730400 2013-01-01      1    41      6       1\n",
            "730401 2013-01-02      1    41     15       0\n",
            "730402 2013-01-03      1    41      5       0\n",
            "730403 2013-01-04      1    41      9       0\n",
            "730404 2013-01-05      1    41     13       0\n",
            "...           ...    ...   ...    ...     ...\n",
            "732221 2017-12-27      1    41     10       0\n",
            "732222 2017-12-28      1    41      9       0\n",
            "732223 2017-12-29      1    41     22       0\n",
            "732224 2017-12-30      1    41     20       0\n",
            "732225 2017-12-31      1    41     25       0\n",
            "\n",
            "[1826 rows x 5 columns]\n"
          ]
        },
        {
          "output_type": "stream",
          "name": "stderr",
          "text": [
            "/usr/local/lib/python3.10/dist-packages/statsmodels/tsa/base/tsa_model.py:836: ValueWarning: No supported index is available. Prediction results will be given with an integer index beginning at `start`.\n",
            "  return get_prediction_index(\n",
            "/usr/local/lib/python3.10/dist-packages/statsmodels/tsa/base/tsa_model.py:836: FutureWarning: No supported index is available. In the next version, calling this method in a model without a supported index will result in an exception.\n",
            "  return get_prediction_index(\n"
          ]
        },
        {
          "output_type": "stream",
          "name": "stdout",
          "text": [
            "Finished training model...\n",
            "Predicting for store 2 and item 41\n",
            "             date  store  item  sales  is_hol\n",
            "732226 2013-01-01      2    41     11       1\n",
            "732227 2013-01-02      2    41     19       0\n",
            "732228 2013-01-03      2    41     23       0\n",
            "732229 2013-01-04      2    41     15       0\n",
            "732230 2013-01-05      2    41     19       0\n",
            "...           ...    ...   ...    ...     ...\n",
            "734047 2017-12-27      2    41     20       0\n",
            "734048 2017-12-28      2    41     18       0\n",
            "734049 2017-12-29      2    41     20       0\n",
            "734050 2017-12-30      2    41     24       0\n",
            "734051 2017-12-31      2    41     32       0\n",
            "\n",
            "[1826 rows x 5 columns]\n"
          ]
        },
        {
          "output_type": "stream",
          "name": "stderr",
          "text": [
            "/usr/local/lib/python3.10/dist-packages/statsmodels/tsa/base/tsa_model.py:836: ValueWarning: No supported index is available. Prediction results will be given with an integer index beginning at `start`.\n",
            "  return get_prediction_index(\n",
            "/usr/local/lib/python3.10/dist-packages/statsmodels/tsa/base/tsa_model.py:836: FutureWarning: No supported index is available. In the next version, calling this method in a model without a supported index will result in an exception.\n",
            "  return get_prediction_index(\n"
          ]
        },
        {
          "output_type": "stream",
          "name": "stdout",
          "text": [
            "Finished training model...\n",
            "Predicting for store 3 and item 41\n",
            "             date  store  item  sales  is_hol\n",
            "734052 2013-01-01      3    41     14       1\n",
            "734053 2013-01-02      3    41     12       0\n",
            "734054 2013-01-03      3    41     14       0\n",
            "734055 2013-01-04      3    41     19       0\n",
            "734056 2013-01-05      3    41     19       0\n",
            "...           ...    ...   ...    ...     ...\n",
            "735873 2017-12-27      3    41     18       0\n",
            "735874 2017-12-28      3    41     26       0\n",
            "735875 2017-12-29      3    41     22       0\n",
            "735876 2017-12-30      3    41     17       0\n",
            "735877 2017-12-31      3    41     29       0\n",
            "\n",
            "[1826 rows x 5 columns]\n"
          ]
        },
        {
          "output_type": "stream",
          "name": "stderr",
          "text": [
            "/usr/local/lib/python3.10/dist-packages/statsmodels/tsa/base/tsa_model.py:836: ValueWarning: No supported index is available. Prediction results will be given with an integer index beginning at `start`.\n",
            "  return get_prediction_index(\n",
            "/usr/local/lib/python3.10/dist-packages/statsmodels/tsa/base/tsa_model.py:836: FutureWarning: No supported index is available. In the next version, calling this method in a model without a supported index will result in an exception.\n",
            "  return get_prediction_index(\n"
          ]
        },
        {
          "output_type": "stream",
          "name": "stdout",
          "text": [
            "Finished training model...\n",
            "Predicting for store 4 and item 41\n",
            "             date  store  item  sales  is_hol\n",
            "735878 2013-01-01      4    41      8       1\n",
            "735879 2013-01-02      4    41      9       0\n",
            "735880 2013-01-03      4    41     18       0\n",
            "735881 2013-01-04      4    41     14       0\n",
            "735882 2013-01-05      4    41     18       0\n",
            "...           ...    ...   ...    ...     ...\n",
            "737699 2017-12-27      4    41     18       0\n",
            "737700 2017-12-28      4    41     14       0\n",
            "737701 2017-12-29      4    41     16       0\n",
            "737702 2017-12-30      4    41     23       0\n",
            "737703 2017-12-31      4    41     29       0\n",
            "\n",
            "[1826 rows x 5 columns]\n"
          ]
        },
        {
          "output_type": "stream",
          "name": "stderr",
          "text": [
            "/usr/local/lib/python3.10/dist-packages/statsmodels/tsa/base/tsa_model.py:836: ValueWarning: No supported index is available. Prediction results will be given with an integer index beginning at `start`.\n",
            "  return get_prediction_index(\n",
            "/usr/local/lib/python3.10/dist-packages/statsmodels/tsa/base/tsa_model.py:836: FutureWarning: No supported index is available. In the next version, calling this method in a model without a supported index will result in an exception.\n",
            "  return get_prediction_index(\n"
          ]
        },
        {
          "output_type": "stream",
          "name": "stdout",
          "text": [
            "Finished training model...\n",
            "Predicting for store 5 and item 41\n",
            "             date  store  item  sales  is_hol\n",
            "737704 2013-01-01      5    41     11       1\n",
            "737705 2013-01-02      5    41     11       0\n",
            "737706 2013-01-03      5    41      8       0\n",
            "737707 2013-01-04      5    41     15       0\n",
            "737708 2013-01-05      5    41     11       0\n",
            "...           ...    ...   ...    ...     ...\n",
            "739525 2017-12-27      5    41     22       0\n",
            "739526 2017-12-28      5    41     16       0\n",
            "739527 2017-12-29      5    41     11       0\n",
            "739528 2017-12-30      5    41     15       0\n",
            "739529 2017-12-31      5    41     14       0\n",
            "\n",
            "[1826 rows x 5 columns]\n"
          ]
        },
        {
          "output_type": "stream",
          "name": "stderr",
          "text": [
            "/usr/local/lib/python3.10/dist-packages/statsmodels/tsa/base/tsa_model.py:836: ValueWarning: No supported index is available. Prediction results will be given with an integer index beginning at `start`.\n",
            "  return get_prediction_index(\n",
            "/usr/local/lib/python3.10/dist-packages/statsmodels/tsa/base/tsa_model.py:836: FutureWarning: No supported index is available. In the next version, calling this method in a model without a supported index will result in an exception.\n",
            "  return get_prediction_index(\n"
          ]
        },
        {
          "output_type": "stream",
          "name": "stdout",
          "text": [
            "Finished training model...\n",
            "Predicting for store 6 and item 41\n",
            "             date  store  item  sales  is_hol\n",
            "739530 2013-01-01      6    41     13       1\n",
            "739531 2013-01-02      6    41     12       0\n",
            "739532 2013-01-03      6    41      9       0\n",
            "739533 2013-01-04      6    41     10       0\n",
            "739534 2013-01-05      6    41     12       0\n",
            "...           ...    ...   ...    ...     ...\n",
            "741351 2017-12-27      6    41     16       0\n",
            "741352 2017-12-28      6    41      9       0\n",
            "741353 2017-12-29      6    41     17       0\n",
            "741354 2017-12-30      6    41     14       0\n",
            "741355 2017-12-31      6    41     20       0\n",
            "\n",
            "[1826 rows x 5 columns]\n"
          ]
        },
        {
          "output_type": "stream",
          "name": "stderr",
          "text": [
            "/usr/local/lib/python3.10/dist-packages/statsmodels/tsa/base/tsa_model.py:836: ValueWarning: No supported index is available. Prediction results will be given with an integer index beginning at `start`.\n",
            "  return get_prediction_index(\n",
            "/usr/local/lib/python3.10/dist-packages/statsmodels/tsa/base/tsa_model.py:836: FutureWarning: No supported index is available. In the next version, calling this method in a model without a supported index will result in an exception.\n",
            "  return get_prediction_index(\n"
          ]
        },
        {
          "output_type": "stream",
          "name": "stdout",
          "text": [
            "Finished training model...\n",
            "Predicting for store 7 and item 41\n",
            "             date  store  item  sales  is_hol\n",
            "741356 2013-01-01      7    41      8       1\n",
            "741357 2013-01-02      7    41      8       0\n",
            "741358 2013-01-03      7    41      7       0\n",
            "741359 2013-01-04      7    41      5       0\n",
            "741360 2013-01-05      7    41      8       0\n",
            "...           ...    ...   ...    ...     ...\n",
            "743177 2017-12-27      7    41     12       0\n",
            "743178 2017-12-28      7    41      9       0\n",
            "743179 2017-12-29      7    41     10       0\n",
            "743180 2017-12-30      7    41     11       0\n",
            "743181 2017-12-31      7    41     19       0\n",
            "\n",
            "[1826 rows x 5 columns]\n"
          ]
        },
        {
          "output_type": "stream",
          "name": "stderr",
          "text": [
            "/usr/local/lib/python3.10/dist-packages/statsmodels/tsa/base/tsa_model.py:836: ValueWarning: No supported index is available. Prediction results will be given with an integer index beginning at `start`.\n",
            "  return get_prediction_index(\n",
            "/usr/local/lib/python3.10/dist-packages/statsmodels/tsa/base/tsa_model.py:836: FutureWarning: No supported index is available. In the next version, calling this method in a model without a supported index will result in an exception.\n",
            "  return get_prediction_index(\n"
          ]
        },
        {
          "output_type": "stream",
          "name": "stdout",
          "text": [
            "Finished training model...\n",
            "Predicting for store 8 and item 41\n",
            "             date  store  item  sales  is_hol\n",
            "743182 2013-01-01      8    41     11       1\n",
            "743183 2013-01-02      8    41     23       0\n",
            "743184 2013-01-03      8    41     17       0\n",
            "743185 2013-01-04      8    41      9       0\n",
            "743186 2013-01-05      8    41     15       0\n",
            "...           ...    ...   ...    ...     ...\n",
            "745003 2017-12-27      8    41     25       0\n",
            "745004 2017-12-28      8    41     38       0\n",
            "745005 2017-12-29      8    41     23       0\n",
            "745006 2017-12-30      8    41     20       0\n",
            "745007 2017-12-31      8    41     34       0\n",
            "\n",
            "[1826 rows x 5 columns]\n"
          ]
        },
        {
          "output_type": "stream",
          "name": "stderr",
          "text": [
            "/usr/local/lib/python3.10/dist-packages/statsmodels/tsa/base/tsa_model.py:836: ValueWarning: No supported index is available. Prediction results will be given with an integer index beginning at `start`.\n",
            "  return get_prediction_index(\n",
            "/usr/local/lib/python3.10/dist-packages/statsmodels/tsa/base/tsa_model.py:836: FutureWarning: No supported index is available. In the next version, calling this method in a model without a supported index will result in an exception.\n",
            "  return get_prediction_index(\n"
          ]
        },
        {
          "output_type": "stream",
          "name": "stdout",
          "text": [
            "Finished training model...\n",
            "Predicting for store 9 and item 41\n",
            "             date  store  item  sales  is_hol\n",
            "745008 2013-01-01      9    41      9       1\n",
            "745009 2013-01-02      9    41     13       0\n",
            "745010 2013-01-03      9    41     13       0\n",
            "745011 2013-01-04      9    41     13       0\n",
            "745012 2013-01-05      9    41     13       0\n",
            "...           ...    ...   ...    ...     ...\n",
            "746829 2017-12-27      9    41     21       0\n",
            "746830 2017-12-28      9    41     15       0\n",
            "746831 2017-12-29      9    41     18       0\n",
            "746832 2017-12-30      9    41     11       0\n",
            "746833 2017-12-31      9    41     22       0\n",
            "\n",
            "[1826 rows x 5 columns]\n"
          ]
        },
        {
          "output_type": "stream",
          "name": "stderr",
          "text": [
            "/usr/local/lib/python3.10/dist-packages/statsmodels/tsa/base/tsa_model.py:836: ValueWarning: No supported index is available. Prediction results will be given with an integer index beginning at `start`.\n",
            "  return get_prediction_index(\n",
            "/usr/local/lib/python3.10/dist-packages/statsmodels/tsa/base/tsa_model.py:836: FutureWarning: No supported index is available. In the next version, calling this method in a model without a supported index will result in an exception.\n",
            "  return get_prediction_index(\n"
          ]
        },
        {
          "output_type": "stream",
          "name": "stdout",
          "text": [
            "Finished training model...\n",
            "Predicting for store 10 and item 41\n",
            "             date  store  item  sales  is_hol\n",
            "746834 2013-01-01     10    41     12       1\n",
            "746835 2013-01-02     10    41     10       0\n",
            "746836 2013-01-03     10    41     17       0\n",
            "746837 2013-01-04     10    41     13       0\n",
            "746838 2013-01-05     10    41     14       0\n",
            "...           ...    ...   ...    ...     ...\n",
            "748655 2017-12-27     10    41     14       0\n",
            "748656 2017-12-28     10    41     18       0\n",
            "748657 2017-12-29     10    41     26       0\n",
            "748658 2017-12-30     10    41     22       0\n",
            "748659 2017-12-31     10    41     22       0\n",
            "\n",
            "[1826 rows x 5 columns]\n"
          ]
        },
        {
          "output_type": "stream",
          "name": "stderr",
          "text": [
            "/usr/local/lib/python3.10/dist-packages/statsmodels/tsa/base/tsa_model.py:836: ValueWarning: No supported index is available. Prediction results will be given with an integer index beginning at `start`.\n",
            "  return get_prediction_index(\n",
            "/usr/local/lib/python3.10/dist-packages/statsmodels/tsa/base/tsa_model.py:836: FutureWarning: No supported index is available. In the next version, calling this method in a model without a supported index will result in an exception.\n",
            "  return get_prediction_index(\n"
          ]
        },
        {
          "output_type": "stream",
          "name": "stdout",
          "text": [
            "Finished training model...\n",
            "Predicting for store 1 and item 42\n",
            "             date  store  item  sales  is_hol\n",
            "748660 2013-01-01      1    42     21       1\n",
            "748661 2013-01-02      1    42     24       0\n",
            "748662 2013-01-03      1    42     14       0\n",
            "748663 2013-01-04      1    42     22       0\n",
            "748664 2013-01-05      1    42     18       0\n",
            "...           ...    ...   ...    ...     ...\n",
            "750481 2017-12-27      1    42     23       0\n",
            "750482 2017-12-28      1    42     19       0\n",
            "750483 2017-12-29      1    42     15       0\n",
            "750484 2017-12-30      1    42     35       0\n",
            "750485 2017-12-31      1    42     27       0\n",
            "\n",
            "[1826 rows x 5 columns]\n"
          ]
        },
        {
          "output_type": "stream",
          "name": "stderr",
          "text": [
            "/usr/local/lib/python3.10/dist-packages/statsmodels/tsa/base/tsa_model.py:836: ValueWarning: No supported index is available. Prediction results will be given with an integer index beginning at `start`.\n",
            "  return get_prediction_index(\n",
            "/usr/local/lib/python3.10/dist-packages/statsmodels/tsa/base/tsa_model.py:836: FutureWarning: No supported index is available. In the next version, calling this method in a model without a supported index will result in an exception.\n",
            "  return get_prediction_index(\n"
          ]
        },
        {
          "output_type": "stream",
          "name": "stdout",
          "text": [
            "Finished training model...\n",
            "Predicting for store 2 and item 42\n",
            "             date  store  item  sales  is_hol\n",
            "750486 2013-01-01      2    42     25       1\n",
            "750487 2013-01-02      2    42     21       0\n",
            "750488 2013-01-03      2    42     20       0\n",
            "750489 2013-01-04      2    42     28       0\n",
            "750490 2013-01-05      2    42     39       0\n",
            "...           ...    ...   ...    ...     ...\n",
            "752307 2017-12-27      2    42     33       0\n",
            "752308 2017-12-28      2    42     46       0\n",
            "752309 2017-12-29      2    42     56       0\n",
            "752310 2017-12-30      2    42     50       0\n",
            "752311 2017-12-31      2    42     51       0\n",
            "\n",
            "[1826 rows x 5 columns]\n"
          ]
        },
        {
          "output_type": "stream",
          "name": "stderr",
          "text": [
            "/usr/local/lib/python3.10/dist-packages/statsmodels/tsa/base/tsa_model.py:836: ValueWarning: No supported index is available. Prediction results will be given with an integer index beginning at `start`.\n",
            "  return get_prediction_index(\n",
            "/usr/local/lib/python3.10/dist-packages/statsmodels/tsa/base/tsa_model.py:836: FutureWarning: No supported index is available. In the next version, calling this method in a model without a supported index will result in an exception.\n",
            "  return get_prediction_index(\n"
          ]
        },
        {
          "output_type": "stream",
          "name": "stdout",
          "text": [
            "Finished training model...\n",
            "Predicting for store 3 and item 42\n",
            "             date  store  item  sales  is_hol\n",
            "752312 2013-01-01      3    42     19       1\n",
            "752313 2013-01-02      3    42     20       0\n",
            "752314 2013-01-03      3    42     29       0\n",
            "752315 2013-01-04      3    42     20       0\n",
            "752316 2013-01-05      3    42     21       0\n",
            "...           ...    ...   ...    ...     ...\n",
            "754133 2017-12-27      3    42     41       0\n",
            "754134 2017-12-28      3    42     42       0\n",
            "754135 2017-12-29      3    42     36       0\n",
            "754136 2017-12-30      3    42     46       0\n",
            "754137 2017-12-31      3    42     37       0\n",
            "\n",
            "[1826 rows x 5 columns]\n"
          ]
        },
        {
          "output_type": "stream",
          "name": "stderr",
          "text": [
            "/usr/local/lib/python3.10/dist-packages/statsmodels/tsa/base/tsa_model.py:836: ValueWarning: No supported index is available. Prediction results will be given with an integer index beginning at `start`.\n",
            "  return get_prediction_index(\n",
            "/usr/local/lib/python3.10/dist-packages/statsmodels/tsa/base/tsa_model.py:836: FutureWarning: No supported index is available. In the next version, calling this method in a model without a supported index will result in an exception.\n",
            "  return get_prediction_index(\n"
          ]
        },
        {
          "output_type": "stream",
          "name": "stdout",
          "text": [
            "Finished training model...\n",
            "Predicting for store 4 and item 42\n",
            "             date  store  item  sales  is_hol\n",
            "754138 2013-01-01      4    42     24       1\n",
            "754139 2013-01-02      4    42     24       0\n",
            "754140 2013-01-03      4    42     18       0\n",
            "754141 2013-01-04      4    42     25       0\n",
            "754142 2013-01-05      4    42     29       0\n",
            "...           ...    ...   ...    ...     ...\n",
            "755959 2017-12-27      4    42     25       0\n",
            "755960 2017-12-28      4    42     31       0\n",
            "755961 2017-12-29      4    42     30       0\n",
            "755962 2017-12-30      4    42     30       0\n",
            "755963 2017-12-31      4    42     48       0\n",
            "\n",
            "[1826 rows x 5 columns]\n"
          ]
        },
        {
          "output_type": "stream",
          "name": "stderr",
          "text": [
            "/usr/local/lib/python3.10/dist-packages/statsmodels/tsa/base/tsa_model.py:836: ValueWarning: No supported index is available. Prediction results will be given with an integer index beginning at `start`.\n",
            "  return get_prediction_index(\n",
            "/usr/local/lib/python3.10/dist-packages/statsmodels/tsa/base/tsa_model.py:836: FutureWarning: No supported index is available. In the next version, calling this method in a model without a supported index will result in an exception.\n",
            "  return get_prediction_index(\n"
          ]
        },
        {
          "output_type": "stream",
          "name": "stdout",
          "text": [
            "Finished training model...\n",
            "Predicting for store 5 and item 42\n",
            "             date  store  item  sales  is_hol\n",
            "755964 2013-01-01      5    42     17       1\n",
            "755965 2013-01-02      5    42     18       0\n",
            "755966 2013-01-03      5    42     21       0\n",
            "755967 2013-01-04      5    42     24       0\n",
            "755968 2013-01-05      5    42     17       0\n",
            "...           ...    ...   ...    ...     ...\n",
            "757785 2017-12-27      5    42     20       0\n",
            "757786 2017-12-28      5    42     32       0\n",
            "757787 2017-12-29      5    42     26       0\n",
            "757788 2017-12-30      5    42     26       0\n",
            "757789 2017-12-31      5    42     23       0\n",
            "\n",
            "[1826 rows x 5 columns]\n"
          ]
        },
        {
          "output_type": "stream",
          "name": "stderr",
          "text": [
            "/usr/local/lib/python3.10/dist-packages/statsmodels/tsa/base/tsa_model.py:836: ValueWarning: No supported index is available. Prediction results will be given with an integer index beginning at `start`.\n",
            "  return get_prediction_index(\n",
            "/usr/local/lib/python3.10/dist-packages/statsmodels/tsa/base/tsa_model.py:836: FutureWarning: No supported index is available. In the next version, calling this method in a model without a supported index will result in an exception.\n",
            "  return get_prediction_index(\n"
          ]
        },
        {
          "output_type": "stream",
          "name": "stdout",
          "text": [
            "Finished training model...\n",
            "Predicting for store 6 and item 42\n",
            "             date  store  item  sales  is_hol\n",
            "757790 2013-01-01      6    42     15       1\n",
            "757791 2013-01-02      6    42     21       0\n",
            "757792 2013-01-03      6    42     14       0\n",
            "757793 2013-01-04      6    42     21       0\n",
            "757794 2013-01-05      6    42     27       0\n",
            "...           ...    ...   ...    ...     ...\n",
            "759611 2017-12-27      6    42     13       0\n",
            "759612 2017-12-28      6    42     30       0\n",
            "759613 2017-12-29      6    42     19       0\n",
            "759614 2017-12-30      6    42     26       0\n",
            "759615 2017-12-31      6    42     28       0\n",
            "\n",
            "[1826 rows x 5 columns]\n"
          ]
        },
        {
          "output_type": "stream",
          "name": "stderr",
          "text": [
            "/usr/local/lib/python3.10/dist-packages/statsmodels/tsa/base/tsa_model.py:836: ValueWarning: No supported index is available. Prediction results will be given with an integer index beginning at `start`.\n",
            "  return get_prediction_index(\n",
            "/usr/local/lib/python3.10/dist-packages/statsmodels/tsa/base/tsa_model.py:836: FutureWarning: No supported index is available. In the next version, calling this method in a model without a supported index will result in an exception.\n",
            "  return get_prediction_index(\n"
          ]
        },
        {
          "output_type": "stream",
          "name": "stdout",
          "text": [
            "Finished training model...\n",
            "Predicting for store 7 and item 42\n",
            "             date  store  item  sales  is_hol\n",
            "759616 2013-01-01      7    42     16       1\n",
            "759617 2013-01-02      7    42     18       0\n",
            "759618 2013-01-03      7    42     11       0\n",
            "759619 2013-01-04      7    42     12       0\n",
            "759620 2013-01-05      7    42     17       0\n",
            "...           ...    ...   ...    ...     ...\n",
            "761437 2017-12-27      7    42     19       0\n",
            "761438 2017-12-28      7    42     17       0\n",
            "761439 2017-12-29      7    42     26       0\n",
            "761440 2017-12-30      7    42     22       0\n",
            "761441 2017-12-31      7    42     26       0\n",
            "\n",
            "[1826 rows x 5 columns]\n"
          ]
        },
        {
          "output_type": "stream",
          "name": "stderr",
          "text": [
            "/usr/local/lib/python3.10/dist-packages/statsmodels/tsa/base/tsa_model.py:836: ValueWarning: No supported index is available. Prediction results will be given with an integer index beginning at `start`.\n",
            "  return get_prediction_index(\n",
            "/usr/local/lib/python3.10/dist-packages/statsmodels/tsa/base/tsa_model.py:836: FutureWarning: No supported index is available. In the next version, calling this method in a model without a supported index will result in an exception.\n",
            "  return get_prediction_index(\n"
          ]
        },
        {
          "output_type": "stream",
          "name": "stdout",
          "text": [
            "Finished training model...\n",
            "Predicting for store 8 and item 42\n",
            "             date  store  item  sales  is_hol\n",
            "761442 2013-01-01      8    42     20       1\n",
            "761443 2013-01-02      8    42     22       0\n",
            "761444 2013-01-03      8    42     33       0\n",
            "761445 2013-01-04      8    42     25       0\n",
            "761446 2013-01-05      8    42     23       0\n",
            "...           ...    ...   ...    ...     ...\n",
            "763263 2017-12-27      8    42     30       0\n",
            "763264 2017-12-28      8    42     48       0\n",
            "763265 2017-12-29      8    42     36       0\n",
            "763266 2017-12-30      8    42     33       0\n",
            "763267 2017-12-31      8    42     42       0\n",
            "\n",
            "[1826 rows x 5 columns]\n"
          ]
        },
        {
          "output_type": "stream",
          "name": "stderr",
          "text": [
            "/usr/local/lib/python3.10/dist-packages/statsmodels/tsa/base/tsa_model.py:836: ValueWarning: No supported index is available. Prediction results will be given with an integer index beginning at `start`.\n",
            "  return get_prediction_index(\n",
            "/usr/local/lib/python3.10/dist-packages/statsmodels/tsa/base/tsa_model.py:836: FutureWarning: No supported index is available. In the next version, calling this method in a model without a supported index will result in an exception.\n",
            "  return get_prediction_index(\n"
          ]
        },
        {
          "output_type": "stream",
          "name": "stdout",
          "text": [
            "Finished training model...\n",
            "Predicting for store 9 and item 42\n",
            "             date  store  item  sales  is_hol\n",
            "763268 2013-01-01      9    42     18       1\n",
            "763269 2013-01-02      9    42     25       0\n",
            "763270 2013-01-03      9    42     28       0\n",
            "763271 2013-01-04      9    42     23       0\n",
            "763272 2013-01-05      9    42     27       0\n",
            "...           ...    ...   ...    ...     ...\n",
            "765089 2017-12-27      9    42     25       0\n",
            "765090 2017-12-28      9    42     44       0\n",
            "765091 2017-12-29      9    42     23       0\n",
            "765092 2017-12-30      9    42     26       0\n",
            "765093 2017-12-31      9    42     49       0\n",
            "\n",
            "[1826 rows x 5 columns]\n"
          ]
        },
        {
          "output_type": "stream",
          "name": "stderr",
          "text": [
            "/usr/local/lib/python3.10/dist-packages/statsmodels/tsa/base/tsa_model.py:836: ValueWarning: No supported index is available. Prediction results will be given with an integer index beginning at `start`.\n",
            "  return get_prediction_index(\n",
            "/usr/local/lib/python3.10/dist-packages/statsmodels/tsa/base/tsa_model.py:836: FutureWarning: No supported index is available. In the next version, calling this method in a model without a supported index will result in an exception.\n",
            "  return get_prediction_index(\n"
          ]
        },
        {
          "output_type": "stream",
          "name": "stdout",
          "text": [
            "Finished training model...\n",
            "Predicting for store 10 and item 42\n",
            "             date  store  item  sales  is_hol\n",
            "765094 2013-01-01     10    42     20       1\n",
            "765095 2013-01-02     10    42     22       0\n",
            "765096 2013-01-03     10    42     27       0\n",
            "765097 2013-01-04     10    42     24       0\n",
            "765098 2013-01-05     10    42     25       0\n",
            "...           ...    ...   ...    ...     ...\n",
            "766915 2017-12-27     10    42     35       0\n",
            "766916 2017-12-28     10    42     37       0\n",
            "766917 2017-12-29     10    42     37       0\n",
            "766918 2017-12-30     10    42     44       0\n",
            "766919 2017-12-31     10    42     33       0\n",
            "\n",
            "[1826 rows x 5 columns]\n"
          ]
        },
        {
          "output_type": "stream",
          "name": "stderr",
          "text": [
            "/usr/local/lib/python3.10/dist-packages/statsmodels/tsa/base/tsa_model.py:836: ValueWarning: No supported index is available. Prediction results will be given with an integer index beginning at `start`.\n",
            "  return get_prediction_index(\n",
            "/usr/local/lib/python3.10/dist-packages/statsmodels/tsa/base/tsa_model.py:836: FutureWarning: No supported index is available. In the next version, calling this method in a model without a supported index will result in an exception.\n",
            "  return get_prediction_index(\n"
          ]
        },
        {
          "output_type": "stream",
          "name": "stdout",
          "text": [
            "Finished training model...\n",
            "Predicting for store 1 and item 43\n",
            "             date  store  item  sales  is_hol\n",
            "766920 2013-01-01      1    43     22       1\n",
            "766921 2013-01-02      1    43     27       0\n",
            "766922 2013-01-03      1    43     19       0\n",
            "766923 2013-01-04      1    43     29       0\n",
            "766924 2013-01-05      1    43     34       0\n",
            "...           ...    ...   ...    ...     ...\n",
            "768741 2017-12-27      1    43     29       0\n",
            "768742 2017-12-28      1    43     28       0\n",
            "768743 2017-12-29      1    43     32       0\n",
            "768744 2017-12-30      1    43     58       0\n",
            "768745 2017-12-31      1    43     41       0\n",
            "\n",
            "[1826 rows x 5 columns]\n"
          ]
        },
        {
          "output_type": "stream",
          "name": "stderr",
          "text": [
            "/usr/local/lib/python3.10/dist-packages/statsmodels/tsa/base/tsa_model.py:836: ValueWarning: No supported index is available. Prediction results will be given with an integer index beginning at `start`.\n",
            "  return get_prediction_index(\n",
            "/usr/local/lib/python3.10/dist-packages/statsmodels/tsa/base/tsa_model.py:836: FutureWarning: No supported index is available. In the next version, calling this method in a model without a supported index will result in an exception.\n",
            "  return get_prediction_index(\n"
          ]
        },
        {
          "output_type": "stream",
          "name": "stdout",
          "text": [
            "Finished training model...\n",
            "Predicting for store 2 and item 43\n",
            "             date  store  item  sales  is_hol\n",
            "768746 2013-01-01      2    43     36       1\n",
            "768747 2013-01-02      2    43     35       0\n",
            "768748 2013-01-03      2    43     52       0\n",
            "768749 2013-01-04      2    43     50       0\n",
            "768750 2013-01-05      2    43     41       0\n",
            "...           ...    ...   ...    ...     ...\n",
            "770567 2017-12-27      2    43     45       0\n",
            "770568 2017-12-28      2    43     64       0\n",
            "770569 2017-12-29      2    43     59       0\n",
            "770570 2017-12-30      2    43     68       0\n",
            "770571 2017-12-31      2    43     62       0\n",
            "\n",
            "[1826 rows x 5 columns]\n"
          ]
        },
        {
          "output_type": "stream",
          "name": "stderr",
          "text": [
            "/usr/local/lib/python3.10/dist-packages/statsmodels/tsa/base/tsa_model.py:836: ValueWarning: No supported index is available. Prediction results will be given with an integer index beginning at `start`.\n",
            "  return get_prediction_index(\n",
            "/usr/local/lib/python3.10/dist-packages/statsmodels/tsa/base/tsa_model.py:836: FutureWarning: No supported index is available. In the next version, calling this method in a model without a supported index will result in an exception.\n",
            "  return get_prediction_index(\n"
          ]
        },
        {
          "output_type": "stream",
          "name": "stdout",
          "text": [
            "Finished training model...\n",
            "Predicting for store 3 and item 43\n",
            "             date  store  item  sales  is_hol\n",
            "770572 2013-01-01      3    43     29       1\n",
            "770573 2013-01-02      3    43     32       0\n",
            "770574 2013-01-03      3    43     36       0\n",
            "770575 2013-01-04      3    43     35       0\n",
            "770576 2013-01-05      3    43     40       0\n",
            "...           ...    ...   ...    ...     ...\n",
            "772393 2017-12-27      3    43     39       0\n",
            "772394 2017-12-28      3    43     41       0\n",
            "772395 2017-12-29      3    43     52       0\n",
            "772396 2017-12-30      3    43     48       0\n",
            "772397 2017-12-31      3    43     46       0\n",
            "\n",
            "[1826 rows x 5 columns]\n"
          ]
        },
        {
          "output_type": "stream",
          "name": "stderr",
          "text": [
            "/usr/local/lib/python3.10/dist-packages/statsmodels/tsa/base/tsa_model.py:836: ValueWarning: No supported index is available. Prediction results will be given with an integer index beginning at `start`.\n",
            "  return get_prediction_index(\n",
            "/usr/local/lib/python3.10/dist-packages/statsmodels/tsa/base/tsa_model.py:836: FutureWarning: No supported index is available. In the next version, calling this method in a model without a supported index will result in an exception.\n",
            "  return get_prediction_index(\n"
          ]
        },
        {
          "output_type": "stream",
          "name": "stdout",
          "text": [
            "Finished training model...\n",
            "Predicting for store 4 and item 43\n",
            "             date  store  item  sales  is_hol\n",
            "772398 2013-01-01      4    43     26       1\n",
            "772399 2013-01-02      4    43     21       0\n",
            "772400 2013-01-03      4    43     25       0\n",
            "772401 2013-01-04      4    43     40       0\n",
            "772402 2013-01-05      4    43     24       0\n",
            "...           ...    ...   ...    ...     ...\n",
            "774219 2017-12-27      4    43     44       0\n",
            "774220 2017-12-28      4    43     50       0\n",
            "774221 2017-12-29      4    43     44       0\n",
            "774222 2017-12-30      4    43     46       0\n",
            "774223 2017-12-31      4    43     56       0\n",
            "\n",
            "[1826 rows x 5 columns]\n"
          ]
        },
        {
          "output_type": "stream",
          "name": "stderr",
          "text": [
            "/usr/local/lib/python3.10/dist-packages/statsmodels/tsa/base/tsa_model.py:836: ValueWarning: No supported index is available. Prediction results will be given with an integer index beginning at `start`.\n",
            "  return get_prediction_index(\n",
            "/usr/local/lib/python3.10/dist-packages/statsmodels/tsa/base/tsa_model.py:836: FutureWarning: No supported index is available. In the next version, calling this method in a model without a supported index will result in an exception.\n",
            "  return get_prediction_index(\n"
          ]
        },
        {
          "output_type": "stream",
          "name": "stdout",
          "text": [
            "Finished training model...\n",
            "Predicting for store 5 and item 43\n",
            "             date  store  item  sales  is_hol\n",
            "774224 2013-01-01      5    43     16       1\n",
            "774225 2013-01-02      5    43     24       0\n",
            "774226 2013-01-03      5    43     14       0\n",
            "774227 2013-01-04      5    43     37       0\n",
            "774228 2013-01-05      5    43     16       0\n",
            "...           ...    ...   ...    ...     ...\n",
            "776045 2017-12-27      5    43     25       0\n",
            "776046 2017-12-28      5    43     35       0\n",
            "776047 2017-12-29      5    43     36       0\n",
            "776048 2017-12-30      5    43     40       0\n",
            "776049 2017-12-31      5    43     31       0\n",
            "\n",
            "[1826 rows x 5 columns]\n"
          ]
        },
        {
          "output_type": "stream",
          "name": "stderr",
          "text": [
            "/usr/local/lib/python3.10/dist-packages/statsmodels/tsa/base/tsa_model.py:836: ValueWarning: No supported index is available. Prediction results will be given with an integer index beginning at `start`.\n",
            "  return get_prediction_index(\n",
            "/usr/local/lib/python3.10/dist-packages/statsmodels/tsa/base/tsa_model.py:836: FutureWarning: No supported index is available. In the next version, calling this method in a model without a supported index will result in an exception.\n",
            "  return get_prediction_index(\n"
          ]
        },
        {
          "output_type": "stream",
          "name": "stdout",
          "text": [
            "Finished training model...\n",
            "Predicting for store 6 and item 43\n",
            "             date  store  item  sales  is_hol\n",
            "776050 2013-01-01      6    43     22       1\n",
            "776051 2013-01-02      6    43     20       0\n",
            "776052 2013-01-03      6    43     28       0\n",
            "776053 2013-01-04      6    43     22       0\n",
            "776054 2013-01-05      6    43     24       0\n",
            "...           ...    ...   ...    ...     ...\n",
            "777871 2017-12-27      6    43     31       0\n",
            "777872 2017-12-28      6    43     29       0\n",
            "777873 2017-12-29      6    43     39       0\n",
            "777874 2017-12-30      6    43     31       0\n",
            "777875 2017-12-31      6    43     38       0\n",
            "\n",
            "[1826 rows x 5 columns]\n"
          ]
        },
        {
          "output_type": "stream",
          "name": "stderr",
          "text": [
            "/usr/local/lib/python3.10/dist-packages/statsmodels/tsa/base/tsa_model.py:836: ValueWarning: No supported index is available. Prediction results will be given with an integer index beginning at `start`.\n",
            "  return get_prediction_index(\n",
            "/usr/local/lib/python3.10/dist-packages/statsmodels/tsa/base/tsa_model.py:836: FutureWarning: No supported index is available. In the next version, calling this method in a model without a supported index will result in an exception.\n",
            "  return get_prediction_index(\n"
          ]
        },
        {
          "output_type": "stream",
          "name": "stdout",
          "text": [
            "Finished training model...\n",
            "Predicting for store 7 and item 43\n",
            "             date  store  item  sales  is_hol\n",
            "777876 2013-01-01      7    43     12       1\n",
            "777877 2013-01-02      7    43     17       0\n",
            "777878 2013-01-03      7    43     21       0\n",
            "777879 2013-01-04      7    43     13       0\n",
            "777880 2013-01-05      7    43     23       0\n",
            "...           ...    ...   ...    ...     ...\n",
            "779697 2017-12-27      7    43     38       0\n",
            "779698 2017-12-28      7    43     29       0\n",
            "779699 2017-12-29      7    43     36       0\n",
            "779700 2017-12-30      7    43     44       0\n",
            "779701 2017-12-31      7    43     30       0\n",
            "\n",
            "[1826 rows x 5 columns]\n"
          ]
        },
        {
          "output_type": "stream",
          "name": "stderr",
          "text": [
            "/usr/local/lib/python3.10/dist-packages/statsmodels/tsa/base/tsa_model.py:836: ValueWarning: No supported index is available. Prediction results will be given with an integer index beginning at `start`.\n",
            "  return get_prediction_index(\n",
            "/usr/local/lib/python3.10/dist-packages/statsmodels/tsa/base/tsa_model.py:836: FutureWarning: No supported index is available. In the next version, calling this method in a model without a supported index will result in an exception.\n",
            "  return get_prediction_index(\n"
          ]
        },
        {
          "output_type": "stream",
          "name": "stdout",
          "text": [
            "Finished training model...\n",
            "Predicting for store 8 and item 43\n",
            "             date  store  item  sales  is_hol\n",
            "779702 2013-01-01      8    43     40       1\n",
            "779703 2013-01-02      8    43     25       0\n",
            "779704 2013-01-03      8    43     38       0\n",
            "779705 2013-01-04      8    43     31       0\n",
            "779706 2013-01-05      8    43     36       0\n",
            "...           ...    ...   ...    ...     ...\n",
            "781523 2017-12-27      8    43     41       0\n",
            "781524 2017-12-28      8    43     55       0\n",
            "781525 2017-12-29      8    43     53       0\n",
            "781526 2017-12-30      8    43     61       0\n",
            "781527 2017-12-31      8    43     66       0\n",
            "\n",
            "[1826 rows x 5 columns]\n"
          ]
        },
        {
          "output_type": "stream",
          "name": "stderr",
          "text": [
            "/usr/local/lib/python3.10/dist-packages/statsmodels/tsa/base/tsa_model.py:836: ValueWarning: No supported index is available. Prediction results will be given with an integer index beginning at `start`.\n",
            "  return get_prediction_index(\n",
            "/usr/local/lib/python3.10/dist-packages/statsmodels/tsa/base/tsa_model.py:836: FutureWarning: No supported index is available. In the next version, calling this method in a model without a supported index will result in an exception.\n",
            "  return get_prediction_index(\n"
          ]
        },
        {
          "output_type": "stream",
          "name": "stdout",
          "text": [
            "Finished training model...\n",
            "Predicting for store 9 and item 43\n",
            "             date  store  item  sales  is_hol\n",
            "781528 2013-01-01      9    43     26       1\n",
            "781529 2013-01-02      9    43     25       0\n",
            "781530 2013-01-03      9    43     30       0\n",
            "781531 2013-01-04      9    43     39       0\n",
            "781532 2013-01-05      9    43     40       0\n",
            "...           ...    ...   ...    ...     ...\n",
            "783349 2017-12-27      9    43     48       0\n",
            "783350 2017-12-28      9    43     37       0\n",
            "783351 2017-12-29      9    43     54       0\n",
            "783352 2017-12-30      9    43     53       0\n",
            "783353 2017-12-31      9    43     61       0\n",
            "\n",
            "[1826 rows x 5 columns]\n"
          ]
        },
        {
          "output_type": "stream",
          "name": "stderr",
          "text": [
            "/usr/local/lib/python3.10/dist-packages/statsmodels/tsa/base/tsa_model.py:836: ValueWarning: No supported index is available. Prediction results will be given with an integer index beginning at `start`.\n",
            "  return get_prediction_index(\n",
            "/usr/local/lib/python3.10/dist-packages/statsmodels/tsa/base/tsa_model.py:836: FutureWarning: No supported index is available. In the next version, calling this method in a model without a supported index will result in an exception.\n",
            "  return get_prediction_index(\n"
          ]
        },
        {
          "output_type": "stream",
          "name": "stdout",
          "text": [
            "Finished training model...\n",
            "Predicting for store 10 and item 43\n",
            "             date  store  item  sales  is_hol\n",
            "783354 2013-01-01     10    43     24       1\n",
            "783355 2013-01-02     10    43     29       0\n",
            "783356 2013-01-03     10    43     43       0\n",
            "783357 2013-01-04     10    43     27       0\n",
            "783358 2013-01-05     10    43     31       0\n",
            "...           ...    ...   ...    ...     ...\n",
            "785175 2017-12-27     10    43     41       0\n",
            "785176 2017-12-28     10    43     47       0\n",
            "785177 2017-12-29     10    43     52       0\n",
            "785178 2017-12-30     10    43     58       0\n",
            "785179 2017-12-31     10    43     56       0\n",
            "\n",
            "[1826 rows x 5 columns]\n"
          ]
        },
        {
          "output_type": "stream",
          "name": "stderr",
          "text": [
            "/usr/local/lib/python3.10/dist-packages/statsmodels/tsa/base/tsa_model.py:836: ValueWarning: No supported index is available. Prediction results will be given with an integer index beginning at `start`.\n",
            "  return get_prediction_index(\n",
            "/usr/local/lib/python3.10/dist-packages/statsmodels/tsa/base/tsa_model.py:836: FutureWarning: No supported index is available. In the next version, calling this method in a model without a supported index will result in an exception.\n",
            "  return get_prediction_index(\n"
          ]
        },
        {
          "output_type": "stream",
          "name": "stdout",
          "text": [
            "Finished training model...\n",
            "Predicting for store 1 and item 44\n",
            "             date  store  item  sales  is_hol\n",
            "785180 2013-01-01      1    44     20       1\n",
            "785181 2013-01-02      1    44     15       0\n",
            "785182 2013-01-03      1    44     11       0\n",
            "785183 2013-01-04      1    44     22       0\n",
            "785184 2013-01-05      1    44     19       0\n",
            "...           ...    ...   ...    ...     ...\n",
            "787001 2017-12-27      1    44     22       0\n",
            "787002 2017-12-28      1    44     19       0\n",
            "787003 2017-12-29      1    44     36       0\n",
            "787004 2017-12-30      1    44     21       0\n",
            "787005 2017-12-31      1    44     25       0\n",
            "\n",
            "[1826 rows x 5 columns]\n"
          ]
        },
        {
          "output_type": "stream",
          "name": "stderr",
          "text": [
            "/usr/local/lib/python3.10/dist-packages/statsmodels/tsa/base/tsa_model.py:836: ValueWarning: No supported index is available. Prediction results will be given with an integer index beginning at `start`.\n",
            "  return get_prediction_index(\n",
            "/usr/local/lib/python3.10/dist-packages/statsmodels/tsa/base/tsa_model.py:836: FutureWarning: No supported index is available. In the next version, calling this method in a model without a supported index will result in an exception.\n",
            "  return get_prediction_index(\n"
          ]
        },
        {
          "output_type": "stream",
          "name": "stdout",
          "text": [
            "Finished training model...\n",
            "Predicting for store 2 and item 44\n",
            "             date  store  item  sales  is_hol\n",
            "787006 2013-01-01      2    44     12       1\n",
            "787007 2013-01-02      2    44     25       0\n",
            "787008 2013-01-03      2    44     18       0\n",
            "787009 2013-01-04      2    44     24       0\n",
            "787010 2013-01-05      2    44     19       0\n",
            "...           ...    ...   ...    ...     ...\n",
            "788827 2017-12-27      2    44     31       0\n",
            "788828 2017-12-28      2    44     31       0\n",
            "788829 2017-12-29      2    44     37       0\n",
            "788830 2017-12-30      2    44     32       0\n",
            "788831 2017-12-31      2    44     24       0\n",
            "\n",
            "[1826 rows x 5 columns]\n"
          ]
        },
        {
          "output_type": "stream",
          "name": "stderr",
          "text": [
            "/usr/local/lib/python3.10/dist-packages/statsmodels/tsa/base/tsa_model.py:836: ValueWarning: No supported index is available. Prediction results will be given with an integer index beginning at `start`.\n",
            "  return get_prediction_index(\n",
            "/usr/local/lib/python3.10/dist-packages/statsmodels/tsa/base/tsa_model.py:836: FutureWarning: No supported index is available. In the next version, calling this method in a model without a supported index will result in an exception.\n",
            "  return get_prediction_index(\n"
          ]
        },
        {
          "output_type": "stream",
          "name": "stdout",
          "text": [
            "Finished training model...\n",
            "Predicting for store 3 and item 44\n",
            "             date  store  item  sales  is_hol\n",
            "788832 2013-01-01      3    44     19       1\n",
            "788833 2013-01-02      3    44     22       0\n",
            "788834 2013-01-03      3    44     18       0\n",
            "788835 2013-01-04      3    44     20       0\n",
            "788836 2013-01-05      3    44     24       0\n",
            "...           ...    ...   ...    ...     ...\n",
            "790653 2017-12-27      3    44     24       0\n",
            "790654 2017-12-28      3    44     28       0\n",
            "790655 2017-12-29      3    44     34       0\n",
            "790656 2017-12-30      3    44     27       0\n",
            "790657 2017-12-31      3    44     37       0\n",
            "\n",
            "[1826 rows x 5 columns]\n"
          ]
        },
        {
          "output_type": "stream",
          "name": "stderr",
          "text": [
            "/usr/local/lib/python3.10/dist-packages/statsmodels/tsa/base/tsa_model.py:836: ValueWarning: No supported index is available. Prediction results will be given with an integer index beginning at `start`.\n",
            "  return get_prediction_index(\n",
            "/usr/local/lib/python3.10/dist-packages/statsmodels/tsa/base/tsa_model.py:836: FutureWarning: No supported index is available. In the next version, calling this method in a model without a supported index will result in an exception.\n",
            "  return get_prediction_index(\n"
          ]
        },
        {
          "output_type": "stream",
          "name": "stdout",
          "text": [
            "Finished training model...\n",
            "Predicting for store 4 and item 44\n",
            "             date  store  item  sales  is_hol\n",
            "790658 2013-01-01      4    44     17       1\n",
            "790659 2013-01-02      4    44     14       0\n",
            "790660 2013-01-03      4    44     20       0\n",
            "790661 2013-01-04      4    44     20       0\n",
            "790662 2013-01-05      4    44     23       0\n",
            "...           ...    ...   ...    ...     ...\n",
            "792479 2017-12-27      4    44     18       0\n",
            "792480 2017-12-28      4    44     24       0\n",
            "792481 2017-12-29      4    44     23       0\n",
            "792482 2017-12-30      4    44     35       0\n",
            "792483 2017-12-31      4    44     37       0\n",
            "\n",
            "[1826 rows x 5 columns]\n"
          ]
        },
        {
          "output_type": "stream",
          "name": "stderr",
          "text": [
            "/usr/local/lib/python3.10/dist-packages/statsmodels/tsa/base/tsa_model.py:836: ValueWarning: No supported index is available. Prediction results will be given with an integer index beginning at `start`.\n",
            "  return get_prediction_index(\n",
            "/usr/local/lib/python3.10/dist-packages/statsmodels/tsa/base/tsa_model.py:836: FutureWarning: No supported index is available. In the next version, calling this method in a model without a supported index will result in an exception.\n",
            "  return get_prediction_index(\n"
          ]
        },
        {
          "output_type": "stream",
          "name": "stdout",
          "text": [
            "Finished training model...\n",
            "Predicting for store 5 and item 44\n",
            "             date  store  item  sales  is_hol\n",
            "792484 2013-01-01      5    44     13       1\n",
            "792485 2013-01-02      5    44      8       0\n",
            "792486 2013-01-03      5    44      9       0\n",
            "792487 2013-01-04      5    44     16       0\n",
            "792488 2013-01-05      5    44     17       0\n",
            "...           ...    ...   ...    ...     ...\n",
            "794305 2017-12-27      5    44     16       0\n",
            "794306 2017-12-28      5    44     22       0\n",
            "794307 2017-12-29      5    44     16       0\n",
            "794308 2017-12-30      5    44     25       0\n",
            "794309 2017-12-31      5    44     22       0\n",
            "\n",
            "[1826 rows x 5 columns]\n"
          ]
        },
        {
          "output_type": "stream",
          "name": "stderr",
          "text": [
            "/usr/local/lib/python3.10/dist-packages/statsmodels/tsa/base/tsa_model.py:836: ValueWarning: No supported index is available. Prediction results will be given with an integer index beginning at `start`.\n",
            "  return get_prediction_index(\n",
            "/usr/local/lib/python3.10/dist-packages/statsmodels/tsa/base/tsa_model.py:836: FutureWarning: No supported index is available. In the next version, calling this method in a model without a supported index will result in an exception.\n",
            "  return get_prediction_index(\n"
          ]
        },
        {
          "output_type": "stream",
          "name": "stdout",
          "text": [
            "Finished training model...\n",
            "Predicting for store 6 and item 44\n",
            "             date  store  item  sales  is_hol\n",
            "794310 2013-01-01      6    44     17       1\n",
            "794311 2013-01-02      6    44     14       0\n",
            "794312 2013-01-03      6    44     15       0\n",
            "794313 2013-01-04      6    44     12       0\n",
            "794314 2013-01-05      6    44     10       0\n",
            "...           ...    ...   ...    ...     ...\n",
            "796131 2017-12-27      6    44     23       0\n",
            "796132 2017-12-28      6    44     25       0\n",
            "796133 2017-12-29      6    44     15       0\n",
            "796134 2017-12-30      6    44     17       0\n",
            "796135 2017-12-31      6    44     24       0\n",
            "\n",
            "[1826 rows x 5 columns]\n"
          ]
        },
        {
          "output_type": "stream",
          "name": "stderr",
          "text": [
            "/usr/local/lib/python3.10/dist-packages/statsmodels/tsa/base/tsa_model.py:836: ValueWarning: No supported index is available. Prediction results will be given with an integer index beginning at `start`.\n",
            "  return get_prediction_index(\n",
            "/usr/local/lib/python3.10/dist-packages/statsmodels/tsa/base/tsa_model.py:836: FutureWarning: No supported index is available. In the next version, calling this method in a model without a supported index will result in an exception.\n",
            "  return get_prediction_index(\n"
          ]
        },
        {
          "output_type": "stream",
          "name": "stdout",
          "text": [
            "Finished training model...\n",
            "Predicting for store 7 and item 44\n",
            "             date  store  item  sales  is_hol\n",
            "796136 2013-01-01      7    44      6       1\n",
            "796137 2013-01-02      7    44     15       0\n",
            "796138 2013-01-03      7    44      7       0\n",
            "796139 2013-01-04      7    44      8       0\n",
            "796140 2013-01-05      7    44     15       0\n",
            "...           ...    ...   ...    ...     ...\n",
            "797957 2017-12-27      7    44     23       0\n",
            "797958 2017-12-28      7    44     18       0\n",
            "797959 2017-12-29      7    44     23       0\n",
            "797960 2017-12-30      7    44     18       0\n",
            "797961 2017-12-31      7    44     23       0\n",
            "\n",
            "[1826 rows x 5 columns]\n"
          ]
        },
        {
          "output_type": "stream",
          "name": "stderr",
          "text": [
            "/usr/local/lib/python3.10/dist-packages/statsmodels/tsa/base/tsa_model.py:836: ValueWarning: No supported index is available. Prediction results will be given with an integer index beginning at `start`.\n",
            "  return get_prediction_index(\n",
            "/usr/local/lib/python3.10/dist-packages/statsmodels/tsa/base/tsa_model.py:836: FutureWarning: No supported index is available. In the next version, calling this method in a model without a supported index will result in an exception.\n",
            "  return get_prediction_index(\n"
          ]
        },
        {
          "output_type": "stream",
          "name": "stdout",
          "text": [
            "Finished training model...\n",
            "Predicting for store 8 and item 44\n",
            "             date  store  item  sales  is_hol\n",
            "797962 2013-01-01      8    44     21       1\n",
            "797963 2013-01-02      8    44     24       0\n",
            "797964 2013-01-03      8    44     25       0\n",
            "797965 2013-01-04      8    44     34       0\n",
            "797966 2013-01-05      8    44     25       0\n",
            "...           ...    ...   ...    ...     ...\n",
            "799783 2017-12-27      8    44     29       0\n",
            "799784 2017-12-28      8    44     27       0\n",
            "799785 2017-12-29      8    44     42       0\n",
            "799786 2017-12-30      8    44     29       0\n",
            "799787 2017-12-31      8    44     38       0\n",
            "\n",
            "[1826 rows x 5 columns]\n"
          ]
        },
        {
          "output_type": "stream",
          "name": "stderr",
          "text": [
            "/usr/local/lib/python3.10/dist-packages/statsmodels/tsa/base/tsa_model.py:836: ValueWarning: No supported index is available. Prediction results will be given with an integer index beginning at `start`.\n",
            "  return get_prediction_index(\n",
            "/usr/local/lib/python3.10/dist-packages/statsmodels/tsa/base/tsa_model.py:836: FutureWarning: No supported index is available. In the next version, calling this method in a model without a supported index will result in an exception.\n",
            "  return get_prediction_index(\n"
          ]
        },
        {
          "output_type": "stream",
          "name": "stdout",
          "text": [
            "Finished training model...\n",
            "Predicting for store 9 and item 44\n",
            "             date  store  item  sales  is_hol\n",
            "799788 2013-01-01      9    44     12       1\n",
            "799789 2013-01-02      9    44     18       0\n",
            "799790 2013-01-03      9    44     27       0\n",
            "799791 2013-01-04      9    44     21       0\n",
            "799792 2013-01-05      9    44     25       0\n",
            "...           ...    ...   ...    ...     ...\n",
            "801609 2017-12-27      9    44     25       0\n",
            "801610 2017-12-28      9    44     24       0\n",
            "801611 2017-12-29      9    44     21       0\n",
            "801612 2017-12-30      9    44     32       0\n",
            "801613 2017-12-31      9    44     29       0\n",
            "\n",
            "[1826 rows x 5 columns]\n"
          ]
        },
        {
          "output_type": "stream",
          "name": "stderr",
          "text": [
            "/usr/local/lib/python3.10/dist-packages/statsmodels/tsa/base/tsa_model.py:836: ValueWarning: No supported index is available. Prediction results will be given with an integer index beginning at `start`.\n",
            "  return get_prediction_index(\n",
            "/usr/local/lib/python3.10/dist-packages/statsmodels/tsa/base/tsa_model.py:836: FutureWarning: No supported index is available. In the next version, calling this method in a model without a supported index will result in an exception.\n",
            "  return get_prediction_index(\n"
          ]
        },
        {
          "output_type": "stream",
          "name": "stdout",
          "text": [
            "Finished training model...\n",
            "Predicting for store 10 and item 44\n",
            "             date  store  item  sales  is_hol\n",
            "801614 2013-01-01     10    44     17       1\n",
            "801615 2013-01-02     10    44     10       0\n",
            "801616 2013-01-03     10    44     20       0\n",
            "801617 2013-01-04     10    44     12       0\n",
            "801618 2013-01-05     10    44     25       0\n",
            "...           ...    ...   ...    ...     ...\n",
            "803435 2017-12-27     10    44     22       0\n",
            "803436 2017-12-28     10    44     30       0\n",
            "803437 2017-12-29     10    44     30       0\n",
            "803438 2017-12-30     10    44     30       0\n",
            "803439 2017-12-31     10    44     40       0\n",
            "\n",
            "[1826 rows x 5 columns]\n"
          ]
        },
        {
          "output_type": "stream",
          "name": "stderr",
          "text": [
            "/usr/local/lib/python3.10/dist-packages/statsmodels/tsa/base/tsa_model.py:836: ValueWarning: No supported index is available. Prediction results will be given with an integer index beginning at `start`.\n",
            "  return get_prediction_index(\n",
            "/usr/local/lib/python3.10/dist-packages/statsmodels/tsa/base/tsa_model.py:836: FutureWarning: No supported index is available. In the next version, calling this method in a model without a supported index will result in an exception.\n",
            "  return get_prediction_index(\n"
          ]
        },
        {
          "output_type": "stream",
          "name": "stdout",
          "text": [
            "Finished training model...\n",
            "Predicting for store 1 and item 45\n",
            "             date  store  item  sales  is_hol\n",
            "803440 2013-01-01      1    45     37       1\n",
            "803441 2013-01-02      1    45     40       0\n",
            "803442 2013-01-03      1    45     42       0\n",
            "803443 2013-01-04      1    45     49       0\n",
            "803444 2013-01-05      1    45     52       0\n",
            "...           ...    ...   ...    ...     ...\n",
            "805261 2017-12-27      1    45     65       0\n",
            "805262 2017-12-28      1    45     54       0\n",
            "805263 2017-12-29      1    45     77       0\n",
            "805264 2017-12-30      1    45     63       0\n",
            "805265 2017-12-31      1    45     73       0\n",
            "\n",
            "[1826 rows x 5 columns]\n"
          ]
        },
        {
          "output_type": "stream",
          "name": "stderr",
          "text": [
            "/usr/local/lib/python3.10/dist-packages/statsmodels/tsa/base/tsa_model.py:836: ValueWarning: No supported index is available. Prediction results will be given with an integer index beginning at `start`.\n",
            "  return get_prediction_index(\n",
            "/usr/local/lib/python3.10/dist-packages/statsmodels/tsa/base/tsa_model.py:836: FutureWarning: No supported index is available. In the next version, calling this method in a model without a supported index will result in an exception.\n",
            "  return get_prediction_index(\n"
          ]
        },
        {
          "output_type": "stream",
          "name": "stdout",
          "text": [
            "Finished training model...\n",
            "Predicting for store 2 and item 45\n",
            "             date  store  item  sales  is_hol\n",
            "805266 2013-01-01      2    45     45       1\n",
            "805267 2013-01-02      2    45     50       0\n",
            "805268 2013-01-03      2    45     56       0\n",
            "805269 2013-01-04      2    45     57       0\n",
            "805270 2013-01-05      2    45     78       0\n",
            "...           ...    ...   ...    ...     ...\n",
            "807087 2017-12-27      2    45     99       0\n",
            "807088 2017-12-28      2    45     99       0\n",
            "807089 2017-12-29      2    45     91       0\n",
            "807090 2017-12-30      2    45    101       0\n",
            "807091 2017-12-31      2    45    115       0\n",
            "\n",
            "[1826 rows x 5 columns]\n"
          ]
        },
        {
          "output_type": "stream",
          "name": "stderr",
          "text": [
            "/usr/local/lib/python3.10/dist-packages/statsmodels/tsa/base/tsa_model.py:836: ValueWarning: No supported index is available. Prediction results will be given with an integer index beginning at `start`.\n",
            "  return get_prediction_index(\n",
            "/usr/local/lib/python3.10/dist-packages/statsmodels/tsa/base/tsa_model.py:836: FutureWarning: No supported index is available. In the next version, calling this method in a model without a supported index will result in an exception.\n",
            "  return get_prediction_index(\n"
          ]
        },
        {
          "output_type": "stream",
          "name": "stdout",
          "text": [
            "Finished training model...\n",
            "Predicting for store 3 and item 45\n",
            "             date  store  item  sales  is_hol\n",
            "807092 2013-01-01      3    45     57       1\n",
            "807093 2013-01-02      3    45     39       0\n",
            "807094 2013-01-03      3    45     65       0\n",
            "807095 2013-01-04      3    45     50       0\n",
            "807096 2013-01-05      3    45     57       0\n",
            "...           ...    ...   ...    ...     ...\n",
            "808913 2017-12-27      3    45     88       0\n",
            "808914 2017-12-28      3    45     95       0\n",
            "808915 2017-12-29      3    45     91       0\n",
            "808916 2017-12-30      3    45     94       0\n",
            "808917 2017-12-31      3    45    103       0\n",
            "\n",
            "[1826 rows x 5 columns]\n"
          ]
        },
        {
          "output_type": "stream",
          "name": "stderr",
          "text": [
            "/usr/local/lib/python3.10/dist-packages/statsmodels/tsa/base/tsa_model.py:836: ValueWarning: No supported index is available. Prediction results will be given with an integer index beginning at `start`.\n",
            "  return get_prediction_index(\n",
            "/usr/local/lib/python3.10/dist-packages/statsmodels/tsa/base/tsa_model.py:836: FutureWarning: No supported index is available. In the next version, calling this method in a model without a supported index will result in an exception.\n",
            "  return get_prediction_index(\n"
          ]
        },
        {
          "output_type": "stream",
          "name": "stdout",
          "text": [
            "Finished training model...\n",
            "Predicting for store 4 and item 45\n",
            "             date  store  item  sales  is_hol\n",
            "808918 2013-01-01      4    45     35       1\n",
            "808919 2013-01-02      4    45     40       0\n",
            "808920 2013-01-03      4    45     53       0\n",
            "808921 2013-01-04      4    45     51       0\n",
            "808922 2013-01-05      4    45     49       0\n",
            "...           ...    ...   ...    ...     ...\n",
            "810739 2017-12-27      4    45     78       0\n",
            "810740 2017-12-28      4    45     68       0\n",
            "810741 2017-12-29      4    45     66       0\n",
            "810742 2017-12-30      4    45     87       0\n",
            "810743 2017-12-31      4    45     68       0\n",
            "\n",
            "[1826 rows x 5 columns]\n"
          ]
        },
        {
          "output_type": "stream",
          "name": "stderr",
          "text": [
            "/usr/local/lib/python3.10/dist-packages/statsmodels/tsa/base/tsa_model.py:836: ValueWarning: No supported index is available. Prediction results will be given with an integer index beginning at `start`.\n",
            "  return get_prediction_index(\n",
            "/usr/local/lib/python3.10/dist-packages/statsmodels/tsa/base/tsa_model.py:836: FutureWarning: No supported index is available. In the next version, calling this method in a model without a supported index will result in an exception.\n",
            "  return get_prediction_index(\n"
          ]
        },
        {
          "output_type": "stream",
          "name": "stdout",
          "text": [
            "Finished training model...\n",
            "Predicting for store 5 and item 45\n",
            "             date  store  item  sales  is_hol\n",
            "810744 2013-01-01      5    45     28       1\n",
            "810745 2013-01-02      5    45     26       0\n",
            "810746 2013-01-03      5    45     35       0\n",
            "810747 2013-01-04      5    45     43       0\n",
            "810748 2013-01-05      5    45     53       0\n",
            "...           ...    ...   ...    ...     ...\n",
            "812565 2017-12-27      5    45     51       0\n",
            "812566 2017-12-28      5    45     60       0\n",
            "812567 2017-12-29      5    45     55       0\n",
            "812568 2017-12-30      5    45     63       0\n",
            "812569 2017-12-31      5    45     61       0\n",
            "\n",
            "[1826 rows x 5 columns]\n"
          ]
        },
        {
          "output_type": "stream",
          "name": "stderr",
          "text": [
            "/usr/local/lib/python3.10/dist-packages/statsmodels/tsa/base/tsa_model.py:836: ValueWarning: No supported index is available. Prediction results will be given with an integer index beginning at `start`.\n",
            "  return get_prediction_index(\n",
            "/usr/local/lib/python3.10/dist-packages/statsmodels/tsa/base/tsa_model.py:836: FutureWarning: No supported index is available. In the next version, calling this method in a model without a supported index will result in an exception.\n",
            "  return get_prediction_index(\n"
          ]
        },
        {
          "output_type": "stream",
          "name": "stdout",
          "text": [
            "Finished training model...\n",
            "Predicting for store 6 and item 45\n",
            "             date  store  item  sales  is_hol\n",
            "812570 2013-01-01      6    45     34       1\n",
            "812571 2013-01-02      6    45     32       0\n",
            "812572 2013-01-03      6    45     33       0\n",
            "812573 2013-01-04      6    45     24       0\n",
            "812574 2013-01-05      6    45     37       0\n",
            "...           ...    ...   ...    ...     ...\n",
            "814391 2017-12-27      6    45     38       0\n",
            "814392 2017-12-28      6    45     56       0\n",
            "814393 2017-12-29      6    45     51       0\n",
            "814394 2017-12-30      6    45     54       0\n",
            "814395 2017-12-31      6    45     58       0\n",
            "\n",
            "[1826 rows x 5 columns]\n"
          ]
        },
        {
          "output_type": "stream",
          "name": "stderr",
          "text": [
            "/usr/local/lib/python3.10/dist-packages/statsmodels/tsa/base/tsa_model.py:836: ValueWarning: No supported index is available. Prediction results will be given with an integer index beginning at `start`.\n",
            "  return get_prediction_index(\n",
            "/usr/local/lib/python3.10/dist-packages/statsmodels/tsa/base/tsa_model.py:836: FutureWarning: No supported index is available. In the next version, calling this method in a model without a supported index will result in an exception.\n",
            "  return get_prediction_index(\n"
          ]
        },
        {
          "output_type": "stream",
          "name": "stdout",
          "text": [
            "Finished training model...\n",
            "Predicting for store 7 and item 45\n",
            "             date  store  item  sales  is_hol\n",
            "814396 2013-01-01      7    45     28       1\n",
            "814397 2013-01-02      7    45     30       0\n",
            "814398 2013-01-03      7    45     33       0\n",
            "814399 2013-01-04      7    45     18       0\n",
            "814400 2013-01-05      7    45     29       0\n",
            "...           ...    ...   ...    ...     ...\n",
            "816217 2017-12-27      7    45     57       0\n",
            "816218 2017-12-28      7    45     39       0\n",
            "816219 2017-12-29      7    45     59       0\n",
            "816220 2017-12-30      7    45     47       0\n",
            "816221 2017-12-31      7    45     58       0\n",
            "\n",
            "[1826 rows x 5 columns]\n"
          ]
        },
        {
          "output_type": "stream",
          "name": "stderr",
          "text": [
            "/usr/local/lib/python3.10/dist-packages/statsmodels/tsa/base/tsa_model.py:836: ValueWarning: No supported index is available. Prediction results will be given with an integer index beginning at `start`.\n",
            "  return get_prediction_index(\n",
            "/usr/local/lib/python3.10/dist-packages/statsmodels/tsa/base/tsa_model.py:836: FutureWarning: No supported index is available. In the next version, calling this method in a model without a supported index will result in an exception.\n",
            "  return get_prediction_index(\n"
          ]
        },
        {
          "output_type": "stream",
          "name": "stdout",
          "text": [
            "Finished training model...\n",
            "Predicting for store 8 and item 45\n",
            "             date  store  item  sales  is_hol\n",
            "816222 2013-01-01      8    45     47       1\n",
            "816223 2013-01-02      8    45     50       0\n",
            "816224 2013-01-03      8    45     42       0\n",
            "816225 2013-01-04      8    45     67       0\n",
            "816226 2013-01-05      8    45     68       0\n",
            "...           ...    ...   ...    ...     ...\n",
            "818043 2017-12-27      8    45     64       0\n",
            "818044 2017-12-28      8    45     83       0\n",
            "818045 2017-12-29      8    45     97       0\n",
            "818046 2017-12-30      8    45     96       0\n",
            "818047 2017-12-31      8    45     92       0\n",
            "\n",
            "[1826 rows x 5 columns]\n"
          ]
        },
        {
          "output_type": "stream",
          "name": "stderr",
          "text": [
            "/usr/local/lib/python3.10/dist-packages/statsmodels/tsa/base/tsa_model.py:836: ValueWarning: No supported index is available. Prediction results will be given with an integer index beginning at `start`.\n",
            "  return get_prediction_index(\n",
            "/usr/local/lib/python3.10/dist-packages/statsmodels/tsa/base/tsa_model.py:836: FutureWarning: No supported index is available. In the next version, calling this method in a model without a supported index will result in an exception.\n",
            "  return get_prediction_index(\n"
          ]
        },
        {
          "output_type": "stream",
          "name": "stdout",
          "text": [
            "Finished training model...\n",
            "Predicting for store 9 and item 45\n",
            "             date  store  item  sales  is_hol\n",
            "818048 2013-01-01      9    45     40       1\n",
            "818049 2013-01-02      9    45     41       0\n",
            "818050 2013-01-03      9    45     44       0\n",
            "818051 2013-01-04      9    45     41       0\n",
            "818052 2013-01-05      9    45     48       0\n",
            "...           ...    ...   ...    ...     ...\n",
            "819869 2017-12-27      9    45     77       0\n",
            "819870 2017-12-28      9    45     74       0\n",
            "819871 2017-12-29      9    45     65       0\n",
            "819872 2017-12-30      9    45     81       0\n",
            "819873 2017-12-31      9    45     88       0\n",
            "\n",
            "[1826 rows x 5 columns]\n"
          ]
        },
        {
          "output_type": "stream",
          "name": "stderr",
          "text": [
            "/usr/local/lib/python3.10/dist-packages/statsmodels/tsa/base/tsa_model.py:836: ValueWarning: No supported index is available. Prediction results will be given with an integer index beginning at `start`.\n",
            "  return get_prediction_index(\n",
            "/usr/local/lib/python3.10/dist-packages/statsmodels/tsa/base/tsa_model.py:836: FutureWarning: No supported index is available. In the next version, calling this method in a model without a supported index will result in an exception.\n",
            "  return get_prediction_index(\n"
          ]
        },
        {
          "output_type": "stream",
          "name": "stdout",
          "text": [
            "Finished training model...\n",
            "Predicting for store 10 and item 45\n",
            "             date  store  item  sales  is_hol\n",
            "819874 2013-01-01     10    45     45       1\n",
            "819875 2013-01-02     10    45     45       0\n",
            "819876 2013-01-03     10    45     56       0\n",
            "819877 2013-01-04     10    45     50       0\n",
            "819878 2013-01-05     10    45     62       0\n",
            "...           ...    ...   ...    ...     ...\n",
            "821695 2017-12-27     10    45     64       0\n",
            "821696 2017-12-28     10    45     79       0\n",
            "821697 2017-12-29     10    45     72       0\n",
            "821698 2017-12-30     10    45     76       0\n",
            "821699 2017-12-31     10    45     89       0\n",
            "\n",
            "[1826 rows x 5 columns]\n"
          ]
        },
        {
          "output_type": "stream",
          "name": "stderr",
          "text": [
            "/usr/local/lib/python3.10/dist-packages/statsmodels/tsa/base/tsa_model.py:836: ValueWarning: No supported index is available. Prediction results will be given with an integer index beginning at `start`.\n",
            "  return get_prediction_index(\n",
            "/usr/local/lib/python3.10/dist-packages/statsmodels/tsa/base/tsa_model.py:836: FutureWarning: No supported index is available. In the next version, calling this method in a model without a supported index will result in an exception.\n",
            "  return get_prediction_index(\n"
          ]
        },
        {
          "output_type": "stream",
          "name": "stdout",
          "text": [
            "Finished training model...\n",
            "Predicting for store 1 and item 46\n",
            "             date  store  item  sales  is_hol\n",
            "821700 2013-01-01      1    46     30       1\n",
            "821701 2013-01-02      1    46     30       0\n",
            "821702 2013-01-03      1    46     30       0\n",
            "821703 2013-01-04      1    46     37       0\n",
            "821704 2013-01-05      1    46     28       0\n",
            "...           ...    ...   ...    ...     ...\n",
            "823521 2017-12-27      1    46     43       0\n",
            "823522 2017-12-28      1    46     41       0\n",
            "823523 2017-12-29      1    46     48       0\n",
            "823524 2017-12-30      1    46     56       0\n",
            "823525 2017-12-31      1    46     52       0\n",
            "\n",
            "[1826 rows x 5 columns]\n"
          ]
        },
        {
          "output_type": "stream",
          "name": "stderr",
          "text": [
            "/usr/local/lib/python3.10/dist-packages/statsmodels/tsa/base/tsa_model.py:836: ValueWarning: No supported index is available. Prediction results will be given with an integer index beginning at `start`.\n",
            "  return get_prediction_index(\n",
            "/usr/local/lib/python3.10/dist-packages/statsmodels/tsa/base/tsa_model.py:836: FutureWarning: No supported index is available. In the next version, calling this method in a model without a supported index will result in an exception.\n",
            "  return get_prediction_index(\n"
          ]
        },
        {
          "output_type": "stream",
          "name": "stdout",
          "text": [
            "Finished training model...\n",
            "Predicting for store 2 and item 46\n",
            "             date  store  item  sales  is_hol\n",
            "823526 2013-01-01      2    46     43       1\n",
            "823527 2013-01-02      2    46     52       0\n",
            "823528 2013-01-03      2    46     30       0\n",
            "823529 2013-01-04      2    46     46       0\n",
            "823530 2013-01-05      2    46     41       0\n",
            "...           ...    ...   ...    ...     ...\n",
            "825347 2017-12-27      2    46     59       0\n",
            "825348 2017-12-28      2    46     64       0\n",
            "825349 2017-12-29      2    46     78       0\n",
            "825350 2017-12-30      2    46     73       0\n",
            "825351 2017-12-31      2    46     77       0\n",
            "\n",
            "[1826 rows x 5 columns]\n"
          ]
        },
        {
          "output_type": "stream",
          "name": "stderr",
          "text": [
            "/usr/local/lib/python3.10/dist-packages/statsmodels/tsa/base/tsa_model.py:836: ValueWarning: No supported index is available. Prediction results will be given with an integer index beginning at `start`.\n",
            "  return get_prediction_index(\n",
            "/usr/local/lib/python3.10/dist-packages/statsmodels/tsa/base/tsa_model.py:836: FutureWarning: No supported index is available. In the next version, calling this method in a model without a supported index will result in an exception.\n",
            "  return get_prediction_index(\n"
          ]
        },
        {
          "output_type": "stream",
          "name": "stdout",
          "text": [
            "Finished training model...\n",
            "Predicting for store 3 and item 46\n",
            "             date  store  item  sales  is_hol\n",
            "825352 2013-01-01      3    46     33       1\n",
            "825353 2013-01-02      3    46     46       0\n",
            "825354 2013-01-03      3    46     37       0\n",
            "825355 2013-01-04      3    46     32       0\n",
            "825356 2013-01-05      3    46     41       0\n",
            "...           ...    ...   ...    ...     ...\n",
            "827173 2017-12-27      3    46     60       0\n",
            "827174 2017-12-28      3    46     72       0\n",
            "827175 2017-12-29      3    46     44       0\n",
            "827176 2017-12-30      3    46     67       0\n",
            "827177 2017-12-31      3    46     71       0\n",
            "\n",
            "[1826 rows x 5 columns]\n"
          ]
        },
        {
          "output_type": "stream",
          "name": "stderr",
          "text": [
            "/usr/local/lib/python3.10/dist-packages/statsmodels/tsa/base/tsa_model.py:836: ValueWarning: No supported index is available. Prediction results will be given with an integer index beginning at `start`.\n",
            "  return get_prediction_index(\n",
            "/usr/local/lib/python3.10/dist-packages/statsmodels/tsa/base/tsa_model.py:836: FutureWarning: No supported index is available. In the next version, calling this method in a model without a supported index will result in an exception.\n",
            "  return get_prediction_index(\n"
          ]
        },
        {
          "output_type": "stream",
          "name": "stdout",
          "text": [
            "Finished training model...\n",
            "Predicting for store 4 and item 46\n",
            "             date  store  item  sales  is_hol\n",
            "827178 2013-01-01      4    46     38       1\n",
            "827179 2013-01-02      4    46     28       0\n",
            "827180 2013-01-03      4    46     46       0\n",
            "827181 2013-01-04      4    46     27       0\n",
            "827182 2013-01-05      4    46     33       0\n",
            "...           ...    ...   ...    ...     ...\n",
            "828999 2017-12-27      4    46     46       0\n",
            "829000 2017-12-28      4    46     53       0\n",
            "829001 2017-12-29      4    46     52       0\n",
            "829002 2017-12-30      4    46     70       0\n",
            "829003 2017-12-31      4    46     63       0\n",
            "\n",
            "[1826 rows x 5 columns]\n"
          ]
        },
        {
          "output_type": "stream",
          "name": "stderr",
          "text": [
            "/usr/local/lib/python3.10/dist-packages/statsmodels/tsa/base/tsa_model.py:836: ValueWarning: No supported index is available. Prediction results will be given with an integer index beginning at `start`.\n",
            "  return get_prediction_index(\n",
            "/usr/local/lib/python3.10/dist-packages/statsmodels/tsa/base/tsa_model.py:836: FutureWarning: No supported index is available. In the next version, calling this method in a model without a supported index will result in an exception.\n",
            "  return get_prediction_index(\n"
          ]
        },
        {
          "output_type": "stream",
          "name": "stdout",
          "text": [
            "Finished training model...\n",
            "Predicting for store 5 and item 46\n",
            "             date  store  item  sales  is_hol\n",
            "829004 2013-01-01      5    46     20       1\n",
            "829005 2013-01-02      5    46     19       0\n",
            "829006 2013-01-03      5    46     13       0\n",
            "829007 2013-01-04      5    46     29       0\n",
            "829008 2013-01-05      5    46     25       0\n",
            "...           ...    ...   ...    ...     ...\n",
            "830825 2017-12-27      5    46     36       0\n",
            "830826 2017-12-28      5    46     36       0\n",
            "830827 2017-12-29      5    46     55       0\n",
            "830828 2017-12-30      5    46     45       0\n",
            "830829 2017-12-31      5    46     35       0\n",
            "\n",
            "[1826 rows x 5 columns]\n"
          ]
        },
        {
          "output_type": "stream",
          "name": "stderr",
          "text": [
            "/usr/local/lib/python3.10/dist-packages/statsmodels/tsa/base/tsa_model.py:836: ValueWarning: No supported index is available. Prediction results will be given with an integer index beginning at `start`.\n",
            "  return get_prediction_index(\n",
            "/usr/local/lib/python3.10/dist-packages/statsmodels/tsa/base/tsa_model.py:836: FutureWarning: No supported index is available. In the next version, calling this method in a model without a supported index will result in an exception.\n",
            "  return get_prediction_index(\n"
          ]
        },
        {
          "output_type": "stream",
          "name": "stdout",
          "text": [
            "Finished training model...\n",
            "Predicting for store 6 and item 46\n",
            "             date  store  item  sales  is_hol\n",
            "830830 2013-01-01      6    46     23       1\n",
            "830831 2013-01-02      6    46     26       0\n",
            "830832 2013-01-03      6    46     36       0\n",
            "830833 2013-01-04      6    46     28       0\n",
            "830834 2013-01-05      6    46     21       0\n",
            "...           ...    ...   ...    ...     ...\n",
            "832651 2017-12-27      6    46     43       0\n",
            "832652 2017-12-28      6    46     36       0\n",
            "832653 2017-12-29      6    46     36       0\n",
            "832654 2017-12-30      6    46     45       0\n",
            "832655 2017-12-31      6    46     50       0\n",
            "\n",
            "[1826 rows x 5 columns]\n"
          ]
        },
        {
          "output_type": "stream",
          "name": "stderr",
          "text": [
            "/usr/local/lib/python3.10/dist-packages/statsmodels/tsa/base/tsa_model.py:836: ValueWarning: No supported index is available. Prediction results will be given with an integer index beginning at `start`.\n",
            "  return get_prediction_index(\n",
            "/usr/local/lib/python3.10/dist-packages/statsmodels/tsa/base/tsa_model.py:836: FutureWarning: No supported index is available. In the next version, calling this method in a model without a supported index will result in an exception.\n",
            "  return get_prediction_index(\n"
          ]
        },
        {
          "output_type": "stream",
          "name": "stdout",
          "text": [
            "Finished training model...\n",
            "Predicting for store 7 and item 46\n",
            "             date  store  item  sales  is_hol\n",
            "832656 2013-01-01      7    46     27       1\n",
            "832657 2013-01-02      7    46     19       0\n",
            "832658 2013-01-03      7    46     26       0\n",
            "832659 2013-01-04      7    46     28       0\n",
            "832660 2013-01-05      7    46     36       0\n",
            "...           ...    ...   ...    ...     ...\n",
            "834477 2017-12-27      7    46     37       0\n",
            "834478 2017-12-28      7    46     30       0\n",
            "834479 2017-12-29      7    46     45       0\n",
            "834480 2017-12-30      7    46     24       0\n",
            "834481 2017-12-31      7    46     35       0\n",
            "\n",
            "[1826 rows x 5 columns]\n"
          ]
        },
        {
          "output_type": "stream",
          "name": "stderr",
          "text": [
            "/usr/local/lib/python3.10/dist-packages/statsmodels/tsa/base/tsa_model.py:836: ValueWarning: No supported index is available. Prediction results will be given with an integer index beginning at `start`.\n",
            "  return get_prediction_index(\n",
            "/usr/local/lib/python3.10/dist-packages/statsmodels/tsa/base/tsa_model.py:836: FutureWarning: No supported index is available. In the next version, calling this method in a model without a supported index will result in an exception.\n",
            "  return get_prediction_index(\n"
          ]
        },
        {
          "output_type": "stream",
          "name": "stdout",
          "text": [
            "Finished training model...\n",
            "Predicting for store 8 and item 46\n",
            "             date  store  item  sales  is_hol\n",
            "834482 2013-01-01      8    46     34       1\n",
            "834483 2013-01-02      8    46     35       0\n",
            "834484 2013-01-03      8    46     38       0\n",
            "834485 2013-01-04      8    46     39       0\n",
            "834486 2013-01-05      8    46     48       0\n",
            "...           ...    ...   ...    ...     ...\n",
            "836303 2017-12-27      8    46     64       0\n",
            "836304 2017-12-28      8    46     51       0\n",
            "836305 2017-12-29      8    46     63       0\n",
            "836306 2017-12-30      8    46     65       0\n",
            "836307 2017-12-31      8    46     79       0\n",
            "\n",
            "[1826 rows x 5 columns]\n"
          ]
        },
        {
          "output_type": "stream",
          "name": "stderr",
          "text": [
            "/usr/local/lib/python3.10/dist-packages/statsmodels/tsa/base/tsa_model.py:836: ValueWarning: No supported index is available. Prediction results will be given with an integer index beginning at `start`.\n",
            "  return get_prediction_index(\n",
            "/usr/local/lib/python3.10/dist-packages/statsmodels/tsa/base/tsa_model.py:836: FutureWarning: No supported index is available. In the next version, calling this method in a model without a supported index will result in an exception.\n",
            "  return get_prediction_index(\n"
          ]
        },
        {
          "output_type": "stream",
          "name": "stdout",
          "text": [
            "Finished training model...\n",
            "Predicting for store 9 and item 46\n",
            "             date  store  item  sales  is_hol\n",
            "836308 2013-01-01      9    46     34       1\n",
            "836309 2013-01-02      9    46     28       0\n",
            "836310 2013-01-03      9    46     41       0\n",
            "836311 2013-01-04      9    46     41       0\n",
            "836312 2013-01-05      9    46     42       0\n",
            "...           ...    ...   ...    ...     ...\n",
            "838129 2017-12-27      9    46     49       0\n",
            "838130 2017-12-28      9    46     42       0\n",
            "838131 2017-12-29      9    46     58       0\n",
            "838132 2017-12-30      9    46     49       0\n",
            "838133 2017-12-31      9    46     73       0\n",
            "\n",
            "[1826 rows x 5 columns]\n"
          ]
        },
        {
          "output_type": "stream",
          "name": "stderr",
          "text": [
            "/usr/local/lib/python3.10/dist-packages/statsmodels/tsa/base/tsa_model.py:836: ValueWarning: No supported index is available. Prediction results will be given with an integer index beginning at `start`.\n",
            "  return get_prediction_index(\n",
            "/usr/local/lib/python3.10/dist-packages/statsmodels/tsa/base/tsa_model.py:836: FutureWarning: No supported index is available. In the next version, calling this method in a model without a supported index will result in an exception.\n",
            "  return get_prediction_index(\n"
          ]
        },
        {
          "output_type": "stream",
          "name": "stdout",
          "text": [
            "Finished training model...\n",
            "Predicting for store 10 and item 46\n",
            "             date  store  item  sales  is_hol\n",
            "838134 2013-01-01     10    46     37       1\n",
            "838135 2013-01-02     10    46     33       0\n",
            "838136 2013-01-03     10    46     28       0\n",
            "838137 2013-01-04     10    46     44       0\n",
            "838138 2013-01-05     10    46     45       0\n",
            "...           ...    ...   ...    ...     ...\n",
            "839955 2017-12-27     10    46     50       0\n",
            "839956 2017-12-28     10    46     48       0\n",
            "839957 2017-12-29     10    46     69       0\n",
            "839958 2017-12-30     10    46     72       0\n",
            "839959 2017-12-31     10    46     70       0\n",
            "\n",
            "[1826 rows x 5 columns]\n"
          ]
        },
        {
          "output_type": "stream",
          "name": "stderr",
          "text": [
            "/usr/local/lib/python3.10/dist-packages/statsmodels/tsa/base/tsa_model.py:836: ValueWarning: No supported index is available. Prediction results will be given with an integer index beginning at `start`.\n",
            "  return get_prediction_index(\n",
            "/usr/local/lib/python3.10/dist-packages/statsmodels/tsa/base/tsa_model.py:836: FutureWarning: No supported index is available. In the next version, calling this method in a model without a supported index will result in an exception.\n",
            "  return get_prediction_index(\n"
          ]
        },
        {
          "output_type": "stream",
          "name": "stdout",
          "text": [
            "Finished training model...\n",
            "Predicting for store 1 and item 47\n",
            "             date  store  item  sales  is_hol\n",
            "839960 2013-01-01      1    47     17       1\n",
            "839961 2013-01-02      1    47     15       0\n",
            "839962 2013-01-03      1    47      5       0\n",
            "839963 2013-01-04      1    47     13       0\n",
            "839964 2013-01-05      1    47     12       0\n",
            "...           ...    ...   ...    ...     ...\n",
            "841781 2017-12-27      1    47     12       0\n",
            "841782 2017-12-28      1    47     15       0\n",
            "841783 2017-12-29      1    47     21       0\n",
            "841784 2017-12-30      1    47     19       0\n",
            "841785 2017-12-31      1    47     12       0\n",
            "\n",
            "[1826 rows x 5 columns]\n"
          ]
        },
        {
          "output_type": "stream",
          "name": "stderr",
          "text": [
            "/usr/local/lib/python3.10/dist-packages/statsmodels/tsa/base/tsa_model.py:836: ValueWarning: No supported index is available. Prediction results will be given with an integer index beginning at `start`.\n",
            "  return get_prediction_index(\n",
            "/usr/local/lib/python3.10/dist-packages/statsmodels/tsa/base/tsa_model.py:836: FutureWarning: No supported index is available. In the next version, calling this method in a model without a supported index will result in an exception.\n",
            "  return get_prediction_index(\n"
          ]
        },
        {
          "output_type": "stream",
          "name": "stdout",
          "text": [
            "Finished training model...\n",
            "Predicting for store 2 and item 47\n",
            "             date  store  item  sales  is_hol\n",
            "841786 2013-01-01      2    47     12       1\n",
            "841787 2013-01-02      2    47     13       0\n",
            "841788 2013-01-03      2    47      5       0\n",
            "841789 2013-01-04      2    47     19       0\n",
            "841790 2013-01-05      2    47     18       0\n",
            "...           ...    ...   ...    ...     ...\n",
            "843607 2017-12-27      2    47     22       0\n",
            "843608 2017-12-28      2    47     24       0\n",
            "843609 2017-12-29      2    47     33       0\n",
            "843610 2017-12-30      2    47     24       0\n",
            "843611 2017-12-31      2    47     24       0\n",
            "\n",
            "[1826 rows x 5 columns]\n"
          ]
        },
        {
          "output_type": "stream",
          "name": "stderr",
          "text": [
            "/usr/local/lib/python3.10/dist-packages/statsmodels/tsa/base/tsa_model.py:836: ValueWarning: No supported index is available. Prediction results will be given with an integer index beginning at `start`.\n",
            "  return get_prediction_index(\n",
            "/usr/local/lib/python3.10/dist-packages/statsmodels/tsa/base/tsa_model.py:836: FutureWarning: No supported index is available. In the next version, calling this method in a model without a supported index will result in an exception.\n",
            "  return get_prediction_index(\n"
          ]
        },
        {
          "output_type": "stream",
          "name": "stdout",
          "text": [
            "Finished training model...\n",
            "Predicting for store 3 and item 47\n",
            "             date  store  item  sales  is_hol\n",
            "843612 2013-01-01      3    47     10       1\n",
            "843613 2013-01-02      3    47     12       0\n",
            "843614 2013-01-03      3    47     13       0\n",
            "843615 2013-01-04      3    47      5       0\n",
            "843616 2013-01-05      3    47     14       0\n",
            "...           ...    ...   ...    ...     ...\n",
            "845433 2017-12-27      3    47     21       0\n",
            "845434 2017-12-28      3    47     19       0\n",
            "845435 2017-12-29      3    47     19       0\n",
            "845436 2017-12-30      3    47     21       0\n",
            "845437 2017-12-31      3    47     26       0\n",
            "\n",
            "[1826 rows x 5 columns]\n"
          ]
        },
        {
          "output_type": "stream",
          "name": "stderr",
          "text": [
            "/usr/local/lib/python3.10/dist-packages/statsmodels/tsa/base/tsa_model.py:836: ValueWarning: No supported index is available. Prediction results will be given with an integer index beginning at `start`.\n",
            "  return get_prediction_index(\n",
            "/usr/local/lib/python3.10/dist-packages/statsmodels/tsa/base/tsa_model.py:836: FutureWarning: No supported index is available. In the next version, calling this method in a model without a supported index will result in an exception.\n",
            "  return get_prediction_index(\n"
          ]
        },
        {
          "output_type": "stream",
          "name": "stdout",
          "text": [
            "Finished training model...\n",
            "Predicting for store 4 and item 47\n",
            "             date  store  item  sales  is_hol\n",
            "845438 2013-01-01      4    47     23       1\n",
            "845439 2013-01-02      4    47     11       0\n",
            "845440 2013-01-03      4    47     11       0\n",
            "845441 2013-01-04      4    47     18       0\n",
            "845442 2013-01-05      4    47     18       0\n",
            "...           ...    ...   ...    ...     ...\n",
            "847259 2017-12-27      4    47     24       0\n",
            "847260 2017-12-28      4    47     24       0\n",
            "847261 2017-12-29      4    47     32       0\n",
            "847262 2017-12-30      4    47     24       0\n",
            "847263 2017-12-31      4    47     25       0\n",
            "\n",
            "[1826 rows x 5 columns]\n"
          ]
        },
        {
          "output_type": "stream",
          "name": "stderr",
          "text": [
            "/usr/local/lib/python3.10/dist-packages/statsmodels/tsa/base/tsa_model.py:836: ValueWarning: No supported index is available. Prediction results will be given with an integer index beginning at `start`.\n",
            "  return get_prediction_index(\n",
            "/usr/local/lib/python3.10/dist-packages/statsmodels/tsa/base/tsa_model.py:836: FutureWarning: No supported index is available. In the next version, calling this method in a model without a supported index will result in an exception.\n",
            "  return get_prediction_index(\n"
          ]
        },
        {
          "output_type": "stream",
          "name": "stdout",
          "text": [
            "Finished training model...\n",
            "Predicting for store 5 and item 47\n",
            "             date  store  item  sales  is_hol\n",
            "847264 2013-01-01      5    47      9       1\n",
            "847265 2013-01-02      5    47     10       0\n",
            "847266 2013-01-03      5    47     14       0\n",
            "847267 2013-01-04      5    47     10       0\n",
            "847268 2013-01-05      5    47      7       0\n",
            "...           ...    ...   ...    ...     ...\n",
            "849085 2017-12-27      5    47      9       0\n",
            "849086 2017-12-28      5    47     18       0\n",
            "849087 2017-12-29      5    47     21       0\n",
            "849088 2017-12-30      5    47     13       0\n",
            "849089 2017-12-31      5    47     18       0\n",
            "\n",
            "[1826 rows x 5 columns]\n"
          ]
        },
        {
          "output_type": "stream",
          "name": "stderr",
          "text": [
            "/usr/local/lib/python3.10/dist-packages/statsmodels/tsa/base/tsa_model.py:836: ValueWarning: No supported index is available. Prediction results will be given with an integer index beginning at `start`.\n",
            "  return get_prediction_index(\n",
            "/usr/local/lib/python3.10/dist-packages/statsmodels/tsa/base/tsa_model.py:836: FutureWarning: No supported index is available. In the next version, calling this method in a model without a supported index will result in an exception.\n",
            "  return get_prediction_index(\n"
          ]
        },
        {
          "output_type": "stream",
          "name": "stdout",
          "text": [
            "Finished training model...\n",
            "Predicting for store 6 and item 47\n",
            "             date  store  item  sales  is_hol\n",
            "849090 2013-01-01      6    47      5       1\n",
            "849091 2013-01-02      6    47     10       0\n",
            "849092 2013-01-03      6    47     10       0\n",
            "849093 2013-01-04      6    47     11       0\n",
            "849094 2013-01-05      6    47      9       0\n",
            "...           ...    ...   ...    ...     ...\n",
            "850911 2017-12-27      6    47     14       0\n",
            "850912 2017-12-28      6    47     17       0\n",
            "850913 2017-12-29      6    47     17       0\n",
            "850914 2017-12-30      6    47     12       0\n",
            "850915 2017-12-31      6    47     20       0\n",
            "\n",
            "[1826 rows x 5 columns]\n"
          ]
        },
        {
          "output_type": "stream",
          "name": "stderr",
          "text": [
            "/usr/local/lib/python3.10/dist-packages/statsmodels/tsa/base/tsa_model.py:836: ValueWarning: No supported index is available. Prediction results will be given with an integer index beginning at `start`.\n",
            "  return get_prediction_index(\n",
            "/usr/local/lib/python3.10/dist-packages/statsmodels/tsa/base/tsa_model.py:836: FutureWarning: No supported index is available. In the next version, calling this method in a model without a supported index will result in an exception.\n",
            "  return get_prediction_index(\n"
          ]
        },
        {
          "output_type": "stream",
          "name": "stdout",
          "text": [
            "Finished training model...\n",
            "Predicting for store 7 and item 47\n",
            "             date  store  item  sales  is_hol\n",
            "850916 2013-01-01      7    47      4       1\n",
            "850917 2013-01-02      7    47      4       0\n",
            "850918 2013-01-03      7    47      4       0\n",
            "850919 2013-01-04      7    47      9       0\n",
            "850920 2013-01-05      7    47      8       0\n",
            "...           ...    ...   ...    ...     ...\n",
            "852737 2017-12-27      7    47      8       0\n",
            "852738 2017-12-28      7    47      7       0\n",
            "852739 2017-12-29      7    47     12       0\n",
            "852740 2017-12-30      7    47     18       0\n",
            "852741 2017-12-31      7    47     12       0\n",
            "\n",
            "[1826 rows x 5 columns]\n"
          ]
        },
        {
          "output_type": "stream",
          "name": "stderr",
          "text": [
            "/usr/local/lib/python3.10/dist-packages/statsmodels/tsa/base/tsa_model.py:836: ValueWarning: No supported index is available. Prediction results will be given with an integer index beginning at `start`.\n",
            "  return get_prediction_index(\n",
            "/usr/local/lib/python3.10/dist-packages/statsmodels/tsa/base/tsa_model.py:836: FutureWarning: No supported index is available. In the next version, calling this method in a model without a supported index will result in an exception.\n",
            "  return get_prediction_index(\n"
          ]
        },
        {
          "output_type": "stream",
          "name": "stdout",
          "text": [
            "Finished training model...\n",
            "Predicting for store 8 and item 47\n",
            "             date  store  item  sales  is_hol\n",
            "852742 2013-01-01      8    47     19       1\n",
            "852743 2013-01-02      8    47     16       0\n",
            "852744 2013-01-03      8    47      8       0\n",
            "852745 2013-01-04      8    47     17       0\n",
            "852746 2013-01-05      8    47     18       0\n",
            "...           ...    ...   ...    ...     ...\n",
            "854563 2017-12-27      8    47     26       0\n",
            "854564 2017-12-28      8    47     20       0\n",
            "854565 2017-12-29      8    47     23       0\n",
            "854566 2017-12-30      8    47     25       0\n",
            "854567 2017-12-31      8    47     23       0\n",
            "\n",
            "[1826 rows x 5 columns]\n"
          ]
        },
        {
          "output_type": "stream",
          "name": "stderr",
          "text": [
            "/usr/local/lib/python3.10/dist-packages/statsmodels/tsa/base/tsa_model.py:836: ValueWarning: No supported index is available. Prediction results will be given with an integer index beginning at `start`.\n",
            "  return get_prediction_index(\n",
            "/usr/local/lib/python3.10/dist-packages/statsmodels/tsa/base/tsa_model.py:836: FutureWarning: No supported index is available. In the next version, calling this method in a model without a supported index will result in an exception.\n",
            "  return get_prediction_index(\n"
          ]
        },
        {
          "output_type": "stream",
          "name": "stdout",
          "text": [
            "Finished training model...\n",
            "Predicting for store 9 and item 47\n",
            "             date  store  item  sales  is_hol\n",
            "854568 2013-01-01      9    47      6       1\n",
            "854569 2013-01-02      9    47     14       0\n",
            "854570 2013-01-03      9    47     18       0\n",
            "854571 2013-01-04      9    47     15       0\n",
            "854572 2013-01-05      9    47     13       0\n",
            "...           ...    ...   ...    ...     ...\n",
            "856389 2017-12-27      9    47     19       0\n",
            "856390 2017-12-28      9    47     23       0\n",
            "856391 2017-12-29      9    47     17       0\n",
            "856392 2017-12-30      9    47     24       0\n",
            "856393 2017-12-31      9    47     29       0\n",
            "\n",
            "[1826 rows x 5 columns]\n"
          ]
        },
        {
          "output_type": "stream",
          "name": "stderr",
          "text": [
            "/usr/local/lib/python3.10/dist-packages/statsmodels/tsa/base/tsa_model.py:836: ValueWarning: No supported index is available. Prediction results will be given with an integer index beginning at `start`.\n",
            "  return get_prediction_index(\n",
            "/usr/local/lib/python3.10/dist-packages/statsmodels/tsa/base/tsa_model.py:836: FutureWarning: No supported index is available. In the next version, calling this method in a model without a supported index will result in an exception.\n",
            "  return get_prediction_index(\n"
          ]
        },
        {
          "output_type": "stream",
          "name": "stdout",
          "text": [
            "Finished training model...\n",
            "Predicting for store 10 and item 47\n",
            "             date  store  item  sales  is_hol\n",
            "856394 2013-01-01     10    47     11       1\n",
            "856395 2013-01-02     10    47     13       0\n",
            "856396 2013-01-03     10    47     16       0\n",
            "856397 2013-01-04     10    47     11       0\n",
            "856398 2013-01-05     10    47     16       0\n",
            "...           ...    ...   ...    ...     ...\n",
            "858215 2017-12-27     10    47     16       0\n",
            "858216 2017-12-28     10    47     21       0\n",
            "858217 2017-12-29     10    47     18       0\n",
            "858218 2017-12-30     10    47     10       0\n",
            "858219 2017-12-31     10    47     22       0\n",
            "\n",
            "[1826 rows x 5 columns]\n"
          ]
        },
        {
          "output_type": "stream",
          "name": "stderr",
          "text": [
            "/usr/local/lib/python3.10/dist-packages/statsmodels/tsa/base/tsa_model.py:836: ValueWarning: No supported index is available. Prediction results will be given with an integer index beginning at `start`.\n",
            "  return get_prediction_index(\n",
            "/usr/local/lib/python3.10/dist-packages/statsmodels/tsa/base/tsa_model.py:836: FutureWarning: No supported index is available. In the next version, calling this method in a model without a supported index will result in an exception.\n",
            "  return get_prediction_index(\n"
          ]
        },
        {
          "output_type": "stream",
          "name": "stdout",
          "text": [
            "Finished training model...\n",
            "Predicting for store 1 and item 48\n",
            "             date  store  item  sales  is_hol\n",
            "858220 2013-01-01      1    48     21       1\n",
            "858221 2013-01-02      1    48     26       0\n",
            "858222 2013-01-03      1    48     25       0\n",
            "858223 2013-01-04      1    48     26       0\n",
            "858224 2013-01-05      1    48     28       0\n",
            "...           ...    ...   ...    ...     ...\n",
            "860041 2017-12-27      1    48     31       0\n",
            "860042 2017-12-28      1    48     37       0\n",
            "860043 2017-12-29      1    48     39       0\n",
            "860044 2017-12-30      1    48     50       0\n",
            "860045 2017-12-31      1    48     47       0\n",
            "\n",
            "[1826 rows x 5 columns]\n"
          ]
        },
        {
          "output_type": "stream",
          "name": "stderr",
          "text": [
            "/usr/local/lib/python3.10/dist-packages/statsmodels/tsa/base/tsa_model.py:836: ValueWarning: No supported index is available. Prediction results will be given with an integer index beginning at `start`.\n",
            "  return get_prediction_index(\n",
            "/usr/local/lib/python3.10/dist-packages/statsmodels/tsa/base/tsa_model.py:836: FutureWarning: No supported index is available. In the next version, calling this method in a model without a supported index will result in an exception.\n",
            "  return get_prediction_index(\n"
          ]
        },
        {
          "output_type": "stream",
          "name": "stdout",
          "text": [
            "Finished training model...\n",
            "Predicting for store 2 and item 48\n",
            "             date  store  item  sales  is_hol\n",
            "860046 2013-01-01      2    48     45       1\n",
            "860047 2013-01-02      2    48     37       0\n",
            "860048 2013-01-03      2    48     45       0\n",
            "860049 2013-01-04      2    48     32       0\n",
            "860050 2013-01-05      2    48     53       0\n",
            "...           ...    ...   ...    ...     ...\n",
            "861867 2017-12-27      2    48     48       0\n",
            "861868 2017-12-28      2    48     37       0\n",
            "861869 2017-12-29      2    48     56       0\n",
            "861870 2017-12-30      2    48     63       0\n",
            "861871 2017-12-31      2    48     64       0\n",
            "\n",
            "[1826 rows x 5 columns]\n"
          ]
        },
        {
          "output_type": "stream",
          "name": "stderr",
          "text": [
            "/usr/local/lib/python3.10/dist-packages/statsmodels/tsa/base/tsa_model.py:836: ValueWarning: No supported index is available. Prediction results will be given with an integer index beginning at `start`.\n",
            "  return get_prediction_index(\n",
            "/usr/local/lib/python3.10/dist-packages/statsmodels/tsa/base/tsa_model.py:836: FutureWarning: No supported index is available. In the next version, calling this method in a model without a supported index will result in an exception.\n",
            "  return get_prediction_index(\n"
          ]
        },
        {
          "output_type": "stream",
          "name": "stdout",
          "text": [
            "Finished training model...\n",
            "Predicting for store 3 and item 48\n",
            "             date  store  item  sales  is_hol\n",
            "861872 2013-01-01      3    48     28       1\n",
            "861873 2013-01-02      3    48     32       0\n",
            "861874 2013-01-03      3    48     40       0\n",
            "861875 2013-01-04      3    48     39       0\n",
            "861876 2013-01-05      3    48     47       0\n",
            "...           ...    ...   ...    ...     ...\n",
            "863693 2017-12-27      3    48     42       0\n",
            "863694 2017-12-28      3    48     52       0\n",
            "863695 2017-12-29      3    48     55       0\n",
            "863696 2017-12-30      3    48     61       0\n",
            "863697 2017-12-31      3    48     59       0\n",
            "\n",
            "[1826 rows x 5 columns]\n"
          ]
        },
        {
          "output_type": "stream",
          "name": "stderr",
          "text": [
            "/usr/local/lib/python3.10/dist-packages/statsmodels/tsa/base/tsa_model.py:836: ValueWarning: No supported index is available. Prediction results will be given with an integer index beginning at `start`.\n",
            "  return get_prediction_index(\n",
            "/usr/local/lib/python3.10/dist-packages/statsmodels/tsa/base/tsa_model.py:836: FutureWarning: No supported index is available. In the next version, calling this method in a model without a supported index will result in an exception.\n",
            "  return get_prediction_index(\n"
          ]
        },
        {
          "output_type": "stream",
          "name": "stdout",
          "text": [
            "Finished training model...\n",
            "Predicting for store 4 and item 48\n",
            "             date  store  item  sales  is_hol\n",
            "863698 2013-01-01      4    48     34       1\n",
            "863699 2013-01-02      4    48     26       0\n",
            "863700 2013-01-03      4    48     33       0\n",
            "863701 2013-01-04      4    48     26       0\n",
            "863702 2013-01-05      4    48     33       0\n",
            "...           ...    ...   ...    ...     ...\n",
            "865519 2017-12-27      4    48     36       0\n",
            "865520 2017-12-28      4    48     55       0\n",
            "865521 2017-12-29      4    48     54       0\n",
            "865522 2017-12-30      4    48     49       0\n",
            "865523 2017-12-31      4    48     42       0\n",
            "\n",
            "[1826 rows x 5 columns]\n"
          ]
        },
        {
          "output_type": "stream",
          "name": "stderr",
          "text": [
            "/usr/local/lib/python3.10/dist-packages/statsmodels/tsa/base/tsa_model.py:836: ValueWarning: No supported index is available. Prediction results will be given with an integer index beginning at `start`.\n",
            "  return get_prediction_index(\n",
            "/usr/local/lib/python3.10/dist-packages/statsmodels/tsa/base/tsa_model.py:836: FutureWarning: No supported index is available. In the next version, calling this method in a model without a supported index will result in an exception.\n",
            "  return get_prediction_index(\n"
          ]
        },
        {
          "output_type": "stream",
          "name": "stdout",
          "text": [
            "Finished training model...\n",
            "Predicting for store 5 and item 48\n",
            "             date  store  item  sales  is_hol\n",
            "865524 2013-01-01      5    48     21       1\n",
            "865525 2013-01-02      5    48     22       0\n",
            "865526 2013-01-03      5    48     24       0\n",
            "865527 2013-01-04      5    48     34       0\n",
            "865528 2013-01-05      5    48     24       0\n",
            "...           ...    ...   ...    ...     ...\n",
            "867345 2017-12-27      5    48     26       0\n",
            "867346 2017-12-28      5    48     28       0\n",
            "867347 2017-12-29      5    48     42       0\n",
            "867348 2017-12-30      5    48     45       0\n",
            "867349 2017-12-31      5    48     46       0\n",
            "\n",
            "[1826 rows x 5 columns]\n"
          ]
        },
        {
          "output_type": "stream",
          "name": "stderr",
          "text": [
            "/usr/local/lib/python3.10/dist-packages/statsmodels/tsa/base/tsa_model.py:836: ValueWarning: No supported index is available. Prediction results will be given with an integer index beginning at `start`.\n",
            "  return get_prediction_index(\n",
            "/usr/local/lib/python3.10/dist-packages/statsmodels/tsa/base/tsa_model.py:836: FutureWarning: No supported index is available. In the next version, calling this method in a model without a supported index will result in an exception.\n",
            "  return get_prediction_index(\n"
          ]
        },
        {
          "output_type": "stream",
          "name": "stdout",
          "text": [
            "Finished training model...\n",
            "Predicting for store 6 and item 48\n",
            "             date  store  item  sales  is_hol\n",
            "867350 2013-01-01      6    48     21       1\n",
            "867351 2013-01-02      6    48     20       0\n",
            "867352 2013-01-03      6    48     27       0\n",
            "867353 2013-01-04      6    48     21       0\n",
            "867354 2013-01-05      6    48     24       0\n",
            "...           ...    ...   ...    ...     ...\n",
            "869171 2017-12-27      6    48     26       0\n",
            "869172 2017-12-28      6    48     32       0\n",
            "869173 2017-12-29      6    48     29       0\n",
            "869174 2017-12-30      6    48     40       0\n",
            "869175 2017-12-31      6    48     32       0\n",
            "\n",
            "[1826 rows x 5 columns]\n"
          ]
        },
        {
          "output_type": "stream",
          "name": "stderr",
          "text": [
            "/usr/local/lib/python3.10/dist-packages/statsmodels/tsa/base/tsa_model.py:836: ValueWarning: No supported index is available. Prediction results will be given with an integer index beginning at `start`.\n",
            "  return get_prediction_index(\n",
            "/usr/local/lib/python3.10/dist-packages/statsmodels/tsa/base/tsa_model.py:836: FutureWarning: No supported index is available. In the next version, calling this method in a model without a supported index will result in an exception.\n",
            "  return get_prediction_index(\n"
          ]
        },
        {
          "output_type": "stream",
          "name": "stdout",
          "text": [
            "Finished training model...\n",
            "Predicting for store 7 and item 48\n",
            "             date  store  item  sales  is_hol\n",
            "869176 2013-01-01      7    48     27       1\n",
            "869177 2013-01-02      7    48     21       0\n",
            "869178 2013-01-03      7    48     11       0\n",
            "869179 2013-01-04      7    48     17       0\n",
            "869180 2013-01-05      7    48     28       0\n",
            "...           ...    ...   ...    ...     ...\n",
            "870997 2017-12-27      7    48     18       0\n",
            "870998 2017-12-28      7    48     29       0\n",
            "870999 2017-12-29      7    48     35       0\n",
            "871000 2017-12-30      7    48     35       0\n",
            "871001 2017-12-31      7    48     34       0\n",
            "\n",
            "[1826 rows x 5 columns]\n"
          ]
        },
        {
          "output_type": "stream",
          "name": "stderr",
          "text": [
            "/usr/local/lib/python3.10/dist-packages/statsmodels/tsa/base/tsa_model.py:836: ValueWarning: No supported index is available. Prediction results will be given with an integer index beginning at `start`.\n",
            "  return get_prediction_index(\n",
            "/usr/local/lib/python3.10/dist-packages/statsmodels/tsa/base/tsa_model.py:836: FutureWarning: No supported index is available. In the next version, calling this method in a model without a supported index will result in an exception.\n",
            "  return get_prediction_index(\n"
          ]
        },
        {
          "output_type": "stream",
          "name": "stdout",
          "text": [
            "Finished training model...\n",
            "Predicting for store 8 and item 48\n",
            "             date  store  item  sales  is_hol\n",
            "871002 2013-01-01      8    48     27       1\n",
            "871003 2013-01-02      8    48     35       0\n",
            "871004 2013-01-03      8    48     22       0\n",
            "871005 2013-01-04      8    48     32       0\n",
            "871006 2013-01-05      8    48     40       0\n",
            "...           ...    ...   ...    ...     ...\n",
            "872823 2017-12-27      8    48     54       0\n",
            "872824 2017-12-28      8    48     53       0\n",
            "872825 2017-12-29      8    48     79       0\n",
            "872826 2017-12-30      8    48     50       0\n",
            "872827 2017-12-31      8    48     64       0\n",
            "\n",
            "[1826 rows x 5 columns]\n"
          ]
        },
        {
          "output_type": "stream",
          "name": "stderr",
          "text": [
            "/usr/local/lib/python3.10/dist-packages/statsmodels/tsa/base/tsa_model.py:836: ValueWarning: No supported index is available. Prediction results will be given with an integer index beginning at `start`.\n",
            "  return get_prediction_index(\n",
            "/usr/local/lib/python3.10/dist-packages/statsmodels/tsa/base/tsa_model.py:836: FutureWarning: No supported index is available. In the next version, calling this method in a model without a supported index will result in an exception.\n",
            "  return get_prediction_index(\n"
          ]
        },
        {
          "output_type": "stream",
          "name": "stdout",
          "text": [
            "Finished training model...\n",
            "Predicting for store 9 and item 48\n",
            "             date  store  item  sales  is_hol\n",
            "872828 2013-01-01      9    48     28       1\n",
            "872829 2013-01-02      9    48     38       0\n",
            "872830 2013-01-03      9    48     24       0\n",
            "872831 2013-01-04      9    48     30       0\n",
            "872832 2013-01-05      9    48     33       0\n",
            "...           ...    ...   ...    ...     ...\n",
            "874649 2017-12-27      9    48     41       0\n",
            "874650 2017-12-28      9    48     36       0\n",
            "874651 2017-12-29      9    48     48       0\n",
            "874652 2017-12-30      9    48     55       0\n",
            "874653 2017-12-31      9    48     46       0\n",
            "\n",
            "[1826 rows x 5 columns]\n"
          ]
        },
        {
          "output_type": "stream",
          "name": "stderr",
          "text": [
            "/usr/local/lib/python3.10/dist-packages/statsmodels/tsa/base/tsa_model.py:836: ValueWarning: No supported index is available. Prediction results will be given with an integer index beginning at `start`.\n",
            "  return get_prediction_index(\n",
            "/usr/local/lib/python3.10/dist-packages/statsmodels/tsa/base/tsa_model.py:836: FutureWarning: No supported index is available. In the next version, calling this method in a model without a supported index will result in an exception.\n",
            "  return get_prediction_index(\n"
          ]
        },
        {
          "output_type": "stream",
          "name": "stdout",
          "text": [
            "Finished training model...\n",
            "Predicting for store 10 and item 48\n",
            "             date  store  item  sales  is_hol\n",
            "874654 2013-01-01     10    48     25       1\n",
            "874655 2013-01-02     10    48     24       0\n",
            "874656 2013-01-03     10    48     29       0\n",
            "874657 2013-01-04     10    48     39       0\n",
            "874658 2013-01-05     10    48     34       0\n",
            "...           ...    ...   ...    ...     ...\n",
            "876475 2017-12-27     10    48     52       0\n",
            "876476 2017-12-28     10    48     36       0\n",
            "876477 2017-12-29     10    48     59       0\n",
            "876478 2017-12-30     10    48     54       0\n",
            "876479 2017-12-31     10    48     60       0\n",
            "\n",
            "[1826 rows x 5 columns]\n"
          ]
        },
        {
          "output_type": "stream",
          "name": "stderr",
          "text": [
            "/usr/local/lib/python3.10/dist-packages/statsmodels/tsa/base/tsa_model.py:836: ValueWarning: No supported index is available. Prediction results will be given with an integer index beginning at `start`.\n",
            "  return get_prediction_index(\n",
            "/usr/local/lib/python3.10/dist-packages/statsmodels/tsa/base/tsa_model.py:836: FutureWarning: No supported index is available. In the next version, calling this method in a model without a supported index will result in an exception.\n",
            "  return get_prediction_index(\n"
          ]
        },
        {
          "output_type": "stream",
          "name": "stdout",
          "text": [
            "Finished training model...\n",
            "Predicting for store 1 and item 49\n",
            "             date  store  item  sales  is_hol\n",
            "876480 2013-01-01      1    49     18       1\n",
            "876481 2013-01-02      1    49     10       0\n",
            "876482 2013-01-03      1    49     17       0\n",
            "876483 2013-01-04      1    49     22       0\n",
            "876484 2013-01-05      1    49     15       0\n",
            "...           ...    ...   ...    ...     ...\n",
            "878301 2017-12-27      1    49     17       0\n",
            "878302 2017-12-28      1    49     21       0\n",
            "878303 2017-12-29      1    49     23       0\n",
            "878304 2017-12-30      1    49     29       0\n",
            "878305 2017-12-31      1    49     21       0\n",
            "\n",
            "[1826 rows x 5 columns]\n"
          ]
        },
        {
          "output_type": "stream",
          "name": "stderr",
          "text": [
            "/usr/local/lib/python3.10/dist-packages/statsmodels/tsa/base/tsa_model.py:836: ValueWarning: No supported index is available. Prediction results will be given with an integer index beginning at `start`.\n",
            "  return get_prediction_index(\n",
            "/usr/local/lib/python3.10/dist-packages/statsmodels/tsa/base/tsa_model.py:836: FutureWarning: No supported index is available. In the next version, calling this method in a model without a supported index will result in an exception.\n",
            "  return get_prediction_index(\n"
          ]
        },
        {
          "output_type": "stream",
          "name": "stdout",
          "text": [
            "Finished training model...\n",
            "Predicting for store 2 and item 49\n",
            "             date  store  item  sales  is_hol\n",
            "878306 2013-01-01      2    49     29       1\n",
            "878307 2013-01-02      2    49     25       0\n",
            "878308 2013-01-03      2    49     30       0\n",
            "878309 2013-01-04      2    49     20       0\n",
            "878310 2013-01-05      2    49     20       0\n",
            "...           ...    ...   ...    ...     ...\n",
            "880127 2017-12-27      2    49     30       0\n",
            "880128 2017-12-28      2    49     31       0\n",
            "880129 2017-12-29      2    49     33       0\n",
            "880130 2017-12-30      2    49     29       0\n",
            "880131 2017-12-31      2    49     44       0\n",
            "\n",
            "[1826 rows x 5 columns]\n"
          ]
        },
        {
          "output_type": "stream",
          "name": "stderr",
          "text": [
            "/usr/local/lib/python3.10/dist-packages/statsmodels/tsa/base/tsa_model.py:836: ValueWarning: No supported index is available. Prediction results will be given with an integer index beginning at `start`.\n",
            "  return get_prediction_index(\n",
            "/usr/local/lib/python3.10/dist-packages/statsmodels/tsa/base/tsa_model.py:836: FutureWarning: No supported index is available. In the next version, calling this method in a model without a supported index will result in an exception.\n",
            "  return get_prediction_index(\n"
          ]
        },
        {
          "output_type": "stream",
          "name": "stdout",
          "text": [
            "Finished training model...\n",
            "Predicting for store 3 and item 49\n",
            "             date  store  item  sales  is_hol\n",
            "880132 2013-01-01      3    49     21       1\n",
            "880133 2013-01-02      3    49     14       0\n",
            "880134 2013-01-03      3    49     22       0\n",
            "880135 2013-01-04      3    49     26       0\n",
            "880136 2013-01-05      3    49     22       0\n",
            "...           ...    ...   ...    ...     ...\n",
            "881953 2017-12-27      3    49     23       0\n",
            "881954 2017-12-28      3    49     38       0\n",
            "881955 2017-12-29      3    49     32       0\n",
            "881956 2017-12-30      3    49     48       0\n",
            "881957 2017-12-31      3    49     25       0\n",
            "\n",
            "[1826 rows x 5 columns]\n"
          ]
        },
        {
          "output_type": "stream",
          "name": "stderr",
          "text": [
            "/usr/local/lib/python3.10/dist-packages/statsmodels/tsa/base/tsa_model.py:836: ValueWarning: No supported index is available. Prediction results will be given with an integer index beginning at `start`.\n",
            "  return get_prediction_index(\n",
            "/usr/local/lib/python3.10/dist-packages/statsmodels/tsa/base/tsa_model.py:836: FutureWarning: No supported index is available. In the next version, calling this method in a model without a supported index will result in an exception.\n",
            "  return get_prediction_index(\n"
          ]
        },
        {
          "output_type": "stream",
          "name": "stdout",
          "text": [
            "Finished training model...\n",
            "Predicting for store 4 and item 49\n",
            "             date  store  item  sales  is_hol\n",
            "881958 2013-01-01      4    49     12       1\n",
            "881959 2013-01-02      4    49     18       0\n",
            "881960 2013-01-03      4    49     22       0\n",
            "881961 2013-01-04      4    49     17       0\n",
            "881962 2013-01-05      4    49     19       0\n",
            "...           ...    ...   ...    ...     ...\n",
            "883779 2017-12-27      4    49     22       0\n",
            "883780 2017-12-28      4    49     26       0\n",
            "883781 2017-12-29      4    49     22       0\n",
            "883782 2017-12-30      4    49     32       0\n",
            "883783 2017-12-31      4    49     30       0\n",
            "\n",
            "[1826 rows x 5 columns]\n"
          ]
        },
        {
          "output_type": "stream",
          "name": "stderr",
          "text": [
            "/usr/local/lib/python3.10/dist-packages/statsmodels/tsa/base/tsa_model.py:836: ValueWarning: No supported index is available. Prediction results will be given with an integer index beginning at `start`.\n",
            "  return get_prediction_index(\n",
            "/usr/local/lib/python3.10/dist-packages/statsmodels/tsa/base/tsa_model.py:836: FutureWarning: No supported index is available. In the next version, calling this method in a model without a supported index will result in an exception.\n",
            "  return get_prediction_index(\n"
          ]
        },
        {
          "output_type": "stream",
          "name": "stdout",
          "text": [
            "Finished training model...\n",
            "Predicting for store 5 and item 49\n",
            "             date  store  item  sales  is_hol\n",
            "883784 2013-01-01      5    49      9       1\n",
            "883785 2013-01-02      5    49     13       0\n",
            "883786 2013-01-03      5    49     16       0\n",
            "883787 2013-01-04      5    49     12       0\n",
            "883788 2013-01-05      5    49     19       0\n",
            "...           ...    ...   ...    ...     ...\n",
            "885605 2017-12-27      5    49     22       0\n",
            "885606 2017-12-28      5    49     24       0\n",
            "885607 2017-12-29      5    49     15       0\n",
            "885608 2017-12-30      5    49     16       0\n",
            "885609 2017-12-31      5    49     21       0\n",
            "\n",
            "[1826 rows x 5 columns]\n"
          ]
        },
        {
          "output_type": "stream",
          "name": "stderr",
          "text": [
            "/usr/local/lib/python3.10/dist-packages/statsmodels/tsa/base/tsa_model.py:836: ValueWarning: No supported index is available. Prediction results will be given with an integer index beginning at `start`.\n",
            "  return get_prediction_index(\n",
            "/usr/local/lib/python3.10/dist-packages/statsmodels/tsa/base/tsa_model.py:836: FutureWarning: No supported index is available. In the next version, calling this method in a model without a supported index will result in an exception.\n",
            "  return get_prediction_index(\n"
          ]
        },
        {
          "output_type": "stream",
          "name": "stdout",
          "text": [
            "Finished training model...\n",
            "Predicting for store 6 and item 49\n",
            "             date  store  item  sales  is_hol\n",
            "885610 2013-01-01      6    49     11       1\n",
            "885611 2013-01-02      6    49     10       0\n",
            "885612 2013-01-03      6    49     16       0\n",
            "885613 2013-01-04      6    49     18       0\n",
            "885614 2013-01-05      6    49     13       0\n",
            "...           ...    ...   ...    ...     ...\n",
            "887431 2017-12-27      6    49     18       0\n",
            "887432 2017-12-28      6    49     14       0\n",
            "887433 2017-12-29      6    49     18       0\n",
            "887434 2017-12-30      6    49     27       0\n",
            "887435 2017-12-31      6    49     21       0\n",
            "\n",
            "[1826 rows x 5 columns]\n"
          ]
        },
        {
          "output_type": "stream",
          "name": "stderr",
          "text": [
            "/usr/local/lib/python3.10/dist-packages/statsmodels/tsa/base/tsa_model.py:836: ValueWarning: No supported index is available. Prediction results will be given with an integer index beginning at `start`.\n",
            "  return get_prediction_index(\n",
            "/usr/local/lib/python3.10/dist-packages/statsmodels/tsa/base/tsa_model.py:836: FutureWarning: No supported index is available. In the next version, calling this method in a model without a supported index will result in an exception.\n",
            "  return get_prediction_index(\n"
          ]
        },
        {
          "output_type": "stream",
          "name": "stdout",
          "text": [
            "Finished training model...\n",
            "Predicting for store 7 and item 49\n",
            "             date  store  item  sales  is_hol\n",
            "887436 2013-01-01      7    49     19       1\n",
            "887437 2013-01-02      7    49     13       0\n",
            "887438 2013-01-03      7    49      9       0\n",
            "887439 2013-01-04      7    49      9       0\n",
            "887440 2013-01-05      7    49     12       0\n",
            "...           ...    ...   ...    ...     ...\n",
            "889257 2017-12-27      7    49     15       0\n",
            "889258 2017-12-28      7    49     23       0\n",
            "889259 2017-12-29      7    49     18       0\n",
            "889260 2017-12-30      7    49     22       0\n",
            "889261 2017-12-31      7    49     12       0\n",
            "\n",
            "[1826 rows x 5 columns]\n"
          ]
        },
        {
          "output_type": "stream",
          "name": "stderr",
          "text": [
            "/usr/local/lib/python3.10/dist-packages/statsmodels/tsa/base/tsa_model.py:836: ValueWarning: No supported index is available. Prediction results will be given with an integer index beginning at `start`.\n",
            "  return get_prediction_index(\n",
            "/usr/local/lib/python3.10/dist-packages/statsmodels/tsa/base/tsa_model.py:836: FutureWarning: No supported index is available. In the next version, calling this method in a model without a supported index will result in an exception.\n",
            "  return get_prediction_index(\n"
          ]
        },
        {
          "output_type": "stream",
          "name": "stdout",
          "text": [
            "Finished training model...\n",
            "Predicting for store 8 and item 49\n",
            "             date  store  item  sales  is_hol\n",
            "889262 2013-01-01      8    49     12       1\n",
            "889263 2013-01-02      8    49     27       0\n",
            "889264 2013-01-03      8    49     16       0\n",
            "889265 2013-01-04      8    49     18       0\n",
            "889266 2013-01-05      8    49     21       0\n",
            "...           ...    ...   ...    ...     ...\n",
            "891083 2017-12-27      8    49     34       0\n",
            "891084 2017-12-28      8    49     33       0\n",
            "891085 2017-12-29      8    49     35       0\n",
            "891086 2017-12-30      8    49     29       0\n",
            "891087 2017-12-31      8    49     40       0\n",
            "\n",
            "[1826 rows x 5 columns]\n"
          ]
        },
        {
          "output_type": "stream",
          "name": "stderr",
          "text": [
            "/usr/local/lib/python3.10/dist-packages/statsmodels/tsa/base/tsa_model.py:836: ValueWarning: No supported index is available. Prediction results will be given with an integer index beginning at `start`.\n",
            "  return get_prediction_index(\n",
            "/usr/local/lib/python3.10/dist-packages/statsmodels/tsa/base/tsa_model.py:836: FutureWarning: No supported index is available. In the next version, calling this method in a model without a supported index will result in an exception.\n",
            "  return get_prediction_index(\n"
          ]
        },
        {
          "output_type": "stream",
          "name": "stdout",
          "text": [
            "Finished training model...\n",
            "Predicting for store 9 and item 49\n",
            "             date  store  item  sales  is_hol\n",
            "891088 2013-01-01      9    49     11       1\n",
            "891089 2013-01-02      9    49     16       0\n",
            "891090 2013-01-03      9    49     20       0\n",
            "891091 2013-01-04      9    49     19       0\n",
            "891092 2013-01-05      9    49     16       0\n",
            "...           ...    ...   ...    ...     ...\n",
            "892909 2017-12-27      9    49     26       0\n",
            "892910 2017-12-28      9    49     37       0\n",
            "892911 2017-12-29      9    49     15       0\n",
            "892912 2017-12-30      9    49     31       0\n",
            "892913 2017-12-31      9    49     29       0\n",
            "\n",
            "[1826 rows x 5 columns]\n"
          ]
        },
        {
          "output_type": "stream",
          "name": "stderr",
          "text": [
            "/usr/local/lib/python3.10/dist-packages/statsmodels/tsa/base/tsa_model.py:836: ValueWarning: No supported index is available. Prediction results will be given with an integer index beginning at `start`.\n",
            "  return get_prediction_index(\n",
            "/usr/local/lib/python3.10/dist-packages/statsmodels/tsa/base/tsa_model.py:836: FutureWarning: No supported index is available. In the next version, calling this method in a model without a supported index will result in an exception.\n",
            "  return get_prediction_index(\n"
          ]
        },
        {
          "output_type": "stream",
          "name": "stdout",
          "text": [
            "Finished training model...\n",
            "Predicting for store 10 and item 49\n",
            "             date  store  item  sales  is_hol\n",
            "892914 2013-01-01     10    49     17       1\n",
            "892915 2013-01-02     10    49     13       0\n",
            "892916 2013-01-03     10    49     19       0\n",
            "892917 2013-01-04     10    49     23       0\n",
            "892918 2013-01-05     10    49     22       0\n",
            "...           ...    ...   ...    ...     ...\n",
            "894735 2017-12-27     10    49     24       0\n",
            "894736 2017-12-28     10    49     29       0\n",
            "894737 2017-12-29     10    49     26       0\n",
            "894738 2017-12-30     10    49     40       0\n",
            "894739 2017-12-31     10    49     42       0\n",
            "\n",
            "[1826 rows x 5 columns]\n"
          ]
        },
        {
          "output_type": "stream",
          "name": "stderr",
          "text": [
            "/usr/local/lib/python3.10/dist-packages/statsmodels/tsa/base/tsa_model.py:836: ValueWarning: No supported index is available. Prediction results will be given with an integer index beginning at `start`.\n",
            "  return get_prediction_index(\n",
            "/usr/local/lib/python3.10/dist-packages/statsmodels/tsa/base/tsa_model.py:836: FutureWarning: No supported index is available. In the next version, calling this method in a model without a supported index will result in an exception.\n",
            "  return get_prediction_index(\n"
          ]
        },
        {
          "output_type": "stream",
          "name": "stdout",
          "text": [
            "Finished training model...\n",
            "Predicting for store 1 and item 50\n",
            "             date  store  item  sales  is_hol\n",
            "894740 2013-01-01      1    50     30       1\n",
            "894741 2013-01-02      1    50     32       0\n",
            "894742 2013-01-03      1    50     25       0\n",
            "894743 2013-01-04      1    50     32       0\n",
            "894744 2013-01-05      1    50     35       0\n",
            "...           ...    ...   ...    ...     ...\n",
            "896561 2017-12-27      1    50     38       0\n",
            "896562 2017-12-28      1    50     52       0\n",
            "896563 2017-12-29      1    50     59       0\n",
            "896564 2017-12-30      1    50     66       0\n",
            "896565 2017-12-31      1    50     45       0\n",
            "\n",
            "[1826 rows x 5 columns]\n"
          ]
        },
        {
          "output_type": "stream",
          "name": "stderr",
          "text": [
            "/usr/local/lib/python3.10/dist-packages/statsmodels/tsa/base/tsa_model.py:836: ValueWarning: No supported index is available. Prediction results will be given with an integer index beginning at `start`.\n",
            "  return get_prediction_index(\n",
            "/usr/local/lib/python3.10/dist-packages/statsmodels/tsa/base/tsa_model.py:836: FutureWarning: No supported index is available. In the next version, calling this method in a model without a supported index will result in an exception.\n",
            "  return get_prediction_index(\n"
          ]
        },
        {
          "output_type": "stream",
          "name": "stdout",
          "text": [
            "Finished training model...\n",
            "Predicting for store 2 and item 50\n",
            "             date  store  item  sales  is_hol\n",
            "896566 2013-01-01      2    50     43       1\n",
            "896567 2013-01-02      2    50     57       0\n",
            "896568 2013-01-03      2    50     45       0\n",
            "896569 2013-01-04      2    50     45       0\n",
            "896570 2013-01-05      2    50     55       0\n",
            "...           ...    ...   ...    ...     ...\n",
            "898387 2017-12-27      2    50     79       0\n",
            "898388 2017-12-28      2    50     68       0\n",
            "898389 2017-12-29      2    50     67       0\n",
            "898390 2017-12-30      2    50     79       0\n",
            "898391 2017-12-31      2    50     73       0\n",
            "\n",
            "[1826 rows x 5 columns]\n"
          ]
        },
        {
          "output_type": "stream",
          "name": "stderr",
          "text": [
            "/usr/local/lib/python3.10/dist-packages/statsmodels/tsa/base/tsa_model.py:836: ValueWarning: No supported index is available. Prediction results will be given with an integer index beginning at `start`.\n",
            "  return get_prediction_index(\n",
            "/usr/local/lib/python3.10/dist-packages/statsmodels/tsa/base/tsa_model.py:836: FutureWarning: No supported index is available. In the next version, calling this method in a model without a supported index will result in an exception.\n",
            "  return get_prediction_index(\n"
          ]
        },
        {
          "output_type": "stream",
          "name": "stdout",
          "text": [
            "Finished training model...\n",
            "Predicting for store 3 and item 50\n",
            "             date  store  item  sales  is_hol\n",
            "898392 2013-01-01      3    50     45       1\n",
            "898393 2013-01-02      3    50     47       0\n",
            "898394 2013-01-03      3    50     39       0\n",
            "898395 2013-01-04      3    50     48       0\n",
            "898396 2013-01-05      3    50     46       0\n",
            "...           ...    ...   ...    ...     ...\n",
            "900213 2017-12-27      3    50     52       0\n",
            "900214 2017-12-28      3    50     75       0\n",
            "900215 2017-12-29      3    50     68       0\n",
            "900216 2017-12-30      3    50     62       0\n",
            "900217 2017-12-31      3    50     77       0\n",
            "\n",
            "[1826 rows x 5 columns]\n"
          ]
        },
        {
          "output_type": "stream",
          "name": "stderr",
          "text": [
            "/usr/local/lib/python3.10/dist-packages/statsmodels/tsa/base/tsa_model.py:836: ValueWarning: No supported index is available. Prediction results will be given with an integer index beginning at `start`.\n",
            "  return get_prediction_index(\n",
            "/usr/local/lib/python3.10/dist-packages/statsmodels/tsa/base/tsa_model.py:836: FutureWarning: No supported index is available. In the next version, calling this method in a model without a supported index will result in an exception.\n",
            "  return get_prediction_index(\n"
          ]
        },
        {
          "output_type": "stream",
          "name": "stdout",
          "text": [
            "Finished training model...\n",
            "Predicting for store 4 and item 50\n",
            "             date  store  item  sales  is_hol\n",
            "900218 2013-01-01      4    50     38       1\n",
            "900219 2013-01-02      4    50     35       0\n",
            "900220 2013-01-03      4    50     32       0\n",
            "900221 2013-01-04      4    50     36       0\n",
            "900222 2013-01-05      4    50     47       0\n",
            "...           ...    ...   ...    ...     ...\n",
            "902039 2017-12-27      4    50     48       0\n",
            "902040 2017-12-28      4    50     58       0\n",
            "902041 2017-12-29      4    50     56       0\n",
            "902042 2017-12-30      4    50     66       0\n",
            "902043 2017-12-31      4    50     81       0\n",
            "\n",
            "[1826 rows x 5 columns]\n"
          ]
        },
        {
          "output_type": "stream",
          "name": "stderr",
          "text": [
            "/usr/local/lib/python3.10/dist-packages/statsmodels/tsa/base/tsa_model.py:836: ValueWarning: No supported index is available. Prediction results will be given with an integer index beginning at `start`.\n",
            "  return get_prediction_index(\n",
            "/usr/local/lib/python3.10/dist-packages/statsmodels/tsa/base/tsa_model.py:836: FutureWarning: No supported index is available. In the next version, calling this method in a model without a supported index will result in an exception.\n",
            "  return get_prediction_index(\n"
          ]
        },
        {
          "output_type": "stream",
          "name": "stdout",
          "text": [
            "Finished training model...\n",
            "Predicting for store 5 and item 50\n",
            "             date  store  item  sales  is_hol\n",
            "902044 2013-01-01      5    50     19       1\n",
            "902045 2013-01-02      5    50     25       0\n",
            "902046 2013-01-03      5    50     28       0\n",
            "902047 2013-01-04      5    50     27       0\n",
            "902048 2013-01-05      5    50     31       0\n",
            "...           ...    ...   ...    ...     ...\n",
            "903865 2017-12-27      5    50     35       0\n",
            "903866 2017-12-28      5    50     39       0\n",
            "903867 2017-12-29      5    50     37       0\n",
            "903868 2017-12-30      5    50     60       0\n",
            "903869 2017-12-31      5    50     36       0\n",
            "\n",
            "[1826 rows x 5 columns]\n"
          ]
        },
        {
          "output_type": "stream",
          "name": "stderr",
          "text": [
            "/usr/local/lib/python3.10/dist-packages/statsmodels/tsa/base/tsa_model.py:836: ValueWarning: No supported index is available. Prediction results will be given with an integer index beginning at `start`.\n",
            "  return get_prediction_index(\n",
            "/usr/local/lib/python3.10/dist-packages/statsmodels/tsa/base/tsa_model.py:836: FutureWarning: No supported index is available. In the next version, calling this method in a model without a supported index will result in an exception.\n",
            "  return get_prediction_index(\n"
          ]
        },
        {
          "output_type": "stream",
          "name": "stdout",
          "text": [
            "Finished training model...\n",
            "Predicting for store 6 and item 50\n",
            "             date  store  item  sales  is_hol\n",
            "903870 2013-01-01      6    50     20       1\n",
            "903871 2013-01-02      6    50     23       0\n",
            "903872 2013-01-03      6    50     38       0\n",
            "903873 2013-01-04      6    50     33       0\n",
            "903874 2013-01-05      6    50     33       0\n",
            "...           ...    ...   ...    ...     ...\n",
            "905691 2017-12-27      6    50     47       0\n",
            "905692 2017-12-28      6    50     49       0\n",
            "905693 2017-12-29      6    50     43       0\n",
            "905694 2017-12-30      6    50     41       0\n",
            "905695 2017-12-31      6    50     45       0\n",
            "\n",
            "[1826 rows x 5 columns]\n"
          ]
        },
        {
          "output_type": "stream",
          "name": "stderr",
          "text": [
            "/usr/local/lib/python3.10/dist-packages/statsmodels/tsa/base/tsa_model.py:836: ValueWarning: No supported index is available. Prediction results will be given with an integer index beginning at `start`.\n",
            "  return get_prediction_index(\n",
            "/usr/local/lib/python3.10/dist-packages/statsmodels/tsa/base/tsa_model.py:836: FutureWarning: No supported index is available. In the next version, calling this method in a model without a supported index will result in an exception.\n",
            "  return get_prediction_index(\n"
          ]
        },
        {
          "output_type": "stream",
          "name": "stdout",
          "text": [
            "Finished training model...\n",
            "Predicting for store 7 and item 50\n",
            "             date  store  item  sales  is_hol\n",
            "905696 2013-01-01      7    50     21       1\n",
            "905697 2013-01-02      7    50     30       0\n",
            "905698 2013-01-03      7    50     20       0\n",
            "905699 2013-01-04      7    50     27       0\n",
            "905700 2013-01-05      7    50     18       0\n",
            "...           ...    ...   ...    ...     ...\n",
            "907517 2017-12-27      7    50     33       0\n",
            "907518 2017-12-28      7    50     41       0\n",
            "907519 2017-12-29      7    50     44       0\n",
            "907520 2017-12-30      7    50     44       0\n",
            "907521 2017-12-31      7    50     46       0\n",
            "\n",
            "[1826 rows x 5 columns]\n"
          ]
        },
        {
          "output_type": "stream",
          "name": "stderr",
          "text": [
            "/usr/local/lib/python3.10/dist-packages/statsmodels/tsa/base/tsa_model.py:836: ValueWarning: No supported index is available. Prediction results will be given with an integer index beginning at `start`.\n",
            "  return get_prediction_index(\n",
            "/usr/local/lib/python3.10/dist-packages/statsmodels/tsa/base/tsa_model.py:836: FutureWarning: No supported index is available. In the next version, calling this method in a model without a supported index will result in an exception.\n",
            "  return get_prediction_index(\n"
          ]
        },
        {
          "output_type": "stream",
          "name": "stdout",
          "text": [
            "Finished training model...\n",
            "Predicting for store 8 and item 50\n",
            "             date  store  item  sales  is_hol\n",
            "907522 2013-01-01      8    50     45       1\n",
            "907523 2013-01-02      8    50     54       0\n",
            "907524 2013-01-03      8    50     54       0\n",
            "907525 2013-01-04      8    50     52       0\n",
            "907526 2013-01-05      8    50     48       0\n",
            "...           ...    ...   ...    ...     ...\n",
            "909343 2017-12-27      8    50     64       0\n",
            "909344 2017-12-28      8    50     73       0\n",
            "909345 2017-12-29      8    50     80       0\n",
            "909346 2017-12-30      8    50     70       0\n",
            "909347 2017-12-31      8    50     76       0\n",
            "\n",
            "[1826 rows x 5 columns]\n"
          ]
        },
        {
          "output_type": "stream",
          "name": "stderr",
          "text": [
            "/usr/local/lib/python3.10/dist-packages/statsmodels/tsa/base/tsa_model.py:836: ValueWarning: No supported index is available. Prediction results will be given with an integer index beginning at `start`.\n",
            "  return get_prediction_index(\n",
            "/usr/local/lib/python3.10/dist-packages/statsmodels/tsa/base/tsa_model.py:836: FutureWarning: No supported index is available. In the next version, calling this method in a model without a supported index will result in an exception.\n",
            "  return get_prediction_index(\n"
          ]
        },
        {
          "output_type": "stream",
          "name": "stdout",
          "text": [
            "Finished training model...\n",
            "Predicting for store 9 and item 50\n",
            "             date  store  item  sales  is_hol\n",
            "909348 2013-01-01      9    50     36       1\n",
            "909349 2013-01-02      9    50     44       0\n",
            "909350 2013-01-03      9    50     29       0\n",
            "909351 2013-01-04      9    50     43       0\n",
            "909352 2013-01-05      9    50     53       0\n",
            "...           ...    ...   ...    ...     ...\n",
            "911169 2017-12-27      9    50     52       0\n",
            "911170 2017-12-28      9    50     73       0\n",
            "911171 2017-12-29      9    50     68       0\n",
            "911172 2017-12-30      9    50     62       0\n",
            "911173 2017-12-31      9    50     65       0\n",
            "\n",
            "[1826 rows x 5 columns]\n"
          ]
        },
        {
          "output_type": "stream",
          "name": "stderr",
          "text": [
            "/usr/local/lib/python3.10/dist-packages/statsmodels/tsa/base/tsa_model.py:836: ValueWarning: No supported index is available. Prediction results will be given with an integer index beginning at `start`.\n",
            "  return get_prediction_index(\n",
            "/usr/local/lib/python3.10/dist-packages/statsmodels/tsa/base/tsa_model.py:836: FutureWarning: No supported index is available. In the next version, calling this method in a model without a supported index will result in an exception.\n",
            "  return get_prediction_index(\n"
          ]
        },
        {
          "output_type": "stream",
          "name": "stdout",
          "text": [
            "Finished training model...\n",
            "Predicting for store 10 and item 50\n",
            "             date  store  item  sales  is_hol\n",
            "911174 2013-01-01     10    50     33       1\n",
            "911175 2013-01-02     10    50     37       0\n",
            "911176 2013-01-03     10    50     46       0\n",
            "911177 2013-01-04     10    50     51       0\n",
            "911178 2013-01-05     10    50     41       0\n",
            "...           ...    ...   ...    ...     ...\n",
            "912995 2017-12-27     10    50     63       0\n",
            "912996 2017-12-28     10    50     59       0\n",
            "912997 2017-12-29     10    50     74       0\n",
            "912998 2017-12-30     10    50     62       0\n",
            "912999 2017-12-31     10    50     82       0\n",
            "\n",
            "[1826 rows x 5 columns]\n"
          ]
        },
        {
          "output_type": "stream",
          "name": "stderr",
          "text": [
            "/usr/local/lib/python3.10/dist-packages/statsmodels/tsa/base/tsa_model.py:836: ValueWarning: No supported index is available. Prediction results will be given with an integer index beginning at `start`.\n",
            "  return get_prediction_index(\n",
            "/usr/local/lib/python3.10/dist-packages/statsmodels/tsa/base/tsa_model.py:836: FutureWarning: No supported index is available. In the next version, calling this method in a model without a supported index will result in an exception.\n",
            "  return get_prediction_index(\n"
          ]
        },
        {
          "output_type": "stream",
          "name": "stdout",
          "text": [
            "Finished training model...\n"
          ]
        },
        {
          "output_type": "stream",
          "name": "stderr",
          "text": [
            "/usr/local/lib/python3.10/dist-packages/statsmodels/tsa/base/tsa_model.py:836: ValueWarning: No supported index is available. Prediction results will be given with an integer index beginning at `start`.\n",
            "  return get_prediction_index(\n",
            "/usr/local/lib/python3.10/dist-packages/statsmodels/tsa/base/tsa_model.py:836: FutureWarning: No supported index is available. In the next version, calling this method in a model without a supported index will result in an exception.\n",
            "  return get_prediction_index(\n"
          ]
        }
      ]
    },
    {
      "cell_type": "code",
      "source": [
        "submission = results[['sales']]\n",
        "submission.index.name = 'id'"
      ],
      "metadata": {
        "colab": {
          "base_uri": "https://localhost:8080/",
          "height": 450
        },
        "id": "hpj2zg8PsWBR",
        "outputId": "2d4248eb-e918-4d80-f5b1-75a2bce5eb7e"
      },
      "execution_count": 46,
      "outputs": [
        {
          "output_type": "execute_result",
          "data": {
            "text/plain": [
              "       sales\n",
              "id          \n",
              "0         15\n",
              "1         14\n",
              "2         14\n",
              "3         16\n",
              "4         19\n",
              "...      ...\n",
              "44995     55\n",
              "44996     55\n",
              "44997     62\n",
              "44998     70\n",
              "44999     72\n",
              "\n",
              "[45000 rows x 1 columns]"
            ],
            "text/html": [
              "\n",
              "  <div id=\"df-f8a332a5-566b-4ae8-81df-1f77666914f5\" class=\"colab-df-container\">\n",
              "    <div>\n",
              "<style scoped>\n",
              "    .dataframe tbody tr th:only-of-type {\n",
              "        vertical-align: middle;\n",
              "    }\n",
              "\n",
              "    .dataframe tbody tr th {\n",
              "        vertical-align: top;\n",
              "    }\n",
              "\n",
              "    .dataframe thead th {\n",
              "        text-align: right;\n",
              "    }\n",
              "</style>\n",
              "<table border=\"1\" class=\"dataframe\">\n",
              "  <thead>\n",
              "    <tr style=\"text-align: right;\">\n",
              "      <th></th>\n",
              "      <th>sales</th>\n",
              "    </tr>\n",
              "    <tr>\n",
              "      <th>id</th>\n",
              "      <th></th>\n",
              "    </tr>\n",
              "  </thead>\n",
              "  <tbody>\n",
              "    <tr>\n",
              "      <th>0</th>\n",
              "      <td>15</td>\n",
              "    </tr>\n",
              "    <tr>\n",
              "      <th>1</th>\n",
              "      <td>14</td>\n",
              "    </tr>\n",
              "    <tr>\n",
              "      <th>2</th>\n",
              "      <td>14</td>\n",
              "    </tr>\n",
              "    <tr>\n",
              "      <th>3</th>\n",
              "      <td>16</td>\n",
              "    </tr>\n",
              "    <tr>\n",
              "      <th>4</th>\n",
              "      <td>19</td>\n",
              "    </tr>\n",
              "    <tr>\n",
              "      <th>...</th>\n",
              "      <td>...</td>\n",
              "    </tr>\n",
              "    <tr>\n",
              "      <th>44995</th>\n",
              "      <td>55</td>\n",
              "    </tr>\n",
              "    <tr>\n",
              "      <th>44996</th>\n",
              "      <td>55</td>\n",
              "    </tr>\n",
              "    <tr>\n",
              "      <th>44997</th>\n",
              "      <td>62</td>\n",
              "    </tr>\n",
              "    <tr>\n",
              "      <th>44998</th>\n",
              "      <td>70</td>\n",
              "    </tr>\n",
              "    <tr>\n",
              "      <th>44999</th>\n",
              "      <td>72</td>\n",
              "    </tr>\n",
              "  </tbody>\n",
              "</table>\n",
              "<p>45000 rows × 1 columns</p>\n",
              "</div>\n",
              "    <div class=\"colab-df-buttons\">\n",
              "\n",
              "  <div class=\"colab-df-container\">\n",
              "    <button class=\"colab-df-convert\" onclick=\"convertToInteractive('df-f8a332a5-566b-4ae8-81df-1f77666914f5')\"\n",
              "            title=\"Convert this dataframe to an interactive table.\"\n",
              "            style=\"display:none;\">\n",
              "\n",
              "  <svg xmlns=\"http://www.w3.org/2000/svg\" height=\"24px\" viewBox=\"0 -960 960 960\">\n",
              "    <path d=\"M120-120v-720h720v720H120Zm60-500h600v-160H180v160Zm220 220h160v-160H400v160Zm0 220h160v-160H400v160ZM180-400h160v-160H180v160Zm440 0h160v-160H620v160ZM180-180h160v-160H180v160Zm440 0h160v-160H620v160Z\"/>\n",
              "  </svg>\n",
              "    </button>\n",
              "\n",
              "  <style>\n",
              "    .colab-df-container {\n",
              "      display:flex;\n",
              "      gap: 12px;\n",
              "    }\n",
              "\n",
              "    .colab-df-convert {\n",
              "      background-color: #E8F0FE;\n",
              "      border: none;\n",
              "      border-radius: 50%;\n",
              "      cursor: pointer;\n",
              "      display: none;\n",
              "      fill: #1967D2;\n",
              "      height: 32px;\n",
              "      padding: 0 0 0 0;\n",
              "      width: 32px;\n",
              "    }\n",
              "\n",
              "    .colab-df-convert:hover {\n",
              "      background-color: #E2EBFA;\n",
              "      box-shadow: 0px 1px 2px rgba(60, 64, 67, 0.3), 0px 1px 3px 1px rgba(60, 64, 67, 0.15);\n",
              "      fill: #174EA6;\n",
              "    }\n",
              "\n",
              "    .colab-df-buttons div {\n",
              "      margin-bottom: 4px;\n",
              "    }\n",
              "\n",
              "    [theme=dark] .colab-df-convert {\n",
              "      background-color: #3B4455;\n",
              "      fill: #D2E3FC;\n",
              "    }\n",
              "\n",
              "    [theme=dark] .colab-df-convert:hover {\n",
              "      background-color: #434B5C;\n",
              "      box-shadow: 0px 1px 3px 1px rgba(0, 0, 0, 0.15);\n",
              "      filter: drop-shadow(0px 1px 2px rgba(0, 0, 0, 0.3));\n",
              "      fill: #FFFFFF;\n",
              "    }\n",
              "  </style>\n",
              "\n",
              "    <script>\n",
              "      const buttonEl =\n",
              "        document.querySelector('#df-f8a332a5-566b-4ae8-81df-1f77666914f5 button.colab-df-convert');\n",
              "      buttonEl.style.display =\n",
              "        google.colab.kernel.accessAllowed ? 'block' : 'none';\n",
              "\n",
              "      async function convertToInteractive(key) {\n",
              "        const element = document.querySelector('#df-f8a332a5-566b-4ae8-81df-1f77666914f5');\n",
              "        const dataTable =\n",
              "          await google.colab.kernel.invokeFunction('convertToInteractive',\n",
              "                                                    [key], {});\n",
              "        if (!dataTable) return;\n",
              "\n",
              "        const docLinkHtml = 'Like what you see? Visit the ' +\n",
              "          '<a target=\"_blank\" href=https://colab.research.google.com/notebooks/data_table.ipynb>data table notebook</a>'\n",
              "          + ' to learn more about interactive tables.';\n",
              "        element.innerHTML = '';\n",
              "        dataTable['output_type'] = 'display_data';\n",
              "        await google.colab.output.renderOutput(dataTable, element);\n",
              "        const docLink = document.createElement('div');\n",
              "        docLink.innerHTML = docLinkHtml;\n",
              "        element.appendChild(docLink);\n",
              "      }\n",
              "    </script>\n",
              "  </div>\n",
              "\n",
              "\n",
              "<div id=\"df-1bd07d3e-dddc-4fcd-abc6-d2c11c931da8\">\n",
              "  <button class=\"colab-df-quickchart\" onclick=\"quickchart('df-1bd07d3e-dddc-4fcd-abc6-d2c11c931da8')\"\n",
              "            title=\"Suggest charts\"\n",
              "            style=\"display:none;\">\n",
              "\n",
              "<svg xmlns=\"http://www.w3.org/2000/svg\" height=\"24px\"viewBox=\"0 0 24 24\"\n",
              "     width=\"24px\">\n",
              "    <g>\n",
              "        <path d=\"M19 3H5c-1.1 0-2 .9-2 2v14c0 1.1.9 2 2 2h14c1.1 0 2-.9 2-2V5c0-1.1-.9-2-2-2zM9 17H7v-7h2v7zm4 0h-2V7h2v10zm4 0h-2v-4h2v4z\"/>\n",
              "    </g>\n",
              "</svg>\n",
              "  </button>\n",
              "\n",
              "<style>\n",
              "  .colab-df-quickchart {\n",
              "      --bg-color: #E8F0FE;\n",
              "      --fill-color: #1967D2;\n",
              "      --hover-bg-color: #E2EBFA;\n",
              "      --hover-fill-color: #174EA6;\n",
              "      --disabled-fill-color: #AAA;\n",
              "      --disabled-bg-color: #DDD;\n",
              "  }\n",
              "\n",
              "  [theme=dark] .colab-df-quickchart {\n",
              "      --bg-color: #3B4455;\n",
              "      --fill-color: #D2E3FC;\n",
              "      --hover-bg-color: #434B5C;\n",
              "      --hover-fill-color: #FFFFFF;\n",
              "      --disabled-bg-color: #3B4455;\n",
              "      --disabled-fill-color: #666;\n",
              "  }\n",
              "\n",
              "  .colab-df-quickchart {\n",
              "    background-color: var(--bg-color);\n",
              "    border: none;\n",
              "    border-radius: 50%;\n",
              "    cursor: pointer;\n",
              "    display: none;\n",
              "    fill: var(--fill-color);\n",
              "    height: 32px;\n",
              "    padding: 0;\n",
              "    width: 32px;\n",
              "  }\n",
              "\n",
              "  .colab-df-quickchart:hover {\n",
              "    background-color: var(--hover-bg-color);\n",
              "    box-shadow: 0 1px 2px rgba(60, 64, 67, 0.3), 0 1px 3px 1px rgba(60, 64, 67, 0.15);\n",
              "    fill: var(--button-hover-fill-color);\n",
              "  }\n",
              "\n",
              "  .colab-df-quickchart-complete:disabled,\n",
              "  .colab-df-quickchart-complete:disabled:hover {\n",
              "    background-color: var(--disabled-bg-color);\n",
              "    fill: var(--disabled-fill-color);\n",
              "    box-shadow: none;\n",
              "  }\n",
              "\n",
              "  .colab-df-spinner {\n",
              "    border: 2px solid var(--fill-color);\n",
              "    border-color: transparent;\n",
              "    border-bottom-color: var(--fill-color);\n",
              "    animation:\n",
              "      spin 1s steps(1) infinite;\n",
              "  }\n",
              "\n",
              "  @keyframes spin {\n",
              "    0% {\n",
              "      border-color: transparent;\n",
              "      border-bottom-color: var(--fill-color);\n",
              "      border-left-color: var(--fill-color);\n",
              "    }\n",
              "    20% {\n",
              "      border-color: transparent;\n",
              "      border-left-color: var(--fill-color);\n",
              "      border-top-color: var(--fill-color);\n",
              "    }\n",
              "    30% {\n",
              "      border-color: transparent;\n",
              "      border-left-color: var(--fill-color);\n",
              "      border-top-color: var(--fill-color);\n",
              "      border-right-color: var(--fill-color);\n",
              "    }\n",
              "    40% {\n",
              "      border-color: transparent;\n",
              "      border-right-color: var(--fill-color);\n",
              "      border-top-color: var(--fill-color);\n",
              "    }\n",
              "    60% {\n",
              "      border-color: transparent;\n",
              "      border-right-color: var(--fill-color);\n",
              "    }\n",
              "    80% {\n",
              "      border-color: transparent;\n",
              "      border-right-color: var(--fill-color);\n",
              "      border-bottom-color: var(--fill-color);\n",
              "    }\n",
              "    90% {\n",
              "      border-color: transparent;\n",
              "      border-bottom-color: var(--fill-color);\n",
              "    }\n",
              "  }\n",
              "</style>\n",
              "\n",
              "  <script>\n",
              "    async function quickchart(key) {\n",
              "      const quickchartButtonEl =\n",
              "        document.querySelector('#' + key + ' button');\n",
              "      quickchartButtonEl.disabled = true;  // To prevent multiple clicks.\n",
              "      quickchartButtonEl.classList.add('colab-df-spinner');\n",
              "      try {\n",
              "        const charts = await google.colab.kernel.invokeFunction(\n",
              "            'suggestCharts', [key], {});\n",
              "      } catch (error) {\n",
              "        console.error('Error during call to suggestCharts:', error);\n",
              "      }\n",
              "      quickchartButtonEl.classList.remove('colab-df-spinner');\n",
              "      quickchartButtonEl.classList.add('colab-df-quickchart-complete');\n",
              "    }\n",
              "    (() => {\n",
              "      let quickchartButtonEl =\n",
              "        document.querySelector('#df-1bd07d3e-dddc-4fcd-abc6-d2c11c931da8 button');\n",
              "      quickchartButtonEl.style.display =\n",
              "        google.colab.kernel.accessAllowed ? 'block' : 'none';\n",
              "    })();\n",
              "  </script>\n",
              "</div>\n",
              "\n",
              "  <div id=\"id_e03ab9eb-3f85-4258-bc39-c2450374485a\">\n",
              "    <style>\n",
              "      .colab-df-generate {\n",
              "        background-color: #E8F0FE;\n",
              "        border: none;\n",
              "        border-radius: 50%;\n",
              "        cursor: pointer;\n",
              "        display: none;\n",
              "        fill: #1967D2;\n",
              "        height: 32px;\n",
              "        padding: 0 0 0 0;\n",
              "        width: 32px;\n",
              "      }\n",
              "\n",
              "      .colab-df-generate:hover {\n",
              "        background-color: #E2EBFA;\n",
              "        box-shadow: 0px 1px 2px rgba(60, 64, 67, 0.3), 0px 1px 3px 1px rgba(60, 64, 67, 0.15);\n",
              "        fill: #174EA6;\n",
              "      }\n",
              "\n",
              "      [theme=dark] .colab-df-generate {\n",
              "        background-color: #3B4455;\n",
              "        fill: #D2E3FC;\n",
              "      }\n",
              "\n",
              "      [theme=dark] .colab-df-generate:hover {\n",
              "        background-color: #434B5C;\n",
              "        box-shadow: 0px 1px 3px 1px rgba(0, 0, 0, 0.15);\n",
              "        filter: drop-shadow(0px 1px 2px rgba(0, 0, 0, 0.3));\n",
              "        fill: #FFFFFF;\n",
              "      }\n",
              "    </style>\n",
              "    <button class=\"colab-df-generate\" onclick=\"generateWithVariable('submission')\"\n",
              "            title=\"Generate code using this dataframe.\"\n",
              "            style=\"display:none;\">\n",
              "\n",
              "  <svg xmlns=\"http://www.w3.org/2000/svg\" height=\"24px\"viewBox=\"0 0 24 24\"\n",
              "       width=\"24px\">\n",
              "    <path d=\"M7,19H8.4L18.45,9,17,7.55,7,17.6ZM5,21V16.75L18.45,3.32a2,2,0,0,1,2.83,0l1.4,1.43a1.91,1.91,0,0,1,.58,1.4,1.91,1.91,0,0,1-.58,1.4L9.25,21ZM18.45,9,17,7.55Zm-12,3A5.31,5.31,0,0,0,4.9,8.1,5.31,5.31,0,0,0,1,6.5,5.31,5.31,0,0,0,4.9,4.9,5.31,5.31,0,0,0,6.5,1,5.31,5.31,0,0,0,8.1,4.9,5.31,5.31,0,0,0,12,6.5,5.46,5.46,0,0,0,6.5,12Z\"/>\n",
              "  </svg>\n",
              "    </button>\n",
              "    <script>\n",
              "      (() => {\n",
              "      const buttonEl =\n",
              "        document.querySelector('#id_e03ab9eb-3f85-4258-bc39-c2450374485a button.colab-df-generate');\n",
              "      buttonEl.style.display =\n",
              "        google.colab.kernel.accessAllowed ? 'block' : 'none';\n",
              "\n",
              "      buttonEl.onclick = () => {\n",
              "        google.colab.notebook.generateWithVariable('submission');\n",
              "      }\n",
              "      })();\n",
              "    </script>\n",
              "  </div>\n",
              "\n",
              "    </div>\n",
              "  </div>\n"
            ],
            "application/vnd.google.colaboratory.intrinsic+json": {
              "type": "dataframe",
              "variable_name": "submission",
              "summary": "{\n  \"name\": \"submission\",\n  \"rows\": 45000,\n  \"fields\": [\n    {\n      \"column\": \"id\",\n      \"properties\": {\n        \"dtype\": \"number\",\n        \"std\": 12990,\n        \"min\": 0,\n        \"max\": 44999,\n        \"num_unique_values\": 45000,\n        \"samples\": [\n          37979,\n          9911,\n          43386\n        ],\n        \"semantic_type\": \"\",\n        \"description\": \"\"\n      }\n    },\n    {\n      \"column\": \"sales\",\n      \"properties\": {\n        \"dtype\": \"number\",\n        \"std\": 21,\n        \"min\": 9,\n        \"max\": 115,\n        \"num_unique_values\": 107,\n        \"samples\": [\n          111,\n          18,\n          20\n        ],\n        \"semantic_type\": \"\",\n        \"description\": \"\"\n      }\n    }\n  ]\n}"
            }
          },
          "metadata": {},
          "execution_count": 46
        }
      ]
    },
    {
      "cell_type": "code",
      "source": [
        "submission.to_csv('submission.csv')"
      ],
      "metadata": {
        "id": "cz7Vne63umjn"
      },
      "execution_count": 47,
      "outputs": []
    }
  ]
}